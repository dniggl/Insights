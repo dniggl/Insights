{
  "nbformat": 4,
  "nbformat_minor": 0,
  "metadata": {
    "colab": {
      "name": "Stock Market Predictions Using LSTM.ipynb",
      "provenance": [],
      "collapsed_sections": [],
      "authorship_tag": "ABX9TyMBKUqErd02zWt8VOHSRVY3",
      "include_colab_link": true
    },
    "kernelspec": {
      "name": "python3",
      "display_name": "Python 3"
    },
    "language_info": {
      "name": "python"
    }
  },
  "cells": [
    {
      "cell_type": "markdown",
      "metadata": {
        "id": "view-in-github",
        "colab_type": "text"
      },
      "source": [
        "<a href=\"https://colab.research.google.com/github/dniggl/Insights/blob/main/Stock_Market_Predictions_Using_LSTM.ipynb\" target=\"_parent\"><img src=\"https://colab.research.google.com/assets/colab-badge.svg\" alt=\"Open In Colab\"/></a>"
      ]
    },
    {
      "cell_type": "code",
      "metadata": {
        "id": "PdCslzz34QVw"
      },
      "source": [
        "# Predict stock prices using Long Short Term Memory (LSTM) model.  "
      ],
      "execution_count": null,
      "outputs": []
    },
    {
      "cell_type": "code",
      "metadata": {
        "id": "yZt6aNYCuanG"
      },
      "source": [
        "# Install yfinance and cartopy packages.\n",
        "!pip install yfinance\n",
        "!pip install cartopy"
      ],
      "execution_count": null,
      "outputs": []
    },
    {
      "cell_type": "code",
      "metadata": {
        "id": "MRrQ5qhx4FrC"
      },
      "source": [
        "# Import software libraries. \n",
        "import numpy as np\n",
        "import pandas as pd\n",
        "import matplotlib.pyplot as plt\n",
        "from matplotlib.pyplot import figure \n",
        "import matplotlib.dates as mdates\n",
        "from keras.models import Sequential\n",
        "from keras.layers import Dense, LSTM\n",
        "import math\n",
        "from sklearn.preprocessing import MinMaxScaler"
      ],
      "execution_count": 2,
      "outputs": []
    },
    {
      "cell_type": "code",
      "metadata": {
        "id": "7_Qv0k5afYTx"
      },
      "source": [
        "# Access and store the stock data.  \n",
        "# We will use the Yahoo! Finance Market Downloader to get the data for Nvidia stock.\n",
        "import yfinance as yf\n",
        "company = yf.download('NVDA',start='2017-01-01',  end='2021-12-07',progress=False)[['Open', 'High', 'Low', 'Close', 'Volume']]"
      ],
      "execution_count": 20,
      "outputs": []
    },
    {
      "cell_type": "code",
      "metadata": {
        "colab": {
          "base_uri": "https://localhost:8080/",
          "height": 237
        },
        "id": "CmlHfEtn0aAe",
        "outputId": "19d7b0d8-fb92-49be-d96f-e6f3b4f14baa"
      },
      "source": [
        "# Print the first 5 rows\n",
        "company.head() "
      ],
      "execution_count": 21,
      "outputs": [
        {
          "output_type": "execute_result",
          "data": {
            "text/html": [
              "<div>\n",
              "<style scoped>\n",
              "    .dataframe tbody tr th:only-of-type {\n",
              "        vertical-align: middle;\n",
              "    }\n",
              "\n",
              "    .dataframe tbody tr th {\n",
              "        vertical-align: top;\n",
              "    }\n",
              "\n",
              "    .dataframe thead th {\n",
              "        text-align: right;\n",
              "    }\n",
              "</style>\n",
              "<table border=\"1\" class=\"dataframe\">\n",
              "  <thead>\n",
              "    <tr style=\"text-align: right;\">\n",
              "      <th></th>\n",
              "      <th>Open</th>\n",
              "      <th>High</th>\n",
              "      <th>Low</th>\n",
              "      <th>Close</th>\n",
              "      <th>Volume</th>\n",
              "    </tr>\n",
              "    <tr>\n",
              "      <th>Date</th>\n",
              "      <th></th>\n",
              "      <th></th>\n",
              "      <th></th>\n",
              "      <th></th>\n",
              "      <th></th>\n",
              "    </tr>\n",
              "  </thead>\n",
              "  <tbody>\n",
              "    <tr>\n",
              "      <th>2017-01-03</th>\n",
              "      <td>26.1000</td>\n",
              "      <td>26.592501</td>\n",
              "      <td>24.844999</td>\n",
              "      <td>25.502501</td>\n",
              "      <td>150199600</td>\n",
              "    </tr>\n",
              "    <tr>\n",
              "      <th>2017-01-04</th>\n",
              "      <td>25.8500</td>\n",
              "      <td>26.375000</td>\n",
              "      <td>25.382500</td>\n",
              "      <td>26.097500</td>\n",
              "      <td>119922000</td>\n",
              "    </tr>\n",
              "    <tr>\n",
              "      <th>2017-01-05</th>\n",
              "      <td>26.1325</td>\n",
              "      <td>26.455000</td>\n",
              "      <td>25.262501</td>\n",
              "      <td>25.434999</td>\n",
              "      <td>98429600</td>\n",
              "    </tr>\n",
              "    <tr>\n",
              "      <th>2017-01-06</th>\n",
              "      <td>25.7125</td>\n",
              "      <td>26.062500</td>\n",
              "      <td>25.299999</td>\n",
              "      <td>25.775000</td>\n",
              "      <td>82285600</td>\n",
              "    </tr>\n",
              "    <tr>\n",
              "      <th>2017-01-09</th>\n",
              "      <td>25.8750</td>\n",
              "      <td>27.000000</td>\n",
              "      <td>25.875000</td>\n",
              "      <td>26.820000</td>\n",
              "      <td>91624800</td>\n",
              "    </tr>\n",
              "  </tbody>\n",
              "</table>\n",
              "</div>"
            ],
            "text/plain": [
              "               Open       High        Low      Close     Volume\n",
              "Date                                                           \n",
              "2017-01-03  26.1000  26.592501  24.844999  25.502501  150199600\n",
              "2017-01-04  25.8500  26.375000  25.382500  26.097500  119922000\n",
              "2017-01-05  26.1325  26.455000  25.262501  25.434999   98429600\n",
              "2017-01-06  25.7125  26.062500  25.299999  25.775000   82285600\n",
              "2017-01-09  25.8750  27.000000  25.875000  26.820000   91624800"
            ]
          },
          "metadata": {},
          "execution_count": 21
        }
      ]
    },
    {
      "cell_type": "markdown",
      "metadata": {
        "id": "6YZpisA2xwuX"
      },
      "source": [
        "This dataset was obtained from Yahoo Finance and includes 5 years of stock data for Nvidia corporation. Nvidia designs graphics processing units for the gaming and professional markets, as well as system on a chip units for the mobile computing and automotive market. \n",
        "\n",
        "The columns and definitions are described below. \n",
        "\n",
        "1. Date - in format: yyyy-mm-dd.\n",
        "\n",
        "2. Open - price of the stock at market open (in US Dollars).\n",
        "\n",
        "3. High - highest price reached in the day.\n",
        "\n",
        "4. Low - lowest price reached in the day.\n",
        "\n",
        "5. Close - closing price for the day.\n",
        "\n",
        "6. Volume - number of shares traded for the day.\n"
      ]
    },
    {
      "cell_type": "markdown",
      "metadata": {
        "id": "Ee4xI0SFgVYo"
      },
      "source": [
        "**Data Analysis and Exploration**"
      ]
    },
    {
      "cell_type": "code",
      "metadata": {
        "colab": {
          "base_uri": "https://localhost:8080/"
        },
        "id": "QWPavKScfYhl",
        "outputId": "819573a8-59e0-4704-ac6f-0e0e7d5e2ec7"
      },
      "source": [
        "# Show information about the data columns.\n",
        "company.info()"
      ],
      "execution_count": 5,
      "outputs": [
        {
          "output_type": "stream",
          "name": "stdout",
          "text": [
            "<class 'pandas.core.frame.DataFrame'>\n",
            "DatetimeIndex: 990 entries, 2018-01-02 to 2021-12-06\n",
            "Data columns (total 5 columns):\n",
            " #   Column  Non-Null Count  Dtype  \n",
            "---  ------  --------------  -----  \n",
            " 0   Open    990 non-null    float64\n",
            " 1   High    990 non-null    float64\n",
            " 2   Low     990 non-null    float64\n",
            " 3   Close   990 non-null    float64\n",
            " 4   Volume  990 non-null    int64  \n",
            "dtypes: float64(4), int64(1)\n",
            "memory usage: 46.4 KB\n"
          ]
        }
      ]
    },
    {
      "cell_type": "markdown",
      "metadata": {
        "id": "Zt7GkWY-8EmR"
      },
      "source": [
        "There are 990 stock records and 5 columns. All the features have numeric data types. There are no null or missing values in the data set.  "
      ]
    },
    {
      "cell_type": "code",
      "metadata": {
        "id": "piRSq2gl4Lg6",
        "colab": {
          "base_uri": "https://localhost:8080/",
          "height": 403
        },
        "outputId": "64a6a1ca-b60c-4ea7-8bba-e7c3fc2b428b"
      },
      "source": [
        "# Visualize the closing stock price by date for the first 60 days. \n",
        "# Extract only the top 60 rows. \n",
        "company_60 = company.head(60)\n",
        "company_60.reset_index(inplace=True)\n",
        " \n",
        "#  Plot closing stock price by date.\n",
        "plt.rcParams['figure.figsize'] = [9, 6]\n",
        " \n",
        "company_60.plot('Date','Close', color=\"darkblue\")\n",
        "plt.xlabel('Date', fontsize=12)\n",
        "plt.ylabel('Close Price', fontsize=12)\n",
        "plt.title('Closing Stock Price by Date', fontsize=14)\n",
        "plt.grid()\n",
        "plt.show()"
      ],
      "execution_count": 38,
      "outputs": [
        {
          "output_type": "display_data",
          "data": {
            "image/png": "[encoded data removed]",
            "text/plain": [
              "<Figure size 648x432 with 1 Axes>"
            ]
          },
          "metadata": {
            "needs_background": "light"
          }
        }
      ]
    },
    {
      "cell_type": "markdown",
      "metadata": {
        "id": "9NxK2e8u6xun"
      },
      "source": [
        "...  "
      ]
    },
    {
      "cell_type": "code",
      "metadata": {
        "id": "ruKsrdUp5yHY"
      },
      "source": [
        "# Create a data set with only closing prices.\n",
        "close_data = company['Close']\n",
        " \n",
        "# Convert close data into an array.\n",
        "close_array = close_data.values.reshape(-1, 1)"
      ],
      "execution_count": 22,
      "outputs": []
    },
    {
      "cell_type": "markdown",
      "metadata": {
        "id": "2QABL2dX6gbo"
      },
      "source": [
        "Normalize the feature dataset. We will use MinMax Scaler to transform the data so that its distribution will have a mean value of 0 and standard deviation of 1. "
      ]
    },
    {
      "cell_type": "code",
      "metadata": {
        "id": "k8-fZcAsxxGB"
      },
      "source": [
        "# Normalize the close data.  \n",
        "scaler = MinMaxScaler(feature_range=(0, 1))\n",
        "scaled_data = scaler.fit_transform(close_array)"
      ],
      "execution_count": 23,
      "outputs": []
    },
    {
      "cell_type": "code",
      "metadata": {
        "id": "wFz7ADJo3BoX"
      },
      "source": [
        "# Create the training data set which will include 70% of the total data.\n",
        "training_data_len = math.ceil(len(close_array) *.70)\n",
        "train_data = scaled_data[0:training_data_len  , : ]"
      ],
      "execution_count": 24,
      "outputs": []
    },
    {
      "cell_type": "markdown",
      "metadata": {
        "id": "j3JlTXV8Kyhd"
      },
      "source": [
        "We need to transform the data so we can feed them into the Machine Learning model. We will restructure the data and train the data that contains the closing price for 60 days and make the prediction for the 61st closing price."
      ]
    },
    {
      "cell_type": "markdown",
      "metadata": {
        "id": "nGv_FW1HMJK2"
      },
      "source": [
        "The x train data set will contain 60 values, the first column will contain close prices from rows 0 to 59, and the second column will contain close prices from rows 1 to 60, and this pattern will repeated for the rest of the data."
      ]
    },
    {
      "cell_type": "markdown",
      "metadata": {
        "id": "tmNTg2OHMQan"
      },
      "source": [
        "The y_train data set will contain the 61st value in the first column, and the 62nd value in the second column, and this pattern will repeated for the rest of the data. "
      ]
    },
    {
      "cell_type": "code",
      "metadata": {
        "id": "aRtObJf85_cn"
      },
      "source": [
        "# Separate the data into x and y data sets.\n",
        "x_train_data=[]\n",
        "y_train_data =[]\n",
        "for i in range(60,len(train_data)):\n",
        "    x_train_data=list(x_train_data)\n",
        "    y_train_data=list(y_train_data)\n",
        "    x_train_data.append(train_data[i-60:i,0])\n",
        "    y_train_data.append(train_data[i,0])\n",
        "\n",
        "    # Convert the x and y training values into numpy arrays so they can be used for training the LSTM moddel. \n",
        "    x_train_data1, y_train_data1 = np.array(x_train_data), np.array(y_train_data) \n",
        "\n",
        "    # Reshaping training data for calculations. \n",
        "    x_train_data2 = np.reshape(x_train_data1, (x_train_data1.shape[0],x_train_data1.shape[1],1))"
      ],
      "execution_count": 25,
      "outputs": []
    },
    {
      "cell_type": "markdown",
      "metadata": {
        "id": "T7o8Q1Zzpa9G"
      },
      "source": [
        "The LSTM model needs the data presented in a 3-dimensional data set. We will use the reshape() function to reshape the data into a 3-dimensional form."
      ]
    },
    {
      "cell_type": "markdown",
      "metadata": {
        "id": "pHnBLx3tUeY_"
      },
      "source": [
        "We will use the Long Short Term Memory (LSTM) model to train on the data. LSTM  is special kind of recurrent neural network (RNN) that is capable of learning long term dependencies in data. LSTM has internal mechanisms called gates that can regulate the flow of information. These gates can learn which data in a sequence is important to keep or throw away. By doing that, it can pass relevant information down the long chain of sequences to make predictions. If you would like more information on LSTM, click this link [LSTM](https://www.youtube.com/watch?v=LfnrRPFhkuY) "
      ]
    },
    {
      "cell_type": "markdown",
      "metadata": {
        "id": "vXyv8yCi_gIy"
      },
      "source": [
        "**Build the LSTM Model**"
      ]
    },
    {
      "cell_type": "markdown",
      "metadata": {
        "id": "hDRTfkBr7N2B"
      },
      "source": [
        "The LSTM model will have two LSTM layers with 50 neurons and two Dense layers, one with 25 neurons and the other with one neuron."
      ]
    },
    {
      "cell_type": "code",
      "metadata": {
        "id": "ZuloAzDfXlfW"
      },
      "source": [
        "model = Sequential()\n",
        "model.add(LSTM(units=50, return_sequences=True,input_shape=(x_train_data2.shape[1],1)))\n",
        "model.add(LSTM(units=50, return_sequences=False))\n",
        "model.add(Dense(units=25))\n",
        "model.add(Dense(units=1))"
      ],
      "execution_count": 27,
      "outputs": []
    },
    {
      "cell_type": "markdown",
      "metadata": {
        "id": "JhwGhz4-_PJh"
      },
      "source": [
        "**Compile the LSTM Model and Train the Data**"
      ]
    },
    {
      "cell_type": "markdown",
      "metadata": {
        "id": "NGe4MbEOnlNp"
      },
      "source": [
        "The LSTM model is compiled using the adam optimizer and mean squared error (MSE) loss function.\n",
        "We will use the fit() function for training on the data sets. The paraneters include: \n",
        "\n",
        "*   batch_size is the total number of training examples in a single batch.\n",
        "*   epochs are the number of iterations when an entire data set is passed forward and backward through the neural network."
      ]
    },
    {
      "cell_type": "code",
      "metadata": {
        "colab": {
          "base_uri": "https://localhost:8080/"
        },
        "id": "eLup2sCxpQHS",
        "outputId": "3e3f6826-6ca9-4912-d0d6-d6c381c6e72a"
      },
      "source": [
        "# Compile the LSTM model.\n",
        "model.compile(optimizer='adam', loss='mean_squared_error')\n",
        "# Train the model on the training data.\n",
        "model.fit(x_train_data2, y_train_data1, batch_size=1, epochs=1)"
      ],
      "execution_count": 28,
      "outputs": [
        {
          "output_type": "stream",
          "name": "stdout",
          "text": [
            "809/809 [==============================] - 26s 29ms/step - loss: 2.6748e-04\n"
          ]
        },
        {
          "output_type": "execute_result",
          "data": {
            "text/plain": [
              "<keras.callbacks.History at 0x7fdff49906d0>"
            ]
          },
          "metadata": {},
          "execution_count": 28
        }
      ]
    },
    {
      "cell_type": "markdown",
      "metadata": {
        "id": "XGdHO1GSyUpk"
      },
      "source": [
        "**Test the LSTM Model**"
      ]
    },
    {
      "cell_type": "code",
      "metadata": {
        "id": "DQJozB8Vywpg"
      },
      "source": [
        "# Create the testing dataset. \n",
        "test_data = scaled_data[training_data_len - 60: , : ]\n",
        "x_test = []\n",
        "y_test = close_array[training_data_len : , : ]\n",
        "for i in range(60,len(test_data)):\n",
        "    x_test.append(test_data[i-60:i,0])\n",
        " "
      ],
      "execution_count": 29,
      "outputs": []
    },
    {
      "cell_type": "code",
      "metadata": {
        "id": "CaAjrJcQ9SJc"
      },
      "source": [
        "# Convert the testing data into arrays for easier computation.\n",
        "x_test = np.array(x_test)\n",
        "x_test = np.reshape(x_test, (x_test.shape[0],x_test.shape[1],1))\n",
        " "
      ],
      "execution_count": 30,
      "outputs": []
    },
    {
      "cell_type": "markdown",
      "source": [
        "**Make Predictions on the Test Data**"
      ],
      "metadata": {
        "id": "3XJYuQQz7bYZ"
      }
    },
    {
      "cell_type": "code",
      "metadata": {
        "id": "UTHq2umsCyTb"
      },
      "source": [
        "# Make predictions on the test data\n",
        "predictions = model.predict(x_test)\n",
        "predictions = scaler.inverse_transform(predictions)"
      ],
      "execution_count": 31,
      "outputs": []
    },
    {
      "cell_type": "markdown",
      "source": [
        "**Evaluate Performance of the Model**"
      ],
      "metadata": {
        "id": "FroS3SOt65nd"
      }
    },
    {
      "cell_type": "markdown",
      "metadata": {
        "id": "nkreKWU8bOl4"
      },
      "source": [
        "We will use Root Mean Squared Error (RMSE) to measure the performance of the models. The root mean squared error is a metric that shows the average distance between the predicted values from the model and the actual values in the dataset. RMSE is found by calculating the residual (difference between prediction and truth) for each data point, compute the norm of residual for each data point, compute the mean of residuals and take the square root of that mean. The lower the value, the better the model performs. "
      ]
    },
    {
      "cell_type": "code",
      "metadata": {
        "colab": {
          "base_uri": "https://localhost:8080/"
        },
        "id": "_MbbUzDaCy3O",
        "outputId": "03f991dc-6626-4c38-d622-300942585256"
      },
      "source": [
        "# Show the root mean squared error (RMSE) for the LSTM model.  \n",
        "rmse=np.sqrt(np.mean(((predictions - y_test)**2)))\n",
        "print(rmse)"
      ],
      "execution_count": 32,
      "outputs": [
        {
          "output_type": "stream",
          "name": "stdout",
          "text": [
            "10.65793956845391\n"
          ]
        }
      ]
    },
    {
      "cell_type": "markdown",
      "metadata": {
        "id": "CqvshwZ025KW"
      },
      "source": [
        "The RMSE shows that the LSTM model has a typical prediction error of 10.65, which is fairly good. "
      ]
    },
    {
      "cell_type": "markdown",
      "source": [
        "We will now calculate the 95% confidence interval for this model which will show how much the error can fluctuate. The 95% confidence interval is a range of values that you can be 95% certain contains the true mean of the population."
      ],
      "metadata": {
        "id": "nsEQTydgg9V_"
      }
    },
    {
      "cell_type": "code",
      "source": [
        "# Calculate the 95% confidence interval.\n",
        "from scipy import stats\n",
        "confidence = 0.95\n",
        "squared_errors = (predictions - y_test) ** 2\n",
        "np.sqrt(stats.t.interval(confidence, len(squared_errors) - 1,\n",
        "                         loc = squared_errors.mean(),\n",
        "                         scale = stats.sem(squared_errors)))\n"
      ],
      "metadata": {
        "colab": {
          "base_uri": "https://localhost:8080/"
        },
        "id": "IMgETQe19pGi",
        "outputId": "ad2a587c-bba7-44a6-9c07-ff4d12e09b00"
      },
      "execution_count": 33,
      "outputs": [
        {
          "output_type": "execute_result",
          "data": {
            "text/plain": [
              "array([[ 9.3788687 ],\n",
              "       [11.79915987]])"
            ]
          },
          "metadata": {},
          "execution_count": 33
        }
      ]
    },
    {
      "cell_type": "markdown",
      "metadata": {
        "id": "xVf7bBaphSZz"
      },
      "source": [
        "This shows that the prediction error can fluctuate anywhere between\n",
        "9.37 to 11.79. The confidence interval gap is around $2.42.\n"
      ]
    },
    {
      "cell_type": "markdown",
      "metadata": {
        "id": "uNCS8V58BTsm"
      },
      "source": [
        "Visualize the stocks actual close price and predicted close price. "
      ]
    },
    {
      "cell_type": "code",
      "metadata": {
        "id": "udwVN-zMtcs5",
        "colab": {
          "base_uri": "https://localhost:8080/",
          "height": 512
        },
        "outputId": "a2137919-f73d-49ea-daf4-eada9c2137f5"
      },
      "source": [
        "train = company[:training_data_len]\n",
        "valid = company[training_data_len:]\n",
        " \n",
        "valid['Predictions'] = predictions\n",
        "plt.figure(figsize=(10,6)) \n",
        "plt.title('Model')\n",
        "plt.xlabel('Date')\n",
        "plt.ylabel('Close')\n",
        " \n",
        "plt.plot(train['Close'])\n",
        "plt.plot(valid[['Close', 'Predictions']])\n",
        "# ax.set_xticklabels(ax.get_xticklabels(),rotation = 90, size = 10)\n",
        " \n",
        "plt.legend(['Train', 'Actual', 'Predictions'], loc='lower right')\n",
        "plt.grid() \n",
        "plt.show()"
      ],
      "execution_count": 41,
      "outputs": [
        {
          "output_type": "stream",
          "name": "stderr",
          "text": [
            "/usr/local/lib/python3.7/dist-packages/ipykernel_launcher.py:4: SettingWithCopyWarning: \n",
            "A value is trying to be set on a copy of a slice from a DataFrame.\n",
            "Try using .loc[row_indexer,col_indexer] = value instead\n",
            "\n",
            "See the caveats in the documentation: https://pandas.pydata.org/pandas-docs/stable/user_guide/indexing.html#returning-a-view-versus-a-copy\n",
            "  after removing the cwd from sys.path.\n"
          ]
        },
        {
          "output_type": "display_data",
          "data": {
            "image/png": "[encoded data removed]",
            "text/plain": [
              "<Figure size 720x432 with 1 Axes>"
            ]
          },
          "metadata": {
            "needs_background": "light"
          }
        }
      ]
    },
    {
      "cell_type": "markdown",
      "metadata": {
        "id": "VXnIt7pwxI1J"
      },
      "source": [
        "The stocks predicted closing prices and the actual closing prices match fairly  closely.  "
      ]
    },
    {
      "cell_type": "markdown",
      "metadata": {
        "id": "w6FjBw2dxJxg"
      },
      "source": [
        "Show the stocks actual close prices and predicted close prices by date. "
      ]
    },
    {
      "cell_type": "code",
      "metadata": {
        "colab": {
          "base_uri": "https://localhost:8080/",
          "height": 455
        },
        "id": "BJ0P2FL0vB3x",
        "outputId": "1bed08c2-521e-4c97-d476-78e8000c11b5"
      },
      "source": [
        "# print actual close prices and predicted close prices. \n",
        "valid[['Close', 'Predictions']]"
      ],
      "execution_count": 42,
      "outputs": [
        {
          "output_type": "execute_result",
          "data": {
            "text/html": [
              "<div>\n",
              "<style scoped>\n",
              "    .dataframe tbody tr th:only-of-type {\n",
              "        vertical-align: middle;\n",
              "    }\n",
              "\n",
              "    .dataframe tbody tr th {\n",
              "        vertical-align: top;\n",
              "    }\n",
              "\n",
              "    .dataframe thead th {\n",
              "        text-align: right;\n",
              "    }\n",
              "</style>\n",
              "<table border=\"1\" class=\"dataframe\">\n",
              "  <thead>\n",
              "    <tr style=\"text-align: right;\">\n",
              "      <th></th>\n",
              "      <th>Close</th>\n",
              "      <th>Predictions</th>\n",
              "    </tr>\n",
              "    <tr>\n",
              "      <th>Date</th>\n",
              "      <th></th>\n",
              "      <th></th>\n",
              "    </tr>\n",
              "  </thead>\n",
              "  <tbody>\n",
              "    <tr>\n",
              "      <th>2020-06-17</th>\n",
              "      <td>92.360001</td>\n",
              "      <td>92.542961</td>\n",
              "    </tr>\n",
              "    <tr>\n",
              "      <th>2020-06-18</th>\n",
              "      <td>92.180000</td>\n",
              "      <td>92.915527</td>\n",
              "    </tr>\n",
              "    <tr>\n",
              "      <th>2020-06-19</th>\n",
              "      <td>92.612503</td>\n",
              "      <td>93.294426</td>\n",
              "    </tr>\n",
              "    <tr>\n",
              "      <th>2020-06-22</th>\n",
              "      <td>95.267502</td>\n",
              "      <td>93.684341</td>\n",
              "    </tr>\n",
              "    <tr>\n",
              "      <th>2020-06-23</th>\n",
              "      <td>94.500000</td>\n",
              "      <td>94.301102</td>\n",
              "    </tr>\n",
              "    <tr>\n",
              "      <th>...</th>\n",
              "      <td>...</td>\n",
              "      <td>...</td>\n",
              "    </tr>\n",
              "    <tr>\n",
              "      <th>2021-11-30</th>\n",
              "      <td>326.760010</td>\n",
              "      <td>349.957428</td>\n",
              "    </tr>\n",
              "    <tr>\n",
              "      <th>2021-12-01</th>\n",
              "      <td>314.350006</td>\n",
              "      <td>352.437592</td>\n",
              "    </tr>\n",
              "    <tr>\n",
              "      <th>2021-12-02</th>\n",
              "      <td>321.260010</td>\n",
              "      <td>353.022766</td>\n",
              "    </tr>\n",
              "    <tr>\n",
              "      <th>2021-12-03</th>\n",
              "      <td>306.929993</td>\n",
              "      <td>353.417816</td>\n",
              "    </tr>\n",
              "    <tr>\n",
              "      <th>2021-12-06</th>\n",
              "      <td>300.369995</td>\n",
              "      <td>351.967773</td>\n",
              "    </tr>\n",
              "  </tbody>\n",
              "</table>\n",
              "<p>372 rows × 2 columns</p>\n",
              "</div>"
            ],
            "text/plain": [
              "                 Close  Predictions\n",
              "Date                               \n",
              "2020-06-17   92.360001    92.542961\n",
              "2020-06-18   92.180000    92.915527\n",
              "2020-06-19   92.612503    93.294426\n",
              "2020-06-22   95.267502    93.684341\n",
              "2020-06-23   94.500000    94.301102\n",
              "...                ...          ...\n",
              "2021-11-30  326.760010   349.957428\n",
              "2021-12-01  314.350006   352.437592\n",
              "2021-12-02  321.260010   353.022766\n",
              "2021-12-03  306.929993   353.417816\n",
              "2021-12-06  300.369995   351.967773\n",
              "\n",
              "[372 rows x 2 columns]"
            ]
          },
          "metadata": {},
          "execution_count": 42
        }
      ]
    },
    {
      "cell_type": "markdown",
      "metadata": {
        "id": "3AEjv_Gtzu_X"
      },
      "source": [
        "Conclusions: The Long Short Term Memory (LSTM) model has an average prediction error of 10.65, which is very good. This means that the average dollar amount difference between the predicted closing price from the model and the actual closing price is $10.65. The stocks predicted closing prices and the actual closing prices are closely aligned with the predicted closing prices showing a high degree of accuracy. This model can be used to predict the stock prices of many other companies.\n",
        "\n",
        "The models accuracy may be improved by tuning some of the models hyper parameters. "
      ]
    }
  ]
}