{
  "cells": [
    {
      "cell_type": "markdown",
      "metadata": {
        "id": "view-in-github",
        "colab_type": "text"
      },
      "source": [
        "<a href=\"https://colab.research.google.com/github/dniggl/Insights/blob/main/Web_Scraping_Movies.ipynb\" target=\"_parent\"><img src=\"https://colab.research.google.com/assets/colab-badge.svg\" alt=\"Open In Colab\"/></a>"
      ]
    },
    {
      "cell_type": "markdown",
      "metadata": {
        "id": "YIktaIBvUdkD"
      },
      "source": [
        "Scrape a movies webpage, extract data and create a new file. "
      ]
    },
    {
      "cell_type": "code",
      "execution_count": 18,
      "metadata": {
        "id": "rQfsDdvfT1Uo"
      },
      "outputs": [],
      "source": [
        "# Import the required libraries.\n",
        "import requests\n",
        "import bs4\n",
        "import pandas as pd\n",
        "import csv"
      ]
    },
    {
      "cell_type": "markdown",
      "source": [
        "\n",
        "*   requests allows you to send HTTP requests which returns a Response Object   with all the response data (i.e. HTML).\n",
        "\n",
        "*   beautifulsoup (bs4) is used to pull data out of HTML files and convert the data to a BeautifulSoup object, which represents the HTML as a nested data structure.\n",
        "*   pandas is used for data analysis and manipulation.\n",
        "\n"
      ],
      "metadata": {
        "id": "oniqh3cOpsu5"
      }
    },
    {
      "cell_type": "markdown",
      "metadata": {
        "id": "1Jc5a_t6WVWM"
      },
      "source": [
        "**Retrieve and Convert the HTML**"
      ]
    },
    {
      "cell_type": "markdown",
      "source": [
        "Create an object (URL) containing the website address and send a get request for the specific URL's HTML. Then retrieve the HTML data that the server sends back and convert the data into a BeautifulSoup object."
      ],
      "metadata": {
        "id": "cMceofgZjElg"
      }
    },
    {
      "cell_type": "code",
      "execution_count": 19,
      "metadata": {
        "id": "lqXVOogGWMWq"
      },
      "outputs": [],
      "source": [
        "# Extract the HTML and create a BeautifulSoup object.\n",
        "url = 'https://www.imdb.com/search/title/?count=100&groups=top_1000&sort=user_rating'\n",
        "\n",
        "def get_page_contents(url):\n",
        "    page = requests.get(url, headers={\"Accept-Language\": \"en-US\"})\n",
        "    return bs4.BeautifulSoup(page.text, \"html.parser\")\n",
        "\n",
        "soup = get_page_contents(url)"
      ]
    },
    {
      "cell_type": "markdown",
      "source": [
        "The HTML content of the webpages will be parsed and scraped using Beautiful Soup. Beautiful Soup is a great tool for parsing and scraping websites because of the numerous functions it provides to extract data from HTML. To learn more about BeautifulSoup select this link (https://www.crummy.com/software/BeautifulSoup/bs4/doc/#specifying-the-parser-to-usehttps://) "
      ],
      "metadata": {
        "id": "XgSkNSrrpwRh"
      }
    },
    {
      "cell_type": "markdown",
      "source": [
        "For this project we will be using the IMDB Top 100 Movies webpage. You can find this webpage by selecting this link https://www.imdb.com/search/title/?count=100&groups=top_1000&sort=user_rating"
      ],
      "metadata": {
        "id": "-wjveLG9BS_5"
      }
    },
    {
      "cell_type": "markdown",
      "metadata": {
        "id": "5nmHe4n2XbaV"
      },
      "source": [
        "After reviewing the IMDB Top 100 Movies webpage, I have decided to extract the following data elements: \n",
        "\n",
        "*   Movie Title\n",
        "*   Release Year\n",
        "*   Audience Rating\n",
        "*   Runtime\n",
        "*   Genre\n",
        "*   IMDB Rating\n",
        "*   Number of Votes\n",
        "*   Box Office Earnings"
      ]
    },
    {
      "cell_type": "markdown",
      "metadata": {
        "id": "szwk4VTMZmLJ"
      },
      "source": [
        "**Find and Extract the Data Elements**\n",
        "\n",
        "We will first create a list of all distinct movies and their corresponding HTML. The findAll method creates a list where each entry contains the HTML that’s captured within the 'div' tag with the class 'lister-item-content'.   "
      ]
    },
    {
      "cell_type": "code",
      "source": [
        "movies = soup.findAll('div', class_='lister-item-content')"
      ],
      "metadata": {
        "id": "-eov1TPR4in2"
      },
      "execution_count": 20,
      "outputs": []
    },
    {
      "cell_type": "markdown",
      "source": [
        "Next, for each data element we want to extract, we will loop through all movies, find all the HTML lines within the specified tag and class, and extract and store the data elements. In the case of votes and earnings data elements, a tag, name and some parameters are used to find the specific HTML lines. The data elements extacted will be stored in a list.     "
      ],
      "metadata": {
        "id": "2pVOpWrR16f9"
      }
    },
    {
      "cell_type": "code",
      "execution_count": 21,
      "metadata": {
        "id": "sDq-tVT-thz2"
      },
      "outputs": [],
      "source": [
        "titles = [movie.find('a').text for movie in movies]\n",
        "release = [movie.find('span', class_='lister-item-year text-muted unbold').text for movie in movies]\n",
        "audience_rating = [movie.find('span', class_='certificate') for movie in movies]\n",
        "runtime = [movie.find('span', class_='runtime').text for movie in movies]\n",
        "genre = [movie.find('span', class_='genre').text.strip() for movie in movies]\n",
        "imdb_rating = [movie.find('div', 'inline-block ratings-imdb-rating', text_attribute=False).text.strip() for movie in movies]\n",
        "votes = [movie.find('span', {'name' : 'nv'}, text_attribute=False, order=None).text for movie in movies]\n",
        "earnings = [movie.find('span', {'name' : 'nv'},[1], text_attribute=False).text for movie in movies]"
      ]
    },
    {
      "cell_type": "markdown",
      "source": [
        "**Create and Display the Data Frame**"
      ],
      "metadata": {
        "id": "saFWyZ_T6Sg2"
      }
    },
    {
      "cell_type": "markdown",
      "source": [
        "We will now create a new Data Frame containing the names and data elements that were extracted."
      ],
      "metadata": {
        "id": "Pl7ivWyp461M"
      }
    },
    {
      "cell_type": "code",
      "execution_count": 22,
      "metadata": {
        "colab": {
          "base_uri": "https://localhost:8080/",
          "height": 363
        },
        "id": "4OzUeQYXPamv",
        "outputId": "c6a7e866-0d37-470c-c64d-61bb0d0da757"
      },
      "outputs": [
        {
          "output_type": "execute_result",
          "data": {
            "text/plain": [
              "                                           Title  Relase Audience Rating  \\\n",
              "0                               K.G.F: Chapter 2  (2022)            None   \n",
              "1                                       Jai Bhim  (2021)         [TV-MA]   \n",
              "2                       The Shawshank Redemption  (1994)             [R]   \n",
              "3                                Soorarai Pottru  (2020)         [TV-MA]   \n",
              "4                                  The Godfather  (1972)             [R]   \n",
              "5                                The Dark Knight  (2008)         [PG-13]   \n",
              "6  The Lord of the Rings: The Return of the King  (2003)         [PG-13]   \n",
              "7                               Schindler's List  (1993)             [R]   \n",
              "8                         The Godfather: Part II  (1974)             [R]   \n",
              "9                                   12 Angry Men  (1957)      [Approved]   \n",
              "\n",
              "   Runtime                      Genre IMDB Rating      Votes  \\\n",
              "0  168 min       Action, Crime, Drama         9.7     44,351   \n",
              "1  164 min      Crime, Drama, Mystery         9.4    185,638   \n",
              "2  142 min                      Drama         9.3  2,574,040   \n",
              "3  153 min                      Drama         9.2    109,454   \n",
              "4  175 min               Crime, Drama         9.2  1,772,427   \n",
              "5  152 min       Action, Crime, Drama         9.0  2,540,879   \n",
              "6  201 min   Action, Adventure, Drama         9.0  1,770,365   \n",
              "7  195 min  Biography, Drama, History         9.0  1,311,109   \n",
              "8  202 min               Crime, Drama         9.0  1,225,643   \n",
              "9   96 min               Crime, Drama         9.0    760,189   \n",
              "\n",
              "  Box Office Earnings  \n",
              "0              44,351  \n",
              "1             185,638  \n",
              "2           2,574,040  \n",
              "3             109,454  \n",
              "4           1,772,427  \n",
              "5           2,540,879  \n",
              "6           1,770,365  \n",
              "7           1,311,109  \n",
              "8           1,225,643  \n",
              "9             760,189  "
            ],
            "text/html": [
              "\n",
              "  <div id=\"df-c11a0365-f215-4dd8-8b5d-714c61a61ebb\">\n",
              "    <div class=\"colab-df-container\">\n",
              "      <div>\n",
              "<style scoped>\n",
              "    .dataframe tbody tr th:only-of-type {\n",
              "        vertical-align: middle;\n",
              "    }\n",
              "\n",
              "    .dataframe tbody tr th {\n",
              "        vertical-align: top;\n",
              "    }\n",
              "\n",
              "    .dataframe thead th {\n",
              "        text-align: right;\n",
              "    }\n",
              "</style>\n",
              "<table border=\"1\" class=\"dataframe\">\n",
              "  <thead>\n",
              "    <tr style=\"text-align: right;\">\n",
              "      <th></th>\n",
              "      <th>Title</th>\n",
              "      <th>Relase</th>\n",
              "      <th>Audience Rating</th>\n",
              "      <th>Runtime</th>\n",
              "      <th>Genre</th>\n",
              "      <th>IMDB Rating</th>\n",
              "      <th>Votes</th>\n",
              "      <th>Box Office Earnings</th>\n",
              "    </tr>\n",
              "  </thead>\n",
              "  <tbody>\n",
              "    <tr>\n",
              "      <th>0</th>\n",
              "      <td>K.G.F: Chapter 2</td>\n",
              "      <td>(2022)</td>\n",
              "      <td>None</td>\n",
              "      <td>168 min</td>\n",
              "      <td>Action, Crime, Drama</td>\n",
              "      <td>9.7</td>\n",
              "      <td>44,351</td>\n",
              "      <td>44,351</td>\n",
              "    </tr>\n",
              "    <tr>\n",
              "      <th>1</th>\n",
              "      <td>Jai Bhim</td>\n",
              "      <td>(2021)</td>\n",
              "      <td>[TV-MA]</td>\n",
              "      <td>164 min</td>\n",
              "      <td>Crime, Drama, Mystery</td>\n",
              "      <td>9.4</td>\n",
              "      <td>185,638</td>\n",
              "      <td>185,638</td>\n",
              "    </tr>\n",
              "    <tr>\n",
              "      <th>2</th>\n",
              "      <td>The Shawshank Redemption</td>\n",
              "      <td>(1994)</td>\n",
              "      <td>[R]</td>\n",
              "      <td>142 min</td>\n",
              "      <td>Drama</td>\n",
              "      <td>9.3</td>\n",
              "      <td>2,574,040</td>\n",
              "      <td>2,574,040</td>\n",
              "    </tr>\n",
              "    <tr>\n",
              "      <th>3</th>\n",
              "      <td>Soorarai Pottru</td>\n",
              "      <td>(2020)</td>\n",
              "      <td>[TV-MA]</td>\n",
              "      <td>153 min</td>\n",
              "      <td>Drama</td>\n",
              "      <td>9.2</td>\n",
              "      <td>109,454</td>\n",
              "      <td>109,454</td>\n",
              "    </tr>\n",
              "    <tr>\n",
              "      <th>4</th>\n",
              "      <td>The Godfather</td>\n",
              "      <td>(1972)</td>\n",
              "      <td>[R]</td>\n",
              "      <td>175 min</td>\n",
              "      <td>Crime, Drama</td>\n",
              "      <td>9.2</td>\n",
              "      <td>1,772,427</td>\n",
              "      <td>1,772,427</td>\n",
              "    </tr>\n",
              "    <tr>\n",
              "      <th>5</th>\n",
              "      <td>The Dark Knight</td>\n",
              "      <td>(2008)</td>\n",
              "      <td>[PG-13]</td>\n",
              "      <td>152 min</td>\n",
              "      <td>Action, Crime, Drama</td>\n",
              "      <td>9.0</td>\n",
              "      <td>2,540,879</td>\n",
              "      <td>2,540,879</td>\n",
              "    </tr>\n",
              "    <tr>\n",
              "      <th>6</th>\n",
              "      <td>The Lord of the Rings: The Return of the King</td>\n",
              "      <td>(2003)</td>\n",
              "      <td>[PG-13]</td>\n",
              "      <td>201 min</td>\n",
              "      <td>Action, Adventure, Drama</td>\n",
              "      <td>9.0</td>\n",
              "      <td>1,770,365</td>\n",
              "      <td>1,770,365</td>\n",
              "    </tr>\n",
              "    <tr>\n",
              "      <th>7</th>\n",
              "      <td>Schindler's List</td>\n",
              "      <td>(1993)</td>\n",
              "      <td>[R]</td>\n",
              "      <td>195 min</td>\n",
              "      <td>Biography, Drama, History</td>\n",
              "      <td>9.0</td>\n",
              "      <td>1,311,109</td>\n",
              "      <td>1,311,109</td>\n",
              "    </tr>\n",
              "    <tr>\n",
              "      <th>8</th>\n",
              "      <td>The Godfather: Part II</td>\n",
              "      <td>(1974)</td>\n",
              "      <td>[R]</td>\n",
              "      <td>202 min</td>\n",
              "      <td>Crime, Drama</td>\n",
              "      <td>9.0</td>\n",
              "      <td>1,225,643</td>\n",
              "      <td>1,225,643</td>\n",
              "    </tr>\n",
              "    <tr>\n",
              "      <th>9</th>\n",
              "      <td>12 Angry Men</td>\n",
              "      <td>(1957)</td>\n",
              "      <td>[Approved]</td>\n",
              "      <td>96 min</td>\n",
              "      <td>Crime, Drama</td>\n",
              "      <td>9.0</td>\n",
              "      <td>760,189</td>\n",
              "      <td>760,189</td>\n",
              "    </tr>\n",
              "  </tbody>\n",
              "</table>\n",
              "</div>\n",
              "      <button class=\"colab-df-convert\" onclick=\"convertToInteractive('df-c11a0365-f215-4dd8-8b5d-714c61a61ebb')\"\n",
              "              title=\"Convert this dataframe to an interactive table.\"\n",
              "              style=\"display:none;\">\n",
              "        \n",
              "  <svg xmlns=\"http://www.w3.org/2000/svg\" height=\"24px\"viewBox=\"0 0 24 24\"\n",
              "       width=\"24px\">\n",
              "    <path d=\"M0 0h24v24H0V0z\" fill=\"none\"/>\n",
              "    <path d=\"M18.56 5.44l.94 2.06.94-2.06 2.06-.94-2.06-.94-.94-2.06-.94 2.06-2.06.94zm-11 1L8.5 8.5l.94-2.06 2.06-.94-2.06-.94L8.5 2.5l-.94 2.06-2.06.94zm10 10l.94 2.06.94-2.06 2.06-.94-2.06-.94-.94-2.06-.94 2.06-2.06.94z\"/><path d=\"M17.41 7.96l-1.37-1.37c-.4-.4-.92-.59-1.43-.59-.52 0-1.04.2-1.43.59L10.3 9.45l-7.72 7.72c-.78.78-.78 2.05 0 2.83L4 21.41c.39.39.9.59 1.41.59.51 0 1.02-.2 1.41-.59l7.78-7.78 2.81-2.81c.8-.78.8-2.07 0-2.86zM5.41 20L4 18.59l7.72-7.72 1.47 1.35L5.41 20z\"/>\n",
              "  </svg>\n",
              "      </button>\n",
              "      \n",
              "  <style>\n",
              "    .colab-df-container {\n",
              "      display:flex;\n",
              "      flex-wrap:wrap;\n",
              "      gap: 12px;\n",
              "    }\n",
              "\n",
              "    .colab-df-convert {\n",
              "      background-color: #E8F0FE;\n",
              "      border: none;\n",
              "      border-radius: 50%;\n",
              "      cursor: pointer;\n",
              "      display: none;\n",
              "      fill: #1967D2;\n",
              "      height: 32px;\n",
              "      padding: 0 0 0 0;\n",
              "      width: 32px;\n",
              "    }\n",
              "\n",
              "    .colab-df-convert:hover {\n",
              "      background-color: #E2EBFA;\n",
              "      box-shadow: 0px 1px 2px rgba(60, 64, 67, 0.3), 0px 1px 3px 1px rgba(60, 64, 67, 0.15);\n",
              "      fill: #174EA6;\n",
              "    }\n",
              "\n",
              "    [theme=dark] .colab-df-convert {\n",
              "      background-color: #3B4455;\n",
              "      fill: #D2E3FC;\n",
              "    }\n",
              "\n",
              "    [theme=dark] .colab-df-convert:hover {\n",
              "      background-color: #434B5C;\n",
              "      box-shadow: 0px 1px 3px 1px rgba(0, 0, 0, 0.15);\n",
              "      filter: drop-shadow(0px 1px 2px rgba(0, 0, 0, 0.3));\n",
              "      fill: #FFFFFF;\n",
              "    }\n",
              "  </style>\n",
              "\n",
              "      <script>\n",
              "        const buttonEl =\n",
              "          document.querySelector('#df-c11a0365-f215-4dd8-8b5d-714c61a61ebb button.colab-df-convert');\n",
              "        buttonEl.style.display =\n",
              "          google.colab.kernel.accessAllowed ? 'block' : 'none';\n",
              "\n",
              "        async function convertToInteractive(key) {\n",
              "          const element = document.querySelector('#df-c11a0365-f215-4dd8-8b5d-714c61a61ebb');\n",
              "          const dataTable =\n",
              "            await google.colab.kernel.invokeFunction('convertToInteractive',\n",
              "                                                     [key], {});\n",
              "          if (!dataTable) return;\n",
              "\n",
              "          const docLinkHtml = 'Like what you see? Visit the ' +\n",
              "            '<a target=\"_blank\" href=https://colab.research.google.com/notebooks/data_table.ipynb>data table notebook</a>'\n",
              "            + ' to learn more about interactive tables.';\n",
              "          element.innerHTML = '';\n",
              "          dataTable['output_type'] = 'display_data';\n",
              "          await google.colab.output.renderOutput(dataTable, element);\n",
              "          const docLink = document.createElement('div');\n",
              "          docLink.innerHTML = docLinkHtml;\n",
              "          element.appendChild(docLink);\n",
              "        }\n",
              "      </script>\n",
              "    </div>\n",
              "  </div>\n",
              "  "
            ]
          },
          "metadata": {},
          "execution_count": 22
        }
      ],
      "source": [
        "movies_dict = {'Title': titles, 'Relase': release, 'Audience Rating': audience_rating,\n",
        "           'Runtime': runtime, 'Genre': genre, 'IMDB Rating': imdb_rating,\n",
        "           'Votes': votes, 'Box Office Earnings': earnings}\n",
        "        \n",
        "movies = pd.DataFrame(movies_dict)\n",
        "movies.head(10)"
      ]
    },
    {
      "cell_type": "markdown",
      "source": [
        "**Convert Data Frame to a CVS File**"
      ],
      "metadata": {
        "id": "BtNNVI5TDlaX"
      }
    },
    {
      "cell_type": "markdown",
      "source": [
        "If needed, we can create a csv file from the data frame that was created in the previous step. "
      ],
      "metadata": {
        "id": "QppIdkEb5iwc"
      }
    },
    {
      "cell_type": "code",
      "source": [
        "csv_data = movies.to_csv()\n",
        "print('\\nCSV String Values:\\n', csv_data)"
      ],
      "metadata": {
        "colab": {
          "base_uri": "https://localhost:8080/"
        },
        "id": "UX5tk-fLqFAg",
        "outputId": "80de2a8e-d1b3-4122-a51e-5465691e88c5"
      },
      "execution_count": 23,
      "outputs": [
        {
          "output_type": "stream",
          "name": "stdout",
          "text": [
            "\n",
            "CSV String Values:\n",
            " ,Title,Relase,Audience Rating,Runtime,Genre,IMDB Rating,Votes,Box Office Earnings\n",
            "0,K.G.F: Chapter 2,(2022),,168 min,\"Action, Crime, Drama\",9.7,\"44,351\",\"44,351\"\n",
            "1,Jai Bhim,(2021),\"<span class=\"\"certificate\"\">TV-MA</span>\",164 min,\"Crime, Drama, Mystery\",9.4,\"185,638\",\"185,638\"\n",
            "2,The Shawshank Redemption,(1994),\"<span class=\"\"certificate\"\">R</span>\",142 min,Drama,9.3,\"2,574,040\",\"2,574,040\"\n",
            "3,Soorarai Pottru,(2020),\"<span class=\"\"certificate\"\">TV-MA</span>\",153 min,Drama,9.2,\"109,454\",\"109,454\"\n",
            "4,The Godfather,(1972),\"<span class=\"\"certificate\"\">R</span>\",175 min,\"Crime, Drama\",9.2,\"1,772,427\",\"1,772,427\"\n",
            "5,The Dark Knight,(2008),\"<span class=\"\"certificate\"\">PG-13</span>\",152 min,\"Action, Crime, Drama\",9.0,\"2,540,879\",\"2,540,879\"\n",
            "6,The Lord of the Rings: The Return of the King,(2003),\"<span class=\"\"certificate\"\">PG-13</span>\",201 min,\"Action, Adventure, Drama\",9.0,\"1,770,365\",\"1,770,365\"\n",
            "7,Schindler's List,(1993),\"<span class=\"\"certificate\"\">R</span>\",195 min,\"Biography, Drama, History\",9.0,\"1,311,109\",\"1,311,109\"\n",
            "8,The Godfather: Part II,(1974),\"<span class=\"\"certificate\"\">R</span>\",202 min,\"Crime, Drama\",9.0,\"1,225,643\",\"1,225,643\"\n",
            "9,12 Angry Men,(1957),\"<span class=\"\"certificate\"\">Approved</span>\",96 min,\"Crime, Drama\",9.0,\"760,189\",\"760,189\"\n",
            "10,RRR,(2022),\"<span class=\"\"certificate\"\">PG-13</span>\",187 min,\"Action, Drama\",8.9,\"54,037\",\"54,037\"\n",
            "11,Pulp Fiction,(1994),\"<span class=\"\"certificate\"\">R</span>\",154 min,\"Crime, Drama\",8.9,\"1,975,574\",\"1,975,574\"\n",
            "12,Inception,(2010),\"<span class=\"\"certificate\"\">PG-13</span>\",148 min,\"Action, Adventure, Sci-Fi\",8.8,\"2,259,129\",\"2,259,129\"\n",
            "13,The Lord of the Rings: The Two Towers,(2002),\"<span class=\"\"certificate\"\">PG-13</span>\",179 min,\"Action, Adventure, Drama\",8.8,\"1,599,271\",\"1,599,271\"\n",
            "14,Fight Club,(1999),\"<span class=\"\"certificate\"\">R</span>\",139 min,Drama,8.8,\"2,025,732\",\"2,025,732\"\n",
            "15,The Lord of the Rings: The Fellowship of the Ring,(2001),\"<span class=\"\"certificate\"\">PG-13</span>\",178 min,\"Action, Adventure, Drama\",8.8,\"1,791,940\",\"1,791,940\"\n",
            "16,Forrest Gump,(1994),\"<span class=\"\"certificate\"\">PG-13</span>\",142 min,\"Drama, Romance\",8.8,\"1,985,555\",\"1,985,555\"\n",
            "17,\"The Good, the Bad and the Ugly\",(1966),\"<span class=\"\"certificate\"\">R</span>\",178 min,\"Adventure, Western\",8.8,\"739,865\",\"739,865\"\n",
            "18,Shershaah,(2021),\"<span class=\"\"certificate\"\">TV-14</span>\",135 min,\"Action, Biography, Drama\",8.7,\"116,208\",\"116,208\"\n",
            "19,Sardar Udham,(2021),\"<span class=\"\"certificate\"\">TV-MA</span>\",164 min,\"Biography, Crime, Drama\",8.7,\"38,755\",\"38,755\"\n",
            "20,The Matrix,(1999),\"<span class=\"\"certificate\"\">R</span>\",136 min,\"Action, Sci-Fi\",8.7,\"1,851,917\",\"1,851,917\"\n",
            "21,Goodfellas,(1990),\"<span class=\"\"certificate\"\">R</span>\",145 min,\"Biography, Crime, Drama\",8.7,\"1,110,634\",\"1,110,634\"\n",
            "22,Star Wars: Episode V - The Empire Strikes Back,(1980),\"<span class=\"\"certificate\"\">PG</span>\",124 min,\"Action, Adventure, Fantasy\",8.7,\"1,245,095\",\"1,245,095\"\n",
            "23,One Flew Over the Cuckoo's Nest,(1975),\"<span class=\"\"certificate\"\">R</span>\",133 min,Drama,8.7,\"979,932\",\"979,932\"\n",
            "24,Drishyam 2,(2021),,152 min,\"Crime, Drama, Thriller\",8.6,\"34,588\",\"34,588\"\n",
            "25,Interstellar,(2014),\"<span class=\"\"certificate\"\">PG-13</span>\",169 min,\"Adventure, Drama, Sci-Fi\",8.6,\"1,718,147\",\"1,718,147\"\n",
            "26,City of God,(2002),\"<span class=\"\"certificate\"\">R</span>\",130 min,\"Crime, Drama\",8.6,\"739,056\",\"739,056\"\n",
            "27,Spirited Away,(2001),\"<span class=\"\"certificate\"\">PG</span>\",125 min,\"Animation, Adventure, Family\",8.6,\"727,849\",\"727,849\"\n",
            "28,Saving Private Ryan,(1998),\"<span class=\"\"certificate\"\">R</span>\",169 min,\"Drama, War\",8.6,\"1,340,810\",\"1,340,810\"\n",
            "29,The Green Mile,(1999),\"<span class=\"\"certificate\"\">R</span>\",189 min,\"Crime, Drama, Fantasy\",8.6,\"1,251,682\",\"1,251,682\"\n",
            "30,Life Is Beautiful,(1997),\"<span class=\"\"certificate\"\">PG-13</span>\",116 min,\"Comedy, Drama, Romance\",8.6,\"673,997\",\"673,997\"\n",
            "31,Se7en,(1995),\"<span class=\"\"certificate\"\">R</span>\",127 min,\"Crime, Drama, Mystery\",8.6,\"1,578,740\",\"1,578,740\"\n",
            "32,Terminator 2: Judgment Day,(1991),\"<span class=\"\"certificate\"\">R</span>\",137 min,\"Action, Sci-Fi\",8.6,\"1,064,250\",\"1,064,250\"\n",
            "33,The Silence of the Lambs,(1991),\"<span class=\"\"certificate\"\">R</span>\",118 min,\"Crime, Drama, Thriller\",8.6,\"1,379,739\",\"1,379,739\"\n",
            "34,Star Wars,(1977),\"<span class=\"\"certificate\"\">PG</span>\",121 min,\"Action, Adventure, Fantasy\",8.6,\"1,316,594\",\"1,316,594\"\n",
            "35,Hara-Kiri,(1962),\"<span class=\"\"certificate\"\">Not Rated</span>\",133 min,\"Action, Drama, Mystery\",8.6,\"53,384\",\"53,384\"\n",
            "36,Seven Samurai,(1954),\"<span class=\"\"certificate\"\">Not Rated</span>\",207 min,\"Action, Drama\",8.6,\"337,902\",\"337,902\"\n",
            "37,It's a Wonderful Life,(1946),\"<span class=\"\"certificate\"\">PG</span>\",130 min,\"Drama, Family, Fantasy\",8.6,\"443,291\",\"443,291\"\n",
            "38,Asuran,(2019),\"<span class=\"\"certificate\"\">Not Rated</span>\",141 min,\"Action, Drama\",8.5,\"26,003\",\"26,003\"\n",
            "39,96,(II) (2018),\"<span class=\"\"certificate\"\">Not Rated</span>\",158 min,\"Drama, Romance\",8.5,\"28,342\",\"28,342\"\n",
            "40,Parasite,(2019),\"<span class=\"\"certificate\"\">R</span>\",132 min,\"Comedy, Drama, Horror\",8.5,\"735,051\",\"735,051\"\n",
            "41,Avengers: Infinity War,(2018),\"<span class=\"\"certificate\"\">PG-13</span>\",149 min,\"Action, Adventure, Sci-Fi\",8.5,\"1,003,174\",\"1,003,174\"\n",
            "42,Whiplash,(2014),\"<span class=\"\"certificate\"\">R</span>\",106 min,\"Drama, Music\",8.5,\"803,314\",\"803,314\"\n",
            "43,The Intouchables,(2011),\"<span class=\"\"certificate\"\">R</span>\",112 min,\"Biography, Comedy, Drama\",8.5,\"828,030\",\"828,030\"\n",
            "44,Spider-Man: No Way Home,(2021),\"<span class=\"\"certificate\"\">PG-13</span>\",148 min,\"Action, Adventure, Fantasy\",8.5,\"588,437\",\"588,437\"\n",
            "45,The Prestige,(2006),\"<span class=\"\"certificate\"\">PG-13</span>\",130 min,\"Drama, Mystery, Thriller\",8.5,\"1,288,831\",\"1,288,831\"\n",
            "46,The Departed,(2006),\"<span class=\"\"certificate\"\">R</span>\",151 min,\"Crime, Drama, Thriller\",8.5,\"1,280,978\",\"1,280,978\"\n",
            "47,The Pianist,(2002),\"<span class=\"\"certificate\"\">R</span>\",150 min,\"Biography, Drama, Music\",8.5,\"801,746\",\"801,746\"\n",
            "48,Memento,(2000),\"<span class=\"\"certificate\"\">R</span>\",113 min,\"Mystery, Thriller\",8.5,\"1,203,257\",\"1,203,257\"\n",
            "49,Gladiator,(2000),\"<span class=\"\"certificate\"\">R</span>\",155 min,\"Action, Adventure, Drama\",8.5,\"1,448,073\",\"1,448,073\"\n",
            "50,American History X,(1998),\"<span class=\"\"certificate\"\">R</span>\",119 min,Drama,8.5,\"1,093,186\",\"1,093,186\"\n",
            "51,The Usual Suspects,(1995),\"<span class=\"\"certificate\"\">R</span>\",106 min,\"Crime, Drama, Mystery\",8.5,\"1,057,490\",\"1,057,490\"\n",
            "52,Léon: The Professional,(1994),\"<span class=\"\"certificate\"\">R</span>\",110 min,\"Action, Crime, Drama\",8.5,\"1,122,002\",\"1,122,002\"\n",
            "53,The Lion King,(1994),\"<span class=\"\"certificate\"\">G</span>\",88 min,\"Animation, Adventure, Drama\",8.5,\"1,019,441\",\"1,019,441\"\n",
            "54,Cinema Paradiso,(1988),\"<span class=\"\"certificate\"\">R</span>\",155 min,\"Drama, Romance\",8.5,\"253,536\",\"253,536\"\n",
            "55,Grave of the Fireflies,(1988),\"<span class=\"\"certificate\"\">Not Rated</span>\",89 min,\"Animation, Drama, War\",8.5,\"265,215\",\"265,215\"\n",
            "56,Back to the Future,(1985),\"<span class=\"\"certificate\"\">PG</span>\",116 min,\"Adventure, Comedy, Sci-Fi\",8.5,\"1,155,376\",\"1,155,376\"\n",
            "57,Apocalypse Now,(1979),\"<span class=\"\"certificate\"\">R</span>\",147 min,\"Drama, Mystery, War\",8.5,\"648,603\",\"648,603\"\n",
            "58,Alien,(1979),\"<span class=\"\"certificate\"\">R</span>\",117 min,\"Horror, Sci-Fi\",8.5,\"850,183\",\"850,183\"\n",
            "59,Once Upon a Time in the West,(1968),\"<span class=\"\"certificate\"\">PG-13</span>\",165 min,Western,8.5,\"322,421\",\"322,421\"\n",
            "60,Psycho,(1960),\"<span class=\"\"certificate\"\">R</span>\",109 min,\"Horror, Mystery, Thriller\",8.5,\"650,844\",\"650,844\"\n",
            "61,Rear Window,(1954),\"<span class=\"\"certificate\"\">PG</span>\",112 min,\"Mystery, Thriller\",8.5,\"479,017\",\"479,017\"\n",
            "62,Casablanca,(1942),\"<span class=\"\"certificate\"\">PG</span>\",102 min,\"Drama, Romance, War\",8.5,\"557,779\",\"557,779\"\n",
            "63,Modern Times,(1936),\"<span class=\"\"certificate\"\">G</span>\",87 min,\"Comedy, Drama, Romance\",8.5,\"236,371\",\"236,371\"\n",
            "64,City Lights,(1931),\"<span class=\"\"certificate\"\">G</span>\",87 min,\"Comedy, Drama, Romance\",8.5,\"181,010\",\"181,010\"\n",
            "65,Hamilton,(2020),\"<span class=\"\"certificate\"\">PG-13</span>\",160 min,\"Biography, Drama, History\",8.4,\"85,784\",\"85,784\"\n",
            "66,Capernaum,(2018),\"<span class=\"\"certificate\"\">R</span>\",126 min,Drama,8.4,\"83,832\",\"83,832\"\n",
            "67,K.G.F: Chapter 1,(2018),\"<span class=\"\"certificate\"\">Not Rated</span>\",156 min,\"Action, Crime, Drama\",8.4,\"64,823\",\"64,823\"\n",
            "68,Joker,(I) (2019),\"<span class=\"\"certificate\"\">R</span>\",122 min,\"Crime, Drama, Thriller\",8.4,\"1,177,934\",\"1,177,934\"\n",
            "69,Raatchasan,(2018),\"<span class=\"\"certificate\"\">Not Rated</span>\",170 min,\"Crime, Drama, Mystery\",8.4,\"39,008\",\"39,008\"\n",
            "70,Ayla: The Daughter of War,(2017),,125 min,\"Biography, Drama, History\",8.4,\"38,738\",\"38,738\"\n",
            "71,Your Name.,(2016),\"<span class=\"\"certificate\"\">PG</span>\",106 min,\"Animation, Drama, Fantasy\",8.4,\"247,387\",\"247,387\"\n",
            "72,Dangal,(2016),\"<span class=\"\"certificate\"\">Not Rated</span>\",161 min,\"Action, Biography, Drama\",8.4,\"181,364\",\"181,364\"\n",
            "73,Spider-Man: Into the Spider-Verse,(2018),\"<span class=\"\"certificate\"\">PG</span>\",117 min,\"Animation, Action, Adventure\",8.4,\"483,831\",\"483,831\"\n",
            "74,Avengers: Endgame,(2019),\"<span class=\"\"certificate\"\">PG-13</span>\",181 min,\"Action, Adventure, Drama\",8.4,\"1,038,972\",\"1,038,972\"\n",
            "75,Coco,(I) (2017),\"<span class=\"\"certificate\"\">PG</span>\",105 min,\"Animation, Adventure, Comedy\",8.4,\"472,767\",\"472,767\"\n",
            "76,Django Unchained,(2012),\"<span class=\"\"certificate\"\">R</span>\",165 min,\"Drama, Western\",8.4,\"1,487,829\",\"1,487,829\"\n",
            "77,The Dark Knight Rises,(2012),\"<span class=\"\"certificate\"\">PG-13</span>\",164 min,\"Action, Crime, Drama\",8.4,\"1,644,292\",\"1,644,292\"\n",
            "78,3 Idiots,(2009),\"<span class=\"\"certificate\"\">PG-13</span>\",170 min,\"Comedy, Drama\",8.4,\"383,951\",\"383,951\"\n",
            "79,Like Stars on Earth,(2007),\"<span class=\"\"certificate\"\">PG</span>\",165 min,\"Drama, Family\",8.4,\"187,731\",\"187,731\"\n",
            "80,WALL·E,(2008),\"<span class=\"\"certificate\"\">G</span>\",98 min,\"Animation, Adventure, Family\",8.4,\"1,079,339\",\"1,079,339\"\n",
            "81,The Lives of Others,(2006),\"<span class=\"\"certificate\"\">R</span>\",137 min,\"Drama, Mystery, Thriller\",8.4,\"382,166\",\"382,166\"\n",
            "82,Oldboy,(2003),\"<span class=\"\"certificate\"\">R</span>\",120 min,\"Action, Drama, Mystery\",8.4,\"559,618\",\"559,618\"\n",
            "83,American Beauty,(1999),\"<span class=\"\"certificate\"\">R</span>\",122 min,Drama,8.4,\"1,129,019\",\"1,129,019\"\n",
            "84,Princess Mononoke,(1997),\"<span class=\"\"certificate\"\">PG-13</span>\",134 min,\"Animation, Action, Adventure\",8.4,\"380,172\",\"380,172\"\n",
            "85,Braveheart,(1995),\"<span class=\"\"certificate\"\">R</span>\",178 min,\"Biography, Drama, History\",8.4,\"1,013,980\",\"1,013,980\"\n",
            "86,Come and See,(1985),\"<span class=\"\"certificate\"\">Not Rated</span>\",142 min,\"Drama, Thriller, War\",8.4,\"74,162\",\"74,162\"\n",
            "87,Aliens,(1986),\"<span class=\"\"certificate\"\">R</span>\",137 min,\"Action, Adventure, Sci-Fi\",8.4,\"697,209\",\"697,209\"\n",
            "88,Amadeus,(1984),\"<span class=\"\"certificate\"\">R</span>\",160 min,\"Biography, Drama, Music\",8.4,\"392,352\",\"392,352\"\n",
            "89,Indiana Jones and the Raiders of the Lost Ark,(1981),\"<span class=\"\"certificate\"\">PG</span>\",115 min,\"Action, Adventure\",8.4,\"940,616\",\"940,616\"\n",
            "90,The Boat,(1981),\"<span class=\"\"certificate\"\">R</span>\",149 min,\"Drama, War\",8.4,\"246,376\",\"246,376\"\n",
            "91,The Shining,(1980),\"<span class=\"\"certificate\"\">R</span>\",146 min,\"Drama, Horror\",8.4,\"980,598\",\"980,598\"\n",
            "92,High and Low,(1963),\"<span class=\"\"certificate\"\">Not Rated</span>\",143 min,\"Crime, Drama, Mystery\",8.4,\"42,402\",\"42,402\"\n",
            "93,Dr. Strangelove or: How I Learned to Stop Worrying and Love the Bomb,(1964),\"<span class=\"\"certificate\"\">PG</span>\",95 min,\"Comedy, War\",8.4,\"478,688\",\"478,688\"\n",
            "94,Witness for the Prosecution,(1957),\"<span class=\"\"certificate\"\">Approved</span>\",116 min,\"Crime, Drama, Mystery\",8.4,\"121,525\",\"121,525\"\n",
            "95,Paths of Glory,(1957),\"<span class=\"\"certificate\"\">Approved</span>\",88 min,\"Drama, War\",8.4,\"192,611\",\"192,611\"\n",
            "96,Sunset Blvd.,(1950),\"<span class=\"\"certificate\"\">Passed</span>\",110 min,\"Drama, Film-Noir\",8.4,\"216,873\",\"216,873\"\n",
            "97,The Great Dictator,(1940),\"<span class=\"\"certificate\"\">G</span>\",125 min,\"Comedy, Drama, War\",8.4,\"219,421\",\"219,421\"\n",
            "98,Chhichhore,(2019),\"<span class=\"\"certificate\"\">Not Rated</span>\",143 min,\"Comedy, Drama, Romance\",8.3,\"49,469\",\"49,469\"\n",
            "99,1917,(2019),\"<span class=\"\"certificate\"\">R</span>\",119 min,\"Action, Drama, War\",8.3,\"544,277\",\"544,277\"\n",
            "\n"
          ]
        }
      ]
    }
  ],
  "metadata": {
    "colab": {
      "collapsed_sections": [],
      "name": "Web Scraping Movies.ipynb",
      "provenance": [],
      "authorship_tag": "ABX9TyMSMrjI+P94t2aAsmi9Y+Sg",
      "include_colab_link": true
    },
    "kernelspec": {
      "display_name": "Python 3",
      "name": "python3"
    },
    "language_info": {
      "name": "python"
    }
  },
  "nbformat": 4,
  "nbformat_minor": 0
}