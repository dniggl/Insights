{
  "nbformat": 4,
  "nbformat_minor": 0,
  "metadata": {
    "colab": {
      "name": "Login Script.ipynb",
      "provenance": [],
      "collapsed_sections": [],
      "authorship_tag": "ABX9TyOnbNN2i+IJsBBH0oXdGzRW",
      "include_colab_link": true
    },
    "kernelspec": {
      "name": "python3",
      "display_name": "Python 3"
    },
    "language_info": {
      "name": "python"
    }
  },
  "cells": [
    {
      "cell_type": "markdown",
      "metadata": {
        "id": "view-in-github",
        "colab_type": "text"
      },
      "source": [
        "<a href=\"https://colab.research.google.com/github/dniggl/Insights/blob/main/Login_Script.ipynb\" target=\"_parent\"><img src=\"https://colab.research.google.com/assets/colab-badge.svg\" alt=\"Open In Colab\"/></a>"
      ]
    },
    {
      "cell_type": "code",
      "execution_count": null,
      "metadata": {
        "id": "LWeBSMAfxaW6"
      },
      "outputs": [],
      "source": [
        "# Automate login to GitHub website.  "
      ]
    },
    {
      "cell_type": "code",
      "source": [
        "!pip3 install selenium"
      ],
      "metadata": {
        "id": "RcAlFopR-wBZ"
      },
      "execution_count": null,
      "outputs": []
    },
    {
      "cell_type": "code",
      "source": [
        "# Import the libraries.\n",
        "from selenium import webdriver\n",
        "from selenium.webdriver.support.ui import WebDriverWait\n",
        "from selenium.webdriver.common.by import By"
      ],
      "metadata": {
        "id": "I9LLFdNGx0Sx"
      },
      "execution_count": null,
      "outputs": []
    },
    {
      "cell_type": "code",
      "source": [
        "# Create variables for login credentials.\n",
        "username = \"your username\"\n",
        "password = \"your password\""
      ],
      "metadata": {
        "id": "zSFZ7E56x8Q_"
      },
      "execution_count": null,
      "outputs": []
    },
    {
      "cell_type": "code",
      "source": [
        "# Install the chrome web driver from selenium. \n",
        "!apt-get update \n",
        "!apt install chromium-chromedriver\n",
        "\n",
        "chrome_options = webdriver.ChromeOptions()\n",
        "chrome_options.add_argument('--headless')\n",
        "chrome_options.add_argument('--no-sandbox')\n",
        "chrome_options.add_argument('--disable-dev-shm-usage')\n",
        "driver = webdriver.Chrome('chromedriver',chrome_options=chrome_options)"
      ],
      "metadata": {
        "id": "LpJDHpKfyC2l"
      },
      "execution_count": null,
      "outputs": []
    },
    {
      "cell_type": "code",
      "source": [
        "# Launch the browser and open the github URL in your web driver.\n",
        "driver.get(\"https://github.com/login\")\n",
        "\n",
        "# Find the username/email field and send the username to the input field.\n",
        "uname = driver.find_element(\"id\", \"login_field\") \n",
        "uname.send_keys(\"username\")\n",
        "\n",
        "# Find the password input field and send the password to the input field.\n",
        "pword = driver.find_element(\"id\", \"password\") \n",
        "pword.send_keys(\"password\")\n",
        "\n",
        "# Click sign in button to login the website.\n",
        "driver.find_element(\"name\", \"commit\").click()"
      ],
      "metadata": {
        "id": "YYBPMakazQJr"
      },
      "execution_count": null,
      "outputs": []
    },
    {
      "cell_type": "code",
      "source": [
        "# Wait for login process to complete. \n",
        "WebDriverWait(driver=driver, timeout=10).until(\n",
        "    lambda x: x.execute_script(\"return document.readyState === 'complete'\")\n",
        ")\n",
        "# Verify that the login was successful.\n",
        "error_message = \"Incorrect username or password.\"\n",
        "# Retrieve any errors found. \n",
        "errors = driver.find_elements(By.CLASS_NAME, \"flash-error\")\n",
        "\n",
        "# When errors are found, the login will fail. \n",
        "if any(error_message in e.text for e in errors): \n",
        "    print(\"[!] Login failed\")\n",
        "else:\n",
        "    print(\"[+] Login successful\")"
      ],
      "metadata": {
        "colab": {
          "base_uri": "https://localhost:8080/"
        },
        "id": "0-SC2TuK1Mzp",
        "outputId": "beccf924-c24d-44eb-b072-b238ce31d0dd"
      },
      "execution_count": null,
      "outputs": [
        {
          "output_type": "stream",
          "name": "stdout",
          "text": [
            "[+] Login successful\n"
          ]
        }
      ]
    },
    {
      "cell_type": "code",
      "source": [
        "# Close the driver\n",
        "driver.close()"
      ],
      "metadata": {
        "id": "G9Y6nNNT1f6r"
      },
      "execution_count": null,
      "outputs": []
    }
  ]
}
