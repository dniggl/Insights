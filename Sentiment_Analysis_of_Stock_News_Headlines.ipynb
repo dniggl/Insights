{
  "nbformat": 4,
  "nbformat_minor": 0,
  "metadata": {
    "colab": {
      "name": "Sentiment Analysis of Stock News Headlines.ipynb",
      "provenance": [],
      "collapsed_sections": [],
      "authorship_tag": "ABX9TyO374yfBsZ4LETj2W7sw4//",
      "include_colab_link": true
    },
    "kernelspec": {
      "name": "python3",
      "display_name": "Python 3"
    },
    "language_info": {
      "name": "python"
    }
  },
  "cells": [
    {
      "cell_type": "markdown",
      "metadata": {
        "id": "view-in-github",
        "colab_type": "text"
      },
      "source": [
        "<a href=\"https://colab.research.google.com/github/dniggl/Insights/blob/main/Sentiment_Analysis_of_Stock_News_Headlines.ipynb\" target=\"_parent\"><img src=\"https://colab.research.google.com/assets/colab-badge.svg\" alt=\"Open In Colab\"/></a>"
      ]
    },
    {
      "cell_type": "code",
      "metadata": {
        "id": "bEkrk8RutUUG"
      },
      "source": [
        "# Predict sentiments on stock news headlines and compare to stock gains/losses.  "
      ],
      "execution_count": null,
      "outputs": []
    },
    {
      "cell_type": "code",
      "metadata": {
        "id": "m7OkzEt_tVDa",
        "colab": {
          "base_uri": "https://localhost:8080/"
        },
        "outputId": "905983b0-d9a9-4465-dfbd-8b5d365d3df3"
      },
      "source": [
        "# Import the required software libraries.\n",
        "from urllib.request import urlopen, Request\n",
        "from bs4 import BeautifulSoup\n",
        "from nltk.sentiment.vader import SentimentIntensityAnalyzer\n",
        "import nltk\n",
        "nltk.download('vader_lexicon')\n",
        "import pandas as pd\n",
        "import matplotlib.pyplot as plt\n"
      ],
      "execution_count": null,
      "outputs": [
        {
          "output_type": "stream",
          "name": "stdout",
          "text": [
            "[nltk_data] Downloading package vader_lexicon to /root/nltk_data...\n",
            "[nltk_data]   Package vader_lexicon is already up-to-date!\n"
          ]
        }
      ]
    },
    {
      "cell_type": "markdown",
      "source": [
        "**Collect and Parse the Data**"
      ],
      "metadata": {
        "id": "TIbSLG9JhCYm"
      }
    },
    {
      "cell_type": "code",
      "metadata": {
        "id": "SI-eaWvwta8n"
      },
      "source": [
        "# Create an array of stock symbols. Create the FinViz url where the data will  \n",
        "# be parsed from.\n",
        "\n",
        "symbols = ['MSFT', 'FB', 'NVDA']\n",
        "finviz_url = 'https://finviz.com/quote.ashx?t='"
      ],
      "execution_count": null,
      "outputs": []
    },
    {
      "cell_type": "markdown",
      "source": [
        "Beautiful Soup is a Python library that is used for web scraping purposes to pull the data out of HTML and XML files. It creates a parse tree from page source code that can be used to extract data in a hierarchical and more readable manner.\n"
      ],
      "metadata": {
        "id": "dGStY1EmbJq_"
      }
    },
    {
      "cell_type": "code",
      "metadata": {
        "id": "czCCHdalt_b9"
      },
      "source": [
        "# We will use the Request module in Python to send the HTTP requests.\n",
        "# The HTTP request returns a response object with all the response data.  \n",
        "# The response object is input to BeautifulSoup where it will be parsed.  \n",
        "# The HTML element with id 'news-table' contains all of the news articles and \n",
        "# we are saving that element to a dictionary.  \n",
        "\n",
        "news_tables = {}\n",
        "for symbol in symbols:\n",
        "    url = finviz_url + symbol\n",
        "\n",
        "    request = Request(url=url, headers={'user-agent': 'my-app'})\n",
        "    response = urlopen(request)\n",
        "\n",
        "    html = BeautifulSoup(response, features='html.parser')\n",
        "    news_table = html.find(id='news-table')\n",
        "    news_tables[symbol] = news_table"
      ],
      "execution_count": null,
      "outputs": []
    },
    {
      "cell_type": "code",
      "source": [
        "# Our parsing code simply manipulates the news-table we saved while gathering \n",
        "# the results and parses out the specific values we need. We're looking for all\n",
        "# the table rows in the table of news articles and gathering the title, date \n",
        "# and time of each article published. Once we have those values, we can save \n",
        "# each piece of data to our parsed_data array.\n",
        "\n",
        "parsed_data = []\n",
        "for symbol, news_table in news_tables.items():\n",
        "    for row in news_table.findAll('tr'):\n",
        "        title = row.a.text\n",
        "        date_data = row.td.text.split(' ')\n",
        "\n",
        "        if len(date_data) == 1:\n",
        "            time = date_data[0]\n",
        "        else:\n",
        "            date = date_data[0]\n",
        "            time = date_data[1]\n",
        "\n",
        "        parsed_data.append([symbol, date, time, title])\n"
      ],
      "metadata": {
        "id": "z_eagCaUjlIa"
      },
      "execution_count": null,
      "outputs": []
    },
    {
      "cell_type": "code",
      "source": [
        "# We convert our parsed_data array to a Pandas dataframe and set the Date column\n",
        "# to be of the Python Datetime format. This will allow us to easily apply sentiment\n",
        "# analysis and visualize the data with MatPlotLib.\n",
        "\n",
        "news = pd.DataFrame(parsed_data, columns=['symbol', 'date', 'time', 'title'])\n",
        "news['date'] = pd.to_datetime(news.date).dt.date"
      ],
      "metadata": {
        "id": "taLqX3BQkyPo"
      },
      "execution_count": null,
      "outputs": []
    },
    {
      "cell_type": "markdown",
      "source": [
        "**Apply Sentiment Analysis**"
      ],
      "metadata": {
        "id": "r5EhdNGGATrb"
      }
    },
    {
      "cell_type": "markdown",
      "source": [
        "Sentiment analysis is a text analysis method that detects polarity (positive or negative opinion) within text. We will use the NLTK (Natural Language Toolkit)  submodule VADER for text sentiment analysis. \n",
        "\n",
        "VADER ( Valence Aware Dictionary for Sentiment Reasoning) is a module used for text sentiment analysis that is sensitive to both polarity (positive/negative) and intensity (strength) of emotion. It is applied directly to unlabeled text data.\n",
        "\n",
        "VADER’s SentimentIntensityAnalyzer() takes in a string and returns a dictionary of scores in each of the following categories:\n",
        "* negative\n",
        "* neutral\n",
        "* positive\n",
        "* compound (computed by normalizing the scores above)\n",
        "\n",
        "For example, the following text would return these output  scores:                       \n",
        "'This was the best, most awesome movie EVER MADE!!!'                       \n",
        "OUTPUT-{'neg': 0.0, 'neu': 0.425, 'pos': 0.575, 'compound': 0.8877}\n",
        "\n",
        "The scores range between -1 to 1, with -1 being strongly negative and +1 being strongly positive. We will use the compound score to determine if a stock's article is positive or negative. "
      ],
      "metadata": {
        "id": "QPD4G7ypjpNe"
      }
    },
    {
      "cell_type": "code",
      "source": [
        "# initialize the SentimentIntensityAnalyzer.\n",
        "vader = SentimentIntensityAnalyzer()\n",
        "\n",
        "# Create a lambda function that takes in a title string, applies the \n",
        "# vader.polarity_scores() function on it to get the results and then \n",
        "# return back the compound score. Using the apply function in Pandas, \n",
        "# we can create a new 'compound' column in the data frame with all the compound \n",
        "# scores from each title.\n",
        "\n",
        "function = lambda title: vader.polarity_scores(title)['compound']\n",
        "news['compound'] = news['title'].apply(function)"
      ],
      "metadata": {
        "id": "pTrsINuplQXA"
      },
      "execution_count": null,
      "outputs": []
    },
    {
      "cell_type": "code",
      "source": [
        "news.head(5)"
      ],
      "metadata": {
        "colab": {
          "base_uri": "https://localhost:8080/",
          "height": 206
        },
        "id": "ZtxdfaOZ_ana",
        "outputId": "f6f77088-a188-4e2a-e353-aa2eaac1b4f8"
      },
      "execution_count": null,
      "outputs": [
        {
          "output_type": "execute_result",
          "data": {
            "text/html": [
              "\n",
              "  <div id=\"df-7013fd98-9465-4cee-8f4e-309f2cfaec86\">\n",
              "    <div class=\"colab-df-container\">\n",
              "      <div>\n",
              "<style scoped>\n",
              "    .dataframe tbody tr th:only-of-type {\n",
              "        vertical-align: middle;\n",
              "    }\n",
              "\n",
              "    .dataframe tbody tr th {\n",
              "        vertical-align: top;\n",
              "    }\n",
              "\n",
              "    .dataframe thead th {\n",
              "        text-align: right;\n",
              "    }\n",
              "</style>\n",
              "<table border=\"1\" class=\"dataframe\">\n",
              "  <thead>\n",
              "    <tr style=\"text-align: right;\">\n",
              "      <th></th>\n",
              "      <th>symbol</th>\n",
              "      <th>date</th>\n",
              "      <th>time</th>\n",
              "      <th>title</th>\n",
              "      <th>compound</th>\n",
              "    </tr>\n",
              "  </thead>\n",
              "  <tbody>\n",
              "    <tr>\n",
              "      <th>0</th>\n",
              "      <td>MSFT</td>\n",
              "      <td>2022-02-10</td>\n",
              "      <td>12:52AM</td>\n",
              "      <td>Sony Develops Toughest AI Opponent Ever for Ne...</td>\n",
              "      <td>-0.0772</td>\n",
              "    </tr>\n",
              "    <tr>\n",
              "      <th>1</th>\n",
              "      <td>MSFT</td>\n",
              "      <td>2022-02-09</td>\n",
              "      <td>06:59PM</td>\n",
              "      <td>Taking Stock of the Earnings Picture Amid the ...</td>\n",
              "      <td>0.0000</td>\n",
              "    </tr>\n",
              "    <tr>\n",
              "      <th>2</th>\n",
              "      <td>MSFT</td>\n",
              "      <td>2022-02-09</td>\n",
              "      <td>06:31PM</td>\n",
              "      <td>Microsoft Says Call of Duty Is Staying on Play...</td>\n",
              "      <td>0.0000</td>\n",
              "    </tr>\n",
              "    <tr>\n",
              "      <th>3</th>\n",
              "      <td>MSFT</td>\n",
              "      <td>2022-02-09</td>\n",
              "      <td>05:22PM</td>\n",
              "      <td>Zynga Revenue Beats Estimates on Omicron Surge</td>\n",
              "      <td>0.0000</td>\n",
              "    </tr>\n",
              "    <tr>\n",
              "      <th>4</th>\n",
              "      <td>MSFT</td>\n",
              "      <td>2022-02-09</td>\n",
              "      <td>03:39PM</td>\n",
              "      <td>Is Roblox Stock A Buy Right Now After Hitting ...</td>\n",
              "      <td>-0.2023</td>\n",
              "    </tr>\n",
              "  </tbody>\n",
              "</table>\n",
              "</div>\n",
              "      <button class=\"colab-df-convert\" onclick=\"convertToInteractive('df-7013fd98-9465-4cee-8f4e-309f2cfaec86')\"\n",
              "              title=\"Convert this dataframe to an interactive table.\"\n",
              "              style=\"display:none;\">\n",
              "        \n",
              "  <svg xmlns=\"http://www.w3.org/2000/svg\" height=\"24px\"viewBox=\"0 0 24 24\"\n",
              "       width=\"24px\">\n",
              "    <path d=\"M0 0h24v24H0V0z\" fill=\"none\"/>\n",
              "    <path d=\"M18.56 5.44l.94 2.06.94-2.06 2.06-.94-2.06-.94-.94-2.06-.94 2.06-2.06.94zm-11 1L8.5 8.5l.94-2.06 2.06-.94-2.06-.94L8.5 2.5l-.94 2.06-2.06.94zm10 10l.94 2.06.94-2.06 2.06-.94-2.06-.94-.94-2.06-.94 2.06-2.06.94z\"/><path d=\"M17.41 7.96l-1.37-1.37c-.4-.4-.92-.59-1.43-.59-.52 0-1.04.2-1.43.59L10.3 9.45l-7.72 7.72c-.78.78-.78 2.05 0 2.83L4 21.41c.39.39.9.59 1.41.59.51 0 1.02-.2 1.41-.59l7.78-7.78 2.81-2.81c.8-.78.8-2.07 0-2.86zM5.41 20L4 18.59l7.72-7.72 1.47 1.35L5.41 20z\"/>\n",
              "  </svg>\n",
              "      </button>\n",
              "      \n",
              "  <style>\n",
              "    .colab-df-container {\n",
              "      display:flex;\n",
              "      flex-wrap:wrap;\n",
              "      gap: 12px;\n",
              "    }\n",
              "\n",
              "    .colab-df-convert {\n",
              "      background-color: #E8F0FE;\n",
              "      border: none;\n",
              "      border-radius: 50%;\n",
              "      cursor: pointer;\n",
              "      display: none;\n",
              "      fill: #1967D2;\n",
              "      height: 32px;\n",
              "      padding: 0 0 0 0;\n",
              "      width: 32px;\n",
              "    }\n",
              "\n",
              "    .colab-df-convert:hover {\n",
              "      background-color: #E2EBFA;\n",
              "      box-shadow: 0px 1px 2px rgba(60, 64, 67, 0.3), 0px 1px 3px 1px rgba(60, 64, 67, 0.15);\n",
              "      fill: #174EA6;\n",
              "    }\n",
              "\n",
              "    [theme=dark] .colab-df-convert {\n",
              "      background-color: #3B4455;\n",
              "      fill: #D2E3FC;\n",
              "    }\n",
              "\n",
              "    [theme=dark] .colab-df-convert:hover {\n",
              "      background-color: #434B5C;\n",
              "      box-shadow: 0px 1px 3px 1px rgba(0, 0, 0, 0.15);\n",
              "      filter: drop-shadow(0px 1px 2px rgba(0, 0, 0, 0.3));\n",
              "      fill: #FFFFFF;\n",
              "    }\n",
              "  </style>\n",
              "\n",
              "      <script>\n",
              "        const buttonEl =\n",
              "          document.querySelector('#df-7013fd98-9465-4cee-8f4e-309f2cfaec86 button.colab-df-convert');\n",
              "        buttonEl.style.display =\n",
              "          google.colab.kernel.accessAllowed ? 'block' : 'none';\n",
              "\n",
              "        async function convertToInteractive(key) {\n",
              "          const element = document.querySelector('#df-7013fd98-9465-4cee-8f4e-309f2cfaec86');\n",
              "          const dataTable =\n",
              "            await google.colab.kernel.invokeFunction('convertToInteractive',\n",
              "                                                     [key], {});\n",
              "          if (!dataTable) return;\n",
              "\n",
              "          const docLinkHtml = 'Like what you see? Visit the ' +\n",
              "            '<a target=\"_blank\" href=https://colab.research.google.com/notebooks/data_table.ipynb>data table notebook</a>'\n",
              "            + ' to learn more about interactive tables.';\n",
              "          element.innerHTML = '';\n",
              "          dataTable['output_type'] = 'display_data';\n",
              "          await google.colab.output.renderOutput(dataTable, element);\n",
              "          const docLink = document.createElement('div');\n",
              "          docLink.innerHTML = docLinkHtml;\n",
              "          element.appendChild(docLink);\n",
              "        }\n",
              "      </script>\n",
              "    </div>\n",
              "  </div>\n",
              "  "
            ],
            "text/plain": [
              "  symbol  ... compound\n",
              "0   MSFT  ...  -0.0772\n",
              "1   MSFT  ...   0.0000\n",
              "2   MSFT  ...   0.0000\n",
              "3   MSFT  ...   0.0000\n",
              "4   MSFT  ...  -0.2023\n",
              "\n",
              "[5 rows x 5 columns]"
            ]
          },
          "metadata": {},
          "execution_count": 15
        }
      ]
    },
    {
      "cell_type": "markdown",
      "source": [
        "**Visualize the Sentiments**"
      ],
      "metadata": {
        "id": "lVgrcG6odzy6"
      }
    },
    {
      "cell_type": "code",
      "source": [
        "# We will group the data frame on the symbol and date of each row, and then visualize  \n",
        "# the average compound score for each day. We take the cross section of the 'compound' \n",
        "# rows, flip the data frame so that we have the dates on the x-axis and then plot it \n",
        "# as a Bar chart.\n",
        "                                       \n",
        "plt.rcParams['figure.figsize'] = [9, 6]\n",
        "news_mean = news.groupby(['symbol', 'date']).mean().unstack()\n",
        "news_mean = news_mean.xs('compound', axis=\"columns\").transpose()\n",
        "news_mean.plot(kind='bar')\n",
        "plt.show()"
      ],
      "metadata": {
        "colab": {
          "base_uri": "https://localhost:8080/",
          "height": 436
        },
        "id": "kceIjDrboUE5",
        "outputId": "7d3dcc10-d5d9-4e7d-d596-6e15c4ba77b3"
      },
      "execution_count": null,
      "outputs": [
        {
          "output_type": "display_data",
          "data": {
            "image/png": "[encoded data removed]",
            "text/plain": [
              "<Figure size 648x432 with 1 Axes>"
            ]
          },
          "metadata": {
            "needs_background": "light"
          }
        }
      ]
    },
    {
      "cell_type": "markdown",
      "source": [
        "\n",
        "\n",
        "**Compare Sentiments to Price Variances**"
      ],
      "metadata": {
        "id": "TiLe2o1_Pyp2"
      }
    },
    {
      "cell_type": "markdown",
      "source": [
        "Let's now look at the sentiment scores and compare them to the price variances (difference between close price and open price) for each day. Recall that compound scores are computed by normalizing negative, neutral and positive scores. The price variances represent the dollar gain or loss for the day. We will select Nvidia stock prices for this analysis. We will ignore 2/5/2022 and 2/6/2022 dates because these are Saturday and Sunday when markets are closed.  "
      ],
      "metadata": {
        "id": "OpZScQ_pjLUS"
      }
    },
    {
      "cell_type": "code",
      "source": [
        "# We will use the Yahoo! Finance Market Downloader to get the data for Nvidia stock.\n",
        "# Install yfinance.\n",
        "!pip install yfinance\n",
        "import yfinance as yf"
      ],
      "metadata": {
        "id": "lWoTZ36iPNsz"
      },
      "execution_count": null,
      "outputs": []
    },
    {
      "cell_type": "code",
      "source": [
        "# Get data for Nvidia corporation. \n",
        "nvidia = yf.download('NVDA',start='2022-02-02',  end='2022-02-09',progress=False)[['Open', 'Close', 'Volume']]\n",
        "nvidia.reset_index(inplace=True)"
      ],
      "metadata": {
        "id": "Z6ife_-k-qSZ"
      },
      "execution_count": null,
      "outputs": []
    },
    {
      "cell_type": "code",
      "source": [
        "nvidia.head(7)"
      ],
      "metadata": {
        "colab": {
          "base_uri": "https://localhost:8080/",
          "height": 206
        },
        "id": "uGXo9DTkOz3T",
        "outputId": "26cf6e00-be6f-46f0-de47-76b2796a53e1"
      },
      "execution_count": null,
      "outputs": [
        {
          "output_type": "execute_result",
          "data": {
            "text/html": [
              "\n",
              "  <div id=\"df-6cd99899-9d42-4217-a0b3-4e6acadee09d\">\n",
              "    <div class=\"colab-df-container\">\n",
              "      <div>\n",
              "<style scoped>\n",
              "    .dataframe tbody tr th:only-of-type {\n",
              "        vertical-align: middle;\n",
              "    }\n",
              "\n",
              "    .dataframe tbody tr th {\n",
              "        vertical-align: top;\n",
              "    }\n",
              "\n",
              "    .dataframe thead th {\n",
              "        text-align: right;\n",
              "    }\n",
              "</style>\n",
              "<table border=\"1\" class=\"dataframe\">\n",
              "  <thead>\n",
              "    <tr style=\"text-align: right;\">\n",
              "      <th></th>\n",
              "      <th>Date</th>\n",
              "      <th>Open</th>\n",
              "      <th>Close</th>\n",
              "      <th>Volume</th>\n",
              "    </tr>\n",
              "  </thead>\n",
              "  <tbody>\n",
              "    <tr>\n",
              "      <th>0</th>\n",
              "      <td>2022-02-02</td>\n",
              "      <td>257.940002</td>\n",
              "      <td>252.419998</td>\n",
              "      <td>54341900</td>\n",
              "    </tr>\n",
              "    <tr>\n",
              "      <th>1</th>\n",
              "      <td>2022-02-03</td>\n",
              "      <td>244.580002</td>\n",
              "      <td>239.479996</td>\n",
              "      <td>41017800</td>\n",
              "    </tr>\n",
              "    <tr>\n",
              "      <th>2</th>\n",
              "      <td>2022-02-04</td>\n",
              "      <td>239.720001</td>\n",
              "      <td>243.190002</td>\n",
              "      <td>35432800</td>\n",
              "    </tr>\n",
              "    <tr>\n",
              "      <th>3</th>\n",
              "      <td>2022-02-07</td>\n",
              "      <td>243.720001</td>\n",
              "      <td>247.279999</td>\n",
              "      <td>37686800</td>\n",
              "    </tr>\n",
              "    <tr>\n",
              "      <th>4</th>\n",
              "      <td>2022-02-08</td>\n",
              "      <td>243.589996</td>\n",
              "      <td>251.080002</td>\n",
              "      <td>40901100</td>\n",
              "    </tr>\n",
              "  </tbody>\n",
              "</table>\n",
              "</div>\n",
              "      <button class=\"colab-df-convert\" onclick=\"convertToInteractive('df-6cd99899-9d42-4217-a0b3-4e6acadee09d')\"\n",
              "              title=\"Convert this dataframe to an interactive table.\"\n",
              "              style=\"display:none;\">\n",
              "        \n",
              "  <svg xmlns=\"http://www.w3.org/2000/svg\" height=\"24px\"viewBox=\"0 0 24 24\"\n",
              "       width=\"24px\">\n",
              "    <path d=\"M0 0h24v24H0V0z\" fill=\"none\"/>\n",
              "    <path d=\"M18.56 5.44l.94 2.06.94-2.06 2.06-.94-2.06-.94-.94-2.06-.94 2.06-2.06.94zm-11 1L8.5 8.5l.94-2.06 2.06-.94-2.06-.94L8.5 2.5l-.94 2.06-2.06.94zm10 10l.94 2.06.94-2.06 2.06-.94-2.06-.94-.94-2.06-.94 2.06-2.06.94z\"/><path d=\"M17.41 7.96l-1.37-1.37c-.4-.4-.92-.59-1.43-.59-.52 0-1.04.2-1.43.59L10.3 9.45l-7.72 7.72c-.78.78-.78 2.05 0 2.83L4 21.41c.39.39.9.59 1.41.59.51 0 1.02-.2 1.41-.59l7.78-7.78 2.81-2.81c.8-.78.8-2.07 0-2.86zM5.41 20L4 18.59l7.72-7.72 1.47 1.35L5.41 20z\"/>\n",
              "  </svg>\n",
              "      </button>\n",
              "      \n",
              "  <style>\n",
              "    .colab-df-container {\n",
              "      display:flex;\n",
              "      flex-wrap:wrap;\n",
              "      gap: 12px;\n",
              "    }\n",
              "\n",
              "    .colab-df-convert {\n",
              "      background-color: #E8F0FE;\n",
              "      border: none;\n",
              "      border-radius: 50%;\n",
              "      cursor: pointer;\n",
              "      display: none;\n",
              "      fill: #1967D2;\n",
              "      height: 32px;\n",
              "      padding: 0 0 0 0;\n",
              "      width: 32px;\n",
              "    }\n",
              "\n",
              "    .colab-df-convert:hover {\n",
              "      background-color: #E2EBFA;\n",
              "      box-shadow: 0px 1px 2px rgba(60, 64, 67, 0.3), 0px 1px 3px 1px rgba(60, 64, 67, 0.15);\n",
              "      fill: #174EA6;\n",
              "    }\n",
              "\n",
              "    [theme=dark] .colab-df-convert {\n",
              "      background-color: #3B4455;\n",
              "      fill: #D2E3FC;\n",
              "    }\n",
              "\n",
              "    [theme=dark] .colab-df-convert:hover {\n",
              "      background-color: #434B5C;\n",
              "      box-shadow: 0px 1px 3px 1px rgba(0, 0, 0, 0.15);\n",
              "      filter: drop-shadow(0px 1px 2px rgba(0, 0, 0, 0.3));\n",
              "      fill: #FFFFFF;\n",
              "    }\n",
              "  </style>\n",
              "\n",
              "      <script>\n",
              "        const buttonEl =\n",
              "          document.querySelector('#df-6cd99899-9d42-4217-a0b3-4e6acadee09d button.colab-df-convert');\n",
              "        buttonEl.style.display =\n",
              "          google.colab.kernel.accessAllowed ? 'block' : 'none';\n",
              "\n",
              "        async function convertToInteractive(key) {\n",
              "          const element = document.querySelector('#df-6cd99899-9d42-4217-a0b3-4e6acadee09d');\n",
              "          const dataTable =\n",
              "            await google.colab.kernel.invokeFunction('convertToInteractive',\n",
              "                                                     [key], {});\n",
              "          if (!dataTable) return;\n",
              "\n",
              "          const docLinkHtml = 'Like what you see? Visit the ' +\n",
              "            '<a target=\"_blank\" href=https://colab.research.google.com/notebooks/data_table.ipynb>data table notebook</a>'\n",
              "            + ' to learn more about interactive tables.';\n",
              "          element.innerHTML = '';\n",
              "          dataTable['output_type'] = 'display_data';\n",
              "          await google.colab.output.renderOutput(dataTable, element);\n",
              "          const docLink = document.createElement('div');\n",
              "          docLink.innerHTML = docLinkHtml;\n",
              "          element.appendChild(docLink);\n",
              "        }\n",
              "      </script>\n",
              "    </div>\n",
              "  </div>\n",
              "  "
            ],
            "text/plain": [
              "        Date        Open       Close    Volume\n",
              "0 2022-02-02  257.940002  252.419998  54341900\n",
              "1 2022-02-03  244.580002  239.479996  41017800\n",
              "2 2022-02-04  239.720001  243.190002  35432800\n",
              "3 2022-02-07  243.720001  247.279999  37686800\n",
              "4 2022-02-08  243.589996  251.080002  40901100"
            ]
          },
          "metadata": {},
          "execution_count": 21
        }
      ]
    },
    {
      "cell_type": "code",
      "source": [
        "# Create a new variable for variance that contains the difference between the \n",
        "# close price and open price for each day.\n",
        "nvidia['Variance'] = nvidia['Close'] - nvidia['Open']\n",
        "\n",
        "# Create a new variable for compound and load the compound scoures for each day.\n",
        "compound = ['0.12', '0.10', '0.30', '0.04', '0.02']\n",
        "nvidia['Compound'] = compound"
      ],
      "metadata": {
        "id": "uR_9cebj-qdF"
      },
      "execution_count": null,
      "outputs": []
    },
    {
      "cell_type": "code",
      "source": [
        "nvidia.head(5)"
      ],
      "metadata": {
        "colab": {
          "base_uri": "https://localhost:8080/",
          "height": 206
        },
        "id": "bUlTJoo-RBtN",
        "outputId": "890f7e39-570b-48af-fb8d-631c6ab7ff96"
      },
      "execution_count": null,
      "outputs": [
        {
          "output_type": "execute_result",
          "data": {
            "text/html": [
              "\n",
              "  <div id=\"df-e70bf943-8923-4439-82fa-15d2e48c3094\">\n",
              "    <div class=\"colab-df-container\">\n",
              "      <div>\n",
              "<style scoped>\n",
              "    .dataframe tbody tr th:only-of-type {\n",
              "        vertical-align: middle;\n",
              "    }\n",
              "\n",
              "    .dataframe tbody tr th {\n",
              "        vertical-align: top;\n",
              "    }\n",
              "\n",
              "    .dataframe thead th {\n",
              "        text-align: right;\n",
              "    }\n",
              "</style>\n",
              "<table border=\"1\" class=\"dataframe\">\n",
              "  <thead>\n",
              "    <tr style=\"text-align: right;\">\n",
              "      <th></th>\n",
              "      <th>Date</th>\n",
              "      <th>Open</th>\n",
              "      <th>Close</th>\n",
              "      <th>Volume</th>\n",
              "      <th>Variance</th>\n",
              "      <th>Compound</th>\n",
              "    </tr>\n",
              "  </thead>\n",
              "  <tbody>\n",
              "    <tr>\n",
              "      <th>0</th>\n",
              "      <td>2022-02-02</td>\n",
              "      <td>257.940002</td>\n",
              "      <td>252.419998</td>\n",
              "      <td>54341900</td>\n",
              "      <td>-5.520004</td>\n",
              "      <td>0.12</td>\n",
              "    </tr>\n",
              "    <tr>\n",
              "      <th>1</th>\n",
              "      <td>2022-02-03</td>\n",
              "      <td>244.580002</td>\n",
              "      <td>239.479996</td>\n",
              "      <td>41017800</td>\n",
              "      <td>-5.100006</td>\n",
              "      <td>0.10</td>\n",
              "    </tr>\n",
              "    <tr>\n",
              "      <th>2</th>\n",
              "      <td>2022-02-04</td>\n",
              "      <td>239.720001</td>\n",
              "      <td>243.190002</td>\n",
              "      <td>35432800</td>\n",
              "      <td>3.470001</td>\n",
              "      <td>0.30</td>\n",
              "    </tr>\n",
              "    <tr>\n",
              "      <th>3</th>\n",
              "      <td>2022-02-07</td>\n",
              "      <td>243.720001</td>\n",
              "      <td>247.279999</td>\n",
              "      <td>37686800</td>\n",
              "      <td>3.559998</td>\n",
              "      <td>0.04</td>\n",
              "    </tr>\n",
              "    <tr>\n",
              "      <th>4</th>\n",
              "      <td>2022-02-08</td>\n",
              "      <td>243.589996</td>\n",
              "      <td>251.080002</td>\n",
              "      <td>41035900</td>\n",
              "      <td>7.490005</td>\n",
              "      <td>0.02</td>\n",
              "    </tr>\n",
              "  </tbody>\n",
              "</table>\n",
              "</div>\n",
              "      <button class=\"colab-df-convert\" onclick=\"convertToInteractive('df-e70bf943-8923-4439-82fa-15d2e48c3094')\"\n",
              "              title=\"Convert this dataframe to an interactive table.\"\n",
              "              style=\"display:none;\">\n",
              "        \n",
              "  <svg xmlns=\"http://www.w3.org/2000/svg\" height=\"24px\"viewBox=\"0 0 24 24\"\n",
              "       width=\"24px\">\n",
              "    <path d=\"M0 0h24v24H0V0z\" fill=\"none\"/>\n",
              "    <path d=\"M18.56 5.44l.94 2.06.94-2.06 2.06-.94-2.06-.94-.94-2.06-.94 2.06-2.06.94zm-11 1L8.5 8.5l.94-2.06 2.06-.94-2.06-.94L8.5 2.5l-.94 2.06-2.06.94zm10 10l.94 2.06.94-2.06 2.06-.94-2.06-.94-.94-2.06-.94 2.06-2.06.94z\"/><path d=\"M17.41 7.96l-1.37-1.37c-.4-.4-.92-.59-1.43-.59-.52 0-1.04.2-1.43.59L10.3 9.45l-7.72 7.72c-.78.78-.78 2.05 0 2.83L4 21.41c.39.39.9.59 1.41.59.51 0 1.02-.2 1.41-.59l7.78-7.78 2.81-2.81c.8-.78.8-2.07 0-2.86zM5.41 20L4 18.59l7.72-7.72 1.47 1.35L5.41 20z\"/>\n",
              "  </svg>\n",
              "      </button>\n",
              "      \n",
              "  <style>\n",
              "    .colab-df-container {\n",
              "      display:flex;\n",
              "      flex-wrap:wrap;\n",
              "      gap: 12px;\n",
              "    }\n",
              "\n",
              "    .colab-df-convert {\n",
              "      background-color: #E8F0FE;\n",
              "      border: none;\n",
              "      border-radius: 50%;\n",
              "      cursor: pointer;\n",
              "      display: none;\n",
              "      fill: #1967D2;\n",
              "      height: 32px;\n",
              "      padding: 0 0 0 0;\n",
              "      width: 32px;\n",
              "    }\n",
              "\n",
              "    .colab-df-convert:hover {\n",
              "      background-color: #E2EBFA;\n",
              "      box-shadow: 0px 1px 2px rgba(60, 64, 67, 0.3), 0px 1px 3px 1px rgba(60, 64, 67, 0.15);\n",
              "      fill: #174EA6;\n",
              "    }\n",
              "\n",
              "    [theme=dark] .colab-df-convert {\n",
              "      background-color: #3B4455;\n",
              "      fill: #D2E3FC;\n",
              "    }\n",
              "\n",
              "    [theme=dark] .colab-df-convert:hover {\n",
              "      background-color: #434B5C;\n",
              "      box-shadow: 0px 1px 3px 1px rgba(0, 0, 0, 0.15);\n",
              "      filter: drop-shadow(0px 1px 2px rgba(0, 0, 0, 0.3));\n",
              "      fill: #FFFFFF;\n",
              "    }\n",
              "  </style>\n",
              "\n",
              "      <script>\n",
              "        const buttonEl =\n",
              "          document.querySelector('#df-e70bf943-8923-4439-82fa-15d2e48c3094 button.colab-df-convert');\n",
              "        buttonEl.style.display =\n",
              "          google.colab.kernel.accessAllowed ? 'block' : 'none';\n",
              "\n",
              "        async function convertToInteractive(key) {\n",
              "          const element = document.querySelector('#df-e70bf943-8923-4439-82fa-15d2e48c3094');\n",
              "          const dataTable =\n",
              "            await google.colab.kernel.invokeFunction('convertToInteractive',\n",
              "                                                     [key], {});\n",
              "          if (!dataTable) return;\n",
              "\n",
              "          const docLinkHtml = 'Like what you see? Visit the ' +\n",
              "            '<a target=\"_blank\" href=https://colab.research.google.com/notebooks/data_table.ipynb>data table notebook</a>'\n",
              "            + ' to learn more about interactive tables.';\n",
              "          element.innerHTML = '';\n",
              "          dataTable['output_type'] = 'display_data';\n",
              "          await google.colab.output.renderOutput(dataTable, element);\n",
              "          const docLink = document.createElement('div');\n",
              "          docLink.innerHTML = docLinkHtml;\n",
              "          element.appendChild(docLink);\n",
              "        }\n",
              "      </script>\n",
              "    </div>\n",
              "  </div>\n",
              "  "
            ],
            "text/plain": [
              "        Date        Open       Close    Volume  Variance Compound\n",
              "0 2022-02-02  257.940002  252.419998  54341900 -5.520004     0.12\n",
              "1 2022-02-03  244.580002  239.479996  41017800 -5.100006     0.10\n",
              "2 2022-02-04  239.720001  243.190002  35432800  3.470001     0.30\n",
              "3 2022-02-07  243.720001  247.279999  37686800  3.559998     0.04\n",
              "4 2022-02-08  243.589996  251.080002  41035900  7.490005     0.02"
            ]
          },
          "metadata": {},
          "execution_count": 5
        }
      ]
    },
    {
      "cell_type": "code",
      "source": [
        "# Plot $ gain/loss in stock price by average sentiment score. Each sentiment score \n",
        "# represents one trading day.  \n",
        "plt.rcParams['figure.figsize'] = [8, 6]\n",
        " \n",
        "nvidia.plot('Compound','Variance', color=\"darkblue\")\n",
        "plt.xlabel('Sentiment', fontsize=12)\n",
        "plt.ylabel('$ Gain / Loss', fontsize=12)\n",
        "plt.title('Nvidia Stock Gain/Loss by Avg Sentiment Score', fontsize=14)\n",
        "plt.grid()\n",
        "plt.show()"
      ],
      "metadata": {
        "colab": {
          "base_uri": "https://localhost:8080/",
          "height": 408
        },
        "id": "juNmM4WvAka5",
        "outputId": "a65009ab-30ca-4f6e-97aa-8ab8e33db8c1"
      },
      "execution_count": null,
      "outputs": [
        {
          "output_type": "display_data",
          "data": {
            "image/png": "[encoded data removed]",
            "text/plain": [
              "<Figure size 576x432 with 1 Axes>"
            ]
          },
          "metadata": {
            "needs_background": "light"
          }
        }
      ]
    },
    {
      "cell_type": "markdown",
      "metadata": {
        "id": "DGTlIyJoPhUE"
      },
      "source": [
        "Observations:\n",
        "\n",
        "* When average sentiment scores are slightly positive (0.12, 0.10), there was a loss of a little over $5.00.\n",
        "\n",
        "* When average sentiment score was moderately positive (0.30), there was a gain of $3.47.\n",
        "\n",
        "* When average sentiment score was barely positive (0.04), there was a gain of a $3.55.  \n",
        "\n",
        "* When average sentiment score was barely positive (0.02), there was a gain of a $7.49.  \n",
        "\n"
      ]
    },
    {
      "cell_type": "markdown",
      "metadata": {
        "id": "wLqig4rGH8Zv"
      },
      "source": [
        "Conclusions:                                                                  For Nvidia, results were inconsistent when comparing average sentiment scores with stock price gain/loss on a daily bases. When sentiment scores were slightly positive, there was a loss. When sentiment score was moderately positive there was a gain. When sentiment scores were barely positive there were sizable gains. I think much more research is needed to better understand the relationship between sentiments and stock prices.                   "
      ]
    }
  ]
}