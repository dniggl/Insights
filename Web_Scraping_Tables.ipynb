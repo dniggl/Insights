{
  "nbformat": 4,
  "nbformat_minor": 0,
  "metadata": {
    "colab": {
      "name": "Web Scraping Tables",
      "provenance": [],
      "collapsed_sections": [],
      "authorship_tag": "ABX9TyPfbzN6kvEr3CZKzoBLtMFP",
      "include_colab_link": true
    },
    "kernelspec": {
      "name": "python3",
      "display_name": "Python 3"
    },
    "language_info": {
      "name": "python"
    }
  },
  "cells": [
    {
      "cell_type": "markdown",
      "metadata": {
        "id": "view-in-github",
        "colab_type": "text"
      },
      "source": [
        "<a href=\"https://colab.research.google.com/github/dniggl/Insights/blob/main/Web_Scraping_Tables.ipynb\" target=\"_parent\"><img src=\"https://colab.research.google.com/assets/colab-badge.svg\" alt=\"Open In Colab\"/></a>"
      ]
    },
    {
      "cell_type": "markdown",
      "source": [
        "Web scrape tables from a webpage and create a dataset.  "
      ],
      "metadata": {
        "id": "CRfKytX6rDBf"
      }
    },
    {
      "cell_type": "code",
      "source": [
        "# Import the required libraries.\n",
        "import pandas as pd\n",
        "import numpy as np\n",
        "import matplotlib.pyplot as plt\n",
        "from unicodedata import normalize"
      ],
      "metadata": {
        "id": "kzRlyf8zrF3v"
      },
      "execution_count": 40,
      "outputs": []
    },
    {
      "cell_type": "markdown",
      "source": [
        "Read a specific website URL and store the results in a variable. Then find the tables in the webpage that contain the words \"Finals appearances\" in the header of the table. The len function is used to return the length of the variable (NBA_tables) which is the number of tables found that matched.  "
      ],
      "metadata": {
        "id": "cljC2LRqreG3"
      }
    },
    {
      "cell_type": "code",
      "source": [
        "NBA_tables = pd.read_html('https://en.wikipedia.org/wiki/NBA_Finals',\n",
        "match = 'Finals appearances')\n",
        "len(NBA_tables)"
      ],
      "metadata": {
        "colab": {
          "base_uri": "https://localhost:8080/"
        },
        "id": "hbN82djvrP1d",
        "outputId": "c455c7cd-8907-477f-de2d-12b4b3318536"
      },
      "execution_count": 41,
      "outputs": [
        {
          "output_type": "execute_result",
          "data": {
            "text/plain": [
              "2"
            ]
          },
          "metadata": {},
          "execution_count": 41
        }
      ]
    },
    {
      "cell_type": "markdown",
      "source": [
        "In this case there were two tables in the webpage whose titles contained the words 'Finals appearances'."
      ],
      "metadata": {
        "id": "99Uk4UF4rvJd"
      }
    },
    {
      "cell_type": "markdown",
      "source": [
        "We will now create a data frame for a selected table in the NBA_tables variable. Since there were two tables found, we can specify either [0] for the first table or [1] for the second table. We will select the first table found in the webpage."
      ],
      "metadata": {
        "id": "ENS-TswTsBM3"
      }
    },
    {
      "cell_type": "code",
      "source": [
        "NBA_table = NBA_tables[0]"
      ],
      "metadata": {
        "id": "8YcmeiD7r1kj"
      },
      "execution_count": 42,
      "outputs": []
    },
    {
      "cell_type": "markdown",
      "source": [
        "Show the first NBA table from the webpage in a data frame. "
      ],
      "metadata": {
        "id": "KL0bTWA4x6_1"
      }
    },
    {
      "cell_type": "code",
      "source": [
        "NBA_table.head()"
      ],
      "metadata": {
        "colab": {
          "base_uri": "https://localhost:8080/",
          "height": 206
        },
        "id": "kJe3JSaxxpGm",
        "outputId": "906ac972-01e5-4f7c-bbe5-bd9ab369da86"
      },
      "execution_count": 44,
      "outputs": [
        {
          "output_type": "execute_result",
          "data": {
            "text/plain": [
              "   No.                                              Team   W   L   Win%  \\\n",
              "0   32                    Minneapolis/Los Angeles Lakers  17  15  0.531   \n",
              "1   21                                    Boston Celtics  17   4  0.810   \n",
              "2   11  Philadelphia/San Francisco/Golden State Warriors   6   5  0.545   \n",
              "3    9             Syracuse Nationals/Philadelphia 76ers   3   6  0.333   \n",
              "4    8                                   New York Knicks   2   6  0.250   \n",
              "\n",
              "   Most recent appearance Most recent title  \\\n",
              "0                    2020              2020   \n",
              "1                    2010              2008   \n",
              "2                    2019              2018   \n",
              "3                    2001              1983   \n",
              "4                    1999              1973   \n",
              "\n",
              "                                               Notes  \n",
              "0  5–1 in Minneapolis and 12–14 in Los Angeles. C...  \n",
              "1  Won eight straight titles from 1959 to 1966, a...  \n",
              "2  2–1 in Philadelphia and 4–4 in California. Won...  \n",
              "3  1–2 in Syracuse and 2–4 in Philadelphia. Won o...  \n",
              "4  In their most recent appearance, they became t...  "
            ],
            "text/html": [
              "\n",
              "  <div id=\"df-930fbb17-56e5-4a15-8dda-4897d38ea8c4\">\n",
              "    <div class=\"colab-df-container\">\n",
              "      <div>\n",
              "<style scoped>\n",
              "    .dataframe tbody tr th:only-of-type {\n",
              "        vertical-align: middle;\n",
              "    }\n",
              "\n",
              "    .dataframe tbody tr th {\n",
              "        vertical-align: top;\n",
              "    }\n",
              "\n",
              "    .dataframe thead th {\n",
              "        text-align: right;\n",
              "    }\n",
              "</style>\n",
              "<table border=\"1\" class=\"dataframe\">\n",
              "  <thead>\n",
              "    <tr style=\"text-align: right;\">\n",
              "      <th></th>\n",
              "      <th>No.</th>\n",
              "      <th>Team</th>\n",
              "      <th>W</th>\n",
              "      <th>L</th>\n",
              "      <th>Win%</th>\n",
              "      <th>Most recent appearance</th>\n",
              "      <th>Most recent title</th>\n",
              "      <th>Notes</th>\n",
              "    </tr>\n",
              "  </thead>\n",
              "  <tbody>\n",
              "    <tr>\n",
              "      <th>0</th>\n",
              "      <td>32</td>\n",
              "      <td>Minneapolis/Los Angeles Lakers</td>\n",
              "      <td>17</td>\n",
              "      <td>15</td>\n",
              "      <td>0.531</td>\n",
              "      <td>2020</td>\n",
              "      <td>2020</td>\n",
              "      <td>5–1 in Minneapolis and 12–14 in Los Angeles. C...</td>\n",
              "    </tr>\n",
              "    <tr>\n",
              "      <th>1</th>\n",
              "      <td>21</td>\n",
              "      <td>Boston Celtics</td>\n",
              "      <td>17</td>\n",
              "      <td>4</td>\n",
              "      <td>0.810</td>\n",
              "      <td>2010</td>\n",
              "      <td>2008</td>\n",
              "      <td>Won eight straight titles from 1959 to 1966, a...</td>\n",
              "    </tr>\n",
              "    <tr>\n",
              "      <th>2</th>\n",
              "      <td>11</td>\n",
              "      <td>Philadelphia/San Francisco/Golden State Warriors</td>\n",
              "      <td>6</td>\n",
              "      <td>5</td>\n",
              "      <td>0.545</td>\n",
              "      <td>2019</td>\n",
              "      <td>2018</td>\n",
              "      <td>2–1 in Philadelphia and 4–4 in California. Won...</td>\n",
              "    </tr>\n",
              "    <tr>\n",
              "      <th>3</th>\n",
              "      <td>9</td>\n",
              "      <td>Syracuse Nationals/Philadelphia 76ers</td>\n",
              "      <td>3</td>\n",
              "      <td>6</td>\n",
              "      <td>0.333</td>\n",
              "      <td>2001</td>\n",
              "      <td>1983</td>\n",
              "      <td>1–2 in Syracuse and 2–4 in Philadelphia. Won o...</td>\n",
              "    </tr>\n",
              "    <tr>\n",
              "      <th>4</th>\n",
              "      <td>8</td>\n",
              "      <td>New York Knicks</td>\n",
              "      <td>2</td>\n",
              "      <td>6</td>\n",
              "      <td>0.250</td>\n",
              "      <td>1999</td>\n",
              "      <td>1973</td>\n",
              "      <td>In their most recent appearance, they became t...</td>\n",
              "    </tr>\n",
              "  </tbody>\n",
              "</table>\n",
              "</div>\n",
              "      <button class=\"colab-df-convert\" onclick=\"convertToInteractive('df-930fbb17-56e5-4a15-8dda-4897d38ea8c4')\"\n",
              "              title=\"Convert this dataframe to an interactive table.\"\n",
              "              style=\"display:none;\">\n",
              "        \n",
              "  <svg xmlns=\"http://www.w3.org/2000/svg\" height=\"24px\"viewBox=\"0 0 24 24\"\n",
              "       width=\"24px\">\n",
              "    <path d=\"M0 0h24v24H0V0z\" fill=\"none\"/>\n",
              "    <path d=\"M18.56 5.44l.94 2.06.94-2.06 2.06-.94-2.06-.94-.94-2.06-.94 2.06-2.06.94zm-11 1L8.5 8.5l.94-2.06 2.06-.94-2.06-.94L8.5 2.5l-.94 2.06-2.06.94zm10 10l.94 2.06.94-2.06 2.06-.94-2.06-.94-.94-2.06-.94 2.06-2.06.94z\"/><path d=\"M17.41 7.96l-1.37-1.37c-.4-.4-.92-.59-1.43-.59-.52 0-1.04.2-1.43.59L10.3 9.45l-7.72 7.72c-.78.78-.78 2.05 0 2.83L4 21.41c.39.39.9.59 1.41.59.51 0 1.02-.2 1.41-.59l7.78-7.78 2.81-2.81c.8-.78.8-2.07 0-2.86zM5.41 20L4 18.59l7.72-7.72 1.47 1.35L5.41 20z\"/>\n",
              "  </svg>\n",
              "      </button>\n",
              "      \n",
              "  <style>\n",
              "    .colab-df-container {\n",
              "      display:flex;\n",
              "      flex-wrap:wrap;\n",
              "      gap: 12px;\n",
              "    }\n",
              "\n",
              "    .colab-df-convert {\n",
              "      background-color: #E8F0FE;\n",
              "      border: none;\n",
              "      border-radius: 50%;\n",
              "      cursor: pointer;\n",
              "      display: none;\n",
              "      fill: #1967D2;\n",
              "      height: 32px;\n",
              "      padding: 0 0 0 0;\n",
              "      width: 32px;\n",
              "    }\n",
              "\n",
              "    .colab-df-convert:hover {\n",
              "      background-color: #E2EBFA;\n",
              "      box-shadow: 0px 1px 2px rgba(60, 64, 67, 0.3), 0px 1px 3px 1px rgba(60, 64, 67, 0.15);\n",
              "      fill: #174EA6;\n",
              "    }\n",
              "\n",
              "    [theme=dark] .colab-df-convert {\n",
              "      background-color: #3B4455;\n",
              "      fill: #D2E3FC;\n",
              "    }\n",
              "\n",
              "    [theme=dark] .colab-df-convert:hover {\n",
              "      background-color: #434B5C;\n",
              "      box-shadow: 0px 1px 3px 1px rgba(0, 0, 0, 0.15);\n",
              "      filter: drop-shadow(0px 1px 2px rgba(0, 0, 0, 0.3));\n",
              "      fill: #FFFFFF;\n",
              "    }\n",
              "  </style>\n",
              "\n",
              "      <script>\n",
              "        const buttonEl =\n",
              "          document.querySelector('#df-930fbb17-56e5-4a15-8dda-4897d38ea8c4 button.colab-df-convert');\n",
              "        buttonEl.style.display =\n",
              "          google.colab.kernel.accessAllowed ? 'block' : 'none';\n",
              "\n",
              "        async function convertToInteractive(key) {\n",
              "          const element = document.querySelector('#df-930fbb17-56e5-4a15-8dda-4897d38ea8c4');\n",
              "          const dataTable =\n",
              "            await google.colab.kernel.invokeFunction('convertToInteractive',\n",
              "                                                     [key], {});\n",
              "          if (!dataTable) return;\n",
              "\n",
              "          const docLinkHtml = 'Like what you see? Visit the ' +\n",
              "            '<a target=\"_blank\" href=https://colab.research.google.com/notebooks/data_table.ipynb>data table notebook</a>'\n",
              "            + ' to learn more about interactive tables.';\n",
              "          element.innerHTML = '';\n",
              "          dataTable['output_type'] = 'display_data';\n",
              "          await google.colab.output.renderOutput(dataTable, element);\n",
              "          const docLink = document.createElement('div');\n",
              "          docLink.innerHTML = docLinkHtml;\n",
              "          element.appendChild(docLink);\n",
              "        }\n",
              "      </script>\n",
              "    </div>\n",
              "  </div>\n",
              "  "
            ]
          },
          "metadata": {},
          "execution_count": 44
        }
      ]
    },
    {
      "cell_type": "markdown",
      "source": [
        "Now select and show the second NBA table found in the webpage."
      ],
      "metadata": {
        "id": "we22q1GlSyeA"
      }
    },
    {
      "cell_type": "code",
      "source": [
        "NBA_table = NBA_tables[1]\n",
        "NBA_table.head()"
      ],
      "metadata": {
        "colab": {
          "base_uri": "https://localhost:8080/",
          "height": 206
        },
        "id": "yHPhYAyQO8Ti",
        "outputId": "c53f929e-94e8-46a7-fad6-2a3febeb416b"
      },
      "execution_count": 45,
      "outputs": [
        {
          "output_type": "execute_result",
          "data": {
            "text/plain": [
              "     P                   Team   W   L    Win  \\\n",
              "0  185     Los Angeles Lakers  93  92  0.503   \n",
              "1  129         Boston Celtics  77  52  0.597   \n",
              "2   53     Philadelphia 76ers  24  29  0.453   \n",
              "3   59  Golden State Warriors  34  25  0.576   \n",
              "4   48        New York Knicks  20  28  0.417   \n",
              "\n",
              "                                               Notes  \n",
              "0  Holds the record for the most games in a Final...  \n",
              "1  Recorded the first ever sweep in the Finals. L...  \n",
              "2  Includes a record of 9–11 while in Syracuse, a...  \n",
              "3  Includes records of 10–6 while in Philadelphia...  \n",
              "4  Lost 4–1 in their last Finals appearance in 1999.  "
            ],
            "text/html": [
              "\n",
              "  <div id=\"df-024ab476-f650-403f-92d4-55e4bb27ce06\">\n",
              "    <div class=\"colab-df-container\">\n",
              "      <div>\n",
              "<style scoped>\n",
              "    .dataframe tbody tr th:only-of-type {\n",
              "        vertical-align: middle;\n",
              "    }\n",
              "\n",
              "    .dataframe tbody tr th {\n",
              "        vertical-align: top;\n",
              "    }\n",
              "\n",
              "    .dataframe thead th {\n",
              "        text-align: right;\n",
              "    }\n",
              "</style>\n",
              "<table border=\"1\" class=\"dataframe\">\n",
              "  <thead>\n",
              "    <tr style=\"text-align: right;\">\n",
              "      <th></th>\n",
              "      <th>P</th>\n",
              "      <th>Team</th>\n",
              "      <th>W</th>\n",
              "      <th>L</th>\n",
              "      <th>Win</th>\n",
              "      <th>Notes</th>\n",
              "    </tr>\n",
              "  </thead>\n",
              "  <tbody>\n",
              "    <tr>\n",
              "      <th>0</th>\n",
              "      <td>185</td>\n",
              "      <td>Los Angeles Lakers</td>\n",
              "      <td>93</td>\n",
              "      <td>92</td>\n",
              "      <td>0.503</td>\n",
              "      <td>Holds the record for the most games in a Final...</td>\n",
              "    </tr>\n",
              "    <tr>\n",
              "      <th>1</th>\n",
              "      <td>129</td>\n",
              "      <td>Boston Celtics</td>\n",
              "      <td>77</td>\n",
              "      <td>52</td>\n",
              "      <td>0.597</td>\n",
              "      <td>Recorded the first ever sweep in the Finals. L...</td>\n",
              "    </tr>\n",
              "    <tr>\n",
              "      <th>2</th>\n",
              "      <td>53</td>\n",
              "      <td>Philadelphia 76ers</td>\n",
              "      <td>24</td>\n",
              "      <td>29</td>\n",
              "      <td>0.453</td>\n",
              "      <td>Includes a record of 9–11 while in Syracuse, a...</td>\n",
              "    </tr>\n",
              "    <tr>\n",
              "      <th>3</th>\n",
              "      <td>59</td>\n",
              "      <td>Golden State Warriors</td>\n",
              "      <td>34</td>\n",
              "      <td>25</td>\n",
              "      <td>0.576</td>\n",
              "      <td>Includes records of 10–6 while in Philadelphia...</td>\n",
              "    </tr>\n",
              "    <tr>\n",
              "      <th>4</th>\n",
              "      <td>48</td>\n",
              "      <td>New York Knicks</td>\n",
              "      <td>20</td>\n",
              "      <td>28</td>\n",
              "      <td>0.417</td>\n",
              "      <td>Lost 4–1 in their last Finals appearance in 1999.</td>\n",
              "    </tr>\n",
              "  </tbody>\n",
              "</table>\n",
              "</div>\n",
              "      <button class=\"colab-df-convert\" onclick=\"convertToInteractive('df-024ab476-f650-403f-92d4-55e4bb27ce06')\"\n",
              "              title=\"Convert this dataframe to an interactive table.\"\n",
              "              style=\"display:none;\">\n",
              "        \n",
              "  <svg xmlns=\"http://www.w3.org/2000/svg\" height=\"24px\"viewBox=\"0 0 24 24\"\n",
              "       width=\"24px\">\n",
              "    <path d=\"M0 0h24v24H0V0z\" fill=\"none\"/>\n",
              "    <path d=\"M18.56 5.44l.94 2.06.94-2.06 2.06-.94-2.06-.94-.94-2.06-.94 2.06-2.06.94zm-11 1L8.5 8.5l.94-2.06 2.06-.94-2.06-.94L8.5 2.5l-.94 2.06-2.06.94zm10 10l.94 2.06.94-2.06 2.06-.94-2.06-.94-.94-2.06-.94 2.06-2.06.94z\"/><path d=\"M17.41 7.96l-1.37-1.37c-.4-.4-.92-.59-1.43-.59-.52 0-1.04.2-1.43.59L10.3 9.45l-7.72 7.72c-.78.78-.78 2.05 0 2.83L4 21.41c.39.39.9.59 1.41.59.51 0 1.02-.2 1.41-.59l7.78-7.78 2.81-2.81c.8-.78.8-2.07 0-2.86zM5.41 20L4 18.59l7.72-7.72 1.47 1.35L5.41 20z\"/>\n",
              "  </svg>\n",
              "      </button>\n",
              "      \n",
              "  <style>\n",
              "    .colab-df-container {\n",
              "      display:flex;\n",
              "      flex-wrap:wrap;\n",
              "      gap: 12px;\n",
              "    }\n",
              "\n",
              "    .colab-df-convert {\n",
              "      background-color: #E8F0FE;\n",
              "      border: none;\n",
              "      border-radius: 50%;\n",
              "      cursor: pointer;\n",
              "      display: none;\n",
              "      fill: #1967D2;\n",
              "      height: 32px;\n",
              "      padding: 0 0 0 0;\n",
              "      width: 32px;\n",
              "    }\n",
              "\n",
              "    .colab-df-convert:hover {\n",
              "      background-color: #E2EBFA;\n",
              "      box-shadow: 0px 1px 2px rgba(60, 64, 67, 0.3), 0px 1px 3px 1px rgba(60, 64, 67, 0.15);\n",
              "      fill: #174EA6;\n",
              "    }\n",
              "\n",
              "    [theme=dark] .colab-df-convert {\n",
              "      background-color: #3B4455;\n",
              "      fill: #D2E3FC;\n",
              "    }\n",
              "\n",
              "    [theme=dark] .colab-df-convert:hover {\n",
              "      background-color: #434B5C;\n",
              "      box-shadow: 0px 1px 3px 1px rgba(0, 0, 0, 0.15);\n",
              "      filter: drop-shadow(0px 1px 2px rgba(0, 0, 0, 0.3));\n",
              "      fill: #FFFFFF;\n",
              "    }\n",
              "  </style>\n",
              "\n",
              "      <script>\n",
              "        const buttonEl =\n",
              "          document.querySelector('#df-024ab476-f650-403f-92d4-55e4bb27ce06 button.colab-df-convert');\n",
              "        buttonEl.style.display =\n",
              "          google.colab.kernel.accessAllowed ? 'block' : 'none';\n",
              "\n",
              "        async function convertToInteractive(key) {\n",
              "          const element = document.querySelector('#df-024ab476-f650-403f-92d4-55e4bb27ce06');\n",
              "          const dataTable =\n",
              "            await google.colab.kernel.invokeFunction('convertToInteractive',\n",
              "                                                     [key], {});\n",
              "          if (!dataTable) return;\n",
              "\n",
              "          const docLinkHtml = 'Like what you see? Visit the ' +\n",
              "            '<a target=\"_blank\" href=https://colab.research.google.com/notebooks/data_table.ipynb>data table notebook</a>'\n",
              "            + ' to learn more about interactive tables.';\n",
              "          element.innerHTML = '';\n",
              "          dataTable['output_type'] = 'display_data';\n",
              "          await google.colab.output.renderOutput(dataTable, element);\n",
              "          const docLink = document.createElement('div');\n",
              "          docLink.innerHTML = docLinkHtml;\n",
              "          element.appendChild(docLink);\n",
              "        }\n",
              "      </script>\n",
              "    </div>\n",
              "  </div>\n",
              "  "
            ]
          },
          "metadata": {},
          "execution_count": 45
        }
      ]
    }
  ]
}