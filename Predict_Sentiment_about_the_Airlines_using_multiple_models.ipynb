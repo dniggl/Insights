{
  "nbformat": 4,
  "nbformat_minor": 0,
  "metadata": {
    "colab": {
      "name": "Predict Sentiment about the Airlines using multiple models.ipynb",
      "provenance": [],
      "collapsed_sections": [],
      "authorship_tag": "ABX9TyP1rxVDeEx83yOf+9931En2",
      "include_colab_link": true
    },
    "kernelspec": {
      "name": "python3",
      "display_name": "Python 3"
    },
    "language_info": {
      "name": "python"
    }
  },
  "cells": [
    {
      "cell_type": "markdown",
      "metadata": {
        "id": "view-in-github",
        "colab_type": "text"
      },
      "source": [
        "<a href=\"https://colab.research.google.com/github/dniggl/Insights/blob/main/Predict_Sentiment_about_the_Airlines_using_multiple_models.ipynb\" target=\"_parent\"><img src=\"https://colab.research.google.com/assets/colab-badge.svg\" alt=\"Open In Colab\"/></a>"
      ]
    },
    {
      "cell_type": "code",
      "metadata": {
        "id": "bEkrk8RutUUG"
      },
      "source": [
        "# Predict sentiment about the airlines using text from tweets."
      ],
      "execution_count": null,
      "outputs": []
    },
    {
      "cell_type": "code",
      "metadata": {
        "id": "m7OkzEt_tVDa"
      },
      "source": [
        "# Import the software libraries.\n",
        "import numpy as np \n",
        "import pandas as pd \n",
        "import re\n",
        "import nltk \n",
        "import matplotlib.pyplot as plt\n",
        "%matplotlib inline\n",
        "import seaborn as sns\n",
        "from sklearn.model_selection import train_test_split\n",
        "from sklearn.ensemble import RandomForestClassifier\n",
        "from sklearn.linear_model import LogisticRegression\n",
        "from sklearn.neighbors import KNeighborsClassifier\n",
        "from sklearn.svm import SVC\n",
        "from sklearn.metrics import accuracy_score, classification_report"
      ],
      "execution_count": 1,
      "outputs": []
    },
    {
      "cell_type": "code",
      "metadata": {
        "id": "SI-eaWvwta8n"
      },
      "source": [
        "# Import the dataset.\n",
        "data_source_url = \"https://raw.githubusercontent.com/kolaveridi/kaggle-Twitter-US-Airline-Sentiment-/master/Tweets.csv\"\n",
        "airlines = pd.read_csv(data_source_url)"
      ],
      "execution_count": 2,
      "outputs": []
    },
    {
      "cell_type": "code",
      "metadata": {
        "colab": {
          "base_uri": "https://localhost:8080/",
          "height": 496
        },
        "id": "czCCHdalt_b9",
        "outputId": "163a421a-ef30-42e7-e40e-eef9a6a727ce"
      },
      "source": [
        "# Show the first 5 rows of the dataset.\n",
        "airlines.head() "
      ],
      "execution_count": 3,
      "outputs": [
        {
          "output_type": "execute_result",
          "data": {
            "text/html": [
              "\n",
              "  <div id=\"df-9c480633-10dc-474a-8675-c9cf11d2f57b\">\n",
              "    <div class=\"colab-df-container\">\n",
              "      <div>\n",
              "<style scoped>\n",
              "    .dataframe tbody tr th:only-of-type {\n",
              "        vertical-align: middle;\n",
              "    }\n",
              "\n",
              "    .dataframe tbody tr th {\n",
              "        vertical-align: top;\n",
              "    }\n",
              "\n",
              "    .dataframe thead th {\n",
              "        text-align: right;\n",
              "    }\n",
              "</style>\n",
              "<table border=\"1\" class=\"dataframe\">\n",
              "  <thead>\n",
              "    <tr style=\"text-align: right;\">\n",
              "      <th></th>\n",
              "      <th>tweet_id</th>\n",
              "      <th>airline_sentiment</th>\n",
              "      <th>airline_sentiment_confidence</th>\n",
              "      <th>negativereason</th>\n",
              "      <th>negativereason_confidence</th>\n",
              "      <th>airline</th>\n",
              "      <th>airline_sentiment_gold</th>\n",
              "      <th>name</th>\n",
              "      <th>negativereason_gold</th>\n",
              "      <th>retweet_count</th>\n",
              "      <th>text</th>\n",
              "      <th>tweet_coord</th>\n",
              "      <th>tweet_created</th>\n",
              "      <th>tweet_location</th>\n",
              "      <th>user_timezone</th>\n",
              "    </tr>\n",
              "  </thead>\n",
              "  <tbody>\n",
              "    <tr>\n",
              "      <th>0</th>\n",
              "      <td>570306133677760513</td>\n",
              "      <td>neutral</td>\n",
              "      <td>1.0000</td>\n",
              "      <td>NaN</td>\n",
              "      <td>NaN</td>\n",
              "      <td>Virgin America</td>\n",
              "      <td>NaN</td>\n",
              "      <td>cairdin</td>\n",
              "      <td>NaN</td>\n",
              "      <td>0</td>\n",
              "      <td>@VirginAmerica What @dhepburn said.</td>\n",
              "      <td>NaN</td>\n",
              "      <td>2015-02-24 11:35:52 -0800</td>\n",
              "      <td>NaN</td>\n",
              "      <td>Eastern Time (US &amp; Canada)</td>\n",
              "    </tr>\n",
              "    <tr>\n",
              "      <th>1</th>\n",
              "      <td>570301130888122368</td>\n",
              "      <td>positive</td>\n",
              "      <td>0.3486</td>\n",
              "      <td>NaN</td>\n",
              "      <td>0.0000</td>\n",
              "      <td>Virgin America</td>\n",
              "      <td>NaN</td>\n",
              "      <td>jnardino</td>\n",
              "      <td>NaN</td>\n",
              "      <td>0</td>\n",
              "      <td>@VirginAmerica plus you've added commercials t...</td>\n",
              "      <td>NaN</td>\n",
              "      <td>2015-02-24 11:15:59 -0800</td>\n",
              "      <td>NaN</td>\n",
              "      <td>Pacific Time (US &amp; Canada)</td>\n",
              "    </tr>\n",
              "    <tr>\n",
              "      <th>2</th>\n",
              "      <td>570301083672813571</td>\n",
              "      <td>neutral</td>\n",
              "      <td>0.6837</td>\n",
              "      <td>NaN</td>\n",
              "      <td>NaN</td>\n",
              "      <td>Virgin America</td>\n",
              "      <td>NaN</td>\n",
              "      <td>yvonnalynn</td>\n",
              "      <td>NaN</td>\n",
              "      <td>0</td>\n",
              "      <td>@VirginAmerica I didn't today... Must mean I n...</td>\n",
              "      <td>NaN</td>\n",
              "      <td>2015-02-24 11:15:48 -0800</td>\n",
              "      <td>Lets Play</td>\n",
              "      <td>Central Time (US &amp; Canada)</td>\n",
              "    </tr>\n",
              "    <tr>\n",
              "      <th>3</th>\n",
              "      <td>570301031407624196</td>\n",
              "      <td>negative</td>\n",
              "      <td>1.0000</td>\n",
              "      <td>Bad Flight</td>\n",
              "      <td>0.7033</td>\n",
              "      <td>Virgin America</td>\n",
              "      <td>NaN</td>\n",
              "      <td>jnardino</td>\n",
              "      <td>NaN</td>\n",
              "      <td>0</td>\n",
              "      <td>@VirginAmerica it's really aggressive to blast...</td>\n",
              "      <td>NaN</td>\n",
              "      <td>2015-02-24 11:15:36 -0800</td>\n",
              "      <td>NaN</td>\n",
              "      <td>Pacific Time (US &amp; Canada)</td>\n",
              "    </tr>\n",
              "    <tr>\n",
              "      <th>4</th>\n",
              "      <td>570300817074462722</td>\n",
              "      <td>negative</td>\n",
              "      <td>1.0000</td>\n",
              "      <td>Can't Tell</td>\n",
              "      <td>1.0000</td>\n",
              "      <td>Virgin America</td>\n",
              "      <td>NaN</td>\n",
              "      <td>jnardino</td>\n",
              "      <td>NaN</td>\n",
              "      <td>0</td>\n",
              "      <td>@VirginAmerica and it's a really big bad thing...</td>\n",
              "      <td>NaN</td>\n",
              "      <td>2015-02-24 11:14:45 -0800</td>\n",
              "      <td>NaN</td>\n",
              "      <td>Pacific Time (US &amp; Canada)</td>\n",
              "    </tr>\n",
              "  </tbody>\n",
              "</table>\n",
              "</div>\n",
              "      <button class=\"colab-df-convert\" onclick=\"convertToInteractive('df-9c480633-10dc-474a-8675-c9cf11d2f57b')\"\n",
              "              title=\"Convert this dataframe to an interactive table.\"\n",
              "              style=\"display:none;\">\n",
              "        \n",
              "  <svg xmlns=\"http://www.w3.org/2000/svg\" height=\"24px\"viewBox=\"0 0 24 24\"\n",
              "       width=\"24px\">\n",
              "    <path d=\"M0 0h24v24H0V0z\" fill=\"none\"/>\n",
              "    <path d=\"M18.56 5.44l.94 2.06.94-2.06 2.06-.94-2.06-.94-.94-2.06-.94 2.06-2.06.94zm-11 1L8.5 8.5l.94-2.06 2.06-.94-2.06-.94L8.5 2.5l-.94 2.06-2.06.94zm10 10l.94 2.06.94-2.06 2.06-.94-2.06-.94-.94-2.06-.94 2.06-2.06.94z\"/><path d=\"M17.41 7.96l-1.37-1.37c-.4-.4-.92-.59-1.43-.59-.52 0-1.04.2-1.43.59L10.3 9.45l-7.72 7.72c-.78.78-.78 2.05 0 2.83L4 21.41c.39.39.9.59 1.41.59.51 0 1.02-.2 1.41-.59l7.78-7.78 2.81-2.81c.8-.78.8-2.07 0-2.86zM5.41 20L4 18.59l7.72-7.72 1.47 1.35L5.41 20z\"/>\n",
              "  </svg>\n",
              "      </button>\n",
              "      \n",
              "  <style>\n",
              "    .colab-df-container {\n",
              "      display:flex;\n",
              "      flex-wrap:wrap;\n",
              "      gap: 12px;\n",
              "    }\n",
              "\n",
              "    .colab-df-convert {\n",
              "      background-color: #E8F0FE;\n",
              "      border: none;\n",
              "      border-radius: 50%;\n",
              "      cursor: pointer;\n",
              "      display: none;\n",
              "      fill: #1967D2;\n",
              "      height: 32px;\n",
              "      padding: 0 0 0 0;\n",
              "      width: 32px;\n",
              "    }\n",
              "\n",
              "    .colab-df-convert:hover {\n",
              "      background-color: #E2EBFA;\n",
              "      box-shadow: 0px 1px 2px rgba(60, 64, 67, 0.3), 0px 1px 3px 1px rgba(60, 64, 67, 0.15);\n",
              "      fill: #174EA6;\n",
              "    }\n",
              "\n",
              "    [theme=dark] .colab-df-convert {\n",
              "      background-color: #3B4455;\n",
              "      fill: #D2E3FC;\n",
              "    }\n",
              "\n",
              "    [theme=dark] .colab-df-convert:hover {\n",
              "      background-color: #434B5C;\n",
              "      box-shadow: 0px 1px 3px 1px rgba(0, 0, 0, 0.15);\n",
              "      filter: drop-shadow(0px 1px 2px rgba(0, 0, 0, 0.3));\n",
              "      fill: #FFFFFF;\n",
              "    }\n",
              "  </style>\n",
              "\n",
              "      <script>\n",
              "        const buttonEl =\n",
              "          document.querySelector('#df-9c480633-10dc-474a-8675-c9cf11d2f57b button.colab-df-convert');\n",
              "        buttonEl.style.display =\n",
              "          google.colab.kernel.accessAllowed ? 'block' : 'none';\n",
              "\n",
              "        async function convertToInteractive(key) {\n",
              "          const element = document.querySelector('#df-9c480633-10dc-474a-8675-c9cf11d2f57b');\n",
              "          const dataTable =\n",
              "            await google.colab.kernel.invokeFunction('convertToInteractive',\n",
              "                                                     [key], {});\n",
              "          if (!dataTable) return;\n",
              "\n",
              "          const docLinkHtml = 'Like what you see? Visit the ' +\n",
              "            '<a target=\"_blank\" href=https://colab.research.google.com/notebooks/data_table.ipynb>data table notebook</a>'\n",
              "            + ' to learn more about interactive tables.';\n",
              "          element.innerHTML = '';\n",
              "          dataTable['output_type'] = 'display_data';\n",
              "          await google.colab.output.renderOutput(dataTable, element);\n",
              "          const docLink = document.createElement('div');\n",
              "          docLink.innerHTML = docLinkHtml;\n",
              "          element.appendChild(docLink);\n",
              "        }\n",
              "      </script>\n",
              "    </div>\n",
              "  </div>\n",
              "  "
            ],
            "text/plain": [
              "             tweet_id  ...               user_timezone\n",
              "0  570306133677760513  ...  Eastern Time (US & Canada)\n",
              "1  570301130888122368  ...  Pacific Time (US & Canada)\n",
              "2  570301083672813571  ...  Central Time (US & Canada)\n",
              "3  570301031407624196  ...  Pacific Time (US & Canada)\n",
              "4  570300817074462722  ...  Pacific Time (US & Canada)\n",
              "\n",
              "[5 rows x 15 columns]"
            ]
          },
          "metadata": {},
          "execution_count": 3
        }
      ]
    },
    {
      "cell_type": "markdown",
      "source": [
        "This data originally came from Crowdflower's Data for Everyone library. The data we're providing from Kaggle is a slightly reformatted version of the original source. The data can be found here https://www.kaggle.com/crowdflower/twitter-airline-sentiment\n",
        "\n",
        "The columns and definitions are described below.\n",
        "\n",
        "1. tweet_id - tweeter identifier.\n",
        "\n",
        "2. airline_sentiment - includes negative, neutral and positive sentiments.\n",
        "\n",
        "3. airline_sentiment_confidence - measure of confidence about the sentiment.\n",
        "\n",
        "4. negativereason - reason for negative sentiment.\n",
        "\n",
        "5. negativereason_confidence - measure of confidence about negative sentiment.\n",
        "\n",
        "6. airline - includes United, US Airways, American, Southwest, Delta and Virgin America.\n",
        "\n",
        "7. airline_sentiment_gold -\n",
        "\n",
        "8. name - name of user.\n",
        "\n",
        "9. negativereason_gold -\n",
        "\n",
        "10. retweet_count - number of retweets.\n",
        "\n",
        "11. text - what the user stated in text. \n",
        "\n",
        "12. tweet_coord - \n",
        "\n",
        "13. tweet_created - date and time tweet was created. (yyyy-mm-dd)\n",
        "\n",
        "14. tweet_location\t- location where tweet was made.\n",
        "\n",
        "15. user_timezone - timezone where user is located."
      ],
      "metadata": {
        "id": "lbRNz0Moa7l5"
      }
    },
    {
      "cell_type": "code",
      "source": [
        "# Show information about the data columns.\n",
        "airlines.info()"
      ],
      "metadata": {
        "colab": {
          "base_uri": "https://localhost:8080/"
        },
        "id": "z_eagCaUjlIa",
        "outputId": "ace6d477-e615-4564-99bb-4b89d2b5ace6"
      },
      "execution_count": 4,
      "outputs": [
        {
          "output_type": "stream",
          "name": "stdout",
          "text": [
            "<class 'pandas.core.frame.DataFrame'>\n",
            "RangeIndex: 14640 entries, 0 to 14639\n",
            "Data columns (total 15 columns):\n",
            " #   Column                        Non-Null Count  Dtype  \n",
            "---  ------                        --------------  -----  \n",
            " 0   tweet_id                      14640 non-null  int64  \n",
            " 1   airline_sentiment             14640 non-null  object \n",
            " 2   airline_sentiment_confidence  14640 non-null  float64\n",
            " 3   negativereason                9178 non-null   object \n",
            " 4   negativereason_confidence     10522 non-null  float64\n",
            " 5   airline                       14640 non-null  object \n",
            " 6   airline_sentiment_gold        40 non-null     object \n",
            " 7   name                          14640 non-null  object \n",
            " 8   negativereason_gold           32 non-null     object \n",
            " 9   retweet_count                 14640 non-null  int64  \n",
            " 10  text                          14640 non-null  object \n",
            " 11  tweet_coord                   1019 non-null   object \n",
            " 12  tweet_created                 14640 non-null  object \n",
            " 13  tweet_location                9907 non-null   object \n",
            " 14  user_timezone                 9820 non-null   object \n",
            "dtypes: float64(2), int64(2), object(11)\n",
            "memory usage: 1.7+ MB\n"
          ]
        }
      ]
    },
    {
      "cell_type": "markdown",
      "source": [
        "There are 14,640 tweets and 15 columns. There are numeric and categorical variables. Many of the variables contain null or missing values.  "
      ],
      "metadata": {
        "id": "uM-vITicjvAq"
      }
    },
    {
      "cell_type": "code",
      "source": [
        "# Show each airline sentiment category and the counts within each category.\n",
        "airlines[\"airline_sentiment\"].value_counts()"
      ],
      "metadata": {
        "colab": {
          "base_uri": "https://localhost:8080/"
        },
        "id": "taLqX3BQkyPo",
        "outputId": "b4220350-d559-479d-9a30-47083085cd0a"
      },
      "execution_count": 5,
      "outputs": [
        {
          "output_type": "execute_result",
          "data": {
            "text/plain": [
              "negative    9178\n",
              "neutral     3099\n",
              "positive    2363\n",
              "Name: airline_sentiment, dtype: int64"
            ]
          },
          "metadata": {},
          "execution_count": 5
        }
      ]
    },
    {
      "cell_type": "code",
      "source": [
        "# Visualize the distribution of sentiment across all tweets.\n",
        "airlines.airline_sentiment.value_counts().plot(kind='pie', autopct='%1.0f%%',  fontsize=12, figsize=(9,6), colors=[\"red\", \"yellow\", \"blue\"])\n",
        "plt.ylabel(\"Airline Sentiment\", size=14)"
      ],
      "metadata": {
        "colab": {
          "base_uri": "https://localhost:8080/",
          "height": 375
        },
        "id": "qPx4Qmpxmal5",
        "outputId": "98fb3483-7c0e-4088-c69a-7dbc79a0fcea"
      },
      "execution_count": 6,
      "outputs": [
        {
          "output_type": "execute_result",
          "data": {
            "text/plain": [
              "Text(0, 0.5, 'Airline Sentiment')"
            ]
          },
          "metadata": {},
          "execution_count": 6
        },
        {
          "output_type": "display_data",
          "data": {
            "image/png": "[encoded data removed]",
            "text/plain": [
              "<Figure size 648x432 with 1 Axes>"
            ]
          },
          "metadata": {}
        }
      ]
    },
    {
      "cell_type": "markdown",
      "source": [
        "The majority of the tweets are negative (63%), followed by neutral tweets (21%), and then positive tweets (16%)."
      ],
      "metadata": {
        "id": "r5EhdNGGATrb"
      }
    },
    {
      "cell_type": "code",
      "source": [
        "# Show each airline category and the counts within each category.\n",
        "airlines[\"airline\"].value_counts()"
      ],
      "metadata": {
        "colab": {
          "base_uri": "https://localhost:8080/"
        },
        "id": "pTrsINuplQXA",
        "outputId": "a1f7d475-0b65-414a-dc06-d8381d2ac385"
      },
      "execution_count": 7,
      "outputs": [
        {
          "output_type": "execute_result",
          "data": {
            "text/plain": [
              "United            3822\n",
              "US Airways        2913\n",
              "American          2759\n",
              "Southwest         2420\n",
              "Delta             2222\n",
              "Virgin America     504\n",
              "Name: airline, dtype: int64"
            ]
          },
          "metadata": {},
          "execution_count": 7
        }
      ]
    },
    {
      "cell_type": "code",
      "source": [
        "# Visualize the distribution of tweets for each airline.\n",
        "airlines.airline.value_counts().plot(kind='pie', autopct='%1.0f%%', fontsize=12, figsize=(9,6),)\n",
        "plt.ylabel(\"          Airline Tweets\", size=14)"
      ],
      "metadata": {
        "colab": {
          "base_uri": "https://localhost:8080/",
          "height": 375
        },
        "id": "kceIjDrboUE5",
        "outputId": "2ecf088a-9b5f-45c8-fb24-624b1c643dfa"
      },
      "execution_count": 8,
      "outputs": [
        {
          "output_type": "execute_result",
          "data": {
            "text/plain": [
              "Text(0, 0.5, '          Airline Tweets')"
            ]
          },
          "metadata": {},
          "execution_count": 8
        },
        {
          "output_type": "display_data",
          "data": {
            "image/png": "[encoded data removed]",
            "text/plain": [
              "<Figure size 648x432 with 1 Axes>"
            ]
          },
          "metadata": {}
        }
      ]
    },
    {
      "cell_type": "markdown",
      "source": [
        "United Airline has the highest number of tweets at 26%, followed by US Airways at 20% and then American at 19%."
      ],
      "metadata": {
        "id": "7XlbN_9oAsvg"
      }
    },
    {
      "cell_type": "code",
      "metadata": {
        "colab": {
          "base_uri": "https://localhost:8080/",
          "height": 488
        },
        "id": "j7ONegmOxmBZ",
        "outputId": "d784cb5f-a0db-4883-dc52-a393c9a91e42"
      },
      "source": [
        "# Visualize the distribution of airline sentiments for each airline.\n",
        "airline_sentiment = airlines.groupby(['airline', 'airline_sentiment']).airline_sentiment.count().unstack()\n",
        "airline_sentiment.plot(kind='bar', fontsize=12, figsize=(8,6))\n",
        "plt.xlabel(\"Airline Sentiments\", size=14)"
      ],
      "execution_count": 9,
      "outputs": [
        {
          "output_type": "execute_result",
          "data": {
            "text/plain": [
              "Text(0.5, 0, 'Airline Sentiments')"
            ]
          },
          "metadata": {},
          "execution_count": 9
        },
        {
          "output_type": "display_data",
          "data": {
            "image/png": "[encoded data removed]",
            "text/plain": [
              "<Figure size 576x432 with 1 Axes>"
            ]
          },
          "metadata": {
            "needs_background": "light"
          }
        }
      ]
    },
    {
      "cell_type": "markdown",
      "source": [
        "For most of the airlines, the majority of tweets have a sentiment rating of negative followed by neutral and then positive. United and US Airways have the highest negative ranking. Southwest and Delta have the highest positive ranking. Virgin America is the only airline where the ranking of all three sentiments are almost equal. "
      ],
      "metadata": {
        "id": "WNsCu8X9BjS3"
      }
    },
    {
      "cell_type": "code",
      "metadata": {
        "id": "mRVi-jkDxmHK",
        "colab": {
          "base_uri": "https://localhost:8080/",
          "height": 356
        },
        "outputId": "30af8938-bc03-427d-c399-092d0dca662d"
      },
      "source": [
        "# Visualize the average confidence level for the tweets in each of the sentiment categories. \n",
        "fig = plt.figure(figsize = (7,5))\n",
        "sns.barplot(x = 'airline_sentiment', \n",
        "            y = 'airline_sentiment_confidence', \n",
        "            data = airlines,\n",
        "            ci = None)\n",
        "# set labels\n",
        "plt.xlabel(\"Airline Sentiment\", size=14)\n",
        "plt.ylabel(\"Airline Sentiment Confidence\", size=14)"
      ],
      "execution_count": 11,
      "outputs": [
        {
          "output_type": "execute_result",
          "data": {
            "text/plain": [
              "Text(0, 0.5, 'Airline Sentiment Confidence')"
            ]
          },
          "metadata": {},
          "execution_count": 11
        },
        {
          "output_type": "display_data",
          "data": {
            "image/png": "[encoded data removed]",
            "text/plain": [
              "<Figure size 504x360 with 1 Axes>"
            ]
          },
          "metadata": {
            "needs_background": "light"
          }
        }
      ]
    },
    {
      "cell_type": "markdown",
      "source": [
        "The confidence level for negative tweets is higher compared to positive tweets and neutral tweets."
      ],
      "metadata": {
        "id": "maFkA15lE0rz"
      }
    },
    {
      "cell_type": "markdown",
      "source": [
        "**Data Cleaning**"
      ],
      "metadata": {
        "id": "_89y7diqwUmV"
      }
    },
    {
      "cell_type": "markdown",
      "source": [
        "We need to divide our dataset into feature and label data sets. The features data set will include only the tweets text which is in the 11th column or index 10. The labels data set will include the sentiment of the tweet that we want to predict which is in column 2 or index 1. We will use the iloc method on the airlines data frame to create the features and labels data sets."
      ],
      "metadata": {
        "id": "-kqZgUg4u19M"
      }
    },
    {
      "cell_type": "code",
      "metadata": {
        "id": "hcoIcUDjxmLz"
      },
      "source": [
        "# Divide our dataset into feature and label data sets.\n",
        "# Feature data set will include only the tweets text which is in the 11th column or index 10.\n",
        "# Label data set will include the sentiment of the tweet that we want to predict in column 2 or index 1.\n",
        "features = airlines.iloc[:, 10].values\n",
        "labels = airlines.iloc[:, 1].values"
      ],
      "execution_count": 12,
      "outputs": []
    },
    {
      "cell_type": "markdown",
      "source": [
        "The text within tweets contain many slang words and punctuation marks. We need to preprocess and clean the text in the tweets before they can be used for training in the machine learning models. Text preprocessing is one of the most important tasks in Natural Language Processing (NLP). For example, you may want to remove all punctuation marks from text documents before they can be used for text classification.  \n",
        "\n",
        "We will use Regular Expressions (Regex) to perform the text preprocessing tasks.\n",
        "A Regular Expression is a text string that describes a search pattern which can be used to match or replace patterns inside a string with a minimal amount of code. Python's re package will be used to implement regular expressions. To learn more about regular expressions, go to this site https://stackabuse.com/using-regex-for-text-manipulation-in-python/\n"
      ],
      "metadata": {
        "id": "FnQvxIZ0tIc0"
      }
    },
    {
      "cell_type": "code",
      "metadata": {
        "id": "9L8qkDqqqvo2"
      },
      "source": [
        "# Clean the text data by preprocessing it with regular expressions. \n",
        "processed_features = []\n",
        "\n",
        "for sentence in range(0, len(features)):\n",
        "    # Remove all the special characters.\n",
        "    processed_feature = re.sub(r'\\W', ' ', str(features[sentence]))\n",
        "\n",
        "    # Remove all single characters as a result of removing the special characters.\n",
        "    processed_feature= re.sub(r'\\s+[a-zA-Z]\\s+', ' ', processed_feature)\n",
        "\n",
        "    # Remove single characters from the start.\n",
        "    processed_feature = re.sub(r'\\^[a-zA-Z]\\s+', ' ', processed_feature) \n",
        "\n",
        "    # Substitute multiple spaces with a single space.\n",
        "    processed_feature = re.sub(r'\\s+', ' ', processed_feature, flags=re.I)\n",
        "\n",
        "    # Remove prefixed 'b'.\n",
        "    processed_feature = re.sub(r'^b\\s+', '', processed_feature)\n",
        "\n",
        "    # Convert text to Lowercase.\n",
        "    processed_feature = processed_feature.lower()\n",
        "\n",
        "    processed_features.append(processed_feature)    "
      ],
      "execution_count": 15,
      "outputs": []
    },
    {
      "cell_type": "markdown",
      "source": [
        "\n",
        "\n",
        "**Converting Text to Numbers**"
      ],
      "metadata": {
        "id": "iRYaAjZc3Jw-"
      }
    },
    {
      "cell_type": "markdown",
      "source": [
        "Statistical algorithms use mathematics to train machine learning models and  mathematics only works with numbers. Therefor, to make statistical algorithms work with text, we need to convert the text into numbers. To accomplish this we will use TF-IDF which stands for Term Frequency — Inverse Document Frequency. The idea behind the TF-IDF approach is that the words that occur less in all the tweets and more in an individual tweet contribute more towards classification. The TF-IDF is a score which is applied to every word in every  tweet in our dataset. And for every word, the TF-IDF value increases with every appearance of the word in a tweet, but will gradually decrease with every appearance in other tweets.\n",
        "\n",
        "TF and IDF are calculated as follows:\n",
        "\n",
        "*   TF  = (Frequency of a word in the document)/(Total words in the document)\n",
        "*   IDF = Log((Total number of docs)/(Number of docs containing the word))\n",
        "\n",
        "\n",
        "If you would like to learn more about TF-IDF, visit this site: https://towardsdatascience.com/tf-idf-explained-and-python-sklearn-implementation-b020c5e83275\n"
      ],
      "metadata": {
        "id": "9iCliWaB5td0"
      }
    },
    {
      "cell_type": "markdown",
      "source": [
        "We will use Python's Scikit-Learn library which contains the TfidfVectorizer class that will be used to convert text features into TF-IDF feature vectors."
      ],
      "metadata": {
        "id": "GPDolwl1lQWz"
      }
    },
    {
      "cell_type": "code",
      "metadata": {
        "id": "nhXjQz2sqv04",
        "colab": {
          "base_uri": "https://localhost:8080/"
        },
        "outputId": "cdf568ed-28fd-4224-9ebb-f37aea1d9193"
      },
      "source": [
        "# Use TfidfVectorizer to convert text features into TF-IDF feature vectors.\n",
        "# max_features only uses the 2,500 most frequently occurring words.\n",
        "# min-df includes words that occur in at least 7 documents.\n",
        "# max_df includes words that occur in a maximum of 80% of the documents.\n",
        "from nltk.corpus import stopwords\n",
        "nltk.download('stopwords')\n",
        "from sklearn.feature_extraction.text import TfidfVectorizer\n",
        "\n",
        "vectorizer = TfidfVectorizer (max_features=2500, min_df=7, max_df=0.8, stop_words=stopwords.words('english'))\n",
        "processed_features = vectorizer.fit_transform(processed_features).toarray()"
      ],
      "execution_count": 16,
      "outputs": [
        {
          "output_type": "stream",
          "name": "stdout",
          "text": [
            "[nltk_data] Downloading package stopwords to /root/nltk_data...\n",
            "[nltk_data]   Unzipping corpora/stopwords.zip.\n"
          ]
        }
      ]
    },
    {
      "cell_type": "markdown",
      "source": [
        "\n",
        "\n",
        "*   max_features will use the 2500 most frequently occurring words to create a bag of words feature vector. Words that occur less frequently are not that useful for classification.\n",
        "*   min-df is set to 7 which says to include words that occur in at least 7 tweets.\n",
        "* max_df is set to 0.8 which specifies to only use those words that occur in a maximum of 80% of the tweets. Words that occur in all tweets are not useful for classification.\n"
      ],
      "metadata": {
        "id": "sWFKgDViD5-x"
      }
    },
    {
      "cell_type": "code",
      "metadata": {
        "id": "LSB1E_H8JJnD"
      },
      "source": [
        "# Use train_test_split function to generate training data and test data. Test data set will be 20% of the original data set.\n",
        "# Training data will be used to train the model. Test data will be used to evaluate the performance of the model. \n",
        "\n",
        "x_training_data, x_test_data, y_training_data, y_test_data = train_test_split(processed_features, labels, test_size=0.2, random_state=0)"
      ],
      "execution_count": 17,
      "outputs": []
    },
    {
      "cell_type": "markdown",
      "metadata": {
        "id": "OEFL1jjMfe5N"
      },
      "source": [
        "\n",
        "\n",
        "\n",
        "**We will now train models, make predictions and evaluate the performance of four different models.**"
      ]
    },
    {
      "cell_type": "markdown",
      "source": [
        "**Random Forrest Model**"
      ],
      "metadata": {
        "id": "PJjdtOLXqSUV"
      }
    },
    {
      "cell_type": "code",
      "metadata": {
        "id": "BHp9DVfAxVtc"
      },
      "source": [
        "# Create model object. \n",
        "model_rf = RandomForestClassifier(n_estimators = 200, random_state=0)\n",
        "# Train the model on the training data.\n",
        "model_rf.fit(x_training_data, y_training_data)\n",
        "# Make predictions on the test data. \n",
        "predictions_rf = model_rf.predict(x_test_data)"
      ],
      "execution_count": 18,
      "outputs": []
    },
    {
      "cell_type": "code",
      "metadata": {
        "id": "otDrlet5b7Nj",
        "colab": {
          "base_uri": "https://localhost:8080/"
        },
        "outputId": "cd1b9700-e129-48e8-eb3e-9a20df0d5728"
      },
      "source": [
        "# Calculate the Accuracy Score.\n",
        "rf = accuracy_score(y_test_data, predictions_rf)\n",
        "print(rf)"
      ],
      "execution_count": 19,
      "outputs": [
        {
          "output_type": "stream",
          "name": "stdout",
          "text": [
            "0.7599043715846995\n"
          ]
        }
      ]
    },
    {
      "cell_type": "code",
      "source": [
        "# Evaluate the performance of the model.  \n",
        "print(classification_report(y_test_data, predictions_rf))"
      ],
      "metadata": {
        "colab": {
          "base_uri": "https://localhost:8080/"
        },
        "id": "Lr7VHWFRshTr",
        "outputId": "4b5cf3fc-e09b-44fc-b348-41d967b1ab64"
      },
      "execution_count": 20,
      "outputs": [
        {
          "output_type": "stream",
          "name": "stdout",
          "text": [
            "              precision    recall  f1-score   support\n",
            "\n",
            "    negative       0.79      0.92      0.85      1870\n",
            "     neutral       0.60      0.40      0.48       614\n",
            "    positive       0.76      0.57      0.65       444\n",
            "\n",
            "    accuracy                           0.76      2928\n",
            "   macro avg       0.72      0.63      0.66      2928\n",
            "weighted avg       0.75      0.76      0.74      2928\n",
            "\n"
          ]
        }
      ]
    },
    {
      "cell_type": "markdown",
      "metadata": {
        "id": "JXeDULCTag4e"
      },
      "source": [
        "The random forrest model accurately predicted 76% of the sentiments based on the text in tweets. \n",
        "\n",
        "*   79% correctly predicted negative sentiments. \n",
        "*   60% correctly predicted neutral sentiments.\n",
        "*   76% correctly predicted positive sentiments."
      ]
    },
    {
      "cell_type": "markdown",
      "metadata": {
        "id": "m1-qya7wdTT3"
      },
      "source": [
        "**Logistic Regression Model**"
      ]
    },
    {
      "cell_type": "code",
      "source": [
        "# Create model object. \n",
        "model_lr = LogisticRegression(max_iter=150)\n",
        "# Train the model on the training data.\n",
        "model_lr.fit(x_training_data, y_training_data)\n",
        "# Make predictions on the test data. \n",
        "predictions_lr = model_lr.predict(x_test_data)"
      ],
      "metadata": {
        "id": "_gt4d-qY3B-S"
      },
      "execution_count": 23,
      "outputs": []
    },
    {
      "cell_type": "code",
      "source": [
        "# Calculate the Accuracy Score.\n",
        "lr = accuracy_score(y_test_data, predictions_lr)\n",
        "print(lr)"
      ],
      "metadata": {
        "colab": {
          "base_uri": "https://localhost:8080/"
        },
        "id": "B7EiMRoZ3CNS",
        "outputId": "4753120a-b2dd-42a3-c5ff-88d0709c7916"
      },
      "execution_count": 24,
      "outputs": [
        {
          "output_type": "stream",
          "name": "stdout",
          "text": [
            "0.7882513661202186\n"
          ]
        }
      ]
    },
    {
      "cell_type": "code",
      "source": [
        "# Show the classification report. \n",
        "print(classification_report(y_test_data, predictions_lr))"
      ],
      "metadata": {
        "colab": {
          "base_uri": "https://localhost:8080/"
        },
        "id": "-NQLNrcg3Cbv",
        "outputId": "e27b380b-430d-4d45-98ef-a785f6eaa77b"
      },
      "execution_count": 25,
      "outputs": [
        {
          "output_type": "stream",
          "name": "stdout",
          "text": [
            "              precision    recall  f1-score   support\n",
            "\n",
            "    negative       0.82      0.93      0.87      1870\n",
            "     neutral       0.64      0.50      0.56       614\n",
            "    positive       0.81      0.61      0.70       444\n",
            "\n",
            "    accuracy                           0.79      2928\n",
            "   macro avg       0.76      0.68      0.71      2928\n",
            "weighted avg       0.78      0.79      0.78      2928\n",
            "\n"
          ]
        }
      ]
    },
    {
      "cell_type": "markdown",
      "source": [
        "The logistic regression model accurately predicted 79% of the sentiments based on the text in tweets.\n",
        "\n",
        "*  82% correctly predicted negative sentiments.\n",
        "*  64% correctly predicted neutral sentiments.\n",
        "*  81% correctly predicted positive sentiments."
      ],
      "metadata": {
        "id": "DDNkB9iw3nf5"
      }
    },
    {
      "cell_type": "markdown",
      "source": [
        "\n",
        "**K Nearest Neighbors Model**"
      ],
      "metadata": {
        "id": "InG6EQXJ3666"
      }
    },
    {
      "cell_type": "code",
      "source": [
        "# Create model object. \n",
        "model_kn = KNeighborsClassifier(n_neighbors=9, leaf_size=20)\n",
        "# Train the model on the training data.\n",
        "model_kn.fit(x_training_data, y_training_data)\n",
        "# Make predictions on the test data. \n",
        "predictions_kn = model_kn.predict(x_test_data)"
      ],
      "metadata": {
        "id": "QoxhqL655Fwl"
      },
      "execution_count": 26,
      "outputs": []
    },
    {
      "cell_type": "code",
      "source": [
        "# Calculate the Accuracy Score.\n",
        "kn = accuracy_score(y_test_data, predictions_kn)\n",
        "print(kn)"
      ],
      "metadata": {
        "colab": {
          "base_uri": "https://localhost:8080/"
        },
        "id": "TKyLv6zt5F6N",
        "outputId": "5797f595-0a41-4f49-89c3-a334e5546112"
      },
      "execution_count": 27,
      "outputs": [
        {
          "output_type": "stream",
          "name": "stdout",
          "text": [
            "0.7247267759562842\n"
          ]
        }
      ]
    },
    {
      "cell_type": "code",
      "source": [
        "# Show the classification report. \n",
        "print(classification_report(y_test_data, predictions_kn))"
      ],
      "metadata": {
        "colab": {
          "base_uri": "https://localhost:8080/"
        },
        "id": "i6PcjiGY5GEP",
        "outputId": "2f7dcfc4-f97d-401a-c2de-8098ba701028"
      },
      "execution_count": 28,
      "outputs": [
        {
          "output_type": "stream",
          "name": "stdout",
          "text": [
            "              precision    recall  f1-score   support\n",
            "\n",
            "    negative       0.81      0.85      0.83      1870\n",
            "     neutral       0.49      0.47      0.48       614\n",
            "    positive       0.67      0.56      0.61       444\n",
            "\n",
            "    accuracy                           0.72      2928\n",
            "   macro avg       0.65      0.63      0.64      2928\n",
            "weighted avg       0.72      0.72      0.72      2928\n",
            "\n"
          ]
        }
      ]
    },
    {
      "cell_type": "markdown",
      "source": [
        "The K Nearest Neighbors model accurately predicted 72% of the sentiments based on the text in tweets.\n",
        "\n",
        "*  81% correctly predicted negative sentiments.\n",
        "*  49% correctly predicted neutral sentiments.\n",
        "*  67% correctly predicted positive sentiments."
      ],
      "metadata": {
        "id": "Q7BfRaZx5s3a"
      }
    },
    {
      "cell_type": "markdown",
      "metadata": {
        "id": "7JwS27SqhMTX"
      },
      "source": [
        "**Support Vector Machine Model**"
      ]
    },
    {
      "cell_type": "code",
      "metadata": {
        "id": "gaFd1YGKVzBP"
      },
      "source": [
        "# Create model object. \n",
        "model_sv = SVC()\n",
        "# Train the model on the training data.\n",
        "model_sv.fit(x_training_data, y_training_data)\n",
        "# Make predictions on the test data. \n",
        "predictions_sv = model_sv.predict(x_test_data)"
      ],
      "execution_count": 29,
      "outputs": []
    },
    {
      "cell_type": "code",
      "source": [
        "# Calculate the Accuracy Score.\n",
        "sv = accuracy_score(y_test_data, predictions_sv)\n",
        "print(sv)"
      ],
      "metadata": {
        "colab": {
          "base_uri": "https://localhost:8080/"
        },
        "id": "JSEDZIeN7cbI",
        "outputId": "66cae550-ea7b-43f3-83a0-8ea8c40d4475"
      },
      "execution_count": 30,
      "outputs": [
        {
          "output_type": "stream",
          "name": "stdout",
          "text": [
            "0.7848360655737705\n"
          ]
        }
      ]
    },
    {
      "cell_type": "code",
      "source": [
        "# Show the classification report. \n",
        "print(classification_report(y_test_data, predictions_sv))"
      ],
      "metadata": {
        "colab": {
          "base_uri": "https://localhost:8080/"
        },
        "id": "NsyQS-xZ7cm4",
        "outputId": "959e30bb-aaed-465e-da34-90ecbe651209"
      },
      "execution_count": 31,
      "outputs": [
        {
          "output_type": "stream",
          "name": "stdout",
          "text": [
            "              precision    recall  f1-score   support\n",
            "\n",
            "    negative       0.80      0.95      0.87      1870\n",
            "     neutral       0.67      0.43      0.52       614\n",
            "    positive       0.82      0.60      0.69       444\n",
            "\n",
            "    accuracy                           0.78      2928\n",
            "   macro avg       0.76      0.66      0.69      2928\n",
            "weighted avg       0.78      0.78      0.77      2928\n",
            "\n"
          ]
        }
      ]
    },
    {
      "cell_type": "markdown",
      "source": [
        "The Support Vector Machine model accurately predicted 78% of the sentiments based on the text in tweets.\n",
        "\n",
        "*  80% correctly predicted negative sentiments.\n",
        "*  67% correctly predicted neutral sentiments.\n",
        "*  82% correctly predicted positive sentiments."
      ],
      "metadata": {
        "id": "LRCOU7l17u2P"
      }
    },
    {
      "cell_type": "code",
      "source": [
        "# Show Accuraccy Score by Model.\n",
        "models = pd.DataFrame({\n",
        "    'Model':['Random Forest', 'Logistic Regression', 'KNeighbours', 'Support Vector Machine'],\n",
        "    'Accuracy_score' :[rf, lr, kn, sv]\n",
        "})\n",
        "models\n",
        "sns.barplot(x='Accuracy_score', y='Model', data=models)\n",
        "\n",
        "models.sort_values(by='Accuracy_score', ascending=False)\n"
      ],
      "metadata": {
        "colab": {
          "base_uri": "https://localhost:8080/",
          "height": 438
        },
        "id": "021e1d3u88i_",
        "outputId": "ca9ff5c6-454e-4087-bf95-8b577845700f"
      },
      "execution_count": 32,
      "outputs": [
        {
          "output_type": "execute_result",
          "data": {
            "text/html": [
              "\n",
              "  <div id=\"df-3f12673f-b8f4-4a7d-be8b-e3524f76c35a\">\n",
              "    <div class=\"colab-df-container\">\n",
              "      <div>\n",
              "<style scoped>\n",
              "    .dataframe tbody tr th:only-of-type {\n",
              "        vertical-align: middle;\n",
              "    }\n",
              "\n",
              "    .dataframe tbody tr th {\n",
              "        vertical-align: top;\n",
              "    }\n",
              "\n",
              "    .dataframe thead th {\n",
              "        text-align: right;\n",
              "    }\n",
              "</style>\n",
              "<table border=\"1\" class=\"dataframe\">\n",
              "  <thead>\n",
              "    <tr style=\"text-align: right;\">\n",
              "      <th></th>\n",
              "      <th>Model</th>\n",
              "      <th>Accuracy_score</th>\n",
              "    </tr>\n",
              "  </thead>\n",
              "  <tbody>\n",
              "    <tr>\n",
              "      <th>1</th>\n",
              "      <td>Logistic Regression</td>\n",
              "      <td>0.788251</td>\n",
              "    </tr>\n",
              "    <tr>\n",
              "      <th>3</th>\n",
              "      <td>Support Vector Machine</td>\n",
              "      <td>0.784836</td>\n",
              "    </tr>\n",
              "    <tr>\n",
              "      <th>0</th>\n",
              "      <td>Random Forest</td>\n",
              "      <td>0.759904</td>\n",
              "    </tr>\n",
              "    <tr>\n",
              "      <th>2</th>\n",
              "      <td>KNeighbours</td>\n",
              "      <td>0.724727</td>\n",
              "    </tr>\n",
              "  </tbody>\n",
              "</table>\n",
              "</div>\n",
              "      <button class=\"colab-df-convert\" onclick=\"convertToInteractive('df-3f12673f-b8f4-4a7d-be8b-e3524f76c35a')\"\n",
              "              title=\"Convert this dataframe to an interactive table.\"\n",
              "              style=\"display:none;\">\n",
              "        \n",
              "  <svg xmlns=\"http://www.w3.org/2000/svg\" height=\"24px\"viewBox=\"0 0 24 24\"\n",
              "       width=\"24px\">\n",
              "    <path d=\"M0 0h24v24H0V0z\" fill=\"none\"/>\n",
              "    <path d=\"M18.56 5.44l.94 2.06.94-2.06 2.06-.94-2.06-.94-.94-2.06-.94 2.06-2.06.94zm-11 1L8.5 8.5l.94-2.06 2.06-.94-2.06-.94L8.5 2.5l-.94 2.06-2.06.94zm10 10l.94 2.06.94-2.06 2.06-.94-2.06-.94-.94-2.06-.94 2.06-2.06.94z\"/><path d=\"M17.41 7.96l-1.37-1.37c-.4-.4-.92-.59-1.43-.59-.52 0-1.04.2-1.43.59L10.3 9.45l-7.72 7.72c-.78.78-.78 2.05 0 2.83L4 21.41c.39.39.9.59 1.41.59.51 0 1.02-.2 1.41-.59l7.78-7.78 2.81-2.81c.8-.78.8-2.07 0-2.86zM5.41 20L4 18.59l7.72-7.72 1.47 1.35L5.41 20z\"/>\n",
              "  </svg>\n",
              "      </button>\n",
              "      \n",
              "  <style>\n",
              "    .colab-df-container {\n",
              "      display:flex;\n",
              "      flex-wrap:wrap;\n",
              "      gap: 12px;\n",
              "    }\n",
              "\n",
              "    .colab-df-convert {\n",
              "      background-color: #E8F0FE;\n",
              "      border: none;\n",
              "      border-radius: 50%;\n",
              "      cursor: pointer;\n",
              "      display: none;\n",
              "      fill: #1967D2;\n",
              "      height: 32px;\n",
              "      padding: 0 0 0 0;\n",
              "      width: 32px;\n",
              "    }\n",
              "\n",
              "    .colab-df-convert:hover {\n",
              "      background-color: #E2EBFA;\n",
              "      box-shadow: 0px 1px 2px rgba(60, 64, 67, 0.3), 0px 1px 3px 1px rgba(60, 64, 67, 0.15);\n",
              "      fill: #174EA6;\n",
              "    }\n",
              "\n",
              "    [theme=dark] .colab-df-convert {\n",
              "      background-color: #3B4455;\n",
              "      fill: #D2E3FC;\n",
              "    }\n",
              "\n",
              "    [theme=dark] .colab-df-convert:hover {\n",
              "      background-color: #434B5C;\n",
              "      box-shadow: 0px 1px 3px 1px rgba(0, 0, 0, 0.15);\n",
              "      filter: drop-shadow(0px 1px 2px rgba(0, 0, 0, 0.3));\n",
              "      fill: #FFFFFF;\n",
              "    }\n",
              "  </style>\n",
              "\n",
              "      <script>\n",
              "        const buttonEl =\n",
              "          document.querySelector('#df-3f12673f-b8f4-4a7d-be8b-e3524f76c35a button.colab-df-convert');\n",
              "        buttonEl.style.display =\n",
              "          google.colab.kernel.accessAllowed ? 'block' : 'none';\n",
              "\n",
              "        async function convertToInteractive(key) {\n",
              "          const element = document.querySelector('#df-3f12673f-b8f4-4a7d-be8b-e3524f76c35a');\n",
              "          const dataTable =\n",
              "            await google.colab.kernel.invokeFunction('convertToInteractive',\n",
              "                                                     [key], {});\n",
              "          if (!dataTable) return;\n",
              "\n",
              "          const docLinkHtml = 'Like what you see? Visit the ' +\n",
              "            '<a target=\"_blank\" href=https://colab.research.google.com/notebooks/data_table.ipynb>data table notebook</a>'\n",
              "            + ' to learn more about interactive tables.';\n",
              "          element.innerHTML = '';\n",
              "          dataTable['output_type'] = 'display_data';\n",
              "          await google.colab.output.renderOutput(dataTable, element);\n",
              "          const docLink = document.createElement('div');\n",
              "          docLink.innerHTML = docLinkHtml;\n",
              "          element.appendChild(docLink);\n",
              "        }\n",
              "      </script>\n",
              "    </div>\n",
              "  </div>\n",
              "  "
            ],
            "text/plain": [
              "                    Model  Accuracy_score\n",
              "1     Logistic Regression        0.788251\n",
              "3  Support Vector Machine        0.784836\n",
              "0           Random Forest        0.759904\n",
              "2             KNeighbours        0.724727"
            ]
          },
          "metadata": {},
          "execution_count": 32
        },
        {
          "output_type": "display_data",
          "data": {
            "image/png": "[encoded data removed]",
            "text/plain": [
              "<Figure size 432x288 with 1 Axes>"
            ]
          },
          "metadata": {
            "needs_background": "light"
          }
        }
      ]
    },
    {
      "cell_type": "markdown",
      "metadata": {
        "id": "GmiA61Ej9huO"
      },
      "source": [
        "Conclusions: \n",
        "The sentiment analysis is one of the most commonly performed tasks in Natural Language Processing. This analysis helps measure and determine the overall public opinion about a specific subject matter.  \n",
        "\n",
        "The random forrest model had the highest accuracy score. This model correctly predicted 79% of the sentiments based on the text in tweets. This was closely  followed by the  support vector machine model that correctly predicted 78% of the sentiments based on the text in tweets. Both random forrest and support vector machine models were better at predicting negative and positive sentiments than neutral sentiments.    \n",
        "\n",
        "The models accuracy may be improved by having a larger dataset with more balance between different types of sentiments. Also tuning some of the models hyper parameters may increase the accuracy scores.  "
      ]
    }
  ]
}