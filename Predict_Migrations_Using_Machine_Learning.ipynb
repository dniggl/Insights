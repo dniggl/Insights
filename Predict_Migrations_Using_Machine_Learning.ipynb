{
  "nbformat": 4,
  "nbformat_minor": 0,
  "metadata": {
    "colab": {
      "name": "Predict Migrations Using Machine Learning.ipynb",
      "provenance": [],
      "collapsed_sections": [],
      "authorship_tag": "ABX9TyMzidR6DzDNtlkj6uN/UwiB",
      "include_colab_link": true
    },
    "kernelspec": {
      "name": "python3",
      "display_name": "Python 3"
    },
    "language_info": {
      "name": "python"
    }
  },
  "cells": [
    {
      "cell_type": "markdown",
      "metadata": {
        "id": "view-in-github",
        "colab_type": "text"
      },
      "source": [
        "<a href=\"https://colab.research.google.com/github/dniggl/Insights/blob/main/Predict_Migrations_Using_Machine_Learning.ipynb\" target=\"_parent\"><img src=\"https://colab.research.google.com/assets/colab-badge.svg\" alt=\"Open In Colab\"/></a>"
      ]
    },
    {
      "cell_type": "code",
      "metadata": {
        "id": "mAG3_ze2HrUs"
      },
      "source": [
        "# Predict human migration between countries. "
      ],
      "execution_count": null,
      "outputs": []
    },
    {
      "cell_type": "code",
      "metadata": {
        "id": "kl94CDD5IGz6"
      },
      "source": [
        "# Import software libraries.\n",
        "import pandas as pd\n",
        "from sklearn.model_selection import train_test_split\n",
        "from sklearn import svm \n",
        "import seaborn as sns \n",
        "import matplotlib.pyplot as plt\n",
        "from sklearn.metrics import mean_squared_error\n",
        "import numpy as np\n",
        "from sklearn.naive_bayes import GaussianNB\n",
        "from sklearn.ensemble import RandomForestRegressor"
      ],
      "execution_count": 1,
      "outputs": []
    },
    {
      "cell_type": "code",
      "metadata": {
        "id": "PN28pEHsIeg1",
        "colab": {
          "resources": {
            "http://localhost:8080/nbextensions/google.colab/files.js": {
              "data": "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",
              "ok": true,
              "headers": [
                [
                  "content-type",
                  "application/javascript"
                ]
              ],
              "status": 200,
              "status_text": ""
            }
          },
          "base_uri": "https://localhost:8080/",
          "height": 72
        },
        "outputId": "8fab3665-5d62-474a-e383-c2eae658d797"
      },
      "source": [
        "# Load the data into Colab.\n",
        "from google.colab import files # Use to load data on Google Colab\n",
        "uploaded = files.upload() # Use to load data on Google Colab\n"
      ],
      "execution_count": 2,
      "outputs": [
        {
          "output_type": "display_data",
          "data": {
            "text/html": [
              "\n",
              "     <input type=\"file\" id=\"files-fa9062ff-8fea-4342-94dc-c890cbb26a4d\" name=\"files[]\" multiple disabled\n",
              "        style=\"border:none\" />\n",
              "     <output id=\"result-fa9062ff-8fea-4342-94dc-c890cbb26a4d\">\n",
              "      Upload widget is only available when the cell has been executed in the\n",
              "      current browser session. Please rerun this cell to enable.\n",
              "      </output>\n",
              "      <script src=\"/nbextensions/google.colab/files.js\"></script> "
            ],
            "text/plain": [
              "<IPython.core.display.HTML object>"
            ]
          },
          "metadata": {}
        },
        {
          "output_type": "stream",
          "name": "stdout",
          "text": [
            "Saving migration.csv to migration.csv\n"
          ]
        }
      ]
    },
    {
      "cell_type": "code",
      "metadata": {
        "colab": {
          "base_uri": "https://localhost:8080/",
          "height": 203
        },
        "id": "p0Kiq8lEIuO5",
        "outputId": "f6d65fc9-c9a0-4500-c4b7-ae41c720400b"
      },
      "source": [
        "#Store the data into a data frame. \n",
        "migration = pd.read_csv('migration.csv')\n",
        "\n",
        "# Print the first 5 rows\n",
        "migration.head(5)  "
      ],
      "execution_count": 3,
      "outputs": [
        {
          "output_type": "execute_result",
          "data": {
            "text/html": [
              "<div>\n",
              "<style scoped>\n",
              "    .dataframe tbody tr th:only-of-type {\n",
              "        vertical-align: middle;\n",
              "    }\n",
              "\n",
              "    .dataframe tbody tr th {\n",
              "        vertical-align: top;\n",
              "    }\n",
              "\n",
              "    .dataframe thead th {\n",
              "        text-align: right;\n",
              "    }\n",
              "</style>\n",
              "<table border=\"1\" class=\"dataframe\">\n",
              "  <thead>\n",
              "    <tr style=\"text-align: right;\">\n",
              "      <th></th>\n",
              "      <th>Measure</th>\n",
              "      <th>Country</th>\n",
              "      <th>Citizenship</th>\n",
              "      <th>Year</th>\n",
              "      <th>Value</th>\n",
              "    </tr>\n",
              "  </thead>\n",
              "  <tbody>\n",
              "    <tr>\n",
              "      <th>0</th>\n",
              "      <td>Arrivals</td>\n",
              "      <td>Oceania</td>\n",
              "      <td>New Zealand Citizen</td>\n",
              "      <td>1979</td>\n",
              "      <td>11817.0</td>\n",
              "    </tr>\n",
              "    <tr>\n",
              "      <th>1</th>\n",
              "      <td>Arrivals</td>\n",
              "      <td>Oceania</td>\n",
              "      <td>Australian Citizen</td>\n",
              "      <td>1979</td>\n",
              "      <td>4436.0</td>\n",
              "    </tr>\n",
              "    <tr>\n",
              "      <th>2</th>\n",
              "      <td>Arrivals</td>\n",
              "      <td>Oceania</td>\n",
              "      <td>Total All Citizenships</td>\n",
              "      <td>1979</td>\n",
              "      <td>19965.0</td>\n",
              "    </tr>\n",
              "    <tr>\n",
              "      <th>3</th>\n",
              "      <td>Arrivals</td>\n",
              "      <td>Antarctica</td>\n",
              "      <td>New Zealand Citizen</td>\n",
              "      <td>1979</td>\n",
              "      <td>10.0</td>\n",
              "    </tr>\n",
              "    <tr>\n",
              "      <th>4</th>\n",
              "      <td>Arrivals</td>\n",
              "      <td>Antarctica</td>\n",
              "      <td>Australian Citizen</td>\n",
              "      <td>1979</td>\n",
              "      <td>0.0</td>\n",
              "    </tr>\n",
              "  </tbody>\n",
              "</table>\n",
              "</div>"
            ],
            "text/plain": [
              "    Measure     Country             Citizenship  Year    Value\n",
              "0  Arrivals     Oceania     New Zealand Citizen  1979  11817.0\n",
              "1  Arrivals     Oceania      Australian Citizen  1979   4436.0\n",
              "2  Arrivals     Oceania  Total All Citizenships  1979  19965.0\n",
              "3  Arrivals  Antarctica     New Zealand Citizen  1979     10.0\n",
              "4  Arrivals  Antarctica      Australian Citizen  1979      0.0"
            ]
          },
          "metadata": {},
          "execution_count": 3
        }
      ]
    },
    {
      "cell_type": "markdown",
      "metadata": {
        "id": "mB2UWS9m9O7E"
      },
      "source": [
        "We obtained the migration dataset from Github. This dataset includes the following variables:  \n",
        "1.   Measure - The signal type given in this row including \"Arrivals\", \"Departures\", \"Net\".\n",
        "2.   Country - Country from where people arrived into New Zealand (for Measure = \"Arrivals\") or to where they left (for Measure = \"Departures\"). Contains special values \"Not Stated\" and \"All countries\" (grand total). \n",
        "3.   Citizenship - Citizenship of the migrants including \"New Zealand Citizen\", \"Australian Citizen\", \"Total All Citizenships\". \n",
        "4.   Year - Year of the measurement (arrival or departure).\n",
        "5.   Value - Number of migrants.  \n"
      ]
    },
    {
      "cell_type": "code",
      "metadata": {
        "colab": {
          "base_uri": "https://localhost:8080/"
        },
        "id": "CJRlfWmyEf2m",
        "outputId": "02660e93-3f71-46ce-9d68-98a3ae45b698"
      },
      "source": [
        "# Show information about the data columns.\n",
        "migration.info()"
      ],
      "execution_count": 4,
      "outputs": [
        {
          "output_type": "stream",
          "name": "stdout",
          "text": [
            "<class 'pandas.core.frame.DataFrame'>\n",
            "RangeIndex: 86526 entries, 0 to 86525\n",
            "Data columns (total 5 columns):\n",
            " #   Column       Non-Null Count  Dtype  \n",
            "---  ------       --------------  -----  \n",
            " 0   Measure      86526 non-null  object \n",
            " 1   Country      86526 non-null  object \n",
            " 2   Citizenship  86526 non-null  object \n",
            " 3   Year         86526 non-null  int64  \n",
            " 4   Value        86454 non-null  float64\n",
            "dtypes: float64(1), int64(1), object(3)\n",
            "memory usage: 3.3+ MB\n"
          ]
        }
      ]
    },
    {
      "cell_type": "markdown",
      "metadata": {
        "id": "catnqljREgHD"
      },
      "source": [
        "There are 86,526 migration records and 5 variables. The data set contains object, integer and float values. "
      ]
    },
    {
      "cell_type": "code",
      "metadata": {
        "colab": {
          "base_uri": "https://localhost:8080/"
        },
        "id": "VbyyFbwPGbZ6",
        "outputId": "7a696325-e6dd-4f42-9df3-2460b047dfcc"
      },
      "source": [
        "# Check for NA or missing values in features.\n",
        "migration.isna().sum()"
      ],
      "execution_count": 5,
      "outputs": [
        {
          "output_type": "execute_result",
          "data": {
            "text/plain": [
              "Measure         0\n",
              "Country         0\n",
              "Citizenship     0\n",
              "Year            0\n",
              "Value          72\n",
              "dtype: int64"
            ]
          },
          "metadata": {},
          "execution_count": 5
        }
      ]
    },
    {
      "cell_type": "markdown",
      "metadata": {
        "id": "IPz6hoVjjj09"
      },
      "source": [
        "Value column has 72 fields with null or missing values. We will replace these null values with the median value. "
      ]
    },
    {
      "cell_type": "code",
      "metadata": {
        "id": "rl4VoxHhmDB5"
      },
      "source": [
        "# Replace null values in Value column with the median value.  \n",
        "migration[\"Value\"].fillna(migration[\"Value\"].median(),inplace=True)"
      ],
      "execution_count": 6,
      "outputs": []
    },
    {
      "cell_type": "markdown",
      "metadata": {
        "id": "wBrfOTHdq3_t"
      },
      "source": [
        "Check for unique values in the Measure column."
      ]
    },
    {
      "cell_type": "code",
      "metadata": {
        "colab": {
          "base_uri": "https://localhost:8080/"
        },
        "id": "pw1cULzImp9p",
        "outputId": "cdd7d6c6-296c-46f4-f210-5d19d0019ac8"
      },
      "source": [
        "migration['Measure'].unique()"
      ],
      "execution_count": 7,
      "outputs": [
        {
          "output_type": "execute_result",
          "data": {
            "text/plain": [
              "array(['Arrivals', 'Departures', 'Net'], dtype=object)"
            ]
          },
          "metadata": {},
          "execution_count": 7
        }
      ]
    },
    {
      "cell_type": "markdown",
      "metadata": {
        "id": "TUI-Cj9-rlMQ"
      },
      "source": [
        "We need to translate some catagorical data in preparation for running the machine learning model. First we will replace each of the unique string values in the Measure column with an integer value. Arrivals will have a value of 0, Departures will have a value of 1, and Net will have a value of 2.   "
      ]
    },
    {
      "cell_type": "code",
      "metadata": {
        "id": "nGHcKPj6qjgF"
      },
      "source": [
        "migration['Measure'].replace(\"Arrivals\",0,inplace=True)\n",
        "migration['Measure'].replace(\"Departures\",1,inplace=True)\n",
        "migration['Measure'].replace(\"Net\",2,inplace=True)"
      ],
      "execution_count": 8,
      "outputs": []
    },
    {
      "cell_type": "code",
      "metadata": {
        "colab": {
          "base_uri": "https://localhost:8080/"
        },
        "id": "JekCb2onqR4M",
        "outputId": "b31fef76-001b-4e54-b883-f6d7fc3b1306"
      },
      "source": [
        "# Verify value changes.\n",
        "migration['Measure'].unique()"
      ],
      "execution_count": 9,
      "outputs": [
        {
          "output_type": "execute_result",
          "data": {
            "text/plain": [
              "array([0, 1, 2])"
            ]
          },
          "metadata": {},
          "execution_count": 9
        }
      ]
    },
    {
      "cell_type": "markdown",
      "metadata": {
        "id": "YIwOM5isv_CV"
      },
      "source": [
        "Check for unique values in the Country column."
      ]
    },
    {
      "cell_type": "code",
      "metadata": {
        "colab": {
          "base_uri": "https://localhost:8080/"
        },
        "id": "VPsCkFd2qjtS",
        "outputId": "e622797d-ed40-4e7d-93ea-3fe9d53b65da"
      },
      "source": [
        "migration['Country'].unique()"
      ],
      "execution_count": 10,
      "outputs": [
        {
          "output_type": "execute_result",
          "data": {
            "text/plain": [
              "array(['Oceania', 'Antarctica', 'American Samoa', 'Australia',\n",
              "       'Cocos Islands', 'Cook Islands', 'Christmas Island', 'Fiji',\n",
              "       'Micronesia', 'Guam', 'Kiribati', 'Marshall Islands',\n",
              "       'Northern Mariana Islands', 'New Caledonia', 'Norfolk Island',\n",
              "       'Nauru', 'Niue', 'New Zealand', 'French Polynesia',\n",
              "       'Papua New Guinea', 'Pitcairn Island', 'Palau', 'Solomon Islands',\n",
              "       'French Southern Territories', 'Tokelau', 'Tonga', 'Tuvalu',\n",
              "       'Vanuatu', 'Wallis and Futuna', 'Samoa', 'Asia', 'Afghanistan',\n",
              "       'Armenia', 'Azerbaijan', 'Bangladesh', 'Brunei Darussalam',\n",
              "       'Bhutan', 'China', 'Georgia', 'Hong Kong', 'Indonesia', 'India',\n",
              "       'Japan', 'Kyrgyzstan', 'Cambodia', 'North Korea', 'South Korea',\n",
              "       'Kazakhstan', 'Laos', 'Sri Lanka', 'Myanmar', 'Mongolia', 'Macau',\n",
              "       'Maldives', 'Malaysia', 'Nepal', 'Philippines', 'Pakistan',\n",
              "       'Singapore', 'Thailand', 'Tajikistan', 'Timor-Leste',\n",
              "       'Turkmenistan', 'Taiwan', 'Uzbekistan', 'Vietnam', 'Europe',\n",
              "       'Andorra', 'Albania', 'Austria', 'Bosnia and Herzegovina',\n",
              "       'Belgium', 'Bulgaria', 'Belarus', 'Switzerland', 'Czechoslovakia',\n",
              "       'Cyprus', 'Czechia', 'East Germany', 'Germany', 'Denmark',\n",
              "       'Estonia', 'Spain', 'Finland', 'Faeroe Islands', 'France', 'UK',\n",
              "       'Gibraltar', 'Greenland', 'Greece', 'Croatia', 'Hungary',\n",
              "       'Ireland', 'Iceland', 'Italy', 'Kosovo', 'Liechtenstein',\n",
              "       'Lithuania', 'Luxembourg', 'Latvia', 'Monaco', 'Moldova',\n",
              "       'Montenegro', 'Macedonia', 'Malta', 'Netherlands', 'Norway',\n",
              "       'Poland', 'Portugal', 'Romania', 'Serbia', 'Russia', 'Sweden',\n",
              "       'Slovenia', 'Slovakia', 'San Marino', 'USSR', 'Ukraine',\n",
              "       'Vatican City', 'Yugoslavia/Serbia and Montenegro', 'Americas',\n",
              "       'Antigua and Barbuda', 'Anguilla', 'Netherlands Antilles',\n",
              "       'Argentina', 'Aruba', 'Barbados', 'Bermuda', 'Bolivia', 'Brazil',\n",
              "       'Bahamas', 'Belize', 'Canada', 'Chile', 'Colombia', 'Costa Rica',\n",
              "       'Cuba', 'Curacao', 'Dominica', 'Dominican Republic', 'Ecuador',\n",
              "       'Falkland Islands', 'Grenada', 'French Guiana', 'Guadeloupe',\n",
              "       'South Georgia and the South Sandwich Islands', 'Guatemala',\n",
              "       'Guyana', 'Honduras', 'Haiti', 'Jamaica', 'St Kitts and Nevis',\n",
              "       'Cayman Islands', 'St Lucia', 'Martinique', 'Montserrat', 'Mexico',\n",
              "       'Nicaragua', 'Panama', 'Peru', 'St Pierre and Miquelon',\n",
              "       'Puerto Rico', 'Paraguay', 'Suriname', 'El Salvador', 'St Maarten',\n",
              "       'Turks and Caicos', 'Trinidad and Tobago',\n",
              "       'US Minor Outlying Islands', 'USA', 'Uruguay',\n",
              "       'St Vincent and the Grenadines', 'Venezuela',\n",
              "       'British Virgin Islands', 'US Virgin Islands',\n",
              "       'Africa and the Middle East', 'UAE', 'Angola', 'Burkina Faso',\n",
              "       'Bahrain', 'Burundi', 'Benin', 'Botswana',\n",
              "       'Democratic Republic of the Congo', 'Central African Republic',\n",
              "       'Congo', \"Cote d'Ivoire\", 'Cameroon', 'Cape Verde', 'Djibouti',\n",
              "       'Algeria', 'Egypt', 'Western Sahara', 'Eritrea', 'Ethiopia',\n",
              "       'Gabon', 'Ghana', 'Gambia', 'Guinea', 'Equatorial Guinea',\n",
              "       'Guinea-Bissau', 'Israel', 'British Indian Ocean Territory',\n",
              "       'Iraq', 'Iran', 'Jordan', 'Kenya', 'Comoros', 'Kuwait', 'Lebanon',\n",
              "       'Liberia', 'Lesotho', 'Libya', 'Morocco', 'Madagascar', 'Mali',\n",
              "       'Mauritania', 'Mauritius', 'Malawi', 'Mozambique', 'Namibia',\n",
              "       'Niger', 'Nigeria', 'Oman', 'Palestine', 'Qatar', 'Reunion',\n",
              "       'Rwanda', 'Saudi Arabia', 'Seychelles', 'Sudan', 'St Helena',\n",
              "       'Sierra Leone', 'Senegal', 'Somalia', 'South Sudan',\n",
              "       'Sao Tome and Principe', 'Syria', 'Swaziland', 'Chad', 'Togo',\n",
              "       'Tunisia', 'Turkey', 'Tanzania', 'Uganda', 'South Yemen', 'Yemen',\n",
              "       'Mayotte', 'South Africa', 'Zambia', 'Zimbabwe', 'Not stated',\n",
              "       'All countries'], dtype=object)"
            ]
          },
          "metadata": {},
          "execution_count": 10
        }
      ]
    },
    {
      "cell_type": "markdown",
      "metadata": {
        "id": "cuBZJ8FJlZ89"
      },
      "source": [
        "There are 253 unique countries. We will replace each of the unique string values in the Country column with an integer value. We will use the Pandas factorize method to transform the data from text to numbers. \n"
      ]
    },
    {
      "cell_type": "code",
      "metadata": {
        "id": "eC7K_4Tjngau"
      },
      "source": [
        "migration['Country'] = pd.factorize(migration.Country)[0]"
      ],
      "execution_count": 11,
      "outputs": []
    },
    {
      "cell_type": "code",
      "metadata": {
        "colab": {
          "base_uri": "https://localhost:8080/"
        },
        "id": "Eeeu1Ka7q57P",
        "outputId": "ab2b96ec-1981-4ec1-f95a-598feb617a96"
      },
      "source": [
        "# Verify value changes.\n",
        "migration['Country'].unique()"
      ],
      "execution_count": 12,
      "outputs": [
        {
          "output_type": "execute_result",
          "data": {
            "text/plain": [
              "array([  0,   1,   2,   3,   4,   5,   6,   7,   8,   9,  10,  11,  12,\n",
              "        13,  14,  15,  16,  17,  18,  19,  20,  21,  22,  23,  24,  25,\n",
              "        26,  27,  28,  29,  30,  31,  32,  33,  34,  35,  36,  37,  38,\n",
              "        39,  40,  41,  42,  43,  44,  45,  46,  47,  48,  49,  50,  51,\n",
              "        52,  53,  54,  55,  56,  57,  58,  59,  60,  61,  62,  63,  64,\n",
              "        65,  66,  67,  68,  69,  70,  71,  72,  73,  74,  75,  76,  77,\n",
              "        78,  79,  80,  81,  82,  83,  84,  85,  86,  87,  88,  89,  90,\n",
              "        91,  92,  93,  94,  95,  96,  97,  98,  99, 100, 101, 102, 103,\n",
              "       104, 105, 106, 107, 108, 109, 110, 111, 112, 113, 114, 115, 116,\n",
              "       117, 118, 119, 120, 121, 122, 123, 124, 125, 126, 127, 128, 129,\n",
              "       130, 131, 132, 133, 134, 135, 136, 137, 138, 139, 140, 141, 142,\n",
              "       143, 144, 145, 146, 147, 148, 149, 150, 151, 152, 153, 154, 155,\n",
              "       156, 157, 158, 159, 160, 161, 162, 163, 164, 165, 166, 167, 168,\n",
              "       169, 170, 171, 172, 173, 174, 175, 176, 177, 178, 179, 180, 181,\n",
              "       182, 183, 184, 185, 186, 187, 188, 189, 190, 191, 192, 193, 194,\n",
              "       195, 196, 197, 198, 199, 200, 201, 202, 203, 204, 205, 206, 207,\n",
              "       208, 209, 210, 211, 212, 213, 214, 215, 216, 217, 218, 219, 220,\n",
              "       221, 222, 223, 224, 225, 226, 227, 228, 229, 230, 231, 232, 233,\n",
              "       234, 235, 236, 237, 238, 239, 240, 241, 242, 243, 244, 245, 246,\n",
              "       247, 248, 249, 250, 251, 252])"
            ]
          },
          "metadata": {},
          "execution_count": 12
        }
      ]
    },
    {
      "cell_type": "markdown",
      "metadata": {
        "id": "GVj0ycZR2waK"
      },
      "source": [
        "Check for unique values in the Citizenship column."
      ]
    },
    {
      "cell_type": "code",
      "metadata": {
        "colab": {
          "base_uri": "https://localhost:8080/"
        },
        "id": "KHKLKVsAdSWc",
        "outputId": "436b535f-6a2d-436e-bb6c-f2e6a71f2d10"
      },
      "source": [
        "migration['Citizenship'].unique()\n"
      ],
      "execution_count": 13,
      "outputs": [
        {
          "output_type": "execute_result",
          "data": {
            "text/plain": [
              "array(['New Zealand Citizen', 'Australian Citizen',\n",
              "       'Total All Citizenships'], dtype=object)"
            ]
          },
          "metadata": {},
          "execution_count": 13
        }
      ]
    },
    {
      "cell_type": "markdown",
      "metadata": {
        "id": "b_7Ft2703PMC"
      },
      "source": [
        "There are 3 unique citizenships. We will replace each of the unique string values in the Citizenship column with an integer value. New Zealand Citizen will have a value of 0, Australian Citizen will have a value of 1, and Total All Citizenships will have a value of 2."
      ]
    },
    {
      "cell_type": "code",
      "metadata": {
        "id": "iGI1n5PkQtGH"
      },
      "source": [
        "migration['Citizenship'].replace('New Zealand Citizen',0,inplace=True)\n",
        "migration['Citizenship'].replace('Australian Citizen',1,inplace=True)\n",
        "migration['Citizenship'].replace('Total All Citizenships',2,inplace=True)"
      ],
      "execution_count": 14,
      "outputs": []
    },
    {
      "cell_type": "code",
      "metadata": {
        "colab": {
          "base_uri": "https://localhost:8080/"
        },
        "id": "lhZEw_amrBHW",
        "outputId": "61ec5f5d-dbef-4cf1-99c1-22b76a039865"
      },
      "source": [
        "# Verify value changes.\n",
        "migration['Citizenship'].unique()"
      ],
      "execution_count": 15,
      "outputs": [
        {
          "output_type": "execute_result",
          "data": {
            "text/plain": [
              "array([0, 1, 2])"
            ]
          },
          "metadata": {},
          "execution_count": 15
        }
      ]
    },
    {
      "cell_type": "markdown",
      "metadata": {
        "id": "TuYktFOrY5eM"
      },
      "source": [
        "**Visualize the correlation between variables.**"
      ]
    },
    {
      "cell_type": "code",
      "metadata": {
        "colab": {
          "base_uri": "https://localhost:8080/",
          "height": 341
        },
        "id": "1TKkJCdwngkN",
        "outputId": "8178c519-7ef3-4594-d3cc-5077aec02296"
      },
      "source": [
        "# Visualize the features and target variable using the correlation matrix. \n",
        "# We will use the Pearson Correlation method.\n",
        "plt.figure(figsize=(9,5)) \n",
        "corr = migration.corr() \n",
        "sns.heatmap(corr, annot=True, cmap='Blues')        "
      ],
      "execution_count": 16,
      "outputs": [
        {
          "output_type": "execute_result",
          "data": {
            "text/plain": [
              "<matplotlib.axes._subplots.AxesSubplot at 0x7f9f7b103790>"
            ]
          },
          "metadata": {},
          "execution_count": 16
        },
        {
          "output_type": "display_data",
          "data": {
            "image/png": "[encoded data removed]",
            "text/plain": [
              "<Figure size 648x360 with 2 Axes>"
            ]
          },
          "metadata": {
            "needs_background": "light"
          }
        }
      ]
    },
    {
      "cell_type": "markdown",
      "metadata": {
        "id": "Dnutf29KCs9U"
      },
      "source": [
        "We will use Measure, Country, Citizenship and Year as the feature variables. We will use Value as the target variable."
      ]
    },
    {
      "cell_type": "code",
      "metadata": {
        "id": "8-azvc-Dtp1_"
      },
      "source": [
        "# Split the data into training data and test data.\n",
        "# We will divide our data into x values (the data we will use to make predictions) \n",
        "# and y values (the data we are attempting to predict).\n",
        "x_data = migration[['Country','Measure','Year','Citizenship']]\n",
        "y_data = migration['Value']"
      ],
      "execution_count": 17,
      "outputs": []
    },
    {
      "cell_type": "code",
      "metadata": {
        "id": "tCxYFoVvvC09"
      },
      "source": [
        "# Use train_test_split function to generate training data and test data.Test data set is 30% of original data set. \n",
        "x_training_data, x_test_data, y_training_data, y_test_data = train_test_split(x_data, y_data, test_size = 0.30, random_state=9)"
      ],
      "execution_count": 18,
      "outputs": []
    },
    {
      "cell_type": "markdown",
      "metadata": {
        "id": "GyG2wYELNKiD"
      },
      "source": [
        "**We will now train, predict and evaluate the performance of the Random Forrest Regressor model.**"
      ]
    },
    {
      "cell_type": "code",
      "metadata": {
        "id": "uaFLGfTIvxmX"
      },
      "source": [
        "# Create model object. \n",
        "model_rf = RandomForestRegressor(n_estimators=70,max_features = 3,max_depth=5,n_jobs=-1)\n",
        "# Train the model on the training data.\n",
        "model_rf.fit(x_training_data, y_training_data)\n",
        "# Make predictions on the test data. \n",
        "predictions_rf = model_rf.predict(x_test_data)"
      ],
      "execution_count": 19,
      "outputs": []
    },
    {
      "cell_type": "code",
      "metadata": {
        "colab": {
          "base_uri": "https://localhost:8080/"
        },
        "id": "untDqm4ASka5",
        "outputId": "1c9eb25c-413a-4608-c57a-43bd5ad83c86"
      },
      "source": [
        "# Calculate the accuracy score.  \n",
        "model_rf.score(x_test_data, y_test_data)"
      ],
      "execution_count": 20,
      "outputs": [
        {
          "output_type": "execute_result",
          "data": {
            "text/plain": [
              "0.7359227553984194"
            ]
          },
          "metadata": {},
          "execution_count": 20
        }
      ]
    },
    {
      "cell_type": "markdown",
      "metadata": {
        "id": "zdwAQFvKXjJB"
      },
      "source": [
        "The Random Forest Regressor model correctly predicted 74% of the migrations. "
      ]
    },
    {
      "cell_type": "markdown",
      "metadata": {
        "id": "I9g-pdIaA0s5"
      },
      "source": [
        "Visualize the number of people who migrated between countries by year."
      ]
    },
    {
      "cell_type": "code",
      "metadata": {
        "colab": {
          "base_uri": "https://localhost:8080/",
          "height": 355
        },
        "id": "F-dAywmRnqT9",
        "outputId": "f16d7891-32e4-4a6f-cce8-6188bc226d4d"
      },
      "source": [
        "# Visualize number of migrations by year in a line graph.\n",
        "grouped = migration.groupby(['Year']).aggregate({'Value' : 'sum'}).reset_index()\n",
        "grouped = grouped.astype(int)\n",
        "plt.figure(figsize=(9,5))\n",
        "plt.plot(grouped['Year'], grouped['Value'], color='darkblue',  marker='o')\n",
        "plt.ticklabel_format(style='plain')\n",
        "plt.xlabel('Year', fontsize=12)\n",
        "plt.ylabel('Values', fontsize=12)\n",
        "plt.title('Values by Year', fontsize=15)\n",
        "plt.grid()\n",
        "plt.show()"
      ],
      "execution_count": 21,
      "outputs": [
        {
          "output_type": "display_data",
          "data": {
            "image/png": "[encoded data removed]",
            "text/plain": [
              "<Figure size 648x360 with 1 Axes>"
            ]
          },
          "metadata": {
            "needs_background": "light"
          }
        }
      ]
    },
    {
      "cell_type": "code",
      "metadata": {
        "colab": {
          "base_uri": "https://localhost:8080/",
          "height": 441
        },
        "id": "2hIOCPawGzEl",
        "outputId": "e72c78ca-2063-4cfc-c523-3c1a322c88d9"
      },
      "source": [
        "# Visualize number of migrations by year in a bar plot graph.\n",
        "plt.figure(figsize=(9, 5))\n",
        "plt.ticklabel_format(style='plain')\n",
        "ax = sns.barplot(grouped['Year'], grouped['Value'], color='darkblue')\n",
        "ax.set_xticklabels(ax.get_xticklabels(),rotation = 90, size = 10)\n",
        "plt.xlabel('Date', fontsize=12)\n",
        "plt.ylabel('Values', fontsize=12)\n",
        "plt.title('Values by Year', fontsize=15)"
      ],
      "execution_count": null,
      "outputs": [
        {
          "output_type": "stream",
          "name": "stderr",
          "text": [
            "/usr/local/lib/python3.7/dist-packages/seaborn/_decorators.py:43: FutureWarning: Pass the following variables as keyword args: x, y. From version 0.12, the only valid positional argument will be `data`, and passing other arguments without an explicit keyword will result in an error or misinterpretation.\n",
            "  FutureWarning\n"
          ]
        },
        {
          "output_type": "execute_result",
          "data": {
            "text/plain": [
              "Text(0.5, 1.0, 'Values by Year')"
            ]
          },
          "metadata": {},
          "execution_count": 23
        },
        {
          "output_type": "display_data",
          "data": {
            "image/png": "[encoded data removed]",
            "text/plain": [
              "<Figure size 648x360 with 1 Axes>"
            ]
          },
          "metadata": {
            "needs_background": "light"
          }
        }
      ]
    },
    {
      "cell_type": "markdown",
      "metadata": {
        "id": "GmiA61Ej9huO"
      },
      "source": [
        "Conclusions: The Random Forest Regressor model correctly predicted 74% of people migrating between Countries. In general, there is a moderate  increase in the number of migrations over the time period. This finding supports what has been reported by the World Economic Forum.\n",
        "\n",
        "The models accuracy score may be improved by having a larger dataset with more features and by tuning some of the models hyper parameters.  \n",
        "\n",
        "\n"
      ]
    }
  ]
}