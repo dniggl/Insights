{
  "nbformat": 4,
  "nbformat_minor": 0,
  "metadata": {
    "colab": {
      "name": "Loan Default Prediction .ipynb",
      "provenance": [],
      "collapsed_sections": [],
      "authorship_tag": "ABX9TyOiV1U+LGQs07GAcz0zlw0g",
      "include_colab_link": true
    },
    "kernelspec": {
      "name": "python3",
      "display_name": "Python 3"
    },
    "language_info": {
      "name": "python"
    }
  },
  "cells": [
    {
      "cell_type": "markdown",
      "metadata": {
        "id": "view-in-github",
        "colab_type": "text"
      },
      "source": [
        "<a href=\"https://colab.research.google.com/github/dniggl/Insights/blob/main/Loan_Default_Prediction_.ipynb\" target=\"_parent\"><img src=\"https://colab.research.google.com/assets/colab-badge.svg\" alt=\"Open In Colab\"/></a>"
      ]
    },
    {
      "cell_type": "code",
      "metadata": {
        "id": "N8iQKgw0oWTd"
      },
      "source": [
        "# Predict if customers will default or pay off their loans.  "
      ],
      "execution_count": null,
      "outputs": []
    },
    {
      "cell_type": "code",
      "metadata": {
        "id": "5g4Ny6BHoa1c"
      },
      "source": [
        "# Import the software libraries.\n",
        "import pandas as pd\n",
        "import numpy as np\n",
        "import sklearn\n",
        "import matplotlib.pyplot as plt\n",
        "import seaborn as sns\n",
        "from matplotlib.patches import Polygon\n",
        "from sklearn.preprocessing import LabelEncoder\n",
        "from sklearn.preprocessing import StandardScaler\n",
        "from sklearn.metrics import accuracy_score, confusion_matrix\n",
        "from sklearn.linear_model import LogisticRegression\n",
        "from sklearn.tree import DecisionTreeClassifier\n",
        "from sklearn.ensemble import RandomForestClassifier\n",
        "from sklearn.neighbors import KNeighborsClassifier\n",
        "from sklearn.svm import SVC\n",
        "from sklearn.model_selection import train_test_split\n",
        "%matplotlib inline"
      ],
      "execution_count": 2,
      "outputs": []
    },
    {
      "cell_type": "markdown",
      "metadata": {
        "id": "-8VC15KsFiXc"
      },
      "source": [
        "The data set for this project can be found on Github at this location:\n",
        "https://datascienceuwl.github.io/Project2018/loans50k.csv"
      ]
    },
    {
      "cell_type": "code",
      "metadata": {
        "colab": {
          "resources": {
            "http://localhost:8080/nbextensions/google.colab/files.js": {
              "data": "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",
              "ok": true,
              "headers": [
                [
                  "content-type",
                  "application/javascript"
                ]
              ],
              "status": 200,
              "status_text": ""
            }
          },
          "base_uri": "https://localhost:8080/",
          "height": 73
        },
        "id": "vME75emaoiLi",
        "outputId": "dfae757f-6eac-423d-9572-0428b2162ae3"
      },
      "source": [
        "# Load the data into Google Colab. \n",
        "from google.colab import files  \n",
        "uploaded = files.upload() "
      ],
      "execution_count": 3,
      "outputs": [
        {
          "output_type": "display_data",
          "data": {
            "text/html": [
              "\n",
              "     <input type=\"file\" id=\"files-66b793c6-ee6a-47a9-a8c1-35efc856305e\" name=\"files[]\" multiple disabled\n",
              "        style=\"border:none\" />\n",
              "     <output id=\"result-66b793c6-ee6a-47a9-a8c1-35efc856305e\">\n",
              "      Upload widget is only available when the cell has been executed in the\n",
              "      current browser session. Please rerun this cell to enable.\n",
              "      </output>\n",
              "      <script src=\"/nbextensions/google.colab/files.js\"></script> "
            ],
            "text/plain": [
              "<IPython.core.display.HTML object>"
            ]
          },
          "metadata": {}
        },
        {
          "output_type": "stream",
          "name": "stdout",
          "text": [
            "Saving loans50k.csv to loans50k.csv\n"
          ]
        }
      ]
    },
    {
      "cell_type": "code",
      "metadata": {
        "id": "yvyWXWhso5Hx"
      },
      "source": [
        "# Store the data into a data frame.\n",
        "loans = pd.read_csv('loans50k.csv',  encoding = 'latin-1')"
      ],
      "execution_count": 4,
      "outputs": []
    },
    {
      "cell_type": "code",
      "metadata": {
        "colab": {
          "base_uri": "https://localhost:8080/",
          "height": 313
        },
        "id": "yAN0gEaw9Fbt",
        "outputId": "e1c5674d-70ee-4278-8f1d-825a285d153f"
      },
      "source": [
        "# Data analysis and exploration. \n",
        "# Print the first 5 rows\n",
        "loans.head(5) "
      ],
      "execution_count": 5,
      "outputs": [
        {
          "output_type": "execute_result",
          "data": {
            "text/html": [
              "<div>\n",
              "<style scoped>\n",
              "    .dataframe tbody tr th:only-of-type {\n",
              "        vertical-align: middle;\n",
              "    }\n",
              "\n",
              "    .dataframe tbody tr th {\n",
              "        vertical-align: top;\n",
              "    }\n",
              "\n",
              "    .dataframe thead th {\n",
              "        text-align: right;\n",
              "    }\n",
              "</style>\n",
              "<table border=\"1\" class=\"dataframe\">\n",
              "  <thead>\n",
              "    <tr style=\"text-align: right;\">\n",
              "      <th></th>\n",
              "      <th>loanID</th>\n",
              "      <th>amount</th>\n",
              "      <th>term</th>\n",
              "      <th>rate</th>\n",
              "      <th>payment</th>\n",
              "      <th>grade</th>\n",
              "      <th>employment</th>\n",
              "      <th>length</th>\n",
              "      <th>home</th>\n",
              "      <th>income</th>\n",
              "      <th>verified</th>\n",
              "      <th>status</th>\n",
              "      <th>reason</th>\n",
              "      <th>state</th>\n",
              "      <th>debtIncRat</th>\n",
              "      <th>delinq2yr</th>\n",
              "      <th>inq6mth</th>\n",
              "      <th>openAcc</th>\n",
              "      <th>pubRec</th>\n",
              "      <th>revolRatio</th>\n",
              "      <th>totalAcc</th>\n",
              "      <th>totalPaid</th>\n",
              "      <th>totalBal</th>\n",
              "      <th>totalRevLim</th>\n",
              "      <th>accOpen24</th>\n",
              "      <th>avgBal</th>\n",
              "      <th>bcOpen</th>\n",
              "      <th>bcRatio</th>\n",
              "      <th>totalLim</th>\n",
              "      <th>totalRevBal</th>\n",
              "      <th>totalBcLim</th>\n",
              "      <th>totalIlLim</th>\n",
              "    </tr>\n",
              "  </thead>\n",
              "  <tbody>\n",
              "    <tr>\n",
              "      <th>0</th>\n",
              "      <td>188861</td>\n",
              "      <td>8000.0</td>\n",
              "      <td>36 months</td>\n",
              "      <td>0.14</td>\n",
              "      <td>272.07</td>\n",
              "      <td>C</td>\n",
              "      <td>Warehouseman</td>\n",
              "      <td>3 years</td>\n",
              "      <td>RENT</td>\n",
              "      <td>49966.0</td>\n",
              "      <td>Source Verified</td>\n",
              "      <td>Charged Off</td>\n",
              "      <td>credit_card</td>\n",
              "      <td>CA</td>\n",
              "      <td>30.05</td>\n",
              "      <td>0.0</td>\n",
              "      <td>0.0</td>\n",
              "      <td>11.0</td>\n",
              "      <td>0.0</td>\n",
              "      <td>0.55</td>\n",
              "      <td>15.0</td>\n",
              "      <td>5914.67000</td>\n",
              "      <td>48054.0</td>\n",
              "      <td>8100.0</td>\n",
              "      <td>8.0</td>\n",
              "      <td>4369.0</td>\n",
              "      <td>43.0</td>\n",
              "      <td>95.7</td>\n",
              "      <td>60629.0</td>\n",
              "      <td>48054.0</td>\n",
              "      <td>1000.0</td>\n",
              "      <td>52529.0</td>\n",
              "    </tr>\n",
              "    <tr>\n",
              "      <th>1</th>\n",
              "      <td>517703</td>\n",
              "      <td>11000.0</td>\n",
              "      <td>36 months</td>\n",
              "      <td>0.10</td>\n",
              "      <td>354.89</td>\n",
              "      <td>B</td>\n",
              "      <td>Vice President</td>\n",
              "      <td>10+ years</td>\n",
              "      <td>MORTGAGE</td>\n",
              "      <td>50000.0</td>\n",
              "      <td>Not Verified</td>\n",
              "      <td>Fully Paid</td>\n",
              "      <td>debt_consolidation</td>\n",
              "      <td>PA</td>\n",
              "      <td>8.74</td>\n",
              "      <td>0.0</td>\n",
              "      <td>2.0</td>\n",
              "      <td>12.0</td>\n",
              "      <td>0.0</td>\n",
              "      <td>0.36</td>\n",
              "      <td>15.0</td>\n",
              "      <td>12024.75000</td>\n",
              "      <td>265838.0</td>\n",
              "      <td>33400.0</td>\n",
              "      <td>4.0</td>\n",
              "      <td>22153.0</td>\n",
              "      <td>19756.0</td>\n",
              "      <td>37.5</td>\n",
              "      <td>297500.0</td>\n",
              "      <td>11844.0</td>\n",
              "      <td>31600.0</td>\n",
              "      <td>0.0</td>\n",
              "    </tr>\n",
              "    <tr>\n",
              "      <th>2</th>\n",
              "      <td>268587</td>\n",
              "      <td>35000.0</td>\n",
              "      <td>36 months</td>\n",
              "      <td>0.15</td>\n",
              "      <td>1220.33</td>\n",
              "      <td>D</td>\n",
              "      <td>Owner/Attorney</td>\n",
              "      <td>10+ years</td>\n",
              "      <td>RENT</td>\n",
              "      <td>360000.0</td>\n",
              "      <td>Verified</td>\n",
              "      <td>Current</td>\n",
              "      <td>debt_consolidation</td>\n",
              "      <td>CA</td>\n",
              "      <td>14.50</td>\n",
              "      <td>0.0</td>\n",
              "      <td>1.0</td>\n",
              "      <td>8.0</td>\n",
              "      <td>0.0</td>\n",
              "      <td>0.83</td>\n",
              "      <td>14.0</td>\n",
              "      <td>31668.65000</td>\n",
              "      <td>850150.0</td>\n",
              "      <td>83000.0</td>\n",
              "      <td>2.0</td>\n",
              "      <td>121450.0</td>\n",
              "      <td>7686.0</td>\n",
              "      <td>83.2</td>\n",
              "      <td>907300.0</td>\n",
              "      <td>173260.0</td>\n",
              "      <td>83000.0</td>\n",
              "      <td>100000.0</td>\n",
              "    </tr>\n",
              "    <tr>\n",
              "      <th>3</th>\n",
              "      <td>579902</td>\n",
              "      <td>20000.0</td>\n",
              "      <td>60 months</td>\n",
              "      <td>0.12</td>\n",
              "      <td>447.83</td>\n",
              "      <td>C</td>\n",
              "      <td>Analyst</td>\n",
              "      <td>2 years</td>\n",
              "      <td>MORTGAGE</td>\n",
              "      <td>60000.0</td>\n",
              "      <td>Source Verified</td>\n",
              "      <td>Fully Paid</td>\n",
              "      <td>debt_consolidation</td>\n",
              "      <td>CA</td>\n",
              "      <td>14.14</td>\n",
              "      <td>0.0</td>\n",
              "      <td>0.0</td>\n",
              "      <td>12.0</td>\n",
              "      <td>3.0</td>\n",
              "      <td>0.01</td>\n",
              "      <td>48.0</td>\n",
              "      <td>23827.22901</td>\n",
              "      <td>20671.0</td>\n",
              "      <td>14200.0</td>\n",
              "      <td>8.0</td>\n",
              "      <td>1723.0</td>\n",
              "      <td>11061.0</td>\n",
              "      <td>1.2</td>\n",
              "      <td>46964.0</td>\n",
              "      <td>20671.0</td>\n",
              "      <td>11200.0</td>\n",
              "      <td>32764.0</td>\n",
              "    </tr>\n",
              "    <tr>\n",
              "      <th>4</th>\n",
              "      <td>617630</td>\n",
              "      <td>12000.0</td>\n",
              "      <td>60 months</td>\n",
              "      <td>0.12</td>\n",
              "      <td>266.88</td>\n",
              "      <td>B</td>\n",
              "      <td>medical technician</td>\n",
              "      <td>10+ years</td>\n",
              "      <td>MORTGAGE</td>\n",
              "      <td>64000.0</td>\n",
              "      <td>Source Verified</td>\n",
              "      <td>Current</td>\n",
              "      <td>debt_consolidation</td>\n",
              "      <td>NJ</td>\n",
              "      <td>5.14</td>\n",
              "      <td>0.0</td>\n",
              "      <td>0.0</td>\n",
              "      <td>8.0</td>\n",
              "      <td>0.0</td>\n",
              "      <td>0.58</td>\n",
              "      <td>22.0</td>\n",
              "      <td>9599.69000</td>\n",
              "      <td>128034.0</td>\n",
              "      <td>14600.0</td>\n",
              "      <td>3.0</td>\n",
              "      <td>18291.0</td>\n",
              "      <td>5904.0</td>\n",
              "      <td>58.4</td>\n",
              "      <td>134600.0</td>\n",
              "      <td>8475.0</td>\n",
              "      <td>14200.0</td>\n",
              "      <td>0.0</td>\n",
              "    </tr>\n",
              "  </tbody>\n",
              "</table>\n",
              "</div>"
            ],
            "text/plain": [
              "   loanID   amount        term  ...  totalRevBal  totalBcLim totalIlLim\n",
              "0  188861   8000.0   36 months  ...      48054.0      1000.0    52529.0\n",
              "1  517703  11000.0   36 months  ...      11844.0     31600.0        0.0\n",
              "2  268587  35000.0   36 months  ...     173260.0     83000.0   100000.0\n",
              "3  579902  20000.0   60 months  ...      20671.0     11200.0    32764.0\n",
              "4  617630  12000.0   60 months  ...       8475.0     14200.0        0.0\n",
              "\n",
              "[5 rows x 32 columns]"
            ]
          },
          "metadata": {},
          "execution_count": 5
        }
      ]
    },
    {
      "cell_type": "markdown",
      "metadata": {
        "id": "qMutU5NLF2BW"
      },
      "source": [
        "The data set contains information about customers who have fully paid off their loans, current on their payments, in grace period, late , and in collection. Definitions for the data variables are shown below.   \n",
        "\n",
        "   **Variable\t  /   Description**\n",
        "*  amount -\t    loan amount in dollars\n",
        "*  term   -\t      loan term is 36 or 60 months\n",
        "*  rate\t  -    interest rate as a decimal\n",
        "*  payment -\t  monthly payment amount\n",
        "*  grade\t -   grade of loan: A is least risk, G is most risk\n",
        "*  employment -\tjob title of applicant\n",
        "\n",
        "\n",
        "* length -\ttime continuously employed\n",
        "* home -\thome ownership: rent, own, mortgage\n",
        "* income -\tannual income in dollars\n",
        "* verified -\tverification status of annual income\n",
        "* status -\tloan status: DEFAULT, CURRENT, CHARGED OFF, etc.\n",
        "* reason -\tapplicants purpose for the loan\n",
        "* state -\ttwo letter state code of applicant\n",
        "* debtIncRat -\tratio monthly non-mortgage debt payment to monthly income\n",
        "* delinq2yr -\tnumber of 30+ day late payments in last two years\n",
        "* inq6mth -\tnumber of credit checks in the past 6 months\n",
        "* openAcc -\tnumber of open credit lines\n",
        "* pubRec -\tnumber of derogatory public records including bankruptcy filings, tax liens, etc.\n",
        "* revolRatio -\tproportion of revoling credit in use\n",
        "* totalAcc -\ttotal number of credit lines in file (both open & closed accounts)\n",
        "* totalPaid -\ttotal amount repaid to bank (THIS IS NOT A PREDICTOR SINCE IT CAN ONLY BE DETERMINED AFTER A LOAN IS ISSUED)\n",
        "* totalBal -\ttotal current balance of all credit accounts\n",
        "* totalRevLim -\tsum of credit limits from all credit lines\n",
        "* accOpen24 -\thow many accounts were opened in the past 24 months\n",
        "* avgBal -\taverage balance per account\n",
        "* bcOpen -\ttotal unused credit on credit cards\n",
        "* bcRatio -\tratio of total credit card balance to total credit card lmits\n",
        "* totalLim -\ttotal credit limits\n",
        "* totalRevBal -\ttotal credit balance except mortgages\n",
        "* totalBcLim -\ttotal credit limits of credit cards\n",
        "* totalIlLim -\ttotal of credit limits for installment accounts "
      ]
    },
    {
      "cell_type": "code",
      "metadata": {
        "colab": {
          "base_uri": "https://localhost:8080/"
        },
        "id": "aViHn22B_sIq",
        "outputId": "b63e475f-3e0d-4477-f62a-8bed220a3a20"
      },
      "source": [
        "# Show information about the dataframe.\n",
        "loans.info()"
      ],
      "execution_count": 6,
      "outputs": [
        {
          "output_type": "stream",
          "name": "stdout",
          "text": [
            "<class 'pandas.core.frame.DataFrame'>\n",
            "RangeIndex: 50000 entries, 0 to 49999\n",
            "Data columns (total 32 columns):\n",
            " #   Column       Non-Null Count  Dtype  \n",
            "---  ------       --------------  -----  \n",
            " 0   loanID       50000 non-null  int64  \n",
            " 1   amount       49999 non-null  float64\n",
            " 2   term         49999 non-null  object \n",
            " 3   rate         49999 non-null  float64\n",
            " 4   payment      49999 non-null  float64\n",
            " 5   grade        49999 non-null  object \n",
            " 6   employment   47215 non-null  object \n",
            " 7   length       47319 non-null  object \n",
            " 8   home         49999 non-null  object \n",
            " 9   income       49999 non-null  float64\n",
            " 10  verified     49999 non-null  object \n",
            " 11  status       49999 non-null  object \n",
            " 12  reason       49999 non-null  object \n",
            " 13  state        49999 non-null  object \n",
            " 14  debtIncRat   49999 non-null  float64\n",
            " 15  delinq2yr    49999 non-null  float64\n",
            " 16  inq6mth      49999 non-null  float64\n",
            " 17  openAcc      49999 non-null  float64\n",
            " 18  pubRec       49999 non-null  float64\n",
            " 19  revolRatio   49981 non-null  float64\n",
            " 20  totalAcc     49999 non-null  float64\n",
            " 21  totalPaid    49999 non-null  float64\n",
            " 22  totalBal     49999 non-null  float64\n",
            " 23  totalRevLim  49999 non-null  float64\n",
            " 24  accOpen24    49999 non-null  float64\n",
            " 25  avgBal       49999 non-null  float64\n",
            " 26  bcOpen       49511 non-null  float64\n",
            " 27  bcRatio      49479 non-null  float64\n",
            " 28  totalLim     49999 non-null  float64\n",
            " 29  totalRevBal  49999 non-null  float64\n",
            " 30  totalBcLim   49999 non-null  float64\n",
            " 31  totalIlLim   49999 non-null  float64\n",
            "dtypes: float64(22), int64(1), object(9)\n",
            "memory usage: 12.2+ MB\n"
          ]
        }
      ]
    },
    {
      "cell_type": "markdown",
      "metadata": {
        "id": "Zt7GkWY-8EmR"
      },
      "source": [
        "There are 50,000 loan records and 32 features. The data set contains numeric and categorical variables with some missing values. The loan status feature will be the target variable."
      ]
    },
    {
      "cell_type": "code",
      "metadata": {
        "colab": {
          "base_uri": "https://localhost:8080/"
        },
        "id": "pORBgTiIqUPE",
        "outputId": "b4d3eaaf-c947-4057-c797-9227d7d47526"
      },
      "source": [
        "# Check for NA or missing values in features.\n",
        "loans.isna().sum()"
      ],
      "execution_count": 7,
      "outputs": [
        {
          "output_type": "execute_result",
          "data": {
            "text/plain": [
              "loanID            0\n",
              "amount            1\n",
              "term              1\n",
              "rate              1\n",
              "payment           1\n",
              "grade             1\n",
              "employment     2785\n",
              "length         2681\n",
              "home              1\n",
              "income            1\n",
              "verified          1\n",
              "status            1\n",
              "reason            1\n",
              "state             1\n",
              "debtIncRat        1\n",
              "delinq2yr         1\n",
              "inq6mth           1\n",
              "openAcc           1\n",
              "pubRec            1\n",
              "revolRatio       19\n",
              "totalAcc          1\n",
              "totalPaid         1\n",
              "totalBal          1\n",
              "totalRevLim       1\n",
              "accOpen24         1\n",
              "avgBal            1\n",
              "bcOpen          489\n",
              "bcRatio         521\n",
              "totalLim          1\n",
              "totalRevBal       1\n",
              "totalBcLim        1\n",
              "totalIlLim        1\n",
              "dtype: int64"
            ]
          },
          "metadata": {},
          "execution_count": 7
        }
      ]
    },
    {
      "cell_type": "markdown",
      "metadata": {
        "id": "OfCmOV6Q5bMr"
      },
      "source": [
        "We need to evaluate features with null or missing values and decide how they will be handled. "
      ]
    },
    {
      "cell_type": "code",
      "metadata": {
        "colab": {
          "base_uri": "https://localhost:8080/",
          "height": 226
        },
        "id": "SGSKxc0t-mFn",
        "outputId": "ba0bd354-469d-4b74-acb3-ddc6a4fde7eb"
      },
      "source": [
        "# Find boolean values (true/false) for all features.  \n",
        "loans_missing = loans.isna()\n",
        "loans_missing.head()"
      ],
      "execution_count": 8,
      "outputs": [
        {
          "output_type": "execute_result",
          "data": {
            "text/html": [
              "<div>\n",
              "<style scoped>\n",
              "    .dataframe tbody tr th:only-of-type {\n",
              "        vertical-align: middle;\n",
              "    }\n",
              "\n",
              "    .dataframe tbody tr th {\n",
              "        vertical-align: top;\n",
              "    }\n",
              "\n",
              "    .dataframe thead th {\n",
              "        text-align: right;\n",
              "    }\n",
              "</style>\n",
              "<table border=\"1\" class=\"dataframe\">\n",
              "  <thead>\n",
              "    <tr style=\"text-align: right;\">\n",
              "      <th></th>\n",
              "      <th>loanID</th>\n",
              "      <th>amount</th>\n",
              "      <th>term</th>\n",
              "      <th>rate</th>\n",
              "      <th>payment</th>\n",
              "      <th>grade</th>\n",
              "      <th>employment</th>\n",
              "      <th>length</th>\n",
              "      <th>home</th>\n",
              "      <th>income</th>\n",
              "      <th>verified</th>\n",
              "      <th>status</th>\n",
              "      <th>reason</th>\n",
              "      <th>state</th>\n",
              "      <th>debtIncRat</th>\n",
              "      <th>delinq2yr</th>\n",
              "      <th>inq6mth</th>\n",
              "      <th>openAcc</th>\n",
              "      <th>pubRec</th>\n",
              "      <th>revolRatio</th>\n",
              "      <th>totalAcc</th>\n",
              "      <th>totalPaid</th>\n",
              "      <th>totalBal</th>\n",
              "      <th>totalRevLim</th>\n",
              "      <th>accOpen24</th>\n",
              "      <th>avgBal</th>\n",
              "      <th>bcOpen</th>\n",
              "      <th>bcRatio</th>\n",
              "      <th>totalLim</th>\n",
              "      <th>totalRevBal</th>\n",
              "      <th>totalBcLim</th>\n",
              "      <th>totalIlLim</th>\n",
              "    </tr>\n",
              "  </thead>\n",
              "  <tbody>\n",
              "    <tr>\n",
              "      <th>0</th>\n",
              "      <td>False</td>\n",
              "      <td>False</td>\n",
              "      <td>False</td>\n",
              "      <td>False</td>\n",
              "      <td>False</td>\n",
              "      <td>False</td>\n",
              "      <td>False</td>\n",
              "      <td>False</td>\n",
              "      <td>False</td>\n",
              "      <td>False</td>\n",
              "      <td>False</td>\n",
              "      <td>False</td>\n",
              "      <td>False</td>\n",
              "      <td>False</td>\n",
              "      <td>False</td>\n",
              "      <td>False</td>\n",
              "      <td>False</td>\n",
              "      <td>False</td>\n",
              "      <td>False</td>\n",
              "      <td>False</td>\n",
              "      <td>False</td>\n",
              "      <td>False</td>\n",
              "      <td>False</td>\n",
              "      <td>False</td>\n",
              "      <td>False</td>\n",
              "      <td>False</td>\n",
              "      <td>False</td>\n",
              "      <td>False</td>\n",
              "      <td>False</td>\n",
              "      <td>False</td>\n",
              "      <td>False</td>\n",
              "      <td>False</td>\n",
              "    </tr>\n",
              "    <tr>\n",
              "      <th>1</th>\n",
              "      <td>False</td>\n",
              "      <td>False</td>\n",
              "      <td>False</td>\n",
              "      <td>False</td>\n",
              "      <td>False</td>\n",
              "      <td>False</td>\n",
              "      <td>False</td>\n",
              "      <td>False</td>\n",
              "      <td>False</td>\n",
              "      <td>False</td>\n",
              "      <td>False</td>\n",
              "      <td>False</td>\n",
              "      <td>False</td>\n",
              "      <td>False</td>\n",
              "      <td>False</td>\n",
              "      <td>False</td>\n",
              "      <td>False</td>\n",
              "      <td>False</td>\n",
              "      <td>False</td>\n",
              "      <td>False</td>\n",
              "      <td>False</td>\n",
              "      <td>False</td>\n",
              "      <td>False</td>\n",
              "      <td>False</td>\n",
              "      <td>False</td>\n",
              "      <td>False</td>\n",
              "      <td>False</td>\n",
              "      <td>False</td>\n",
              "      <td>False</td>\n",
              "      <td>False</td>\n",
              "      <td>False</td>\n",
              "      <td>False</td>\n",
              "    </tr>\n",
              "    <tr>\n",
              "      <th>2</th>\n",
              "      <td>False</td>\n",
              "      <td>False</td>\n",
              "      <td>False</td>\n",
              "      <td>False</td>\n",
              "      <td>False</td>\n",
              "      <td>False</td>\n",
              "      <td>False</td>\n",
              "      <td>False</td>\n",
              "      <td>False</td>\n",
              "      <td>False</td>\n",
              "      <td>False</td>\n",
              "      <td>False</td>\n",
              "      <td>False</td>\n",
              "      <td>False</td>\n",
              "      <td>False</td>\n",
              "      <td>False</td>\n",
              "      <td>False</td>\n",
              "      <td>False</td>\n",
              "      <td>False</td>\n",
              "      <td>False</td>\n",
              "      <td>False</td>\n",
              "      <td>False</td>\n",
              "      <td>False</td>\n",
              "      <td>False</td>\n",
              "      <td>False</td>\n",
              "      <td>False</td>\n",
              "      <td>False</td>\n",
              "      <td>False</td>\n",
              "      <td>False</td>\n",
              "      <td>False</td>\n",
              "      <td>False</td>\n",
              "      <td>False</td>\n",
              "    </tr>\n",
              "    <tr>\n",
              "      <th>3</th>\n",
              "      <td>False</td>\n",
              "      <td>False</td>\n",
              "      <td>False</td>\n",
              "      <td>False</td>\n",
              "      <td>False</td>\n",
              "      <td>False</td>\n",
              "      <td>False</td>\n",
              "      <td>False</td>\n",
              "      <td>False</td>\n",
              "      <td>False</td>\n",
              "      <td>False</td>\n",
              "      <td>False</td>\n",
              "      <td>False</td>\n",
              "      <td>False</td>\n",
              "      <td>False</td>\n",
              "      <td>False</td>\n",
              "      <td>False</td>\n",
              "      <td>False</td>\n",
              "      <td>False</td>\n",
              "      <td>False</td>\n",
              "      <td>False</td>\n",
              "      <td>False</td>\n",
              "      <td>False</td>\n",
              "      <td>False</td>\n",
              "      <td>False</td>\n",
              "      <td>False</td>\n",
              "      <td>False</td>\n",
              "      <td>False</td>\n",
              "      <td>False</td>\n",
              "      <td>False</td>\n",
              "      <td>False</td>\n",
              "      <td>False</td>\n",
              "    </tr>\n",
              "    <tr>\n",
              "      <th>4</th>\n",
              "      <td>False</td>\n",
              "      <td>False</td>\n",
              "      <td>False</td>\n",
              "      <td>False</td>\n",
              "      <td>False</td>\n",
              "      <td>False</td>\n",
              "      <td>False</td>\n",
              "      <td>False</td>\n",
              "      <td>False</td>\n",
              "      <td>False</td>\n",
              "      <td>False</td>\n",
              "      <td>False</td>\n",
              "      <td>False</td>\n",
              "      <td>False</td>\n",
              "      <td>False</td>\n",
              "      <td>False</td>\n",
              "      <td>False</td>\n",
              "      <td>False</td>\n",
              "      <td>False</td>\n",
              "      <td>False</td>\n",
              "      <td>False</td>\n",
              "      <td>False</td>\n",
              "      <td>False</td>\n",
              "      <td>False</td>\n",
              "      <td>False</td>\n",
              "      <td>False</td>\n",
              "      <td>False</td>\n",
              "      <td>False</td>\n",
              "      <td>False</td>\n",
              "      <td>False</td>\n",
              "      <td>False</td>\n",
              "      <td>False</td>\n",
              "    </tr>\n",
              "  </tbody>\n",
              "</table>\n",
              "</div>"
            ],
            "text/plain": [
              "   loanID  amount   term   rate  ...  totalLim  totalRevBal  totalBcLim  totalIlLim\n",
              "0   False   False  False  False  ...     False        False       False       False\n",
              "1   False   False  False  False  ...     False        False       False       False\n",
              "2   False   False  False  False  ...     False        False       False       False\n",
              "3   False   False  False  False  ...     False        False       False       False\n",
              "4   False   False  False  False  ...     False        False       False       False\n",
              "\n",
              "[5 rows x 32 columns]"
            ]
          },
          "metadata": {},
          "execution_count": 8
        }
      ]
    },
    {
      "cell_type": "code",
      "metadata": {
        "colab": {
          "base_uri": "https://localhost:8080/"
        },
        "id": "wym3063o-mXn",
        "outputId": "15d36b77-5715-4cdf-9616-a62c69f77aaf"
      },
      "source": [
        "# Sum the boolean values for each feature. This shows the number of null values for each feature.\n",
        ">>> loans_num_missing = loans_missing.sum()\n",
        ">>> loans_num_missing"
      ],
      "execution_count": 9,
      "outputs": [
        {
          "output_type": "execute_result",
          "data": {
            "text/plain": [
              "loanID            0\n",
              "amount            1\n",
              "term              1\n",
              "rate              1\n",
              "payment           1\n",
              "grade             1\n",
              "employment     2785\n",
              "length         2681\n",
              "home              1\n",
              "income            1\n",
              "verified          1\n",
              "status            1\n",
              "reason            1\n",
              "state             1\n",
              "debtIncRat        1\n",
              "delinq2yr         1\n",
              "inq6mth           1\n",
              "openAcc           1\n",
              "pubRec            1\n",
              "revolRatio       19\n",
              "totalAcc          1\n",
              "totalPaid         1\n",
              "totalBal          1\n",
              "totalRevLim       1\n",
              "accOpen24         1\n",
              "avgBal            1\n",
              "bcOpen          489\n",
              "bcRatio         521\n",
              "totalLim          1\n",
              "totalRevBal       1\n",
              "totalBcLim        1\n",
              "totalIlLim        1\n",
              "dtype: int64"
            ]
          },
          "metadata": {},
          "execution_count": 9
        }
      ]
    },
    {
      "cell_type": "code",
      "metadata": {
        "colab": {
          "base_uri": "https://localhost:8080/"
        },
        "id": "CrtUKYAN-mk5",
        "outputId": "a459bba0-c079-43c8-b5c5-78c00ff41fde"
      },
      "source": [
        "# Find the percentage of missing values for each feature.\n",
        "len(loans)\n",
        "loans_num_missing / len(loans) * 100"
      ],
      "execution_count": 10,
      "outputs": [
        {
          "output_type": "execute_result",
          "data": {
            "text/plain": [
              "loanID         0.000\n",
              "amount         0.002\n",
              "term           0.002\n",
              "rate           0.002\n",
              "payment        0.002\n",
              "grade          0.002\n",
              "employment     5.570\n",
              "length         5.362\n",
              "home           0.002\n",
              "income         0.002\n",
              "verified       0.002\n",
              "status         0.002\n",
              "reason         0.002\n",
              "state          0.002\n",
              "debtIncRat     0.002\n",
              "delinq2yr      0.002\n",
              "inq6mth        0.002\n",
              "openAcc        0.002\n",
              "pubRec         0.002\n",
              "revolRatio     0.038\n",
              "totalAcc       0.002\n",
              "totalPaid      0.002\n",
              "totalBal       0.002\n",
              "totalRevLim    0.002\n",
              "accOpen24      0.002\n",
              "avgBal         0.002\n",
              "bcOpen         0.978\n",
              "bcRatio        1.042\n",
              "totalLim       0.002\n",
              "totalRevBal    0.002\n",
              "totalBcLim     0.002\n",
              "totalIlLim     0.002\n",
              "dtype: float64"
            ]
          },
          "metadata": {},
          "execution_count": 10
        }
      ]
    },
    {
      "cell_type": "markdown",
      "metadata": {
        "id": "ZSKzHYF7-m-c"
      },
      "source": [
        "We see that most of the variables are missing around 0.002% of data except employment at 5.570%, length (time continuously employed) at 5.362%, revolRatio (proportion of revoling credit in use) at 0.038%, bcOpen(total unused credit on credit cards) at 0.978% and bcRatio (ratio of total credit card balance to total credit card limits) at 1.042%.\n",
        "\n",
        "For this analysis we will drop rows with missing values because they were only about 1% missing of all the loan records."
      ]
    },
    {
      "cell_type": "code",
      "metadata": {
        "id": "Bcxo4nag-nXI"
      },
      "source": [
        "# Drop the rows where at least one element has missing values.\n",
        "loans = loans.dropna()"
      ],
      "execution_count": 11,
      "outputs": []
    },
    {
      "cell_type": "markdown",
      "metadata": {
        "id": "AWXvN65EI9tl"
      },
      "source": [
        "Some of the features are not needed for identifying loans as good or bad loans. These features include state, loan ID and verified. Employment feature will not be used because it has too many categorical values that are not specific to the type of employment. TotalPaid will not be used because it can only be determined after a loan is issued.   \n"
      ]
    },
    {
      "cell_type": "code",
      "metadata": {
        "id": "P54X_nZpKXMf"
      },
      "source": [
        "# Drop columns not needed for analysis.\n",
        "cols = ['state','loanID', 'verified', 'employment', 'totalPaid']         \n",
        "loans = loans.drop(columns = cols, axis = 1)                                                                                                                     "
      ],
      "execution_count": 12,
      "outputs": []
    },
    {
      "cell_type": "markdown",
      "metadata": {
        "id": "NWhRGJ8IiqMa"
      },
      "source": [
        "Loan records with status of \"Current\" will not be considered for modeling because these are loans where the customer is still making payments within a specific time frame and we do not know if they will pay the loan off or default."
      ]
    },
    {
      "cell_type": "code",
      "metadata": {
        "colab": {
          "base_uri": "https://localhost:8080/"
        },
        "id": "GU1LCf99iqf6",
        "outputId": "2a55e127-a056-4398-e99f-ca965284187f"
      },
      "source": [
        "# Drop loans where status is \"Current\". \n",
        "# Get names of indexes where status column has value of \"Current\"\n",
        "indexNames = loans[loans['status'] == 'Current'].index\n",
        "# Delete these row indexes from the dataframe.\n",
        "loans.drop(indexNames , inplace=True)\n",
        "loans.shape"
      ],
      "execution_count": 13,
      "outputs": [
        {
          "output_type": "execute_result",
          "data": {
            "text/plain": [
              "(33126, 27)"
            ]
          },
          "metadata": {},
          "execution_count": 13
        }
      ]
    },
    {
      "cell_type": "markdown",
      "metadata": {
        "id": "5GinPFnsM_To"
      },
      "source": [
        "The loan status variable contains multiple categories. We will change status to have two categories: a good loan will be \"Fully Paid\", \"In Grace Period\" or \"Late (16-30 days)\" and a bad loan will be \"Charged Off\", \"Default\" or \"Late (31-120 days)\". "
      ]
    },
    {
      "cell_type": "code",
      "metadata": {
        "colab": {
          "base_uri": "https://localhost:8080/",
          "height": 313
        },
        "id": "3Vfjnfx_M83O",
        "outputId": "29ed0355-2b34-4692-f0f2-c502c5144686"
      },
      "source": [
        "# Consolidate values in the status variable.                      \n",
        "loans['status'] = loans['status'].replace(['Fully Paid', 'In Grace Period', 'Late (16-30 days)'], 'Good')\n",
        "loans['status'] = loans['status'].replace(['Charged Off', 'Default', 'Late (31-120 days)' ], 'Bad')\n",
        "loans.head()"
      ],
      "execution_count": 14,
      "outputs": [
        {
          "output_type": "execute_result",
          "data": {
            "text/html": [
              "<div>\n",
              "<style scoped>\n",
              "    .dataframe tbody tr th:only-of-type {\n",
              "        vertical-align: middle;\n",
              "    }\n",
              "\n",
              "    .dataframe tbody tr th {\n",
              "        vertical-align: top;\n",
              "    }\n",
              "\n",
              "    .dataframe thead th {\n",
              "        text-align: right;\n",
              "    }\n",
              "</style>\n",
              "<table border=\"1\" class=\"dataframe\">\n",
              "  <thead>\n",
              "    <tr style=\"text-align: right;\">\n",
              "      <th></th>\n",
              "      <th>amount</th>\n",
              "      <th>term</th>\n",
              "      <th>rate</th>\n",
              "      <th>payment</th>\n",
              "      <th>grade</th>\n",
              "      <th>length</th>\n",
              "      <th>home</th>\n",
              "      <th>income</th>\n",
              "      <th>status</th>\n",
              "      <th>reason</th>\n",
              "      <th>debtIncRat</th>\n",
              "      <th>delinq2yr</th>\n",
              "      <th>inq6mth</th>\n",
              "      <th>openAcc</th>\n",
              "      <th>pubRec</th>\n",
              "      <th>revolRatio</th>\n",
              "      <th>totalAcc</th>\n",
              "      <th>totalBal</th>\n",
              "      <th>totalRevLim</th>\n",
              "      <th>accOpen24</th>\n",
              "      <th>avgBal</th>\n",
              "      <th>bcOpen</th>\n",
              "      <th>bcRatio</th>\n",
              "      <th>totalLim</th>\n",
              "      <th>totalRevBal</th>\n",
              "      <th>totalBcLim</th>\n",
              "      <th>totalIlLim</th>\n",
              "    </tr>\n",
              "  </thead>\n",
              "  <tbody>\n",
              "    <tr>\n",
              "      <th>0</th>\n",
              "      <td>8000.0</td>\n",
              "      <td>36 months</td>\n",
              "      <td>0.14</td>\n",
              "      <td>272.07</td>\n",
              "      <td>C</td>\n",
              "      <td>3 years</td>\n",
              "      <td>RENT</td>\n",
              "      <td>49966.0</td>\n",
              "      <td>Bad</td>\n",
              "      <td>credit_card</td>\n",
              "      <td>30.05</td>\n",
              "      <td>0.0</td>\n",
              "      <td>0.0</td>\n",
              "      <td>11.0</td>\n",
              "      <td>0.0</td>\n",
              "      <td>0.55</td>\n",
              "      <td>15.0</td>\n",
              "      <td>48054.0</td>\n",
              "      <td>8100.0</td>\n",
              "      <td>8.0</td>\n",
              "      <td>4369.0</td>\n",
              "      <td>43.0</td>\n",
              "      <td>95.7</td>\n",
              "      <td>60629.0</td>\n",
              "      <td>48054.0</td>\n",
              "      <td>1000.0</td>\n",
              "      <td>52529.0</td>\n",
              "    </tr>\n",
              "    <tr>\n",
              "      <th>1</th>\n",
              "      <td>11000.0</td>\n",
              "      <td>36 months</td>\n",
              "      <td>0.10</td>\n",
              "      <td>354.89</td>\n",
              "      <td>B</td>\n",
              "      <td>10+ years</td>\n",
              "      <td>MORTGAGE</td>\n",
              "      <td>50000.0</td>\n",
              "      <td>Good</td>\n",
              "      <td>debt_consolidation</td>\n",
              "      <td>8.74</td>\n",
              "      <td>0.0</td>\n",
              "      <td>2.0</td>\n",
              "      <td>12.0</td>\n",
              "      <td>0.0</td>\n",
              "      <td>0.36</td>\n",
              "      <td>15.0</td>\n",
              "      <td>265838.0</td>\n",
              "      <td>33400.0</td>\n",
              "      <td>4.0</td>\n",
              "      <td>22153.0</td>\n",
              "      <td>19756.0</td>\n",
              "      <td>37.5</td>\n",
              "      <td>297500.0</td>\n",
              "      <td>11844.0</td>\n",
              "      <td>31600.0</td>\n",
              "      <td>0.0</td>\n",
              "    </tr>\n",
              "    <tr>\n",
              "      <th>3</th>\n",
              "      <td>20000.0</td>\n",
              "      <td>60 months</td>\n",
              "      <td>0.12</td>\n",
              "      <td>447.83</td>\n",
              "      <td>C</td>\n",
              "      <td>2 years</td>\n",
              "      <td>MORTGAGE</td>\n",
              "      <td>60000.0</td>\n",
              "      <td>Good</td>\n",
              "      <td>debt_consolidation</td>\n",
              "      <td>14.14</td>\n",
              "      <td>0.0</td>\n",
              "      <td>0.0</td>\n",
              "      <td>12.0</td>\n",
              "      <td>3.0</td>\n",
              "      <td>0.01</td>\n",
              "      <td>48.0</td>\n",
              "      <td>20671.0</td>\n",
              "      <td>14200.0</td>\n",
              "      <td>8.0</td>\n",
              "      <td>1723.0</td>\n",
              "      <td>11061.0</td>\n",
              "      <td>1.2</td>\n",
              "      <td>46964.0</td>\n",
              "      <td>20671.0</td>\n",
              "      <td>11200.0</td>\n",
              "      <td>32764.0</td>\n",
              "    </tr>\n",
              "    <tr>\n",
              "      <th>5</th>\n",
              "      <td>10000.0</td>\n",
              "      <td>36 months</td>\n",
              "      <td>0.14</td>\n",
              "      <td>340.13</td>\n",
              "      <td>C</td>\n",
              "      <td>&lt; 1 year</td>\n",
              "      <td>RENT</td>\n",
              "      <td>108000.0</td>\n",
              "      <td>Bad</td>\n",
              "      <td>credit_card</td>\n",
              "      <td>11.70</td>\n",
              "      <td>0.0</td>\n",
              "      <td>2.0</td>\n",
              "      <td>25.0</td>\n",
              "      <td>0.0</td>\n",
              "      <td>0.41</td>\n",
              "      <td>44.0</td>\n",
              "      <td>25139.0</td>\n",
              "      <td>57100.0</td>\n",
              "      <td>8.0</td>\n",
              "      <td>1093.0</td>\n",
              "      <td>4129.0</td>\n",
              "      <td>77.8</td>\n",
              "      <td>70672.0</td>\n",
              "      <td>25139.0</td>\n",
              "      <td>18600.0</td>\n",
              "      <td>13572.0</td>\n",
              "    </tr>\n",
              "    <tr>\n",
              "      <th>6</th>\n",
              "      <td>20000.0</td>\n",
              "      <td>60 months</td>\n",
              "      <td>0.13</td>\n",
              "      <td>458.45</td>\n",
              "      <td>C</td>\n",
              "      <td>9 years</td>\n",
              "      <td>RENT</td>\n",
              "      <td>40000.0</td>\n",
              "      <td>Good</td>\n",
              "      <td>credit_card</td>\n",
              "      <td>23.10</td>\n",
              "      <td>0.0</td>\n",
              "      <td>0.0</td>\n",
              "      <td>13.0</td>\n",
              "      <td>0.0</td>\n",
              "      <td>0.88</td>\n",
              "      <td>31.0</td>\n",
              "      <td>79696.0</td>\n",
              "      <td>20000.0</td>\n",
              "      <td>2.0</td>\n",
              "      <td>6130.0</td>\n",
              "      <td>957.0</td>\n",
              "      <td>94.8</td>\n",
              "      <td>93909.0</td>\n",
              "      <td>79696.0</td>\n",
              "      <td>18500.0</td>\n",
              "      <td>73909.0</td>\n",
              "    </tr>\n",
              "  </tbody>\n",
              "</table>\n",
              "</div>"
            ],
            "text/plain": [
              "    amount        term  rate  ...  totalRevBal totalBcLim totalIlLim\n",
              "0   8000.0   36 months  0.14  ...      48054.0     1000.0    52529.0\n",
              "1  11000.0   36 months  0.10  ...      11844.0    31600.0        0.0\n",
              "3  20000.0   60 months  0.12  ...      20671.0    11200.0    32764.0\n",
              "5  10000.0   36 months  0.14  ...      25139.0    18600.0    13572.0\n",
              "6  20000.0   60 months  0.13  ...      79696.0    18500.0    73909.0\n",
              "\n",
              "[5 rows x 27 columns]"
            ]
          },
          "metadata": {},
          "execution_count": 14
        }
      ]
    },
    {
      "cell_type": "markdown",
      "metadata": {
        "id": "6PVGfMaMVtAG"
      },
      "source": [
        "The length of employment contains numerous categories. We will reduce the number of categories for this variable."
      ]
    },
    {
      "cell_type": "code",
      "metadata": {
        "colab": {
          "base_uri": "https://localhost:8080/",
          "height": 313
        },
        "id": "vvbQUBAoCLwM",
        "outputId": "6fe6fe35-0121-48aa-b4ef-332aa41a1081"
      },
      "source": [
        "# Consolidate values in the length variable.                   \n",
        "loans['length'] = loans['length'].replace(['1 year', '1 years', '2 years', '3 years'], '1-3 years')\n",
        "loans['length'] = loans['length'].replace(['4 years', '5 years', '6 years'], '4-6 years')\n",
        "loans['length'] = loans['length'].replace(['7 years', '8 years', '9 years'], '7-9 years')\n",
        "loans.head(5)"
      ],
      "execution_count": 15,
      "outputs": [
        {
          "output_type": "execute_result",
          "data": {
            "text/html": [
              "<div>\n",
              "<style scoped>\n",
              "    .dataframe tbody tr th:only-of-type {\n",
              "        vertical-align: middle;\n",
              "    }\n",
              "\n",
              "    .dataframe tbody tr th {\n",
              "        vertical-align: top;\n",
              "    }\n",
              "\n",
              "    .dataframe thead th {\n",
              "        text-align: right;\n",
              "    }\n",
              "</style>\n",
              "<table border=\"1\" class=\"dataframe\">\n",
              "  <thead>\n",
              "    <tr style=\"text-align: right;\">\n",
              "      <th></th>\n",
              "      <th>amount</th>\n",
              "      <th>term</th>\n",
              "      <th>rate</th>\n",
              "      <th>payment</th>\n",
              "      <th>grade</th>\n",
              "      <th>length</th>\n",
              "      <th>home</th>\n",
              "      <th>income</th>\n",
              "      <th>status</th>\n",
              "      <th>reason</th>\n",
              "      <th>debtIncRat</th>\n",
              "      <th>delinq2yr</th>\n",
              "      <th>inq6mth</th>\n",
              "      <th>openAcc</th>\n",
              "      <th>pubRec</th>\n",
              "      <th>revolRatio</th>\n",
              "      <th>totalAcc</th>\n",
              "      <th>totalBal</th>\n",
              "      <th>totalRevLim</th>\n",
              "      <th>accOpen24</th>\n",
              "      <th>avgBal</th>\n",
              "      <th>bcOpen</th>\n",
              "      <th>bcRatio</th>\n",
              "      <th>totalLim</th>\n",
              "      <th>totalRevBal</th>\n",
              "      <th>totalBcLim</th>\n",
              "      <th>totalIlLim</th>\n",
              "    </tr>\n",
              "  </thead>\n",
              "  <tbody>\n",
              "    <tr>\n",
              "      <th>0</th>\n",
              "      <td>8000.0</td>\n",
              "      <td>36 months</td>\n",
              "      <td>0.14</td>\n",
              "      <td>272.07</td>\n",
              "      <td>C</td>\n",
              "      <td>1-3 years</td>\n",
              "      <td>RENT</td>\n",
              "      <td>49966.0</td>\n",
              "      <td>Bad</td>\n",
              "      <td>credit_card</td>\n",
              "      <td>30.05</td>\n",
              "      <td>0.0</td>\n",
              "      <td>0.0</td>\n",
              "      <td>11.0</td>\n",
              "      <td>0.0</td>\n",
              "      <td>0.55</td>\n",
              "      <td>15.0</td>\n",
              "      <td>48054.0</td>\n",
              "      <td>8100.0</td>\n",
              "      <td>8.0</td>\n",
              "      <td>4369.0</td>\n",
              "      <td>43.0</td>\n",
              "      <td>95.7</td>\n",
              "      <td>60629.0</td>\n",
              "      <td>48054.0</td>\n",
              "      <td>1000.0</td>\n",
              "      <td>52529.0</td>\n",
              "    </tr>\n",
              "    <tr>\n",
              "      <th>1</th>\n",
              "      <td>11000.0</td>\n",
              "      <td>36 months</td>\n",
              "      <td>0.10</td>\n",
              "      <td>354.89</td>\n",
              "      <td>B</td>\n",
              "      <td>10+ years</td>\n",
              "      <td>MORTGAGE</td>\n",
              "      <td>50000.0</td>\n",
              "      <td>Good</td>\n",
              "      <td>debt_consolidation</td>\n",
              "      <td>8.74</td>\n",
              "      <td>0.0</td>\n",
              "      <td>2.0</td>\n",
              "      <td>12.0</td>\n",
              "      <td>0.0</td>\n",
              "      <td>0.36</td>\n",
              "      <td>15.0</td>\n",
              "      <td>265838.0</td>\n",
              "      <td>33400.0</td>\n",
              "      <td>4.0</td>\n",
              "      <td>22153.0</td>\n",
              "      <td>19756.0</td>\n",
              "      <td>37.5</td>\n",
              "      <td>297500.0</td>\n",
              "      <td>11844.0</td>\n",
              "      <td>31600.0</td>\n",
              "      <td>0.0</td>\n",
              "    </tr>\n",
              "    <tr>\n",
              "      <th>3</th>\n",
              "      <td>20000.0</td>\n",
              "      <td>60 months</td>\n",
              "      <td>0.12</td>\n",
              "      <td>447.83</td>\n",
              "      <td>C</td>\n",
              "      <td>1-3 years</td>\n",
              "      <td>MORTGAGE</td>\n",
              "      <td>60000.0</td>\n",
              "      <td>Good</td>\n",
              "      <td>debt_consolidation</td>\n",
              "      <td>14.14</td>\n",
              "      <td>0.0</td>\n",
              "      <td>0.0</td>\n",
              "      <td>12.0</td>\n",
              "      <td>3.0</td>\n",
              "      <td>0.01</td>\n",
              "      <td>48.0</td>\n",
              "      <td>20671.0</td>\n",
              "      <td>14200.0</td>\n",
              "      <td>8.0</td>\n",
              "      <td>1723.0</td>\n",
              "      <td>11061.0</td>\n",
              "      <td>1.2</td>\n",
              "      <td>46964.0</td>\n",
              "      <td>20671.0</td>\n",
              "      <td>11200.0</td>\n",
              "      <td>32764.0</td>\n",
              "    </tr>\n",
              "    <tr>\n",
              "      <th>5</th>\n",
              "      <td>10000.0</td>\n",
              "      <td>36 months</td>\n",
              "      <td>0.14</td>\n",
              "      <td>340.13</td>\n",
              "      <td>C</td>\n",
              "      <td>&lt; 1 year</td>\n",
              "      <td>RENT</td>\n",
              "      <td>108000.0</td>\n",
              "      <td>Bad</td>\n",
              "      <td>credit_card</td>\n",
              "      <td>11.70</td>\n",
              "      <td>0.0</td>\n",
              "      <td>2.0</td>\n",
              "      <td>25.0</td>\n",
              "      <td>0.0</td>\n",
              "      <td>0.41</td>\n",
              "      <td>44.0</td>\n",
              "      <td>25139.0</td>\n",
              "      <td>57100.0</td>\n",
              "      <td>8.0</td>\n",
              "      <td>1093.0</td>\n",
              "      <td>4129.0</td>\n",
              "      <td>77.8</td>\n",
              "      <td>70672.0</td>\n",
              "      <td>25139.0</td>\n",
              "      <td>18600.0</td>\n",
              "      <td>13572.0</td>\n",
              "    </tr>\n",
              "    <tr>\n",
              "      <th>6</th>\n",
              "      <td>20000.0</td>\n",
              "      <td>60 months</td>\n",
              "      <td>0.13</td>\n",
              "      <td>458.45</td>\n",
              "      <td>C</td>\n",
              "      <td>7-9 years</td>\n",
              "      <td>RENT</td>\n",
              "      <td>40000.0</td>\n",
              "      <td>Good</td>\n",
              "      <td>credit_card</td>\n",
              "      <td>23.10</td>\n",
              "      <td>0.0</td>\n",
              "      <td>0.0</td>\n",
              "      <td>13.0</td>\n",
              "      <td>0.0</td>\n",
              "      <td>0.88</td>\n",
              "      <td>31.0</td>\n",
              "      <td>79696.0</td>\n",
              "      <td>20000.0</td>\n",
              "      <td>2.0</td>\n",
              "      <td>6130.0</td>\n",
              "      <td>957.0</td>\n",
              "      <td>94.8</td>\n",
              "      <td>93909.0</td>\n",
              "      <td>79696.0</td>\n",
              "      <td>18500.0</td>\n",
              "      <td>73909.0</td>\n",
              "    </tr>\n",
              "  </tbody>\n",
              "</table>\n",
              "</div>"
            ],
            "text/plain": [
              "    amount        term  rate  ...  totalRevBal totalBcLim totalIlLim\n",
              "0   8000.0   36 months  0.14  ...      48054.0     1000.0    52529.0\n",
              "1  11000.0   36 months  0.10  ...      11844.0    31600.0        0.0\n",
              "3  20000.0   60 months  0.12  ...      20671.0    11200.0    32764.0\n",
              "5  10000.0   36 months  0.14  ...      25139.0    18600.0    13572.0\n",
              "6  20000.0   60 months  0.13  ...      79696.0    18500.0    73909.0\n",
              "\n",
              "[5 rows x 27 columns]"
            ]
          },
          "metadata": {},
          "execution_count": 15
        }
      ]
    },
    {
      "cell_type": "markdown",
      "metadata": {
        "id": "curf-Y-vFGNw"
      },
      "source": [
        "The reason for loan contains numerous categories. We will reduce the number of categories for this variable."
      ]
    },
    {
      "cell_type": "code",
      "metadata": {
        "colab": {
          "base_uri": "https://localhost:8080/",
          "height": 313
        },
        "id": "arCn_RbwFGzb",
        "outputId": "d294eba7-7a2a-4c21-fb49-00b3a0e18f6c"
      },
      "source": [
        "# Consolidate values in the reason variable.                      \n",
        "loans['reason'] = loans['reason'].replace(['car'], 'major_purchase')\n",
        "loans['reason'] = loans['reason'].replace(['renewable_energy'], 'home_improvement')\n",
        "loans['reason'] = loans['reason'].replace(['vacation', 'medical', 'moving', 'wedding'], 'other')\n",
        "loans.head(5)"
      ],
      "execution_count": 16,
      "outputs": [
        {
          "output_type": "execute_result",
          "data": {
            "text/html": [
              "<div>\n",
              "<style scoped>\n",
              "    .dataframe tbody tr th:only-of-type {\n",
              "        vertical-align: middle;\n",
              "    }\n",
              "\n",
              "    .dataframe tbody tr th {\n",
              "        vertical-align: top;\n",
              "    }\n",
              "\n",
              "    .dataframe thead th {\n",
              "        text-align: right;\n",
              "    }\n",
              "</style>\n",
              "<table border=\"1\" class=\"dataframe\">\n",
              "  <thead>\n",
              "    <tr style=\"text-align: right;\">\n",
              "      <th></th>\n",
              "      <th>amount</th>\n",
              "      <th>term</th>\n",
              "      <th>rate</th>\n",
              "      <th>payment</th>\n",
              "      <th>grade</th>\n",
              "      <th>length</th>\n",
              "      <th>home</th>\n",
              "      <th>income</th>\n",
              "      <th>status</th>\n",
              "      <th>reason</th>\n",
              "      <th>debtIncRat</th>\n",
              "      <th>delinq2yr</th>\n",
              "      <th>inq6mth</th>\n",
              "      <th>openAcc</th>\n",
              "      <th>pubRec</th>\n",
              "      <th>revolRatio</th>\n",
              "      <th>totalAcc</th>\n",
              "      <th>totalBal</th>\n",
              "      <th>totalRevLim</th>\n",
              "      <th>accOpen24</th>\n",
              "      <th>avgBal</th>\n",
              "      <th>bcOpen</th>\n",
              "      <th>bcRatio</th>\n",
              "      <th>totalLim</th>\n",
              "      <th>totalRevBal</th>\n",
              "      <th>totalBcLim</th>\n",
              "      <th>totalIlLim</th>\n",
              "    </tr>\n",
              "  </thead>\n",
              "  <tbody>\n",
              "    <tr>\n",
              "      <th>0</th>\n",
              "      <td>8000.0</td>\n",
              "      <td>36 months</td>\n",
              "      <td>0.14</td>\n",
              "      <td>272.07</td>\n",
              "      <td>C</td>\n",
              "      <td>1-3 years</td>\n",
              "      <td>RENT</td>\n",
              "      <td>49966.0</td>\n",
              "      <td>Bad</td>\n",
              "      <td>credit_card</td>\n",
              "      <td>30.05</td>\n",
              "      <td>0.0</td>\n",
              "      <td>0.0</td>\n",
              "      <td>11.0</td>\n",
              "      <td>0.0</td>\n",
              "      <td>0.55</td>\n",
              "      <td>15.0</td>\n",
              "      <td>48054.0</td>\n",
              "      <td>8100.0</td>\n",
              "      <td>8.0</td>\n",
              "      <td>4369.0</td>\n",
              "      <td>43.0</td>\n",
              "      <td>95.7</td>\n",
              "      <td>60629.0</td>\n",
              "      <td>48054.0</td>\n",
              "      <td>1000.0</td>\n",
              "      <td>52529.0</td>\n",
              "    </tr>\n",
              "    <tr>\n",
              "      <th>1</th>\n",
              "      <td>11000.0</td>\n",
              "      <td>36 months</td>\n",
              "      <td>0.10</td>\n",
              "      <td>354.89</td>\n",
              "      <td>B</td>\n",
              "      <td>10+ years</td>\n",
              "      <td>MORTGAGE</td>\n",
              "      <td>50000.0</td>\n",
              "      <td>Good</td>\n",
              "      <td>debt_consolidation</td>\n",
              "      <td>8.74</td>\n",
              "      <td>0.0</td>\n",
              "      <td>2.0</td>\n",
              "      <td>12.0</td>\n",
              "      <td>0.0</td>\n",
              "      <td>0.36</td>\n",
              "      <td>15.0</td>\n",
              "      <td>265838.0</td>\n",
              "      <td>33400.0</td>\n",
              "      <td>4.0</td>\n",
              "      <td>22153.0</td>\n",
              "      <td>19756.0</td>\n",
              "      <td>37.5</td>\n",
              "      <td>297500.0</td>\n",
              "      <td>11844.0</td>\n",
              "      <td>31600.0</td>\n",
              "      <td>0.0</td>\n",
              "    </tr>\n",
              "    <tr>\n",
              "      <th>3</th>\n",
              "      <td>20000.0</td>\n",
              "      <td>60 months</td>\n",
              "      <td>0.12</td>\n",
              "      <td>447.83</td>\n",
              "      <td>C</td>\n",
              "      <td>1-3 years</td>\n",
              "      <td>MORTGAGE</td>\n",
              "      <td>60000.0</td>\n",
              "      <td>Good</td>\n",
              "      <td>debt_consolidation</td>\n",
              "      <td>14.14</td>\n",
              "      <td>0.0</td>\n",
              "      <td>0.0</td>\n",
              "      <td>12.0</td>\n",
              "      <td>3.0</td>\n",
              "      <td>0.01</td>\n",
              "      <td>48.0</td>\n",
              "      <td>20671.0</td>\n",
              "      <td>14200.0</td>\n",
              "      <td>8.0</td>\n",
              "      <td>1723.0</td>\n",
              "      <td>11061.0</td>\n",
              "      <td>1.2</td>\n",
              "      <td>46964.0</td>\n",
              "      <td>20671.0</td>\n",
              "      <td>11200.0</td>\n",
              "      <td>32764.0</td>\n",
              "    </tr>\n",
              "    <tr>\n",
              "      <th>5</th>\n",
              "      <td>10000.0</td>\n",
              "      <td>36 months</td>\n",
              "      <td>0.14</td>\n",
              "      <td>340.13</td>\n",
              "      <td>C</td>\n",
              "      <td>&lt; 1 year</td>\n",
              "      <td>RENT</td>\n",
              "      <td>108000.0</td>\n",
              "      <td>Bad</td>\n",
              "      <td>credit_card</td>\n",
              "      <td>11.70</td>\n",
              "      <td>0.0</td>\n",
              "      <td>2.0</td>\n",
              "      <td>25.0</td>\n",
              "      <td>0.0</td>\n",
              "      <td>0.41</td>\n",
              "      <td>44.0</td>\n",
              "      <td>25139.0</td>\n",
              "      <td>57100.0</td>\n",
              "      <td>8.0</td>\n",
              "      <td>1093.0</td>\n",
              "      <td>4129.0</td>\n",
              "      <td>77.8</td>\n",
              "      <td>70672.0</td>\n",
              "      <td>25139.0</td>\n",
              "      <td>18600.0</td>\n",
              "      <td>13572.0</td>\n",
              "    </tr>\n",
              "    <tr>\n",
              "      <th>6</th>\n",
              "      <td>20000.0</td>\n",
              "      <td>60 months</td>\n",
              "      <td>0.13</td>\n",
              "      <td>458.45</td>\n",
              "      <td>C</td>\n",
              "      <td>7-9 years</td>\n",
              "      <td>RENT</td>\n",
              "      <td>40000.0</td>\n",
              "      <td>Good</td>\n",
              "      <td>credit_card</td>\n",
              "      <td>23.10</td>\n",
              "      <td>0.0</td>\n",
              "      <td>0.0</td>\n",
              "      <td>13.0</td>\n",
              "      <td>0.0</td>\n",
              "      <td>0.88</td>\n",
              "      <td>31.0</td>\n",
              "      <td>79696.0</td>\n",
              "      <td>20000.0</td>\n",
              "      <td>2.0</td>\n",
              "      <td>6130.0</td>\n",
              "      <td>957.0</td>\n",
              "      <td>94.8</td>\n",
              "      <td>93909.0</td>\n",
              "      <td>79696.0</td>\n",
              "      <td>18500.0</td>\n",
              "      <td>73909.0</td>\n",
              "    </tr>\n",
              "  </tbody>\n",
              "</table>\n",
              "</div>"
            ],
            "text/plain": [
              "    amount        term  rate  ...  totalRevBal totalBcLim totalIlLim\n",
              "0   8000.0   36 months  0.14  ...      48054.0     1000.0    52529.0\n",
              "1  11000.0   36 months  0.10  ...      11844.0    31600.0        0.0\n",
              "3  20000.0   60 months  0.12  ...      20671.0    11200.0    32764.0\n",
              "5  10000.0   36 months  0.14  ...      25139.0    18600.0    13572.0\n",
              "6  20000.0   60 months  0.13  ...      79696.0    18500.0    73909.0\n",
              "\n",
              "[5 rows x 27 columns]"
            ]
          },
          "metadata": {},
          "execution_count": 16
        }
      ]
    },
    {
      "cell_type": "code",
      "metadata": {
        "colab": {
          "base_uri": "https://localhost:8080/"
        },
        "id": "BNm8apWvsA0Z",
        "outputId": "1529d6f8-63e4-4761-b2d0-524c06288b7c"
      },
      "source": [
        "# Show the number of bad and good loans.\n",
        "loans['status'].value_counts()"
      ],
      "execution_count": 17,
      "outputs": [
        {
          "output_type": "execute_result",
          "data": {
            "text/plain": [
              "Good    25747\n",
              "Bad      7379\n",
              "Name: status, dtype: int64"
            ]
          },
          "metadata": {},
          "execution_count": 17
        }
      ]
    },
    {
      "cell_type": "markdown",
      "metadata": {
        "id": "VwuV8zvYtXeu"
      },
      "source": [
        "Our data set is imbalanced as we have far more “Good” loans than “Bad” loans. There were 25,747 good loans and 7,379 bad loans. "
      ]
    },
    {
      "cell_type": "code",
      "metadata": {
        "colab": {
          "base_uri": "https://localhost:8080/"
        },
        "id": "D41-a5clvcxn",
        "outputId": "6f995e33-3c0a-4c8d-d6d2-29e5d6f24d1c"
      },
      "source": [
        "# Show percentages for Good and Bad loans. \n",
        "good = loans[loans.status == 'Good']\n",
        "bad = loans[loans.status == 'Bad']\n",
        "num_good = good.shape[0]\n",
        "num_bad = bad.shape[0]\n",
        "\n",
        "# Print the percentage of loans that went bad.  \n",
        "print(num_good / (num_good + num_bad) * 100 , \"% of loans that were good for the bank.\")\n",
        "\n",
        "# Print the percentage of loans that were good. \n",
        "print(num_bad / (num_good + num_bad) * 100,\"% of loans that went bad for the bank.\")"
      ],
      "execution_count": 18,
      "outputs": [
        {
          "output_type": "stream",
          "name": "stdout",
          "text": [
            "77.72444605445872 % of loans that were good for the bank.\n",
            "22.275553945541265 % of loans that went bad for the bank.\n"
          ]
        }
      ]
    },
    {
      "cell_type": "markdown",
      "metadata": {
        "id": "smkzYwBw1SUh"
      },
      "source": [
        "We find that 77.72% of the loans were good and 22.28% of the loans went bad.\n",
        "\n",
        "---\n",
        "\n"
      ]
    },
    {
      "cell_type": "code",
      "metadata": {
        "colab": {
          "base_uri": "https://localhost:8080/",
          "height": 337
        },
        "id": "_nwUksUMH6U_",
        "outputId": "d66807e5-256a-44b6-dbb1-74fe7547c18d"
      },
      "source": [
        "# Visualize the counts for good and bad loans.  \n",
        "loans.status.value_counts().plot(kind='pie', subplots=True, autopct='%1.2f%%', explode= (0.05, 0.05), startangle=80, legend=True,\n",
        "                                 fontsize=12, figsize=(8,5), textprops={'color':\"black\"})"
      ],
      "execution_count": 19,
      "outputs": [
        {
          "output_type": "execute_result",
          "data": {
            "text/plain": [
              "array([<matplotlib.axes._subplots.AxesSubplot object at 0x7f185abd9dd0>],\n",
              "      dtype=object)"
            ]
          },
          "metadata": {},
          "execution_count": 19
        },
        {
          "output_type": "display_data",
          "data": {
            "image/png": "[encoded data removed]",
            "text/plain": [
              "<Figure size 576x360 with 1 Axes>"
            ]
          },
          "metadata": {}
        }
      ]
    },
    {
      "cell_type": "code",
      "metadata": {
        "colab": {
          "base_uri": "https://localhost:8080/",
          "height": 351
        },
        "id": "-JDhqjlCw-I5",
        "outputId": "cb9fcfa3-9d70-432e-f3e0-ede887b2735f"
      },
      "source": [
        "# Visualize the status counts for term of loan.\n",
        "plt.figure(figsize=(8, 5))\n",
        "sns.countplot(x='term', hue='status', data = loans)"
      ],
      "execution_count": 20,
      "outputs": [
        {
          "output_type": "execute_result",
          "data": {
            "text/plain": [
              "<matplotlib.axes._subplots.AxesSubplot at 0x7f185b401bd0>"
            ]
          },
          "metadata": {},
          "execution_count": 20
        },
        {
          "output_type": "display_data",
          "data": {
            "image/png": "[encoded data removed]",
            "text/plain": [
              "<Figure size 576x360 with 1 Axes>"
            ]
          },
          "metadata": {
            "needs_background": "light"
          }
        }
      ]
    },
    {
      "cell_type": "code",
      "metadata": {
        "colab": {
          "base_uri": "https://localhost:8080/",
          "height": 351
        },
        "id": "QkhBsQWIpvyj",
        "outputId": "95b37482-3f54-459b-c0ab-260801f69609"
      },
      "source": [
        "# Visualize the status counts for purpose of loan.\n",
        "plt.figure(figsize=(8, 5))\n",
        "sns.countplot(y='reason', hue='status', data = loans)"
      ],
      "execution_count": 21,
      "outputs": [
        {
          "output_type": "execute_result",
          "data": {
            "text/plain": [
              "<matplotlib.axes._subplots.AxesSubplot at 0x7f185a694390>"
            ]
          },
          "metadata": {},
          "execution_count": 21
        },
        {
          "output_type": "display_data",
          "data": {
            "image/png": "[encoded data removed]",
            "text/plain": [
              "<Figure size 576x360 with 1 Axes>"
            ]
          },
          "metadata": {
            "needs_background": "light"
          }
        }
      ]
    },
    {
      "cell_type": "code",
      "metadata": {
        "colab": {
          "base_uri": "https://localhost:8080/",
          "height": 351
        },
        "id": "4SDi8ddmmzGR",
        "outputId": "73ec84ec-6f9e-44ce-f8ee-8d7f256b5281"
      },
      "source": [
        "# Visualize the status counts for number of 30+ day late payments in last two years.\n",
        "plt.figure(figsize=(8, 5))\n",
        "sns.countplot(x='delinq2yr', hue='status', data = loans)"
      ],
      "execution_count": 22,
      "outputs": [
        {
          "output_type": "execute_result",
          "data": {
            "text/plain": [
              "<matplotlib.axes._subplots.AxesSubplot at 0x7f185a58c050>"
            ]
          },
          "metadata": {},
          "execution_count": 22
        },
        {
          "output_type": "display_data",
          "data": {
            "image/png": "[encoded data removed]",
            "text/plain": [
              "<Figure size 576x360 with 1 Axes>"
            ]
          },
          "metadata": {
            "needs_background": "light"
          }
        }
      ]
    },
    {
      "cell_type": "code",
      "metadata": {
        "colab": {
          "base_uri": "https://localhost:8080/",
          "height": 404
        },
        "id": "0uL_tjzoEYOx",
        "outputId": "629f1bf2-19fa-4e9d-f696-08496569fb40"
      },
      "source": [
        "# Visualize the status counts for each grade (A is least risk, G is most risk).\n",
        "plt.figure(figsize=(8, 5))\n",
        "category_order = ['A',\n",
        "                  'B', \n",
        "                  'C', \n",
        "                  'D', \n",
        "                  'E', \n",
        "                  'F', \n",
        "                  'G']\n",
        "sns.catplot(x='grade', \n",
        "              data = loans, \n",
        "              hue='status',\n",
        "              kind = 'count',\n",
        "              order= category_order)\n"
      ],
      "execution_count": 23,
      "outputs": [
        {
          "output_type": "execute_result",
          "data": {
            "text/plain": [
              "<seaborn.axisgrid.FacetGrid at 0x7f185a481dd0>"
            ]
          },
          "metadata": {},
          "execution_count": 23
        },
        {
          "output_type": "display_data",
          "data": {
            "text/plain": [
              "<Figure size 576x360 with 0 Axes>"
            ]
          },
          "metadata": {}
        },
        {
          "output_type": "display_data",
          "data": {
            "image/png": "[encoded data removed]",
            "text/plain": [
              "<Figure size 422.125x360 with 1 Axes>"
            ]
          },
          "metadata": {
            "needs_background": "light"
          }
        }
      ]
    },
    {
      "cell_type": "code",
      "metadata": {
        "colab": {
          "base_uri": "https://localhost:8080/",
          "height": 404
        },
        "id": "4QJ1_ni6FWVK",
        "outputId": "8192c165-c1d7-4d20-efd2-b5b48b842a62"
      },
      "source": [
        "# Visualize the status counts for length of employment.\n",
        "plt.figure(figsize=(8, 5))\n",
        "category_order = ['<1 year',\n",
        "                  '1-3 years', \n",
        "                  '4-6 years', \n",
        "                  '7-9 years', \n",
        "                  '10+ years'] \n",
        "                  \n",
        "sns.catplot(x='length', \n",
        "              data = loans, \n",
        "              hue ='status', \n",
        "              kind = 'count', \n",
        "              order = category_order)"
      ],
      "execution_count": 24,
      "outputs": [
        {
          "output_type": "execute_result",
          "data": {
            "text/plain": [
              "<seaborn.axisgrid.FacetGrid at 0x7f185a481950>"
            ]
          },
          "metadata": {},
          "execution_count": 24
        },
        {
          "output_type": "display_data",
          "data": {
            "text/plain": [
              "<Figure size 576x360 with 0 Axes>"
            ]
          },
          "metadata": {}
        },
        {
          "output_type": "display_data",
          "data": {
            "image/png": "[encoded data removed]",
            "text/plain": [
              "<Figure size 422.125x360 with 1 Axes>"
            ]
          },
          "metadata": {
            "needs_background": "light"
          }
        }
      ]
    },
    {
      "cell_type": "code",
      "metadata": {
        "colab": {
          "base_uri": "https://localhost:8080/",
          "height": 351
        },
        "id": "kcGnE0CwOtna",
        "outputId": "f67a4c4e-2ff5-4139-8c66-d20565098733"
      },
      "source": [
        "# Visualize the status counts for number of credit checks in the past 6 months.\n",
        "plt.figure(figsize=(8, 5))\n",
        "sns.countplot(x='inq6mth', hue='status', data = loans)"
      ],
      "execution_count": 25,
      "outputs": [
        {
          "output_type": "execute_result",
          "data": {
            "text/plain": [
              "<matplotlib.axes._subplots.AxesSubplot at 0x7f185a4515d0>"
            ]
          },
          "metadata": {},
          "execution_count": 25
        },
        {
          "output_type": "display_data",
          "data": {
            "image/png": "[encoded data removed]",
            "text/plain": [
              "<Figure size 576x360 with 1 Axes>"
            ]
          },
          "metadata": {
            "needs_background": "light"
          }
        }
      ]
    },
    {
      "cell_type": "code",
      "metadata": {
        "colab": {
          "base_uri": "https://localhost:8080/",
          "height": 351
        },
        "id": "64U3-SSJQPwo",
        "outputId": "d7fffe2e-8434-4998-f946-81a76a0b4c12"
      },
      "source": [
        "# Visualize the status counts for number of accounts opened in the last 24 months.\n",
        "plt.figure(figsize=(10, 5))\n",
        "sns.countplot(x='accOpen24', hue='status', data = loans)"
      ],
      "execution_count": 26,
      "outputs": [
        {
          "output_type": "execute_result",
          "data": {
            "text/plain": [
              "<matplotlib.axes._subplots.AxesSubplot at 0x7f1851bd4850>"
            ]
          },
          "metadata": {},
          "execution_count": 26
        },
        {
          "output_type": "display_data",
          "data": {
            "image/png": "[encoded data removed]",
            "text/plain": [
              "<Figure size 720x360 with 1 Axes>"
            ]
          },
          "metadata": {
            "needs_background": "light"
          }
        }
      ]
    },
    {
      "cell_type": "markdown",
      "metadata": {
        "id": "DGTlIyJoPhUE"
      },
      "source": [
        "Summary of findings include the following:\n",
        "\n",
        "* There were 25,747 good loans and 7,379 bad loans.\n",
        "* More loans were charged off, defaulted or late (31-120 days) during the first 36 months of the loan.\n",
        "* The primary reason for getting loans was for debt consolidation. \n",
        "* The majority of loans (good and bad) had no 30+ day late payments in the last two years. Loans that did have 30+ day late payments usually only had 1 or 2 late payments.\n",
        "* Initially the number of bad loans increased as the risk went higher (A to C) and then decreased as the credit risk increased.  \n",
        "* The number of bad loans decreased as the years of employment went longer (from 1 to 9 years) and then increased when length of employment went over 10 years.      \n",
        "* The number of bad loans decreased over time when the number of credit checks in the past 6 months went down.\n",
        "* Initially the number of loans increased as the number of accounts opened in the last 24 months went up to 4 and then steadly decreased as the number of accounts opened in the last 24 months went down.   "
      ]
    },
    {
      "cell_type": "code",
      "metadata": {
        "id": "0Wsy94yUTdB-"
      },
      "source": [
        "# Change values for status to numeric.                    \n",
        "loans['status'].replace({\"Bad\":\"0\"},inplace = True)\n",
        "loans['status'].replace({\"Good\":\"1\"},inplace = True)\n",
        "loans['status'] = loans['status'].astype('int64')"
      ],
      "execution_count": 27,
      "outputs": []
    },
    {
      "cell_type": "code",
      "metadata": {
        "colab": {
          "base_uri": "https://localhost:8080/",
          "height": 662
        },
        "id": "SwcawyKPUuWX",
        "outputId": "4aae0934-73ce-449d-e498-3c22b2a4c2c8"
      },
      "source": [
        "# Generate and display correlation matrix. We will use the Pearson Correlation method.\n",
        "corr = loans.corr()\n",
        "plt.figure(figsize = (17,10))\n",
        "sns.heatmap(corr, annot = True, cmap = 'GnBu')"
      ],
      "execution_count": 28,
      "outputs": [
        {
          "output_type": "execute_result",
          "data": {
            "text/plain": [
              "<matplotlib.axes._subplots.AxesSubplot at 0x7f18519ce310>"
            ]
          },
          "metadata": {},
          "execution_count": 28
        },
        {
          "output_type": "display_data",
          "data": {
            "image/png": "[encoded data removed]",
            "text/plain": [
              "<Figure size 1224x720 with 2 Axes>"
            ]
          },
          "metadata": {
            "needs_background": "light"
          }
        }
      ]
    },
    {
      "cell_type": "markdown",
      "metadata": {
        "id": "34TdOCT90hdp"
      },
      "source": [
        "Only a few features correlate with status more than .05. These include totalBal, totalRevLim, avgBal, bcOpen, totalLim, totalBcLim.\n"
      ]
    },
    {
      "cell_type": "code",
      "metadata": {
        "id": "9nrGkjZcgEeo"
      },
      "source": [
        "# Data Processing and Cleaning"
      ],
      "execution_count": null,
      "outputs": []
    },
    {
      "cell_type": "code",
      "metadata": {
        "id": "EkAl1-yxhca8",
        "colab": {
          "base_uri": "https://localhost:8080/"
        },
        "outputId": "5f7a78a5-85d4-4023-f404-743c479ae3fb"
      },
      "source": [
        "# Convert all the non-numeric features to numerical data types.\n",
        "for column in loans.columns:\n",
        "   if loans[column].dtype == np.number:\n",
        "      continue\n",
        "   loans[column] = LabelEncoder().fit_transform(loans[column])"
      ],
      "execution_count": 29,
      "outputs": [
        {
          "output_type": "stream",
          "name": "stderr",
          "text": [
            "/usr/local/lib/python3.7/dist-packages/ipykernel_launcher.py:3: DeprecationWarning: Converting `np.inexact` or `np.floating` to a dtype is deprecated. The current result is `float64` which is not strictly correct.\n",
            "  This is separate from the ipykernel package so we can avoid doing imports until\n"
          ]
        }
      ]
    },
    {
      "cell_type": "code",
      "metadata": {
        "colab": {
          "base_uri": "https://localhost:8080/",
          "height": 226
        },
        "id": "rYR1y8L8hxMy",
        "outputId": "41d04c55-9ecd-445e-ec29-d6e683cf1d15"
      },
      "source": [
        "# View the updated data set. \n",
        "loans.head(5)"
      ],
      "execution_count": 30,
      "outputs": [
        {
          "output_type": "execute_result",
          "data": {
            "text/html": [
              "<div>\n",
              "<style scoped>\n",
              "    .dataframe tbody tr th:only-of-type {\n",
              "        vertical-align: middle;\n",
              "    }\n",
              "\n",
              "    .dataframe tbody tr th {\n",
              "        vertical-align: top;\n",
              "    }\n",
              "\n",
              "    .dataframe thead th {\n",
              "        text-align: right;\n",
              "    }\n",
              "</style>\n",
              "<table border=\"1\" class=\"dataframe\">\n",
              "  <thead>\n",
              "    <tr style=\"text-align: right;\">\n",
              "      <th></th>\n",
              "      <th>amount</th>\n",
              "      <th>term</th>\n",
              "      <th>rate</th>\n",
              "      <th>payment</th>\n",
              "      <th>grade</th>\n",
              "      <th>length</th>\n",
              "      <th>home</th>\n",
              "      <th>income</th>\n",
              "      <th>status</th>\n",
              "      <th>reason</th>\n",
              "      <th>debtIncRat</th>\n",
              "      <th>delinq2yr</th>\n",
              "      <th>inq6mth</th>\n",
              "      <th>openAcc</th>\n",
              "      <th>pubRec</th>\n",
              "      <th>revolRatio</th>\n",
              "      <th>totalAcc</th>\n",
              "      <th>totalBal</th>\n",
              "      <th>totalRevLim</th>\n",
              "      <th>accOpen24</th>\n",
              "      <th>avgBal</th>\n",
              "      <th>bcOpen</th>\n",
              "      <th>bcRatio</th>\n",
              "      <th>totalLim</th>\n",
              "      <th>totalRevBal</th>\n",
              "      <th>totalBcLim</th>\n",
              "      <th>totalIlLim</th>\n",
              "    </tr>\n",
              "  </thead>\n",
              "  <tbody>\n",
              "    <tr>\n",
              "      <th>0</th>\n",
              "      <td>8000.0</td>\n",
              "      <td>0</td>\n",
              "      <td>0.14</td>\n",
              "      <td>272.07</td>\n",
              "      <td>2</td>\n",
              "      <td>0</td>\n",
              "      <td>2</td>\n",
              "      <td>49966.0</td>\n",
              "      <td>0</td>\n",
              "      <td>0</td>\n",
              "      <td>30.05</td>\n",
              "      <td>0.0</td>\n",
              "      <td>0.0</td>\n",
              "      <td>11.0</td>\n",
              "      <td>0.0</td>\n",
              "      <td>0.55</td>\n",
              "      <td>15.0</td>\n",
              "      <td>48054.0</td>\n",
              "      <td>8100.0</td>\n",
              "      <td>8.0</td>\n",
              "      <td>4369.0</td>\n",
              "      <td>43.0</td>\n",
              "      <td>95.7</td>\n",
              "      <td>60629.0</td>\n",
              "      <td>48054.0</td>\n",
              "      <td>1000.0</td>\n",
              "      <td>52529.0</td>\n",
              "    </tr>\n",
              "    <tr>\n",
              "      <th>1</th>\n",
              "      <td>11000.0</td>\n",
              "      <td>0</td>\n",
              "      <td>0.10</td>\n",
              "      <td>354.89</td>\n",
              "      <td>1</td>\n",
              "      <td>1</td>\n",
              "      <td>0</td>\n",
              "      <td>50000.0</td>\n",
              "      <td>1</td>\n",
              "      <td>1</td>\n",
              "      <td>8.74</td>\n",
              "      <td>0.0</td>\n",
              "      <td>2.0</td>\n",
              "      <td>12.0</td>\n",
              "      <td>0.0</td>\n",
              "      <td>0.36</td>\n",
              "      <td>15.0</td>\n",
              "      <td>265838.0</td>\n",
              "      <td>33400.0</td>\n",
              "      <td>4.0</td>\n",
              "      <td>22153.0</td>\n",
              "      <td>19756.0</td>\n",
              "      <td>37.5</td>\n",
              "      <td>297500.0</td>\n",
              "      <td>11844.0</td>\n",
              "      <td>31600.0</td>\n",
              "      <td>0.0</td>\n",
              "    </tr>\n",
              "    <tr>\n",
              "      <th>3</th>\n",
              "      <td>20000.0</td>\n",
              "      <td>1</td>\n",
              "      <td>0.12</td>\n",
              "      <td>447.83</td>\n",
              "      <td>2</td>\n",
              "      <td>0</td>\n",
              "      <td>0</td>\n",
              "      <td>60000.0</td>\n",
              "      <td>1</td>\n",
              "      <td>1</td>\n",
              "      <td>14.14</td>\n",
              "      <td>0.0</td>\n",
              "      <td>0.0</td>\n",
              "      <td>12.0</td>\n",
              "      <td>3.0</td>\n",
              "      <td>0.01</td>\n",
              "      <td>48.0</td>\n",
              "      <td>20671.0</td>\n",
              "      <td>14200.0</td>\n",
              "      <td>8.0</td>\n",
              "      <td>1723.0</td>\n",
              "      <td>11061.0</td>\n",
              "      <td>1.2</td>\n",
              "      <td>46964.0</td>\n",
              "      <td>20671.0</td>\n",
              "      <td>11200.0</td>\n",
              "      <td>32764.0</td>\n",
              "    </tr>\n",
              "    <tr>\n",
              "      <th>5</th>\n",
              "      <td>10000.0</td>\n",
              "      <td>0</td>\n",
              "      <td>0.14</td>\n",
              "      <td>340.13</td>\n",
              "      <td>2</td>\n",
              "      <td>4</td>\n",
              "      <td>2</td>\n",
              "      <td>108000.0</td>\n",
              "      <td>0</td>\n",
              "      <td>0</td>\n",
              "      <td>11.70</td>\n",
              "      <td>0.0</td>\n",
              "      <td>2.0</td>\n",
              "      <td>25.0</td>\n",
              "      <td>0.0</td>\n",
              "      <td>0.41</td>\n",
              "      <td>44.0</td>\n",
              "      <td>25139.0</td>\n",
              "      <td>57100.0</td>\n",
              "      <td>8.0</td>\n",
              "      <td>1093.0</td>\n",
              "      <td>4129.0</td>\n",
              "      <td>77.8</td>\n",
              "      <td>70672.0</td>\n",
              "      <td>25139.0</td>\n",
              "      <td>18600.0</td>\n",
              "      <td>13572.0</td>\n",
              "    </tr>\n",
              "    <tr>\n",
              "      <th>6</th>\n",
              "      <td>20000.0</td>\n",
              "      <td>1</td>\n",
              "      <td>0.13</td>\n",
              "      <td>458.45</td>\n",
              "      <td>2</td>\n",
              "      <td>3</td>\n",
              "      <td>2</td>\n",
              "      <td>40000.0</td>\n",
              "      <td>1</td>\n",
              "      <td>0</td>\n",
              "      <td>23.10</td>\n",
              "      <td>0.0</td>\n",
              "      <td>0.0</td>\n",
              "      <td>13.0</td>\n",
              "      <td>0.0</td>\n",
              "      <td>0.88</td>\n",
              "      <td>31.0</td>\n",
              "      <td>79696.0</td>\n",
              "      <td>20000.0</td>\n",
              "      <td>2.0</td>\n",
              "      <td>6130.0</td>\n",
              "      <td>957.0</td>\n",
              "      <td>94.8</td>\n",
              "      <td>93909.0</td>\n",
              "      <td>79696.0</td>\n",
              "      <td>18500.0</td>\n",
              "      <td>73909.0</td>\n",
              "    </tr>\n",
              "  </tbody>\n",
              "</table>\n",
              "</div>"
            ],
            "text/plain": [
              "    amount  term  rate  payment  ...  totalLim  totalRevBal  totalBcLim  totalIlLim\n",
              "0   8000.0     0  0.14   272.07  ...   60629.0      48054.0      1000.0     52529.0\n",
              "1  11000.0     0  0.10   354.89  ...  297500.0      11844.0     31600.0         0.0\n",
              "3  20000.0     1  0.12   447.83  ...   46964.0      20671.0     11200.0     32764.0\n",
              "5  10000.0     0  0.14   340.13  ...   70672.0      25139.0     18600.0     13572.0\n",
              "6  20000.0     1  0.13   458.45  ...   93909.0      79696.0     18500.0     73909.0\n",
              "\n",
              "[5 rows x 27 columns]"
            ]
          },
          "metadata": {},
          "execution_count": 30
        }
      ]
    },
    {
      "cell_type": "code",
      "metadata": {
        "id": "MHMgJpGh5EvE"
      },
      "source": [
        "# Split the data into training and test data sets.\n",
        "# First we need to divide our data into x values (the data we will use to make predictions) \n",
        "# and y values (the data we are attempting to predict).\n",
        "\n",
        "x_data = loans.drop('status', axis = 1) \n",
        "y_data = loans['status']"
      ],
      "execution_count": 31,
      "outputs": []
    },
    {
      "cell_type": "code",
      "metadata": {
        "id": "BjH1c_CD55ZY"
      },
      "source": [
        "# Use train_test_split function to generate training data and test data. Test data set is 30% of original data set. \n",
        "x_training_data, x_test_data, y_training_data, y_test_data = train_test_split(x_data, y_data, test_size = 0.35, random_state=42)"
      ],
      "execution_count": 32,
      "outputs": []
    },
    {
      "cell_type": "code",
      "metadata": {
        "id": "nrXsoalrfPj9"
      },
      "source": [
        "# Normalize the feature datasets. StandardScaler will transform the data so that its distribution \n",
        "# will have a mean value 0 and standard deviation of 1. \n",
        "sc = StandardScaler()\n",
        "x_training_data = sc.fit_transform(x_training_data)\n",
        "x_test_data = sc.fit_transform(x_test_data)"
      ],
      "execution_count": 33,
      "outputs": []
    },
    {
      "cell_type": "markdown",
      "metadata": {
        "id": "_4icAZPDHFMH"
      },
      "source": [
        "**Logistic Regression Model**"
      ]
    },
    {
      "cell_type": "code",
      "metadata": {
        "id": "kbbGoHBwOwaC"
      },
      "source": [
        "# Create an instance of the classifier and assign it to a model variable. \n",
        "model_lg = LogisticRegression()"
      ],
      "execution_count": 34,
      "outputs": []
    },
    {
      "cell_type": "code",
      "metadata": {
        "colab": {
          "base_uri": "https://localhost:8080/"
        },
        "id": "STSQBh7KPN4L",
        "outputId": "b1cda67b-e209-4c19-efda-6f425450dadf"
      },
      "source": [
        "# Train the model using the fit method and training data. \n",
        "model_lg.fit(x_training_data, y_training_data)"
      ],
      "execution_count": 35,
      "outputs": [
        {
          "output_type": "execute_result",
          "data": {
            "text/plain": [
              "LogisticRegression(C=1.0, class_weight=None, dual=False, fit_intercept=True,\n",
              "                   intercept_scaling=1, l1_ratio=None, max_iter=100,\n",
              "                   multi_class='auto', n_jobs=None, penalty='l2',\n",
              "                   random_state=None, solver='lbfgs', tol=0.0001, verbose=0,\n",
              "                   warm_start=False)"
            ]
          },
          "metadata": {},
          "execution_count": 35
        }
      ]
    },
    {
      "cell_type": "code",
      "metadata": {
        "id": "fdL6i-tb7yQt"
      },
      "source": [
        "# Make predictions on the test data. \n",
        "predictions_lr = model_lg.predict(x_test_data)"
      ],
      "execution_count": 36,
      "outputs": []
    },
    {
      "cell_type": "code",
      "metadata": {
        "colab": {
          "base_uri": "https://localhost:8080/"
        },
        "id": "vSnQeTLHPzEi",
        "outputId": "71e77ccd-1b8c-4585-a47b-969283e5228a"
      },
      "source": [
        "# Calculate the Accuracy Score.\n",
        "lg = accuracy_score(y_test_data, predictions_lr)\n",
        "print(lg)"
      ],
      "execution_count": 37,
      "outputs": [
        {
          "output_type": "stream",
          "name": "stdout",
          "text": [
            "0.7866321690383786\n"
          ]
        }
      ]
    },
    {
      "cell_type": "code",
      "metadata": {
        "colab": {
          "base_uri": "https://localhost:8080/",
          "height": 282
        },
        "id": "WtnGC0GqP0D8",
        "outputId": "0875f7db-57a2-46fd-ad74-1be875443637"
      },
      "source": [
        "# Show Confusion Maxtrix.\n",
        "cm1 = confusion_matrix(y_test_data, predictions_lr)\n",
        "sns.heatmap(cm1/np.sum(cm1), annot = True, fmt=  '0.2%', cmap = 'Reds')"
      ],
      "execution_count": 38,
      "outputs": [
        {
          "output_type": "execute_result",
          "data": {
            "text/plain": [
              "<matplotlib.axes._subplots.AxesSubplot at 0x7f18514acd90>"
            ]
          },
          "metadata": {},
          "execution_count": 38
        },
        {
          "output_type": "display_data",
          "data": {
            "image/png": "[encoded data removed]",
            "text/plain": [
              "<Figure size 432x288 with 2 Axes>"
            ]
          },
          "metadata": {
            "needs_background": "light"
          }
        }
      ]
    },
    {
      "cell_type": "markdown",
      "metadata": {
        "id": "X2JauoT3RBOd"
      },
      "source": [
        "The logistic regression model correctly predicted 78.67% of the loans  to be good or bad. \n",
        "\n",
        "*   3.10% correctly predicted loans to be good.\n",
        "*   75.57% correctly predicted loans to go bad.\n",
        "\n",
        "21.34% of the loans were incorrectly predicted to be good or bad.\n",
        "\n",
        "*   19.02% incorrectly predicted loans to go bad.\n",
        "*   2.32% incorrectly predicted loans to be good."
      ]
    },
    {
      "cell_type": "markdown",
      "metadata": {
        "id": "8xUMgOKvHW35"
      },
      "source": [
        "**Decision Tree Model**"
      ]
    },
    {
      "cell_type": "code",
      "metadata": {
        "id": "i4LEMAsS9dtb"
      },
      "source": [
        "# Create an instance of the classifier and assign it to a model variable. \n",
        "model_dt = DecisionTreeClassifier(criterion = 'entropy', random_state=42)"
      ],
      "execution_count": 39,
      "outputs": []
    },
    {
      "cell_type": "code",
      "metadata": {
        "colab": {
          "base_uri": "https://localhost:8080/"
        },
        "id": "-7KrYWt59d2M",
        "outputId": "665f524d-9a54-4e68-b592-7d4cb51c9afc"
      },
      "source": [
        "# Train the Model using the fit method and training data. \n",
        "model_dt.fit(x_training_data, y_training_data)"
      ],
      "execution_count": 40,
      "outputs": [
        {
          "output_type": "execute_result",
          "data": {
            "text/plain": [
              "DecisionTreeClassifier(ccp_alpha=0.0, class_weight=None, criterion='entropy',\n",
              "                       max_depth=None, max_features=None, max_leaf_nodes=None,\n",
              "                       min_impurity_decrease=0.0, min_impurity_split=None,\n",
              "                       min_samples_leaf=1, min_samples_split=2,\n",
              "                       min_weight_fraction_leaf=0.0, presort='deprecated',\n",
              "                       random_state=42, splitter='best')"
            ]
          },
          "metadata": {},
          "execution_count": 40
        }
      ]
    },
    {
      "cell_type": "code",
      "metadata": {
        "id": "9yXNd9lE9d-m"
      },
      "source": [
        "# Make predictions on the test data. \n",
        "predictions_dt = model_dt.predict(x_test_data)"
      ],
      "execution_count": 41,
      "outputs": []
    },
    {
      "cell_type": "code",
      "metadata": {
        "colab": {
          "base_uri": "https://localhost:8080/"
        },
        "id": "fVnrpeGw9eHE",
        "outputId": "09d15337-45cb-4abc-8cb6-918a8de6fbf1"
      },
      "source": [
        "# Calculate the Accuracy Score.\n",
        "dt = accuracy_score(y_test_data, predictions_dt)\n",
        "print(dt)"
      ],
      "execution_count": 42,
      "outputs": [
        {
          "output_type": "stream",
          "name": "stdout",
          "text": [
            "0.6877102199223804\n"
          ]
        }
      ]
    },
    {
      "cell_type": "code",
      "metadata": {
        "colab": {
          "base_uri": "https://localhost:8080/",
          "height": 282
        },
        "id": "Fuzr8Yoi9eQF",
        "outputId": "a655412e-538b-481e-9c29-b511f9a634c5"
      },
      "source": [
        "# Show Confusion Maxtrix\n",
        "cm2 = confusion_matrix(y_test_data, predictions_dt)\n",
        "sns.heatmap(cm2/np.sum(cm2), annot = True, fmt=  '0.2%', cmap = 'Reds')"
      ],
      "execution_count": 43,
      "outputs": [
        {
          "output_type": "execute_result",
          "data": {
            "text/plain": [
              "<matplotlib.axes._subplots.AxesSubplot at 0x7f1850b8e350>"
            ]
          },
          "metadata": {},
          "execution_count": 43
        },
        {
          "output_type": "display_data",
          "data": {
            "image/png": "[encoded data removed]",
            "text/plain": [
              "<Figure size 432x288 with 2 Axes>"
            ]
          },
          "metadata": {
            "needs_background": "light"
          }
        }
      ]
    },
    {
      "cell_type": "markdown",
      "metadata": {
        "id": "n0A5QLP9E8lq"
      },
      "source": [
        "The decision tress model correctly predicted 68.77% of the loans  to be good or bad. \n",
        "\n",
        "*   6.75% correctly predicted loans to be good.\n",
        "*   62.02% correctly predicted loans to go bad.\n",
        "\n",
        "31.23% of the loans were incorrectly predicted to be good or bad.\n",
        "\n",
        "*   15.36% incorrectly predicted loans to go bad.\n",
        "*   15.87% incorrectly predicted loans to be good."
      ]
    },
    {
      "cell_type": "markdown",
      "metadata": {
        "id": "zeRivWR2Hr4s"
      },
      "source": [
        "**Random Forrest Model**"
      ]
    },
    {
      "cell_type": "code",
      "metadata": {
        "id": "6h0L1OC1CcaO"
      },
      "source": [
        "# Create an instance of the classifier and assign it to a model variable. \n",
        "# model_rf = RandomForestClassifier(n_estimators=300,min_samples_leaf=0.16, random_state=42)\n",
        "model_rf = RandomForestClassifier(n_estimators=100, max_depth=10)"
      ],
      "execution_count": 44,
      "outputs": []
    },
    {
      "cell_type": "markdown",
      "metadata": {
        "id": "cbF9zDIuAGb3"
      },
      "source": [
        "Parameters are:\n",
        "\n",
        "\n",
        "*   n_estimators is the number of trees in the forest\n",
        "*   max_depth is the maximum depth of the tree"
      ]
    },
    {
      "cell_type": "code",
      "metadata": {
        "colab": {
          "base_uri": "https://localhost:8080/"
        },
        "id": "vW9iG7XYCcjJ",
        "outputId": "5eee2a2a-0033-43b2-b13b-5de2a8e3ef10"
      },
      "source": [
        "# Train the model using the fit method and training data.\n",
        "model_rf.fit(x_training_data, y_training_data)"
      ],
      "execution_count": 45,
      "outputs": [
        {
          "output_type": "execute_result",
          "data": {
            "text/plain": [
              "RandomForestClassifier(bootstrap=True, ccp_alpha=0.0, class_weight=None,\n",
              "                       criterion='gini', max_depth=10, max_features='auto',\n",
              "                       max_leaf_nodes=None, max_samples=None,\n",
              "                       min_impurity_decrease=0.0, min_impurity_split=None,\n",
              "                       min_samples_leaf=1, min_samples_split=2,\n",
              "                       min_weight_fraction_leaf=0.0, n_estimators=100,\n",
              "                       n_jobs=None, oob_score=False, random_state=None,\n",
              "                       verbose=0, warm_start=False)"
            ]
          },
          "metadata": {},
          "execution_count": 45
        }
      ]
    },
    {
      "cell_type": "code",
      "metadata": {
        "id": "-tUAZ0S0Ccqm"
      },
      "source": [
        "# Make predictions on the test data. \n",
        "predictions_rf = model_rf.predict(x_test_data)"
      ],
      "execution_count": 46,
      "outputs": []
    },
    {
      "cell_type": "code",
      "metadata": {
        "colab": {
          "base_uri": "https://localhost:8080/"
        },
        "id": "sL9LFHZ8Ccxb",
        "outputId": "aa11a78e-9cef-43e9-ccfd-afc080b07c8a"
      },
      "source": [
        "# Calculate the Accuracy Score.\n",
        "rf = accuracy_score(y_test_data, predictions_rf)\n",
        "print(rf)"
      ],
      "execution_count": 47,
      "outputs": [
        {
          "output_type": "stream",
          "name": "stdout",
          "text": [
            "0.7836998706338939\n"
          ]
        }
      ]
    },
    {
      "cell_type": "code",
      "metadata": {
        "colab": {
          "base_uri": "https://localhost:8080/",
          "height": 282
        },
        "id": "F2sJbExnCc5n",
        "outputId": "412d567f-6c71-44e9-c01d-507449e38479"
      },
      "source": [
        "# Show Confusion Maxtrix\n",
        "cm3 = confusion_matrix(y_test_data, predictions_rf)\n",
        "sns.heatmap(cm3/np.sum(cm3), annot = True, fmt=  '0.2%', cmap = 'Reds')"
      ],
      "execution_count": 48,
      "outputs": [
        {
          "output_type": "execute_result",
          "data": {
            "text/plain": [
              "<matplotlib.axes._subplots.AxesSubplot at 0x7f1850ab9150>"
            ]
          },
          "metadata": {},
          "execution_count": 48
        },
        {
          "output_type": "display_data",
          "data": {
            "image/png": "[encoded data removed]",
            "text/plain": [
              "<Figure size 432x288 with 2 Axes>"
            ]
          },
          "metadata": {
            "needs_background": "light"
          }
        }
      ]
    },
    {
      "cell_type": "markdown",
      "metadata": {
        "id": "nT003VcFGVHj"
      },
      "source": [
        "The random forrest model correctly predicted 78.36% of the loans  to be good or bad. \n",
        "\n",
        "*   1.66% correctly predicted loans to be good.\n",
        "*   76.71% correctly predicted loans to go bad.\n",
        "\n",
        "21.63% of the loans were incorrectly predicted to be good or bad.\n",
        "\n",
        "*   20.46% incorrectly predicted loans to go bad.\n",
        "*   1.17% incorrectly predicted loans to be good."
      ]
    },
    {
      "cell_type": "markdown",
      "metadata": {
        "id": "4dOjnvieH6aD"
      },
      "source": [
        "**K Nearest Neighbors**"
      ]
    },
    {
      "cell_type": "code",
      "metadata": {
        "id": "VAaepL3wFOxk"
      },
      "source": [
        "# Create an instance of the classifier and assign it to a model variable. \n",
        "model_kn = KNeighborsClassifier(n_neighbors=9, leaf_size=20)"
      ],
      "execution_count": 49,
      "outputs": []
    },
    {
      "cell_type": "code",
      "metadata": {
        "colab": {
          "base_uri": "https://localhost:8080/"
        },
        "id": "XkKQ042uFO7R",
        "outputId": "e3908e47-061a-49c1-f904-4e6fb4244aaa"
      },
      "source": [
        "# Train the model using the fit method and training data.\n",
        "model_kn.fit(x_training_data, y_training_data)"
      ],
      "execution_count": 50,
      "outputs": [
        {
          "output_type": "execute_result",
          "data": {
            "text/plain": [
              "KNeighborsClassifier(algorithm='auto', leaf_size=20, metric='minkowski',\n",
              "                     metric_params=None, n_jobs=None, n_neighbors=9, p=2,\n",
              "                     weights='uniform')"
            ]
          },
          "metadata": {},
          "execution_count": 50
        }
      ]
    },
    {
      "cell_type": "code",
      "metadata": {
        "id": "X0MLtbx9FPEy"
      },
      "source": [
        "# Make predictions on the test data. \n",
        "predictions_kn = model_kn.predict(x_test_data)"
      ],
      "execution_count": 51,
      "outputs": []
    },
    {
      "cell_type": "code",
      "metadata": {
        "colab": {
          "base_uri": "https://localhost:8080/"
        },
        "id": "dqBKeE_EFPOU",
        "outputId": "27f1bd78-ec87-43a5-c219-1f58a0cd584f"
      },
      "source": [
        "# Calculate the Accuracy Score.\n",
        "kn = accuracy_score(y_test_data, predictions_kn)\n",
        "print(kn)"
      ],
      "execution_count": 52,
      "outputs": [
        {
          "output_type": "stream",
          "name": "stdout",
          "text": [
            "0.770677015955153\n"
          ]
        }
      ]
    },
    {
      "cell_type": "code",
      "metadata": {
        "colab": {
          "base_uri": "https://localhost:8080/",
          "height": 282
        },
        "id": "sN1tMM5nFPY2",
        "outputId": "5a914888-6fe5-49ec-cfa7-36167f36bb0d"
      },
      "source": [
        "# Show Confusion Maxtrix\n",
        "cm4 = confusion_matrix(y_test_data, predictions_kn)\n",
        "sns.heatmap(cm4/np.sum(cm4), annot = True, fmt=  '0.2%', cmap = 'Reds')"
      ],
      "execution_count": 53,
      "outputs": [
        {
          "output_type": "execute_result",
          "data": {
            "text/plain": [
              "<matplotlib.axes._subplots.AxesSubplot at 0x7f1850b74450>"
            ]
          },
          "metadata": {},
          "execution_count": 53
        },
        {
          "output_type": "display_data",
          "data": {
            "image/png": "[encoded data removed]",
            "text/plain": [
              "<Figure size 432x288 with 2 Axes>"
            ]
          },
          "metadata": {
            "needs_background": "light"
          }
        }
      ]
    },
    {
      "cell_type": "markdown",
      "metadata": {
        "id": "K5L2Mr9lH9pN"
      },
      "source": [
        "The k nearest neighbors model correctly predicted 77.06% of the loans  to be good or bad. \n",
        "\n",
        "*   3.23% correctly predicted loans to be good.\n",
        "*   73.84% correctly predicted loans to go bad.\n",
        "\n",
        "22.93% of the loans were incorrectly predicted to be good or bad.\n",
        "\n",
        "*   18.89% incorrectly predicted loans to go bad.\n",
        "*   4.04% incorrectly predicted loans to be good."
      ]
    },
    {
      "cell_type": "markdown",
      "metadata": {
        "id": "IXbgeCkbGVaS"
      },
      "source": [
        "**Support Vector Machine (SVC)**"
      ]
    },
    {
      "cell_type": "code",
      "metadata": {
        "id": "2n21XDiyGWZ5"
      },
      "source": [
        "# Create an instance of the classifier and assign it to a model variable. \n",
        "model_svc = SVC()"
      ],
      "execution_count": 54,
      "outputs": []
    },
    {
      "cell_type": "code",
      "metadata": {
        "colab": {
          "base_uri": "https://localhost:8080/"
        },
        "id": "NSGBD5IRGWz9",
        "outputId": "15aafde6-1a48-4380-94a7-480800f3b0fd"
      },
      "source": [
        "# Train the model using the fit method and training data.\n",
        "model_svc.fit(x_training_data, y_training_data)"
      ],
      "execution_count": 55,
      "outputs": [
        {
          "output_type": "execute_result",
          "data": {
            "text/plain": [
              "SVC(C=1.0, break_ties=False, cache_size=200, class_weight=None, coef0=0.0,\n",
              "    decision_function_shape='ovr', degree=3, gamma='scale', kernel='rbf',\n",
              "    max_iter=-1, probability=False, random_state=None, shrinking=True,\n",
              "    tol=0.001, verbose=False)"
            ]
          },
          "metadata": {},
          "execution_count": 55
        }
      ]
    },
    {
      "cell_type": "code",
      "metadata": {
        "id": "AKnn7k-SGW7F"
      },
      "source": [
        "# Make predictions on the test data. \n",
        "predictions_svc = model_svc.predict(x_test_data)"
      ],
      "execution_count": 56,
      "outputs": []
    },
    {
      "cell_type": "code",
      "metadata": {
        "colab": {
          "base_uri": "https://localhost:8080/"
        },
        "id": "17iW7qvVGXBS",
        "outputId": "90b15e20-1749-4ee1-df7d-9a724f7382af"
      },
      "source": [
        "# Calculate the Accuracy Score.\n",
        "svc = accuracy_score(y_test_data, predictions_svc)\n",
        "print(svc)"
      ],
      "execution_count": 57,
      "outputs": [
        {
          "output_type": "stream",
          "name": "stdout",
          "text": [
            "0.7831824062095731\n"
          ]
        }
      ]
    },
    {
      "cell_type": "code",
      "metadata": {
        "colab": {
          "base_uri": "https://localhost:8080/",
          "height": 282
        },
        "id": "VLj80ZD_IKNm",
        "outputId": "5bf665d3-ebf5-439f-ea5e-950ecfbb7576"
      },
      "source": [
        "# Show Confusion Maxtrix\n",
        "cm5 = confusion_matrix(y_test_data, predictions_svc)\n",
        "sns.heatmap(cm5/np.sum(cm5), annot = True, fmt=  '0.2%', cmap = 'Reds')"
      ],
      "execution_count": 58,
      "outputs": [
        {
          "output_type": "execute_result",
          "data": {
            "text/plain": [
              "<matplotlib.axes._subplots.AxesSubplot at 0x7f1850984c90>"
            ]
          },
          "metadata": {},
          "execution_count": 58
        },
        {
          "output_type": "display_data",
          "data": {
            "image/png": "[encoded data removed]",
            "text/plain": [
              "<Figure size 432x288 with 2 Axes>"
            ]
          },
          "metadata": {
            "needs_background": "light"
          }
        }
      ]
    },
    {
      "cell_type": "markdown",
      "metadata": {
        "id": "73dk53FmLLHs"
      },
      "source": [
        "The support vector machine model correctly predicted 78.32% of the loans  to be good or bad. \n",
        "\n",
        "*   1.36% correctly predicted loans to be good.\n",
        "*   76.96% correctly predicted loans to go bad.\n",
        "\n",
        "21.68% of the loans were incorrectly predicted to be good or bad.\n",
        "\n",
        "*   20.75% incorrectly predicted loans to go bad.\n",
        "*   0.93% incorrectly predicted loans to be good."
      ]
    },
    {
      "cell_type": "code",
      "metadata": {
        "colab": {
          "base_uri": "https://localhost:8080/",
          "height": 469
        },
        "id": "bnOtBVpQLeWt",
        "outputId": "78b64b0d-0004-4064-cdd5-b96fdbe1d8e8"
      },
      "source": [
        "# Show Accuraccy Score by Model.\n",
        "models = pd.DataFrame({\n",
        "    'Model':['Logistic Regression', 'Decision Tree', 'Random Forest', 'KNeighbours', 'Support Vector Machine'],\n",
        "    'Accuracy_score' :[lg, dt, rf, kn, svc]\n",
        "})\n",
        "models\n",
        "sns.barplot(x='Accuracy_score', y='Model', data=models)\n",
        "\n",
        "models.sort_values(by='Accuracy_score', ascending=False)"
      ],
      "execution_count": 60,
      "outputs": [
        {
          "output_type": "execute_result",
          "data": {
            "text/html": [
              "<div>\n",
              "<style scoped>\n",
              "    .dataframe tbody tr th:only-of-type {\n",
              "        vertical-align: middle;\n",
              "    }\n",
              "\n",
              "    .dataframe tbody tr th {\n",
              "        vertical-align: top;\n",
              "    }\n",
              "\n",
              "    .dataframe thead th {\n",
              "        text-align: right;\n",
              "    }\n",
              "</style>\n",
              "<table border=\"1\" class=\"dataframe\">\n",
              "  <thead>\n",
              "    <tr style=\"text-align: right;\">\n",
              "      <th></th>\n",
              "      <th>Model</th>\n",
              "      <th>Accuracy_score</th>\n",
              "    </tr>\n",
              "  </thead>\n",
              "  <tbody>\n",
              "    <tr>\n",
              "      <th>0</th>\n",
              "      <td>Logistic Regression</td>\n",
              "      <td>0.786632</td>\n",
              "    </tr>\n",
              "    <tr>\n",
              "      <th>2</th>\n",
              "      <td>Random Forest</td>\n",
              "      <td>0.783700</td>\n",
              "    </tr>\n",
              "    <tr>\n",
              "      <th>4</th>\n",
              "      <td>Support Vector Machine</td>\n",
              "      <td>0.783182</td>\n",
              "    </tr>\n",
              "    <tr>\n",
              "      <th>3</th>\n",
              "      <td>KNeighbours</td>\n",
              "      <td>0.770677</td>\n",
              "    </tr>\n",
              "    <tr>\n",
              "      <th>1</th>\n",
              "      <td>Decision Tree</td>\n",
              "      <td>0.687710</td>\n",
              "    </tr>\n",
              "  </tbody>\n",
              "</table>\n",
              "</div>"
            ],
            "text/plain": [
              "                    Model  Accuracy_score\n",
              "0     Logistic Regression        0.786632\n",
              "2           Random Forest        0.783700\n",
              "4  Support Vector Machine        0.783182\n",
              "3             KNeighbours        0.770677\n",
              "1           Decision Tree        0.687710"
            ]
          },
          "metadata": {},
          "execution_count": 60
        },
        {
          "output_type": "display_data",
          "data": {
            "image/png": "[encoded data removed]",
            "text/plain": [
              "<Figure size 432x288 with 1 Axes>"
            ]
          },
          "metadata": {
            "needs_background": "light"
          }
        }
      ]
    },
    {
      "cell_type": "markdown",
      "metadata": {
        "id": "GmiA61Ej9huO"
      },
      "source": [
        "Conclusions: The logistic regression model had the highest accuracy score. This model correctly predicted 79% of the loans to be good or bad. 3.10% of loans were correctly predicted to be good and 75.57% of loans were correctly predicted to go bad. \"Good\" loans were classified as Fully Paid, In Grace Period or Late by (16-30 days). \"Bad\" loans were classified as Charged Off, Default or Late by (31-120 days). The models used in this analysis were better at predicting bad loans versus predicting good loans.  \n",
        "\n",
        "The features with the highest correlation to loan status were total current balance of all credit accounts, average balance per account, total unused credit on credit cards and total credit limits of credit cards. The employment variable may have been a good feature for predicting loan status if the category values were more specific to the type of employment.\n",
        " \n",
        "The models may be improved by having a more balanced datset between good and bad loans. Also tuning some of the models hyper parameters may increase accuracy.  \n",
        "\n",
        "\n"
      ]
    }
  ]
}