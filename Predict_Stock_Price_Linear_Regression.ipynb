{
  "nbformat": 4,
  "nbformat_minor": 0,
  "metadata": {
    "colab": {
      "name": "Predict Stock Price Linear Regression.ipynb",
      "provenance": [],
      "collapsed_sections": [],
      "authorship_tag": "ABX9TyM28BljznqPLrjYXbNmC/fN",
      "include_colab_link": true
    },
    "kernelspec": {
      "name": "python3",
      "display_name": "Python 3"
    },
    "language_info": {
      "name": "python"
    }
  },
  "cells": [
    {
      "cell_type": "markdown",
      "metadata": {
        "id": "view-in-github",
        "colab_type": "text"
      },
      "source": [
        "<a href=\"https://colab.research.google.com/github/dniggl/Insights/blob/main/Predict_Stock_Price_Linear_Regression.ipynb\" target=\"_parent\"><img src=\"https://colab.research.google.com/assets/colab-badge.svg\" alt=\"Open In Colab\"/></a>"
      ]
    },
    {
      "cell_type": "code",
      "metadata": {
        "id": "j9UJX1J1P3v7"
      },
      "source": [
        "# Predict Tesla stock prices using the Linear Regression model.    "
      ],
      "execution_count": null,
      "outputs": []
    },
    {
      "cell_type": "code",
      "metadata": {
        "id": "VwvnlA5AQIxW"
      },
      "source": [
        "# Install yfinance and cartopy packages\n",
        "!pip install yfinance\n",
        "!pip install cartopy\n",
        "\n",
        "# Import software libraries.\n",
        "import cartopy\n",
        "import pandas as pd\n",
        "import yfinance as yf\n",
        "import datetime\n",
        "import numpy as np\n",
        "import matplotlib.pyplot as plt"
      ],
      "execution_count": null,
      "outputs": []
    },
    {
      "cell_type": "code",
      "metadata": {
        "id": "GfO3L2GFQjbM"
      },
      "source": [
        "# We will use the Yahoo! Finance Market Downloader to get the data for Tesla stock.\n",
        "tesla = yf.download('TSLA',start='2020-01-07',  end='2021-01-07',progress=False)[['Close']]"
      ],
      "execution_count": null,
      "outputs": []
    },
    {
      "cell_type": "code",
      "metadata": {
        "colab": {
          "base_uri": "https://localhost:8080/",
          "height": 234
        },
        "id": "vwhcw2wueT2f",
        "outputId": "1efd8b73-41b9-467d-e74f-9a5b056e868a"
      },
      "source": [
        "# Print the first 5 rows\n",
        "tesla.head(5)"
      ],
      "execution_count": null,
      "outputs": [
        {
          "output_type": "execute_result",
          "data": {
            "text/html": [
              "<div>\n",
              "<style scoped>\n",
              "    .dataframe tbody tr th:only-of-type {\n",
              "        vertical-align: middle;\n",
              "    }\n",
              "\n",
              "    .dataframe tbody tr th {\n",
              "        vertical-align: top;\n",
              "    }\n",
              "\n",
              "    .dataframe thead th {\n",
              "        text-align: right;\n",
              "    }\n",
              "</style>\n",
              "<table border=\"1\" class=\"dataframe\">\n",
              "  <thead>\n",
              "    <tr style=\"text-align: right;\">\n",
              "      <th></th>\n",
              "      <th>Close</th>\n",
              "    </tr>\n",
              "    <tr>\n",
              "      <th>Date</th>\n",
              "      <th></th>\n",
              "    </tr>\n",
              "  </thead>\n",
              "  <tbody>\n",
              "    <tr>\n",
              "      <th>2020-01-07</th>\n",
              "      <td>93.811996</td>\n",
              "    </tr>\n",
              "    <tr>\n",
              "      <th>2020-01-08</th>\n",
              "      <td>98.428001</td>\n",
              "    </tr>\n",
              "    <tr>\n",
              "      <th>2020-01-09</th>\n",
              "      <td>96.267998</td>\n",
              "    </tr>\n",
              "    <tr>\n",
              "      <th>2020-01-10</th>\n",
              "      <td>95.629997</td>\n",
              "    </tr>\n",
              "    <tr>\n",
              "      <th>2020-01-13</th>\n",
              "      <td>104.972000</td>\n",
              "    </tr>\n",
              "  </tbody>\n",
              "</table>\n",
              "</div>"
            ],
            "text/plain": [
              "                 Close\n",
              "Date                  \n",
              "2020-01-07   93.811996\n",
              "2020-01-08   98.428001\n",
              "2020-01-09   96.267998\n",
              "2020-01-10   95.629997\n",
              "2020-01-13  104.972000"
            ]
          },
          "metadata": {},
          "execution_count": 40
        }
      ]
    },
    {
      "cell_type": "code",
      "metadata": {
        "colab": {
          "base_uri": "https://localhost:8080/"
        },
        "id": "K71O2lwLVLVz",
        "outputId": "15db44a5-6a4d-4a10-afda-f8e5484ac993"
      },
      "source": [
        "# Show information about the data. \n",
        "tesla.info()"
      ],
      "execution_count": null,
      "outputs": [
        {
          "output_type": "stream",
          "name": "stdout",
          "text": [
            "<class 'pandas.core.frame.DataFrame'>\n",
            "DatetimeIndex: 253 entries, 2020-01-07 to 2021-01-06\n",
            "Data columns (total 1 columns):\n",
            " #   Column  Non-Null Count  Dtype  \n",
            "---  ------  --------------  -----  \n",
            " 0   Close   253 non-null    float64\n",
            "dtypes: float64(1)\n",
            "memory usage: 4.0 KB\n"
          ]
        }
      ]
    },
    {
      "cell_type": "markdown",
      "metadata": {
        "id": "L_6cbKgUVfTQ"
      },
      "source": [
        "There are 253 records and 1 columns. The data set contains no null values and float data type."
      ]
    },
    {
      "cell_type": "markdown",
      "metadata": {
        "id": "XbVvsGcPgWVE"
      },
      "source": [
        "We need to transform the data so we can feed them into our Machine Learning model. We will restructure our data so that each row contains the actual stock price for one day followed be each of the closing stock prices for the previous 10 days. For example, begining with the 11th row, we will get the previous 10 closing prices and use them for the features. The Pandas shift function will be used to get the close values from each of the previous 10 rows of data. This process will be repeated for each row of data. "
      ]
    },
    {
      "cell_type": "code",
      "metadata": {
        "colab": {
          "base_uri": "https://localhost:8080/",
          "height": 234
        },
        "id": "mlvvDYLWR9UD",
        "outputId": "c5ce3b77-4aa5-4a8b-d310-323bc5b10692"
      },
      "source": [
        "tesla = pd.concat([tesla, tesla.shift(), tesla.shift(2),tesla.shift(3),tesla.shift(4),tesla.shift(5),\n",
        "           tesla.shift(6),tesla.shift(7),tesla.shift(8),tesla.shift(9),tesla.shift(10)], axis=1).dropna() \n",
        "tesla.columns = list(range(0,11))\n",
        "tesla.rename(columns={0:'actual_stock_price'},inplace=True)\n",
        "tesla.head()"
      ],
      "execution_count": null,
      "outputs": [
        {
          "output_type": "execute_result",
          "data": {
            "text/html": [
              "<div>\n",
              "<style scoped>\n",
              "    .dataframe tbody tr th:only-of-type {\n",
              "        vertical-align: middle;\n",
              "    }\n",
              "\n",
              "    .dataframe tbody tr th {\n",
              "        vertical-align: top;\n",
              "    }\n",
              "\n",
              "    .dataframe thead th {\n",
              "        text-align: right;\n",
              "    }\n",
              "</style>\n",
              "<table border=\"1\" class=\"dataframe\">\n",
              "  <thead>\n",
              "    <tr style=\"text-align: right;\">\n",
              "      <th></th>\n",
              "      <th>actual_stock_price</th>\n",
              "      <th>1</th>\n",
              "      <th>2</th>\n",
              "      <th>3</th>\n",
              "      <th>4</th>\n",
              "      <th>5</th>\n",
              "      <th>6</th>\n",
              "      <th>7</th>\n",
              "      <th>8</th>\n",
              "      <th>9</th>\n",
              "      <th>10</th>\n",
              "    </tr>\n",
              "    <tr>\n",
              "      <th>Date</th>\n",
              "      <th></th>\n",
              "      <th></th>\n",
              "      <th></th>\n",
              "      <th></th>\n",
              "      <th></th>\n",
              "      <th></th>\n",
              "      <th></th>\n",
              "      <th></th>\n",
              "      <th></th>\n",
              "      <th></th>\n",
              "      <th></th>\n",
              "    </tr>\n",
              "  </thead>\n",
              "  <tbody>\n",
              "    <tr>\n",
              "      <th>2020-01-22</th>\n",
              "      <td>113.912003</td>\n",
              "      <td>109.440002</td>\n",
              "      <td>102.099998</td>\n",
              "      <td>102.697998</td>\n",
              "      <td>103.699997</td>\n",
              "      <td>107.584000</td>\n",
              "      <td>104.972000</td>\n",
              "      <td>95.629997</td>\n",
              "      <td>96.267998</td>\n",
              "      <td>98.428001</td>\n",
              "      <td>93.811996</td>\n",
              "    </tr>\n",
              "    <tr>\n",
              "      <th>2020-01-23</th>\n",
              "      <td>114.440002</td>\n",
              "      <td>113.912003</td>\n",
              "      <td>109.440002</td>\n",
              "      <td>102.099998</td>\n",
              "      <td>102.697998</td>\n",
              "      <td>103.699997</td>\n",
              "      <td>107.584000</td>\n",
              "      <td>104.972000</td>\n",
              "      <td>95.629997</td>\n",
              "      <td>96.267998</td>\n",
              "      <td>98.428001</td>\n",
              "    </tr>\n",
              "    <tr>\n",
              "      <th>2020-01-24</th>\n",
              "      <td>112.963997</td>\n",
              "      <td>114.440002</td>\n",
              "      <td>113.912003</td>\n",
              "      <td>109.440002</td>\n",
              "      <td>102.099998</td>\n",
              "      <td>102.697998</td>\n",
              "      <td>103.699997</td>\n",
              "      <td>107.584000</td>\n",
              "      <td>104.972000</td>\n",
              "      <td>95.629997</td>\n",
              "      <td>96.267998</td>\n",
              "    </tr>\n",
              "    <tr>\n",
              "      <th>2020-01-27</th>\n",
              "      <td>111.603996</td>\n",
              "      <td>112.963997</td>\n",
              "      <td>114.440002</td>\n",
              "      <td>113.912003</td>\n",
              "      <td>109.440002</td>\n",
              "      <td>102.099998</td>\n",
              "      <td>102.697998</td>\n",
              "      <td>103.699997</td>\n",
              "      <td>107.584000</td>\n",
              "      <td>104.972000</td>\n",
              "      <td>95.629997</td>\n",
              "    </tr>\n",
              "    <tr>\n",
              "      <th>2020-01-28</th>\n",
              "      <td>113.379997</td>\n",
              "      <td>111.603996</td>\n",
              "      <td>112.963997</td>\n",
              "      <td>114.440002</td>\n",
              "      <td>113.912003</td>\n",
              "      <td>109.440002</td>\n",
              "      <td>102.099998</td>\n",
              "      <td>102.697998</td>\n",
              "      <td>103.699997</td>\n",
              "      <td>107.584000</td>\n",
              "      <td>104.972000</td>\n",
              "    </tr>\n",
              "  </tbody>\n",
              "</table>\n",
              "</div>"
            ],
            "text/plain": [
              "            actual_stock_price           1  ...           9          10\n",
              "Date                                        ...                        \n",
              "2020-01-22          113.912003  109.440002  ...   98.428001   93.811996\n",
              "2020-01-23          114.440002  113.912003  ...   96.267998   98.428001\n",
              "2020-01-24          112.963997  114.440002  ...   95.629997   96.267998\n",
              "2020-01-27          111.603996  112.963997  ...  104.972000   95.629997\n",
              "2020-01-28          113.379997  111.603996  ...  107.584000  104.972000\n",
              "\n",
              "[5 rows x 11 columns]"
            ]
          },
          "metadata": {},
          "execution_count": 42
        }
      ]
    },
    {
      "cell_type": "code",
      "metadata": {
        "colab": {
          "base_uri": "https://localhost:8080/",
          "height": 234
        },
        "id": "Q1vjFeFI6snP",
        "outputId": "d6673264-8f68-4780-d4f2-9933df492760"
      },
      "source": [
        "# Split the data into training and test data sets. \n",
        "train = tesla.head(len(tesla)-10)\n",
        "test = tesla.tail(10)\n",
        "train.head(5)"
      ],
      "execution_count": null,
      "outputs": [
        {
          "output_type": "execute_result",
          "data": {
            "text/html": [
              "<div>\n",
              "<style scoped>\n",
              "    .dataframe tbody tr th:only-of-type {\n",
              "        vertical-align: middle;\n",
              "    }\n",
              "\n",
              "    .dataframe tbody tr th {\n",
              "        vertical-align: top;\n",
              "    }\n",
              "\n",
              "    .dataframe thead th {\n",
              "        text-align: right;\n",
              "    }\n",
              "</style>\n",
              "<table border=\"1\" class=\"dataframe\">\n",
              "  <thead>\n",
              "    <tr style=\"text-align: right;\">\n",
              "      <th></th>\n",
              "      <th>actual_stock_price</th>\n",
              "      <th>1</th>\n",
              "      <th>2</th>\n",
              "      <th>3</th>\n",
              "      <th>4</th>\n",
              "      <th>5</th>\n",
              "      <th>6</th>\n",
              "      <th>7</th>\n",
              "      <th>8</th>\n",
              "      <th>9</th>\n",
              "      <th>10</th>\n",
              "    </tr>\n",
              "    <tr>\n",
              "      <th>Date</th>\n",
              "      <th></th>\n",
              "      <th></th>\n",
              "      <th></th>\n",
              "      <th></th>\n",
              "      <th></th>\n",
              "      <th></th>\n",
              "      <th></th>\n",
              "      <th></th>\n",
              "      <th></th>\n",
              "      <th></th>\n",
              "      <th></th>\n",
              "    </tr>\n",
              "  </thead>\n",
              "  <tbody>\n",
              "    <tr>\n",
              "      <th>2020-01-22</th>\n",
              "      <td>113.912003</td>\n",
              "      <td>109.440002</td>\n",
              "      <td>102.099998</td>\n",
              "      <td>102.697998</td>\n",
              "      <td>103.699997</td>\n",
              "      <td>107.584000</td>\n",
              "      <td>104.972000</td>\n",
              "      <td>95.629997</td>\n",
              "      <td>96.267998</td>\n",
              "      <td>98.428001</td>\n",
              "      <td>93.811996</td>\n",
              "    </tr>\n",
              "    <tr>\n",
              "      <th>2020-01-23</th>\n",
              "      <td>114.440002</td>\n",
              "      <td>113.912003</td>\n",
              "      <td>109.440002</td>\n",
              "      <td>102.099998</td>\n",
              "      <td>102.697998</td>\n",
              "      <td>103.699997</td>\n",
              "      <td>107.584000</td>\n",
              "      <td>104.972000</td>\n",
              "      <td>95.629997</td>\n",
              "      <td>96.267998</td>\n",
              "      <td>98.428001</td>\n",
              "    </tr>\n",
              "    <tr>\n",
              "      <th>2020-01-24</th>\n",
              "      <td>112.963997</td>\n",
              "      <td>114.440002</td>\n",
              "      <td>113.912003</td>\n",
              "      <td>109.440002</td>\n",
              "      <td>102.099998</td>\n",
              "      <td>102.697998</td>\n",
              "      <td>103.699997</td>\n",
              "      <td>107.584000</td>\n",
              "      <td>104.972000</td>\n",
              "      <td>95.629997</td>\n",
              "      <td>96.267998</td>\n",
              "    </tr>\n",
              "    <tr>\n",
              "      <th>2020-01-27</th>\n",
              "      <td>111.603996</td>\n",
              "      <td>112.963997</td>\n",
              "      <td>114.440002</td>\n",
              "      <td>113.912003</td>\n",
              "      <td>109.440002</td>\n",
              "      <td>102.099998</td>\n",
              "      <td>102.697998</td>\n",
              "      <td>103.699997</td>\n",
              "      <td>107.584000</td>\n",
              "      <td>104.972000</td>\n",
              "      <td>95.629997</td>\n",
              "    </tr>\n",
              "    <tr>\n",
              "      <th>2020-01-28</th>\n",
              "      <td>113.379997</td>\n",
              "      <td>111.603996</td>\n",
              "      <td>112.963997</td>\n",
              "      <td>114.440002</td>\n",
              "      <td>113.912003</td>\n",
              "      <td>109.440002</td>\n",
              "      <td>102.099998</td>\n",
              "      <td>102.697998</td>\n",
              "      <td>103.699997</td>\n",
              "      <td>107.584000</td>\n",
              "      <td>104.972000</td>\n",
              "    </tr>\n",
              "  </tbody>\n",
              "</table>\n",
              "</div>"
            ],
            "text/plain": [
              "            actual_stock_price           1  ...           9          10\n",
              "Date                                        ...                        \n",
              "2020-01-22          113.912003  109.440002  ...   98.428001   93.811996\n",
              "2020-01-23          114.440002  113.912003  ...   96.267998   98.428001\n",
              "2020-01-24          112.963997  114.440002  ...   95.629997   96.267998\n",
              "2020-01-27          111.603996  112.963997  ...  104.972000   95.629997\n",
              "2020-01-28          113.379997  111.603996  ...  107.584000  104.972000\n",
              "\n",
              "[5 rows x 11 columns]"
            ]
          },
          "metadata": {},
          "execution_count": 44
        }
      ]
    },
    {
      "cell_type": "code",
      "metadata": {
        "colab": {
          "base_uri": "https://localhost:8080/",
          "height": 388
        },
        "id": "RoEKRdswSeVM",
        "outputId": "d01ad867-713c-4ad8-998f-aca6a90bb33d"
      },
      "source": [
        "test.head(11)"
      ],
      "execution_count": null,
      "outputs": [
        {
          "output_type": "execute_result",
          "data": {
            "text/html": [
              "<div>\n",
              "<style scoped>\n",
              "    .dataframe tbody tr th:only-of-type {\n",
              "        vertical-align: middle;\n",
              "    }\n",
              "\n",
              "    .dataframe tbody tr th {\n",
              "        vertical-align: top;\n",
              "    }\n",
              "\n",
              "    .dataframe thead th {\n",
              "        text-align: right;\n",
              "    }\n",
              "</style>\n",
              "<table border=\"1\" class=\"dataframe\">\n",
              "  <thead>\n",
              "    <tr style=\"text-align: right;\">\n",
              "      <th></th>\n",
              "      <th>actual_stock_price</th>\n",
              "      <th>1</th>\n",
              "      <th>2</th>\n",
              "      <th>3</th>\n",
              "      <th>4</th>\n",
              "      <th>5</th>\n",
              "      <th>6</th>\n",
              "      <th>7</th>\n",
              "      <th>8</th>\n",
              "      <th>9</th>\n",
              "      <th>10</th>\n",
              "    </tr>\n",
              "    <tr>\n",
              "      <th>Date</th>\n",
              "      <th></th>\n",
              "      <th></th>\n",
              "      <th></th>\n",
              "      <th></th>\n",
              "      <th></th>\n",
              "      <th></th>\n",
              "      <th></th>\n",
              "      <th></th>\n",
              "      <th></th>\n",
              "      <th></th>\n",
              "      <th></th>\n",
              "    </tr>\n",
              "  </thead>\n",
              "  <tbody>\n",
              "    <tr>\n",
              "      <th>2020-12-22</th>\n",
              "      <td>640.340027</td>\n",
              "      <td>649.859985</td>\n",
              "      <td>695.000000</td>\n",
              "      <td>655.900024</td>\n",
              "      <td>622.770020</td>\n",
              "      <td>633.250000</td>\n",
              "      <td>639.830017</td>\n",
              "      <td>609.989990</td>\n",
              "      <td>627.070007</td>\n",
              "      <td>604.479980</td>\n",
              "      <td>649.880005</td>\n",
              "    </tr>\n",
              "    <tr>\n",
              "      <th>2020-12-23</th>\n",
              "      <td>645.979980</td>\n",
              "      <td>640.340027</td>\n",
              "      <td>649.859985</td>\n",
              "      <td>695.000000</td>\n",
              "      <td>655.900024</td>\n",
              "      <td>622.770020</td>\n",
              "      <td>633.250000</td>\n",
              "      <td>639.830017</td>\n",
              "      <td>609.989990</td>\n",
              "      <td>627.070007</td>\n",
              "      <td>604.479980</td>\n",
              "    </tr>\n",
              "    <tr>\n",
              "      <th>2020-12-24</th>\n",
              "      <td>661.770020</td>\n",
              "      <td>645.979980</td>\n",
              "      <td>640.340027</td>\n",
              "      <td>649.859985</td>\n",
              "      <td>695.000000</td>\n",
              "      <td>655.900024</td>\n",
              "      <td>622.770020</td>\n",
              "      <td>633.250000</td>\n",
              "      <td>639.830017</td>\n",
              "      <td>609.989990</td>\n",
              "      <td>627.070007</td>\n",
              "    </tr>\n",
              "    <tr>\n",
              "      <th>2020-12-28</th>\n",
              "      <td>663.690002</td>\n",
              "      <td>661.770020</td>\n",
              "      <td>645.979980</td>\n",
              "      <td>640.340027</td>\n",
              "      <td>649.859985</td>\n",
              "      <td>695.000000</td>\n",
              "      <td>655.900024</td>\n",
              "      <td>622.770020</td>\n",
              "      <td>633.250000</td>\n",
              "      <td>639.830017</td>\n",
              "      <td>609.989990</td>\n",
              "    </tr>\n",
              "    <tr>\n",
              "      <th>2020-12-29</th>\n",
              "      <td>665.989990</td>\n",
              "      <td>663.690002</td>\n",
              "      <td>661.770020</td>\n",
              "      <td>645.979980</td>\n",
              "      <td>640.340027</td>\n",
              "      <td>649.859985</td>\n",
              "      <td>695.000000</td>\n",
              "      <td>655.900024</td>\n",
              "      <td>622.770020</td>\n",
              "      <td>633.250000</td>\n",
              "      <td>639.830017</td>\n",
              "    </tr>\n",
              "    <tr>\n",
              "      <th>2020-12-30</th>\n",
              "      <td>694.780029</td>\n",
              "      <td>665.989990</td>\n",
              "      <td>663.690002</td>\n",
              "      <td>661.770020</td>\n",
              "      <td>645.979980</td>\n",
              "      <td>640.340027</td>\n",
              "      <td>649.859985</td>\n",
              "      <td>695.000000</td>\n",
              "      <td>655.900024</td>\n",
              "      <td>622.770020</td>\n",
              "      <td>633.250000</td>\n",
              "    </tr>\n",
              "    <tr>\n",
              "      <th>2020-12-31</th>\n",
              "      <td>705.669983</td>\n",
              "      <td>694.780029</td>\n",
              "      <td>665.989990</td>\n",
              "      <td>663.690002</td>\n",
              "      <td>661.770020</td>\n",
              "      <td>645.979980</td>\n",
              "      <td>640.340027</td>\n",
              "      <td>649.859985</td>\n",
              "      <td>695.000000</td>\n",
              "      <td>655.900024</td>\n",
              "      <td>622.770020</td>\n",
              "    </tr>\n",
              "    <tr>\n",
              "      <th>2021-01-04</th>\n",
              "      <td>729.770020</td>\n",
              "      <td>705.669983</td>\n",
              "      <td>694.780029</td>\n",
              "      <td>665.989990</td>\n",
              "      <td>663.690002</td>\n",
              "      <td>661.770020</td>\n",
              "      <td>645.979980</td>\n",
              "      <td>640.340027</td>\n",
              "      <td>649.859985</td>\n",
              "      <td>695.000000</td>\n",
              "      <td>655.900024</td>\n",
              "    </tr>\n",
              "    <tr>\n",
              "      <th>2021-01-05</th>\n",
              "      <td>735.109985</td>\n",
              "      <td>729.770020</td>\n",
              "      <td>705.669983</td>\n",
              "      <td>694.780029</td>\n",
              "      <td>665.989990</td>\n",
              "      <td>663.690002</td>\n",
              "      <td>661.770020</td>\n",
              "      <td>645.979980</td>\n",
              "      <td>640.340027</td>\n",
              "      <td>649.859985</td>\n",
              "      <td>695.000000</td>\n",
              "    </tr>\n",
              "    <tr>\n",
              "      <th>2021-01-06</th>\n",
              "      <td>755.979980</td>\n",
              "      <td>735.109985</td>\n",
              "      <td>729.770020</td>\n",
              "      <td>705.669983</td>\n",
              "      <td>694.780029</td>\n",
              "      <td>665.989990</td>\n",
              "      <td>663.690002</td>\n",
              "      <td>661.770020</td>\n",
              "      <td>645.979980</td>\n",
              "      <td>640.340027</td>\n",
              "      <td>649.859985</td>\n",
              "    </tr>\n",
              "  </tbody>\n",
              "</table>\n",
              "</div>"
            ],
            "text/plain": [
              "            actual_stock_price           1  ...           9          10\n",
              "Date                                        ...                        \n",
              "2020-12-22          640.340027  649.859985  ...  604.479980  649.880005\n",
              "2020-12-23          645.979980  640.340027  ...  627.070007  604.479980\n",
              "2020-12-24          661.770020  645.979980  ...  609.989990  627.070007\n",
              "2020-12-28          663.690002  661.770020  ...  639.830017  609.989990\n",
              "2020-12-29          665.989990  663.690002  ...  633.250000  639.830017\n",
              "2020-12-30          694.780029  665.989990  ...  622.770020  633.250000\n",
              "2020-12-31          705.669983  694.780029  ...  655.900024  622.770020\n",
              "2021-01-04          729.770020  705.669983  ...  695.000000  655.900024\n",
              "2021-01-05          735.109985  729.770020  ...  649.859985  695.000000\n",
              "2021-01-06          755.979980  735.109985  ...  640.340027  649.859985\n",
              "\n",
              "[10 rows x 11 columns]"
            ]
          },
          "metadata": {},
          "execution_count": 45
        }
      ]
    },
    {
      "cell_type": "code",
      "metadata": {
        "id": "gbq_ViWVLQug"
      },
      "source": [
        "# Import the Lineear Regression model from scikit-learn.\n",
        "from sklearn.linear_model import LinearRegression"
      ],
      "execution_count": null,
      "outputs": []
    },
    {
      "cell_type": "code",
      "metadata": {
        "id": "LWOvMxUOTSYG"
      },
      "source": [
        "# Create the model object.\n",
        "LR = LinearRegression()\n",
        "\n",
        "# Train the model on the training data.\n",
        "LR.fit(train[list(range(1,11))],train['actual_stock_price'])\n",
        "\n",
        "# Make predictions on the test data.\n",
        "test['predictions'] = LR.predict(test[list(range(1,11))]) "
      ],
      "execution_count": null,
      "outputs": []
    },
    {
      "cell_type": "code",
      "metadata": {
        "colab": {
          "base_uri": "https://localhost:8080/",
          "height": 519
        },
        "id": "mEsKk9WA26EM",
        "outputId": "dc594c30-4a9f-44ca-da61-91cc53287e2a"
      },
      "source": [
        "# Visualize the actual stock price and the predicted stock price over time.\n",
        "plt.figure(figsize=(12,7))\n",
        "ax = test[['actual_stock_price','predictions']].plot(figsize=(12,8))\n",
        "plt.xlabel('Date', fontsize=12)\n",
        "plt.ylabel('Stock Price', fontsize=12)\n",
        "plt.title('Actual and Predicted Stock Prices', fontsize=15)\n",
        "plt.grid()\n",
        "plt.show()"
      ],
      "execution_count": null,
      "outputs": [
        {
          "output_type": "display_data",
          "data": {
            "text/plain": [
              "<Figure size 864x504 with 0 Axes>"
            ]
          },
          "metadata": {}
        },
        {
          "output_type": "display_data",
          "data": {
            "image/png": "[encoded data removed]",
            "text/plain": [
              "<Figure size 864x576 with 1 Axes>"
            ]
          },
          "metadata": {
            "needs_background": "light"
          }
        }
      ]
    },
    {
      "cell_type": "markdown",
      "metadata": {
        "id": "FaLLAU7wbONb"
      },
      "source": [
        "Conclusion: The predicted stock prices and the actual stock prices are quite close to each other over these time periods. It appears that the predicted stock prices are slightly lower than the actual closing stock prices.   "
      ]
    },
    {
      "cell_type": "code",
      "metadata": {
        "id": "XVyyHWmQjqg4"
      },
      "source": [
        ""
      ],
      "execution_count": null,
      "outputs": []
    },
    {
      "cell_type": "code",
      "metadata": {
        "id": "Te9Uv3SqtokJ"
      },
      "source": [
        ""
      ],
      "execution_count": null,
      "outputs": []
    },
    {
      "cell_type": "code",
      "metadata": {
        "id": "7JmlBeddt7yJ"
      },
      "source": [
        ""
      ],
      "execution_count": null,
      "outputs": []
    },
    {
      "cell_type": "code",
      "metadata": {
        "id": "NQt0MiKPut7A"
      },
      "source": [
        ""
      ],
      "execution_count": null,
      "outputs": []
    },
    {
      "cell_type": "code",
      "metadata": {
        "id": "XEg83mxzveqA"
      },
      "source": [
        ""
      ],
      "execution_count": null,
      "outputs": []
    }
  ]
}