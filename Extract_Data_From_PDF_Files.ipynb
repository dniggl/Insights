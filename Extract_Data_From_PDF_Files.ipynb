{
  "nbformat": 4,
  "nbformat_minor": 0,
  "metadata": {
    "colab": {
      "provenance": [],
      "collapsed_sections": [],
      "authorship_tag": "ABX9TyMIe/0dmD92sx5E06pT76mh",
      "include_colab_link": true
    },
    "kernelspec": {
      "name": "python3",
      "display_name": "Python 3"
    },
    "language_info": {
      "name": "python"
    }
  },
  "cells": [
    {
      "cell_type": "markdown",
      "metadata": {
        "id": "view-in-github",
        "colab_type": "text"
      },
      "source": [
        "<a href=\"https://colab.research.google.com/github/dniggl/Insights/blob/main/Extract_Data_From_PDF_Files.ipynb\" target=\"_parent\"><img src=\"https://colab.research.google.com/assets/colab-badge.svg\" alt=\"Open In Colab\"/></a>"
      ]
    },
    {
      "cell_type": "markdown",
      "source": [
        "**Install the Packages**"
      ],
      "metadata": {
        "id": "jh78EDmSa3OI"
      }
    },
    {
      "cell_type": "markdown",
      "source": [
        "To start we will need to install pdfquery and pandas packages. "
      ],
      "metadata": {
        "id": "_6uGWNooWLnX"
      }
    },
    {
      "cell_type": "code",
      "source": [
        "!pip install pdfquery\n",
        "!pip install pandas"
      ],
      "metadata": {
        "id": "ekKBGIASa4qX"
      },
      "execution_count": null,
      "outputs": []
    },
    {
      "cell_type": "markdown",
      "source": [
        "**Import the Libraries**"
      ],
      "metadata": {
        "id": "fDMMw8z8iGJY"
      }
    },
    {
      "cell_type": "code",
      "source": [
        "import pdfquery\n",
        "import pandas as pd"
      ],
      "metadata": {
        "id": "czhdjqN6oDml"
      },
      "execution_count": null,
      "outputs": []
    },
    {
      "cell_type": "markdown",
      "source": [
        "*   PDFQuery is a light wrapper around pdfminer, lxml and pyquery. It is designed to read and extract data from multiple PDF files with as little code as possible. PDFQuery works by loading a PDF as a pdfminer layout, converting the layout to an etree with lxml.etree, and then applying a pyquery wrapper. All three underlying libraries are exposed, so you can use any of their interfaces to get at the data you want.\n",
        "*   Pandas is an open-source library that provides high-performance data analysis and manipulation."
      ],
      "metadata": {
        "id": "BIk9tTScWaHC"
      }
    },
    {
      "cell_type": "markdown",
      "source": [
        "**Upload the PDF Files**"
      ],
      "metadata": {
        "id": "m_Hzsj3biw97"
      }
    },
    {
      "cell_type": "markdown",
      "source": [
        "We are using Google colab environment so we need to load the PDF files from the local drive to the colab drive. For this project we will upload three PDF files.  "
      ],
      "metadata": {
        "id": "MtDxDS6djgy0"
      }
    },
    {
      "cell_type": "code",
      "source": [
        "# Upload pdf files from the local drive.\n",
        "from google.colab import files\n",
        "\n",
        "uploaded = files.upload()"
      ],
      "metadata": {
        "colab": {
          "base_uri": "https://localhost:8080/",
          "height": 145
        },
        "id": "LLuNInTZoI-7",
        "outputId": "d05ba6c7-ab90-423c-fc1d-259d1d469cb1"
      },
      "execution_count": null,
      "outputs": [
        {
          "output_type": "display_data",
          "data": {
            "text/plain": [
              "<IPython.core.display.HTML object>"
            ],
            "text/html": [
              "\n",
              "     <input type=\"file\" id=\"files-b3748566-b10f-4f6f-8a6e-50e99e2037d7\" name=\"files[]\" multiple disabled\n",
              "        style=\"border:none\" />\n",
              "     <output id=\"result-b3748566-b10f-4f6f-8a6e-50e99e2037d7\">\n",
              "      Upload widget is only available when the cell has been executed in the\n",
              "      current browser session. Please rerun this cell to enable.\n",
              "      </output>\n",
              "      <script>// Copyright 2017 Google LLC\n",
              "//\n",
              "// Licensed under the Apache License, Version 2.0 (the \"License\");\n",
              "// you may not use this file except in compliance with the License.\n",
              "// You may obtain a copy of the License at\n",
              "//\n",
              "//      http://www.apache.org/licenses/LICENSE-2.0\n",
              "//\n",
              "// Unless required by applicable law or agreed to in writing, software\n",
              "// distributed under the License is distributed on an \"AS IS\" BASIS,\n",
              "// WITHOUT WARRANTIES OR CONDITIONS OF ANY KIND, either express or implied.\n",
              "// See the License for the specific language governing permissions and\n",
              "// limitations under the License.\n",
              "\n",
              "/**\n",
              " * @fileoverview Helpers for google.colab Python module.\n",
              " */\n",
              "(function(scope) {\n",
              "function span(text, styleAttributes = {}) {\n",
              "  const element = document.createElement('span');\n",
              "  element.textContent = text;\n",
              "  for (const key of Object.keys(styleAttributes)) {\n",
              "    element.style[key] = styleAttributes[key];\n",
              "  }\n",
              "  return element;\n",
              "}\n",
              "\n",
              "// Max number of bytes which will be uploaded at a time.\n",
              "const MAX_PAYLOAD_SIZE = 100 * 1024;\n",
              "\n",
              "function _uploadFiles(inputId, outputId) {\n",
              "  const steps = uploadFilesStep(inputId, outputId);\n",
              "  const outputElement = document.getElementById(outputId);\n",
              "  // Cache steps on the outputElement to make it available for the next call\n",
              "  // to uploadFilesContinue from Python.\n",
              "  outputElement.steps = steps;\n",
              "\n",
              "  return _uploadFilesContinue(outputId);\n",
              "}\n",
              "\n",
              "// This is roughly an async generator (not supported in the browser yet),\n",
              "// where there are multiple asynchronous steps and the Python side is going\n",
              "// to poll for completion of each step.\n",
              "// This uses a Promise to block the python side on completion of each step,\n",
              "// then passes the result of the previous step as the input to the next step.\n",
              "function _uploadFilesContinue(outputId) {\n",
              "  const outputElement = document.getElementById(outputId);\n",
              "  const steps = outputElement.steps;\n",
              "\n",
              "  const next = steps.next(outputElement.lastPromiseValue);\n",
              "  return Promise.resolve(next.value.promise).then((value) => {\n",
              "    // Cache the last promise value to make it available to the next\n",
              "    // step of the generator.\n",
              "    outputElement.lastPromiseValue = value;\n",
              "    return next.value.response;\n",
              "  });\n",
              "}\n",
              "\n",
              "/**\n",
              " * Generator function which is called between each async step of the upload\n",
              " * process.\n",
              " * @param {string} inputId Element ID of the input file picker element.\n",
              " * @param {string} outputId Element ID of the output display.\n",
              " * @return {!Iterable<!Object>} Iterable of next steps.\n",
              " */\n",
              "function* uploadFilesStep(inputId, outputId) {\n",
              "  const inputElement = document.getElementById(inputId);\n",
              "  inputElement.disabled = false;\n",
              "\n",
              "  const outputElement = document.getElementById(outputId);\n",
              "  outputElement.innerHTML = '';\n",
              "\n",
              "  const pickedPromise = new Promise((resolve) => {\n",
              "    inputElement.addEventListener('change', (e) => {\n",
              "      resolve(e.target.files);\n",
              "    });\n",
              "  });\n",
              "\n",
              "  const cancel = document.createElement('button');\n",
              "  inputElement.parentElement.appendChild(cancel);\n",
              "  cancel.textContent = 'Cancel upload';\n",
              "  const cancelPromise = new Promise((resolve) => {\n",
              "    cancel.onclick = () => {\n",
              "      resolve(null);\n",
              "    };\n",
              "  });\n",
              "\n",
              "  // Wait for the user to pick the files.\n",
              "  const files = yield {\n",
              "    promise: Promise.race([pickedPromise, cancelPromise]),\n",
              "    response: {\n",
              "      action: 'starting',\n",
              "    }\n",
              "  };\n",
              "\n",
              "  cancel.remove();\n",
              "\n",
              "  // Disable the input element since further picks are not allowed.\n",
              "  inputElement.disabled = true;\n",
              "\n",
              "  if (!files) {\n",
              "    return {\n",
              "      response: {\n",
              "        action: 'complete',\n",
              "      }\n",
              "    };\n",
              "  }\n",
              "\n",
              "  for (const file of files) {\n",
              "    const li = document.createElement('li');\n",
              "    li.append(span(file.name, {fontWeight: 'bold'}));\n",
              "    li.append(span(\n",
              "        `(${file.type || 'n/a'}) - ${file.size} bytes, ` +\n",
              "        `last modified: ${\n",
              "            file.lastModifiedDate ? file.lastModifiedDate.toLocaleDateString() :\n",
              "                                    'n/a'} - `));\n",
              "    const percent = span('0% done');\n",
              "    li.appendChild(percent);\n",
              "\n",
              "    outputElement.appendChild(li);\n",
              "\n",
              "    const fileDataPromise = new Promise((resolve) => {\n",
              "      const reader = new FileReader();\n",
              "      reader.onload = (e) => {\n",
              "        resolve(e.target.result);\n",
              "      };\n",
              "      reader.readAsArrayBuffer(file);\n",
              "    });\n",
              "    // Wait for the data to be ready.\n",
              "    let fileData = yield {\n",
              "      promise: fileDataPromise,\n",
              "      response: {\n",
              "        action: 'continue',\n",
              "      }\n",
              "    };\n",
              "\n",
              "    // Use a chunked sending to avoid message size limits. See b/62115660.\n",
              "    let position = 0;\n",
              "    do {\n",
              "      const length = Math.min(fileData.byteLength - position, MAX_PAYLOAD_SIZE);\n",
              "      const chunk = new Uint8Array(fileData, position, length);\n",
              "      position += length;\n",
              "\n",
              "      const base64 = btoa(String.fromCharCode.apply(null, chunk));\n",
              "      yield {\n",
              "        response: {\n",
              "          action: 'append',\n",
              "          file: file.name,\n",
              "          data: base64,\n",
              "        },\n",
              "      };\n",
              "\n",
              "      let percentDone = fileData.byteLength === 0 ?\n",
              "          100 :\n",
              "          Math.round((position / fileData.byteLength) * 100);\n",
              "      percent.textContent = `${percentDone}% done`;\n",
              "\n",
              "    } while (position < fileData.byteLength);\n",
              "  }\n",
              "\n",
              "  // All done.\n",
              "  yield {\n",
              "    response: {\n",
              "      action: 'complete',\n",
              "    }\n",
              "  };\n",
              "}\n",
              "\n",
              "scope.google = scope.google || {};\n",
              "scope.google.colab = scope.google.colab || {};\n",
              "scope.google.colab._files = {\n",
              "  _uploadFiles,\n",
              "  _uploadFilesContinue,\n",
              "};\n",
              "})(self);\n",
              "</script> "
            ]
          },
          "metadata": {}
        },
        {
          "output_type": "stream",
          "name": "stdout",
          "text": [
            "Saving patient1pdf.pdf to patient1pdf.pdf\n",
            "Saving patient2pdf.pdf to patient2pdf.pdf\n",
            "Saving patient3pdf.pdf to patient3pdf.pdf\n"
          ]
        }
      ]
    },
    {
      "cell_type": "markdown",
      "source": [
        "Shown below is an image of one of the PDF files. "
      ],
      "metadata": {
        "id": "7uVGVw1lWza7"
      }
    },
    {
      "cell_type": "markdown",
      "source": [
        "![image.png](data:image/png;base64,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)"
      ],
      "metadata": {
        "id": "RLvW8FXpZEO1"
      }
    },
    {
      "cell_type": "markdown",
      "source": [
        "**Read and Convert the PDF Files**"
      ],
      "metadata": {
        "id": "zL6KCkwBkmNF"
      }
    },
    {
      "cell_type": "markdown",
      "source": [
        "We will now read one of the pdf files as an element object and load it."
      ],
      "metadata": {
        "id": "ZS-ZU3hEeliD"
      }
    },
    {
      "cell_type": "code",
      "source": [
        "pdf = pdfquery.PDFQuery('patient1pdf.pdf')\n",
        "pdf.load()"
      ],
      "metadata": {
        "id": "sYc1mTcroOst"
      },
      "execution_count": null,
      "outputs": []
    },
    {
      "cell_type": "markdown",
      "source": [
        "Next we need to convert the pdf object into an Extensible Markup Language (XML) file. This file will include data and metadata for a given pdf page."
      ],
      "metadata": {
        "id": "b9Z0RUzwfUuH"
      }
    },
    {
      "cell_type": "code",
      "source": [
        "pdf.tree.write('patient1xml.xml', pretty_print = True)\n",
        "pdf"
      ],
      "metadata": {
        "colab": {
          "base_uri": "https://localhost:8080/"
        },
        "id": "EcMrn44AoXE_",
        "outputId": "c22e8d41-fcff-438b-a194-72f4b7ab9c85"
      },
      "execution_count": null,
      "outputs": [
        {
          "output_type": "execute_result",
          "data": {
            "text/plain": [
              "<pdfquery.pdfquery.PDFQuery at 0x7fb176bbf5d0>"
            ]
          },
          "metadata": {},
          "execution_count": 6
        }
      ]
    },
    {
      "cell_type": "markdown",
      "source": [
        "XML defines a set of rules for encoding PDF in a format that is readible by humans and machines. We need to look at the XML file with a text editor to get the layout for the data we want to extract. I prefer using Sublime Text editor to look at the XML file, however you can use any text editor. \n",
        "\n",
        "The following is a fragment of the XML for Patient Name. It includes both data (John Jacob) and metadata (e.g., text box coordination, height, width, etc.)"
      ],
      "metadata": {
        "id": "qFLEVoV3ohwG"
      }
    },
    {
      "cell_type": "code",
      "source": [
        "<LTTextLineHorizontal y0=\"543.657\" y1=\"554.657\" x0=\"72.0\" x1=\"205.474\" width=\"133.474\"\n",
        "height=\"11.0\" bbox=\"[72.0, 543.657, 205.474, 554.657]\" word_margin=\"0.1\"><LTTextBoxHorizontal\n",
        "y0=\"543.657\" y1=\"554.657\" x0=\"72.0\" x1=\"205.474\" width=\"133.474\" height=\"11.0\" bbox=\n",
        "\"[72.0, 543.657, 205.474, 554.657]\" index=\"3\">Patient Name: John Jacob </LTTextBoxHorizontal></LTTextLineHorizontal>"
      ],
      "metadata": {
        "id": "38sba5Umio5t"
      },
      "execution_count": null,
      "outputs": []
    },
    {
      "cell_type": "markdown",
      "source": [
        "We can see the information we are looking for inside the ‘LTTextBoxHorizontal’ tag, and we can see the metadata associated with it. One way we can access this data is by using its bounding box, or ‘in_bbox’. The values inside the text box, [72.0, 543.657, 205.474, 554,657] in the XML fragment refers to “Left, Bottom, Right, Top” coordinates of the text box. You can think of this as the boundaries around the data we want to extract (patient name in this case).  "
      ],
      "metadata": {
        "id": "GkIGFPFUovxo"
      }
    },
    {
      "cell_type": "markdown",
      "source": [
        "**Access and Extract Data**"
      ],
      "metadata": {
        "id": "lRN3RNqyj4_G"
      }
    },
    {
      "cell_type": "code",
      "source": [
        "patient_name = pdf.pq('LTTextLineHorizontal:in_bbox(\"72.0, 543.657, 205.474, 554.657\")').text()\n",
        "patient_name"
      ],
      "metadata": {
        "colab": {
          "base_uri": "https://localhost:8080/",
          "height": 35
        },
        "id": "-ygDoGgno4Gr",
        "outputId": "09aa1a02-9f8e-49ad-f4ea-227793392afe"
      },
      "execution_count": null,
      "outputs": [
        {
          "output_type": "execute_result",
          "data": {
            "text/plain": [
              "'Patient Name: John Jacob'"
            ],
            "application/vnd.google.colaboratory.intrinsic+json": {
              "type": "string"
            }
          },
          "metadata": {},
          "execution_count": 7
        }
      ]
    },
    {
      "cell_type": "markdown",
      "source": [
        "Sometimes the the data we want is not in the exact same location in every file which can cause issues. . Fortunately, PDFQuery can also query tags that contain a given string. Let’s get the patients name by using this method. We will first clean the text data up using the text.split method. The split() method breaks up a string at the specified separator (:) and returns a list of strings (John Jacob).  \n"
      ],
      "metadata": {
        "id": "xhnJoU48pNVk"
      }
    },
    {
      "cell_type": "code",
      "source": [
        "def clean_text_data(text):\n",
        " return text.split(':')[1]\n",
        "\n",
        "patient_name = clean_text_data(pdf.pq('LTTextLineHorizontal:contains(\"Patient Name\")').text())\n",
        "patient_name"
      ],
      "metadata": {
        "colab": {
          "base_uri": "https://localhost:8080/",
          "height": 35
        },
        "id": "sQq0J0JVpqmX",
        "outputId": "8f5a744d-3049-4a17-a219-6f662514c496"
      },
      "execution_count": null,
      "outputs": [
        {
          "output_type": "execute_result",
          "data": {
            "text/plain": [
              "' John Jacob'"
            ],
            "application/vnd.google.colaboratory.intrinsic+json": {
              "type": "string"
            }
          },
          "metadata": {},
          "execution_count": 64
        }
      ]
    },
    {
      "cell_type": "markdown",
      "source": [
        "Putting it all together..."
      ],
      "metadata": {
        "id": "e4LyeS1fkU6O"
      }
    },
    {
      "cell_type": "markdown",
      "source": [
        "We will now use the methods described above to create a pandas dataframe from multiple PDF files. For this project we will only use 3 files but you could process thousands of files if needed.  We will write a script that reads some PDF files, loads the files, and extracts and captures the data elements. We will then create a new  dataframe.   "
      ],
      "metadata": {
        "id": "Z8oq0bOTozEd"
      }
    },
    {
      "cell_type": "code",
      "source": [
        "import pdfquery\n",
        "import pandas as pd\n",
        "\n",
        "pdf_files = ['patient1pdf.pdf','patient2pdf.pdf','patient3pdf.pdf']\n",
        "\n",
        "def clean_text_data(text):\n",
        "  return text.split(':')[1]\n",
        "\n",
        "\n",
        "def pdf_to_df(pdf_files):\n",
        "\n",
        "        patient_data = {\"Patient Number\": [],\n",
        "                       \"Patient Name\": [],\n",
        "                       \"DOB\": [],\n",
        "                       \"Diagnosis\": [],\n",
        "                       \"Treatment\": [],\n",
        "                       \"Recommendation\": []}\n",
        "\n",
        "        for i in pdf_files: \n",
        "                pdf = pdfquery.PDFQuery(i)\n",
        "                pdf.load()\n",
        "\n",
        "                patient_data[\"Patient Number\"].append(clean_text_data(pdf.pq('LTText\\LineHorizontal:contains(\"Patient Number\")').text()))\n",
        "\n",
        "                patient_data[\"Patient Name\"].append(clean_text_data(pdf.pq('LTText\\LineHorizontal:contains(\"Patient Name\")').text()))\n",
        "\n",
        "                patient_data[\"DOB\"].append(clean_text_data(pdf.pq('LTText\\LineHorizontal:contains(\"DOB\")').text()))\n",
        "\n",
        "                patient_data[\"Diagnosis\"].append(clean_text_data(pdf.pq('LTText\\LineHorizontal:contains(\"Diagnosis\")').text()))\n",
        "\n",
        "                patient_data[\"Treatment\"].append(clean_text_data(pdf.pq('LTText\\LineHorizontal:contains(\"Treatment\")').text()))\n",
        "\t\t\t\t                                         \n",
        "                patient_data[\"Recommendation\"].append(clean_text_data(pdf.pq('LTText\\LineHorizontal:contains(\"Recommendation\")').text()))\n",
        "\n",
        "\n",
        "        columns=[\"Patient Number\",\"Patient Name\",\"DOB\",\"Diagnosis\",\"Treatment\",\"Recommendation\"]\n",
        "\n",
        "        pdata = pd.DataFrame.from_dict(patient_data)\n",
        "        pdata = pdata[columns]\n",
        "        \n",
        "        return pdata \t \n",
        "\n",
        "pdata = pdf_to_df(pdf_files)\n"
      ],
      "metadata": {
        "id": "8fG6_14jrJLK"
      },
      "execution_count": null,
      "outputs": []
    },
    {
      "cell_type": "markdown",
      "source": [
        "**View the Dataframe**"
      ],
      "metadata": {
        "id": "rSLuxhTLl6ha"
      }
    },
    {
      "cell_type": "markdown",
      "source": [
        "Let's look at the new dataframe containing the data elements from the PDF files."
      ],
      "metadata": {
        "id": "ZrUdYDvNsHHL"
      }
    },
    {
      "cell_type": "code",
      "source": [
        "pdata"
      ],
      "metadata": {
        "colab": {
          "base_uri": "https://localhost:8080/",
          "height": 143
        },
        "id": "Chq0uZqexeVm",
        "outputId": "5abc77f6-51ba-4594-a96a-88e18168945c"
      },
      "execution_count": null,
      "outputs": [
        {
          "output_type": "execute_result",
          "data": {
            "text/plain": [
              "  Patient Number      Patient Name          DOB        Diagnosis  \\\n",
              "0          00-01        John Jacob   08/23/1983   Popliteal Cyst   \n",
              "1          00-02   William Wilfred   03/11/1987          Rosacea   \n",
              "2          00-03     Vince Shields   09/20/1993        Acne Cyst   \n",
              "\n",
              "                   Treatment  \\\n",
              "0   corticosteroid injection   \n",
              "1               isotretinoin   \n",
              "2   Corticosteroid Injection   \n",
              "\n",
              "                                      Recommendation  \n",
              "0   Wait 3-5 months,If symptoms continue, return ...  \n",
              "1   Follow treatment as advised and avoid foods t...  \n",
              "2   wait 3-5 months and follow up with dermatologist  "
            ],
            "text/html": [
              "\n",
              "  <div id=\"df-060f680a-eeb0-4e24-8701-01e4839dfdb8\">\n",
              "    <div class=\"colab-df-container\">\n",
              "      <div>\n",
              "<style scoped>\n",
              "    .dataframe tbody tr th:only-of-type {\n",
              "        vertical-align: middle;\n",
              "    }\n",
              "\n",
              "    .dataframe tbody tr th {\n",
              "        vertical-align: top;\n",
              "    }\n",
              "\n",
              "    .dataframe thead th {\n",
              "        text-align: right;\n",
              "    }\n",
              "</style>\n",
              "<table border=\"1\" class=\"dataframe\">\n",
              "  <thead>\n",
              "    <tr style=\"text-align: right;\">\n",
              "      <th></th>\n",
              "      <th>Patient Number</th>\n",
              "      <th>Patient Name</th>\n",
              "      <th>DOB</th>\n",
              "      <th>Diagnosis</th>\n",
              "      <th>Treatment</th>\n",
              "      <th>Recommendation</th>\n",
              "    </tr>\n",
              "  </thead>\n",
              "  <tbody>\n",
              "    <tr>\n",
              "      <th>0</th>\n",
              "      <td>00-01</td>\n",
              "      <td>John Jacob</td>\n",
              "      <td>08/23/1983</td>\n",
              "      <td>Popliteal Cyst</td>\n",
              "      <td>corticosteroid injection</td>\n",
              "      <td>Wait 3-5 months,If symptoms continue, return ...</td>\n",
              "    </tr>\n",
              "    <tr>\n",
              "      <th>1</th>\n",
              "      <td>00-02</td>\n",
              "      <td>William Wilfred</td>\n",
              "      <td>03/11/1987</td>\n",
              "      <td>Rosacea</td>\n",
              "      <td>isotretinoin</td>\n",
              "      <td>Follow treatment as advised and avoid foods t...</td>\n",
              "    </tr>\n",
              "    <tr>\n",
              "      <th>2</th>\n",
              "      <td>00-03</td>\n",
              "      <td>Vince Shields</td>\n",
              "      <td>09/20/1993</td>\n",
              "      <td>Acne Cyst</td>\n",
              "      <td>Corticosteroid Injection</td>\n",
              "      <td>wait 3-5 months and follow up with dermatologist</td>\n",
              "    </tr>\n",
              "  </tbody>\n",
              "</table>\n",
              "</div>\n",
              "      <button class=\"colab-df-convert\" onclick=\"convertToInteractive('df-060f680a-eeb0-4e24-8701-01e4839dfdb8')\"\n",
              "              title=\"Convert this dataframe to an interactive table.\"\n",
              "              style=\"display:none;\">\n",
              "        \n",
              "  <svg xmlns=\"http://www.w3.org/2000/svg\" height=\"24px\"viewBox=\"0 0 24 24\"\n",
              "       width=\"24px\">\n",
              "    <path d=\"M0 0h24v24H0V0z\" fill=\"none\"/>\n",
              "    <path d=\"M18.56 5.44l.94 2.06.94-2.06 2.06-.94-2.06-.94-.94-2.06-.94 2.06-2.06.94zm-11 1L8.5 8.5l.94-2.06 2.06-.94-2.06-.94L8.5 2.5l-.94 2.06-2.06.94zm10 10l.94 2.06.94-2.06 2.06-.94-2.06-.94-.94-2.06-.94 2.06-2.06.94z\"/><path d=\"M17.41 7.96l-1.37-1.37c-.4-.4-.92-.59-1.43-.59-.52 0-1.04.2-1.43.59L10.3 9.45l-7.72 7.72c-.78.78-.78 2.05 0 2.83L4 21.41c.39.39.9.59 1.41.59.51 0 1.02-.2 1.41-.59l7.78-7.78 2.81-2.81c.8-.78.8-2.07 0-2.86zM5.41 20L4 18.59l7.72-7.72 1.47 1.35L5.41 20z\"/>\n",
              "  </svg>\n",
              "      </button>\n",
              "      \n",
              "  <style>\n",
              "    .colab-df-container {\n",
              "      display:flex;\n",
              "      flex-wrap:wrap;\n",
              "      gap: 12px;\n",
              "    }\n",
              "\n",
              "    .colab-df-convert {\n",
              "      background-color: #E8F0FE;\n",
              "      border: none;\n",
              "      border-radius: 50%;\n",
              "      cursor: pointer;\n",
              "      display: none;\n",
              "      fill: #1967D2;\n",
              "      height: 32px;\n",
              "      padding: 0 0 0 0;\n",
              "      width: 32px;\n",
              "    }\n",
              "\n",
              "    .colab-df-convert:hover {\n",
              "      background-color: #E2EBFA;\n",
              "      box-shadow: 0px 1px 2px rgba(60, 64, 67, 0.3), 0px 1px 3px 1px rgba(60, 64, 67, 0.15);\n",
              "      fill: #174EA6;\n",
              "    }\n",
              "\n",
              "    [theme=dark] .colab-df-convert {\n",
              "      background-color: #3B4455;\n",
              "      fill: #D2E3FC;\n",
              "    }\n",
              "\n",
              "    [theme=dark] .colab-df-convert:hover {\n",
              "      background-color: #434B5C;\n",
              "      box-shadow: 0px 1px 3px 1px rgba(0, 0, 0, 0.15);\n",
              "      filter: drop-shadow(0px 1px 2px rgba(0, 0, 0, 0.3));\n",
              "      fill: #FFFFFF;\n",
              "    }\n",
              "  </style>\n",
              "\n",
              "      <script>\n",
              "        const buttonEl =\n",
              "          document.querySelector('#df-060f680a-eeb0-4e24-8701-01e4839dfdb8 button.colab-df-convert');\n",
              "        buttonEl.style.display =\n",
              "          google.colab.kernel.accessAllowed ? 'block' : 'none';\n",
              "\n",
              "        async function convertToInteractive(key) {\n",
              "          const element = document.querySelector('#df-060f680a-eeb0-4e24-8701-01e4839dfdb8');\n",
              "          const dataTable =\n",
              "            await google.colab.kernel.invokeFunction('convertToInteractive',\n",
              "                                                     [key], {});\n",
              "          if (!dataTable) return;\n",
              "\n",
              "          const docLinkHtml = 'Like what you see? Visit the ' +\n",
              "            '<a target=\"_blank\" href=https://colab.research.google.com/notebooks/data_table.ipynb>data table notebook</a>'\n",
              "            + ' to learn more about interactive tables.';\n",
              "          element.innerHTML = '';\n",
              "          dataTable['output_type'] = 'display_data';\n",
              "          await google.colab.output.renderOutput(dataTable, element);\n",
              "          const docLink = document.createElement('div');\n",
              "          docLink.innerHTML = docLinkHtml;\n",
              "          element.appendChild(docLink);\n",
              "        }\n",
              "      </script>\n",
              "    </div>\n",
              "  </div>\n",
              "  "
            ]
          },
          "metadata": {},
          "execution_count": 27
        }
      ]
    }
  ]
}