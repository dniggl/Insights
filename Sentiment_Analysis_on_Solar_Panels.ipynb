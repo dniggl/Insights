{
  "nbformat": 4,
  "nbformat_minor": 0,
  "metadata": {
    "colab": {
      "name": "Sentiment Analysis on Solar Panels.ipynb",
      "provenance": [],
      "collapsed_sections": [],
      "authorship_tag": "ABX9TyPfX+XqWhI5RrwaIXbMnmlH",
      "include_colab_link": true
    },
    "kernelspec": {
      "name": "python3",
      "display_name": "Python 3"
    },
    "language_info": {
      "name": "python"
    }
  },
  "cells": [
    {
      "cell_type": "markdown",
      "metadata": {
        "id": "view-in-github",
        "colab_type": "text"
      },
      "source": [
        "<a href=\"https://colab.research.google.com/github/dniggl/Insights/blob/main/Sentiment_Analysis_on_Solar_Panels.ipynb\" target=\"_parent\"><img src=\"https://colab.research.google.com/assets/colab-badge.svg\" alt=\"Open In Colab\"/></a>"
      ]
    },
    {
      "cell_type": "code",
      "metadata": {
        "id": "bEkrk8RutUUG"
      },
      "source": [
        "# Sentiment analysis on tweets related to solar energy.   "
      ],
      "execution_count": null,
      "outputs": []
    },
    {
      "cell_type": "markdown",
      "source": [
        "**Import the Required Libraries**"
      ],
      "metadata": {
        "id": "aGEB8hf_RBN4"
      }
    },
    {
      "cell_type": "code",
      "source": [
        "# Install Tweepy\n",
        "!pip install tweepy"
      ],
      "metadata": {
        "id": "OleQuRVNlkUN"
      },
      "execution_count": null,
      "outputs": []
    },
    {
      "cell_type": "code",
      "metadata": {
        "id": "m7OkzEt_tVDa"
      },
      "source": [
        "# Import the required libraries.\n",
        "import os\n",
        "import tweepy as tw\n",
        "import numpy as np\n",
        "from nltk.sentiment.vader import SentimentIntensityAnalyzer\n",
        "import nltk\n",
        "nltk.download('vader_lexicon')\n",
        "import re\n",
        "import pandas as pd\n",
        "from wordcloud import WordCloud\n",
        "import seaborn as sns\n",
        "import matplotlib.pyplot as plt\n"
      ],
      "execution_count": null,
      "outputs": []
    },
    {
      "cell_type": "markdown",
      "source": [
        "Tweepy is an open source Python package that gives you an easy way to access the Twitter API with Python. "
      ],
      "metadata": {
        "id": "FJYDwD0nTnTB"
      }
    },
    {
      "cell_type": "markdown",
      "source": [
        "**Get Twitter Data**"
      ],
      "metadata": {
        "id": "TIbSLG9JhCYm"
      }
    },
    {
      "cell_type": "markdown",
      "source": [
        "For this project, we are going to extract data from Twitter using the Tritter API. You are required to set up a Twitter developer account prior to using their API. I will not cover this process here, but you can find out how by going to this link https://python.plainenglish.io/scraping-twitter-data-with-an-api-and-python-445a4de4b18  "
      ],
      "metadata": {
        "id": "4qng0vOwNxM1"
      }
    },
    {
      "cell_type": "markdown",
      "source": [
        "Assign your Twitter Developer APIs and access tokens to variables."
      ],
      "metadata": {
        "id": "tnEIKx97PSNE"
      }
    },
    {
      "cell_type": "code",
      "metadata": {
        "id": "SI-eaWvwta8n"
      },
      "source": [
        "# Connecting to your Twitter Developer API's.\n",
        "api_key= 'API Key Here' \n",
        "api_secret= 'API Secret Key Here'\n",
        "access_token= 'Access Token Here'\n",
        "access_token_secret= 'Access Token Secret Here'"
      ],
      "execution_count": null,
      "outputs": []
    },
    {
      "cell_type": "markdown",
      "source": [
        "Authenticate the APIs and Access Tokens."
      ],
      "metadata": {
        "id": "xDa8eEX3PVbl"
      }
    },
    {
      "cell_type": "code",
      "source": [
        "# Authenticate the APIs\n",
        "auth = tw.OAuthHandler(api_key, api_secret)\n",
        "auth.set_access_token(access_token, access_token_secret)\n",
        "api = tw.API(auth, wait_on_rate_limit=True)"
      ],
      "metadata": {
        "id": "oy-s0SK4mfmv"
      },
      "execution_count": null,
      "outputs": []
    },
    {
      "cell_type": "markdown",
      "source": [
        "Define the search words and start date as variables."
      ],
      "metadata": {
        "id": "7hIHSulBPgIJ"
      }
    },
    {
      "cell_type": "code",
      "source": [
        "# Define the search words and the start date as variables.\n",
        "search_words = \"solar energy\"\n",
        "date_since = \"2021-01-01\""
      ],
      "metadata": {
        "id": "zbvNKy8wmhS4"
      },
      "execution_count": null,
      "outputs": []
    },
    {
      "cell_type": "markdown",
      "source": [
        "Collect the tweets using the search words and start date."
      ],
      "metadata": {
        "id": "BN_2M53EPqBP"
      }
    },
    {
      "cell_type": "code",
      "source": [
        "# Collect the tweets.\n",
        "tweets = tw.Cursor(api.search,\n",
        "              q = search_words,\n",
        "              lang = \"en\",\n",
        "              since = date_since).items(3000)"
      ],
      "metadata": {
        "id": "-Lqt6NQ-mwpu"
      },
      "execution_count": null,
      "outputs": []
    },
    {
      "cell_type": "markdown",
      "source": [
        "Define a function to get Twitter users, tweet times, and tweet text for tweets that match the search criteria and create a new data frame."
      ],
      "metadata": {
        "id": "FWY0kPQ4PyRZ"
      }
    },
    {
      "cell_type": "code",
      "source": [
        "# Define a function to get the related tweets.\n",
        "def get_related_tweets(key_word):\n",
        "    twitter_users = []\n",
        "    tweet_time = []\n",
        "    tweet_string = [] \n",
        "    for tweet in tw.Cursor(api.search,q=key_word, count=3000).items(3000):\n",
        "             if (not tweet.retweeted) and ('RT @' not in tweet.text):\n",
        "                if tweet.lang == \"en\":\n",
        "                    twitter_users.append(tweet.user.name)\n",
        "                    tweet_time.append(tweet.created_at)\n",
        "                    tweet_string.append(tweet.text)\n",
        "                    \n",
        "    df = pd.DataFrame({'name':twitter_users, 'time': tweet_time, 'tweet': tweet_string})\n",
        "    df.to_csv(f\"{key_word}.csv\")\n",
        "    return df"
      ],
      "metadata": {
        "id": "rEh0GnjZnCP9"
      },
      "execution_count": null,
      "outputs": []
    },
    {
      "cell_type": "markdown",
      "source": [
        "Call the function to get tweets that contain text for solar energy and display a few tweets."
      ],
      "metadata": {
        "id": "LO5fogUjP6X1"
      }
    },
    {
      "cell_type": "code",
      "source": [
        "# Get tweets related to solar energy and create a new dataframe.\n",
        "df = get_related_tweets(\"solar energy\")\n",
        "df.head(5)"
      ],
      "metadata": {
        "colab": {
          "base_uri": "https://localhost:8080/",
          "height": 206
        },
        "id": "Vo3GIfoknJv6",
        "outputId": "728a431a-45e4-47a4-fc97-1c2b432f32bb"
      },
      "execution_count": null,
      "outputs": [
        {
          "output_type": "execute_result",
          "data": {
            "text/plain": [
              "                   name                time  \\\n",
              "0          Leslie Myers 2022-06-09 21:06:05   \n",
              "1  Pew Research Science 2022-06-09 21:06:03   \n",
              "2           Fifi Lamour 2022-06-09 21:05:04   \n",
              "3       Thomas Anderson 2022-06-09 21:04:51   \n",
              "4                  None 2022-06-09 21:03:21   \n",
              "\n",
              "                                               tweet  \n",
              "0  Look at that beautiful array! Funded by Puget ...  \n",
              "1  When asked about specific sources of energy in...  \n",
              "2  I see the international push for nuclear is on...  \n",
              "3  The U.S. Solar Boom Is Back On Track #solarene...  \n",
              "4  Electric powered vehicles power is equal to it...  "
            ],
            "text/html": [
              "\n",
              "  <div id=\"df-22aae5c0-1d0b-4016-af60-384aedd15379\">\n",
              "    <div class=\"colab-df-container\">\n",
              "      <div>\n",
              "<style scoped>\n",
              "    .dataframe tbody tr th:only-of-type {\n",
              "        vertical-align: middle;\n",
              "    }\n",
              "\n",
              "    .dataframe tbody tr th {\n",
              "        vertical-align: top;\n",
              "    }\n",
              "\n",
              "    .dataframe thead th {\n",
              "        text-align: right;\n",
              "    }\n",
              "</style>\n",
              "<table border=\"1\" class=\"dataframe\">\n",
              "  <thead>\n",
              "    <tr style=\"text-align: right;\">\n",
              "      <th></th>\n",
              "      <th>name</th>\n",
              "      <th>time</th>\n",
              "      <th>tweet</th>\n",
              "    </tr>\n",
              "  </thead>\n",
              "  <tbody>\n",
              "    <tr>\n",
              "      <th>0</th>\n",
              "      <td>Leslie Myers</td>\n",
              "      <td>2022-06-09 21:06:05</td>\n",
              "      <td>Look at that beautiful array! Funded by Puget ...</td>\n",
              "    </tr>\n",
              "    <tr>\n",
              "      <th>1</th>\n",
              "      <td>Pew Research Science</td>\n",
              "      <td>2022-06-09 21:06:03</td>\n",
              "      <td>When asked about specific sources of energy in...</td>\n",
              "    </tr>\n",
              "    <tr>\n",
              "      <th>2</th>\n",
              "      <td>Fifi Lamour</td>\n",
              "      <td>2022-06-09 21:05:04</td>\n",
              "      <td>I see the international push for nuclear is on...</td>\n",
              "    </tr>\n",
              "    <tr>\n",
              "      <th>3</th>\n",
              "      <td>Thomas Anderson</td>\n",
              "      <td>2022-06-09 21:04:51</td>\n",
              "      <td>The U.S. Solar Boom Is Back On Track #solarene...</td>\n",
              "    </tr>\n",
              "    <tr>\n",
              "      <th>4</th>\n",
              "      <td>None</td>\n",
              "      <td>2022-06-09 21:03:21</td>\n",
              "      <td>Electric powered vehicles power is equal to it...</td>\n",
              "    </tr>\n",
              "  </tbody>\n",
              "</table>\n",
              "</div>\n",
              "      <button class=\"colab-df-convert\" onclick=\"convertToInteractive('df-22aae5c0-1d0b-4016-af60-384aedd15379')\"\n",
              "              title=\"Convert this dataframe to an interactive table.\"\n",
              "              style=\"display:none;\">\n",
              "        \n",
              "  <svg xmlns=\"http://www.w3.org/2000/svg\" height=\"24px\"viewBox=\"0 0 24 24\"\n",
              "       width=\"24px\">\n",
              "    <path d=\"M0 0h24v24H0V0z\" fill=\"none\"/>\n",
              "    <path d=\"M18.56 5.44l.94 2.06.94-2.06 2.06-.94-2.06-.94-.94-2.06-.94 2.06-2.06.94zm-11 1L8.5 8.5l.94-2.06 2.06-.94-2.06-.94L8.5 2.5l-.94 2.06-2.06.94zm10 10l.94 2.06.94-2.06 2.06-.94-2.06-.94-.94-2.06-.94 2.06-2.06.94z\"/><path d=\"M17.41 7.96l-1.37-1.37c-.4-.4-.92-.59-1.43-.59-.52 0-1.04.2-1.43.59L10.3 9.45l-7.72 7.72c-.78.78-.78 2.05 0 2.83L4 21.41c.39.39.9.59 1.41.59.51 0 1.02-.2 1.41-.59l7.78-7.78 2.81-2.81c.8-.78.8-2.07 0-2.86zM5.41 20L4 18.59l7.72-7.72 1.47 1.35L5.41 20z\"/>\n",
              "  </svg>\n",
              "      </button>\n",
              "      \n",
              "  <style>\n",
              "    .colab-df-container {\n",
              "      display:flex;\n",
              "      flex-wrap:wrap;\n",
              "      gap: 12px;\n",
              "    }\n",
              "\n",
              "    .colab-df-convert {\n",
              "      background-color: #E8F0FE;\n",
              "      border: none;\n",
              "      border-radius: 50%;\n",
              "      cursor: pointer;\n",
              "      display: none;\n",
              "      fill: #1967D2;\n",
              "      height: 32px;\n",
              "      padding: 0 0 0 0;\n",
              "      width: 32px;\n",
              "    }\n",
              "\n",
              "    .colab-df-convert:hover {\n",
              "      background-color: #E2EBFA;\n",
              "      box-shadow: 0px 1px 2px rgba(60, 64, 67, 0.3), 0px 1px 3px 1px rgba(60, 64, 67, 0.15);\n",
              "      fill: #174EA6;\n",
              "    }\n",
              "\n",
              "    [theme=dark] .colab-df-convert {\n",
              "      background-color: #3B4455;\n",
              "      fill: #D2E3FC;\n",
              "    }\n",
              "\n",
              "    [theme=dark] .colab-df-convert:hover {\n",
              "      background-color: #434B5C;\n",
              "      box-shadow: 0px 1px 3px 1px rgba(0, 0, 0, 0.15);\n",
              "      filter: drop-shadow(0px 1px 2px rgba(0, 0, 0, 0.3));\n",
              "      fill: #FFFFFF;\n",
              "    }\n",
              "  </style>\n",
              "\n",
              "      <script>\n",
              "        const buttonEl =\n",
              "          document.querySelector('#df-22aae5c0-1d0b-4016-af60-384aedd15379 button.colab-df-convert');\n",
              "        buttonEl.style.display =\n",
              "          google.colab.kernel.accessAllowed ? 'block' : 'none';\n",
              "\n",
              "        async function convertToInteractive(key) {\n",
              "          const element = document.querySelector('#df-22aae5c0-1d0b-4016-af60-384aedd15379');\n",
              "          const dataTable =\n",
              "            await google.colab.kernel.invokeFunction('convertToInteractive',\n",
              "                                                     [key], {});\n",
              "          if (!dataTable) return;\n",
              "\n",
              "          const docLinkHtml = 'Like what you see? Visit the ' +\n",
              "            '<a target=\"_blank\" href=https://colab.research.google.com/notebooks/data_table.ipynb>data table notebook</a>'\n",
              "            + ' to learn more about interactive tables.';\n",
              "          element.innerHTML = '';\n",
              "          dataTable['output_type'] = 'display_data';\n",
              "          await google.colab.output.renderOutput(dataTable, element);\n",
              "          const docLink = document.createElement('div');\n",
              "          docLink.innerHTML = docLinkHtml;\n",
              "          element.appendChild(docLink);\n",
              "        }\n",
              "      </script>\n",
              "    </div>\n",
              "  </div>\n",
              "  "
            ]
          },
          "metadata": {},
          "execution_count": 9
        }
      ]
    },
    {
      "cell_type": "markdown",
      "source": [
        "**Data Cleaning**"
      ],
      "metadata": {
        "id": "pB6ZOEITRLVB"
      }
    },
    {
      "cell_type": "markdown",
      "source": [
        "The text within tweets contain many slang words and punctuation marks. We need to preprocess and clean the text in the tweets before they can be used for sentiment analysis. Text preprocessing is one of the most important tasks in Natural Language Processing (NLP). For example, you may want to remove all punctuation marks within the text before they can be used for text classification."
      ],
      "metadata": {
        "id": "o4VZQ4gvRwXy"
      }
    },
    {
      "cell_type": "markdown",
      "source": [
        "We will use Regular Expressions (Regex) to perform the text preprocessing tasks. A Regular Expression is a text string that describes a search pattern which can be used to match or replace patterns inside a string with a minimal amount of code. Python’s re package will be used to implement regular expressions. To learn more about regular expressions, click this link https://stackabuse.com/using-regex-for-text-manipulation-in-python/"
      ],
      "metadata": {
        "id": "vh14KxkaSpuP"
      }
    },
    {
      "cell_type": "code",
      "source": [
        "# Create variable containing tweets.  \n",
        "tweets = df.iloc[:, 2].values"
      ],
      "metadata": {
        "id": "mLoASuFAy6Gv"
      },
      "execution_count": null,
      "outputs": []
    },
    {
      "cell_type": "code",
      "source": [
        "# Clean the text data by preprocessing it with Regex. \n",
        "processed_tweets = []\n",
        "\n",
        "for sentence in range(0, len(tweets)):\n",
        "    # Remove all the special characters.\n",
        "    processed_tweet = re.sub(r'\\W', ' ', str(tweets[sentence]))\n",
        "\n",
        "    # Remove all single characters as a result of removing the special characters.\n",
        "    processed_tweet= re.sub(r'\\s+[a-zA-Z]\\s+', ' ', processed_tweet)\n",
        "\n",
        "    # Remove single characters from the start.\n",
        "    processed_tweet = re.sub(r'\\^[a-zA-Z]\\s+', ' ', processed_tweet) \n",
        "\n",
        "    # Replace multiple spaces with a single space.\n",
        "    processed_tweet = re.sub(r'\\s+', ' ', processed_tweet, flags=re.I)\n",
        "\n",
        "    # Remove links from text.\n",
        "    processed_tweet = re.sub(r'http\\S+', '', processed_tweet)\n",
        "\n",
        "    # Remove prefixed 'b'.\n",
        "    processed_tweet = re.sub(r'^b\\s+', '', processed_tweet)\n",
        "\n",
        "    processed_tweets.append(processed_tweet)"
      ],
      "metadata": {
        "id": "kFrDnotbyHqu"
      },
      "execution_count": null,
      "outputs": []
    },
    {
      "cell_type": "code",
      "source": [
        "# Create a new data frame for the processed tweets. \n",
        "clean_tweets = pd.DataFrame({'tweet': processed_tweets})\n",
        "clean_tweets.head(5)"
      ],
      "metadata": {
        "colab": {
          "base_uri": "https://localhost:8080/",
          "height": 206
        },
        "id": "-pRjdSZCFruT",
        "outputId": "4608e093-be2b-42e2-f01d-3a1561f44a85"
      },
      "execution_count": null,
      "outputs": [
        {
          "output_type": "execute_result",
          "data": {
            "text/plain": [
              "                                               tweet\n",
              "0  Look at that beautiful array Funded by Puget S...\n",
              "1  When asked about specific sources of energy in...\n",
              "2  I see the international push for nuclear is on...\n",
              "3  The S Solar Boom Is Back On Track solarenergy ...\n",
              "4  Electric powered vehicles power is equal to it..."
            ],
            "text/html": [
              "\n",
              "  <div id=\"df-84083657-18ca-4c59-9011-e5e8f15b794d\">\n",
              "    <div class=\"colab-df-container\">\n",
              "      <div>\n",
              "<style scoped>\n",
              "    .dataframe tbody tr th:only-of-type {\n",
              "        vertical-align: middle;\n",
              "    }\n",
              "\n",
              "    .dataframe tbody tr th {\n",
              "        vertical-align: top;\n",
              "    }\n",
              "\n",
              "    .dataframe thead th {\n",
              "        text-align: right;\n",
              "    }\n",
              "</style>\n",
              "<table border=\"1\" class=\"dataframe\">\n",
              "  <thead>\n",
              "    <tr style=\"text-align: right;\">\n",
              "      <th></th>\n",
              "      <th>tweet</th>\n",
              "    </tr>\n",
              "  </thead>\n",
              "  <tbody>\n",
              "    <tr>\n",
              "      <th>0</th>\n",
              "      <td>Look at that beautiful array Funded by Puget S...</td>\n",
              "    </tr>\n",
              "    <tr>\n",
              "      <th>1</th>\n",
              "      <td>When asked about specific sources of energy in...</td>\n",
              "    </tr>\n",
              "    <tr>\n",
              "      <th>2</th>\n",
              "      <td>I see the international push for nuclear is on...</td>\n",
              "    </tr>\n",
              "    <tr>\n",
              "      <th>3</th>\n",
              "      <td>The S Solar Boom Is Back On Track solarenergy ...</td>\n",
              "    </tr>\n",
              "    <tr>\n",
              "      <th>4</th>\n",
              "      <td>Electric powered vehicles power is equal to it...</td>\n",
              "    </tr>\n",
              "  </tbody>\n",
              "</table>\n",
              "</div>\n",
              "      <button class=\"colab-df-convert\" onclick=\"convertToInteractive('df-84083657-18ca-4c59-9011-e5e8f15b794d')\"\n",
              "              title=\"Convert this dataframe to an interactive table.\"\n",
              "              style=\"display:none;\">\n",
              "        \n",
              "  <svg xmlns=\"http://www.w3.org/2000/svg\" height=\"24px\"viewBox=\"0 0 24 24\"\n",
              "       width=\"24px\">\n",
              "    <path d=\"M0 0h24v24H0V0z\" fill=\"none\"/>\n",
              "    <path d=\"M18.56 5.44l.94 2.06.94-2.06 2.06-.94-2.06-.94-.94-2.06-.94 2.06-2.06.94zm-11 1L8.5 8.5l.94-2.06 2.06-.94-2.06-.94L8.5 2.5l-.94 2.06-2.06.94zm10 10l.94 2.06.94-2.06 2.06-.94-2.06-.94-.94-2.06-.94 2.06-2.06.94z\"/><path d=\"M17.41 7.96l-1.37-1.37c-.4-.4-.92-.59-1.43-.59-.52 0-1.04.2-1.43.59L10.3 9.45l-7.72 7.72c-.78.78-.78 2.05 0 2.83L4 21.41c.39.39.9.59 1.41.59.51 0 1.02-.2 1.41-.59l7.78-7.78 2.81-2.81c.8-.78.8-2.07 0-2.86zM5.41 20L4 18.59l7.72-7.72 1.47 1.35L5.41 20z\"/>\n",
              "  </svg>\n",
              "      </button>\n",
              "      \n",
              "  <style>\n",
              "    .colab-df-container {\n",
              "      display:flex;\n",
              "      flex-wrap:wrap;\n",
              "      gap: 12px;\n",
              "    }\n",
              "\n",
              "    .colab-df-convert {\n",
              "      background-color: #E8F0FE;\n",
              "      border: none;\n",
              "      border-radius: 50%;\n",
              "      cursor: pointer;\n",
              "      display: none;\n",
              "      fill: #1967D2;\n",
              "      height: 32px;\n",
              "      padding: 0 0 0 0;\n",
              "      width: 32px;\n",
              "    }\n",
              "\n",
              "    .colab-df-convert:hover {\n",
              "      background-color: #E2EBFA;\n",
              "      box-shadow: 0px 1px 2px rgba(60, 64, 67, 0.3), 0px 1px 3px 1px rgba(60, 64, 67, 0.15);\n",
              "      fill: #174EA6;\n",
              "    }\n",
              "\n",
              "    [theme=dark] .colab-df-convert {\n",
              "      background-color: #3B4455;\n",
              "      fill: #D2E3FC;\n",
              "    }\n",
              "\n",
              "    [theme=dark] .colab-df-convert:hover {\n",
              "      background-color: #434B5C;\n",
              "      box-shadow: 0px 1px 3px 1px rgba(0, 0, 0, 0.15);\n",
              "      filter: drop-shadow(0px 1px 2px rgba(0, 0, 0, 0.3));\n",
              "      fill: #FFFFFF;\n",
              "    }\n",
              "  </style>\n",
              "\n",
              "      <script>\n",
              "        const buttonEl =\n",
              "          document.querySelector('#df-84083657-18ca-4c59-9011-e5e8f15b794d button.colab-df-convert');\n",
              "        buttonEl.style.display =\n",
              "          google.colab.kernel.accessAllowed ? 'block' : 'none';\n",
              "\n",
              "        async function convertToInteractive(key) {\n",
              "          const element = document.querySelector('#df-84083657-18ca-4c59-9011-e5e8f15b794d');\n",
              "          const dataTable =\n",
              "            await google.colab.kernel.invokeFunction('convertToInteractive',\n",
              "                                                     [key], {});\n",
              "          if (!dataTable) return;\n",
              "\n",
              "          const docLinkHtml = 'Like what you see? Visit the ' +\n",
              "            '<a target=\"_blank\" href=https://colab.research.google.com/notebooks/data_table.ipynb>data table notebook</a>'\n",
              "            + ' to learn more about interactive tables.';\n",
              "          element.innerHTML = '';\n",
              "          dataTable['output_type'] = 'display_data';\n",
              "          await google.colab.output.renderOutput(dataTable, element);\n",
              "          const docLink = document.createElement('div');\n",
              "          docLink.innerHTML = docLinkHtml;\n",
              "          element.appendChild(docLink);\n",
              "        }\n",
              "      </script>\n",
              "    </div>\n",
              "  </div>\n",
              "  "
            ]
          },
          "metadata": {},
          "execution_count": 14
        }
      ]
    },
    {
      "cell_type": "markdown",
      "source": [
        "**Apply Sentiment Analysis**"
      ],
      "metadata": {
        "id": "mcsryyOM4bmF"
      }
    },
    {
      "cell_type": "markdown",
      "source": [
        "Sentiment analysis is a text analysis method that detects polarity (positive or negative opinion) within text. We will use the NLTK (Natural Language Toolkit)  submodule VADER for doing sentiment analysis on the text. \n",
        "\n",
        "VADER ( Valence Aware Dictionary for Sentiment Reasoning) is a module used for text sentiment analysis that is sensitive to both polarity (positive/negative) and intensity (strength) of emotion. It is applied directly to unlabeled text data and is specifically designed for sentiments expressed in social media."
      ],
      "metadata": {
        "id": "fWAL9mBRSB4B"
      }
    },
    {
      "cell_type": "markdown",
      "source": [
        "VADER’s SentimentIntensityAnalyzer() takes in a string and returns a dictionary of scores in each of the following categories:\n",
        "* negative\n",
        "* neutral\n",
        "* positive\n",
        "* compound (the sum of positive, negative & neutral scores which is then normalized between -1(strongly negative) and +1 (strongly positive).\n",
        "\n",
        "For example, the following text would return these output  scores:                       \n",
        "'This was the best, most awesome movie EVER MADE!!!'                       \n",
        "OUTPUT-{'neg': 0.0, 'neu': 0.425, 'pos': 0.575, 'compound': 0.8877}\n",
        "\n",
        "The scores range between -1 to 1, with -1 being strongly negative and +1 being strongly positive. We will use the compound score to determine if tweets related to solar energy are positive or negative. "
      ],
      "metadata": {
        "id": "RpsGZgRkb0Zl"
      }
    },
    {
      "cell_type": "markdown",
      "source": [
        "We will now initialize the Sentiment Intensity Analyzer and create a lambda function that takes in a text string, applies the vader.polarity_scores() function on it to get the results and then return back the compound scores. Using the apply function in Pandas, we can create a new compound column in the data frame with all the compound scores for each tweet."
      ],
      "metadata": {
        "id": "lrHFVhSNfC-n"
      }
    },
    {
      "cell_type": "code",
      "source": [
        "# Initialize the SentimentIntensityAnalyzer.\n",
        "vader = SentimentIntensityAnalyzer()\n",
        "\n",
        "# Apply lambda function to get compound scores.\n",
        "function = lambda title: vader.polarity_scores(title)['compound']\n",
        "clean_tweets['compound'] = clean_tweets['tweet'].apply(function)"
      ],
      "metadata": {
        "id": "jFQIU8dh3chf"
      },
      "execution_count": null,
      "outputs": []
    },
    {
      "cell_type": "code",
      "source": [
        "clean_tweets  "
      ],
      "metadata": {
        "colab": {
          "base_uri": "https://localhost:8080/",
          "height": 423
        },
        "id": "l0eTbkX44DLR",
        "outputId": "db0c764b-34e7-46aa-bdad-1a80adfd46b8"
      },
      "execution_count": null,
      "outputs": [
        {
          "output_type": "execute_result",
          "data": {
            "text/plain": [
              "                                                 tweet  compound\n",
              "0    Liberals are calling for full scale industrial...    0.0000\n",
              "1    Lidl shore road are covering the roof with sol...   -0.0258\n",
              "2     DukeEnergy ingrodolfohdez CastilloMarelen The...   -0.1779\n",
              "3     sethmoulton Good for for wanting Nuclear Powe...    0.0772\n",
              "4    Looking for quick ways to get your energy bill...    0.8225\n",
              "..                                                 ...       ...\n",
              "442  With trade certainty in place it time for Cong...    0.8658\n",
              "443  Thirty thousand NSW homes will receive free so...    0.6597\n",
              "444  It NOT Solar panels mostly come from China It ...    0.0000\n",
              "445   All renewable technologies including now very...    0.0000\n",
              "446   incesticide94 DOVERMOHLE AP m worried someone...   -0.2960\n",
              "\n",
              "[447 rows x 2 columns]"
            ],
            "text/html": [
              "\n",
              "  <div id=\"df-3faa5d70-2ed8-4b18-927b-91292ed99899\">\n",
              "    <div class=\"colab-df-container\">\n",
              "      <div>\n",
              "<style scoped>\n",
              "    .dataframe tbody tr th:only-of-type {\n",
              "        vertical-align: middle;\n",
              "    }\n",
              "\n",
              "    .dataframe tbody tr th {\n",
              "        vertical-align: top;\n",
              "    }\n",
              "\n",
              "    .dataframe thead th {\n",
              "        text-align: right;\n",
              "    }\n",
              "</style>\n",
              "<table border=\"1\" class=\"dataframe\">\n",
              "  <thead>\n",
              "    <tr style=\"text-align: right;\">\n",
              "      <th></th>\n",
              "      <th>tweet</th>\n",
              "      <th>compound</th>\n",
              "    </tr>\n",
              "  </thead>\n",
              "  <tbody>\n",
              "    <tr>\n",
              "      <th>0</th>\n",
              "      <td>Liberals are calling for full scale industrial...</td>\n",
              "      <td>0.0000</td>\n",
              "    </tr>\n",
              "    <tr>\n",
              "      <th>1</th>\n",
              "      <td>Lidl shore road are covering the roof with sol...</td>\n",
              "      <td>-0.0258</td>\n",
              "    </tr>\n",
              "    <tr>\n",
              "      <th>2</th>\n",
              "      <td>DukeEnergy ingrodolfohdez CastilloMarelen The...</td>\n",
              "      <td>-0.1779</td>\n",
              "    </tr>\n",
              "    <tr>\n",
              "      <th>3</th>\n",
              "      <td>sethmoulton Good for for wanting Nuclear Powe...</td>\n",
              "      <td>0.0772</td>\n",
              "    </tr>\n",
              "    <tr>\n",
              "      <th>4</th>\n",
              "      <td>Looking for quick ways to get your energy bill...</td>\n",
              "      <td>0.8225</td>\n",
              "    </tr>\n",
              "    <tr>\n",
              "      <th>...</th>\n",
              "      <td>...</td>\n",
              "      <td>...</td>\n",
              "    </tr>\n",
              "    <tr>\n",
              "      <th>442</th>\n",
              "      <td>With trade certainty in place it time for Cong...</td>\n",
              "      <td>0.8658</td>\n",
              "    </tr>\n",
              "    <tr>\n",
              "      <th>443</th>\n",
              "      <td>Thirty thousand NSW homes will receive free so...</td>\n",
              "      <td>0.6597</td>\n",
              "    </tr>\n",
              "    <tr>\n",
              "      <th>444</th>\n",
              "      <td>It NOT Solar panels mostly come from China It ...</td>\n",
              "      <td>0.0000</td>\n",
              "    </tr>\n",
              "    <tr>\n",
              "      <th>445</th>\n",
              "      <td>All renewable technologies including now very...</td>\n",
              "      <td>0.0000</td>\n",
              "    </tr>\n",
              "    <tr>\n",
              "      <th>446</th>\n",
              "      <td>incesticide94 DOVERMOHLE AP m worried someone...</td>\n",
              "      <td>-0.2960</td>\n",
              "    </tr>\n",
              "  </tbody>\n",
              "</table>\n",
              "<p>447 rows × 2 columns</p>\n",
              "</div>\n",
              "      <button class=\"colab-df-convert\" onclick=\"convertToInteractive('df-3faa5d70-2ed8-4b18-927b-91292ed99899')\"\n",
              "              title=\"Convert this dataframe to an interactive table.\"\n",
              "              style=\"display:none;\">\n",
              "        \n",
              "  <svg xmlns=\"http://www.w3.org/2000/svg\" height=\"24px\"viewBox=\"0 0 24 24\"\n",
              "       width=\"24px\">\n",
              "    <path d=\"M0 0h24v24H0V0z\" fill=\"none\"/>\n",
              "    <path d=\"M18.56 5.44l.94 2.06.94-2.06 2.06-.94-2.06-.94-.94-2.06-.94 2.06-2.06.94zm-11 1L8.5 8.5l.94-2.06 2.06-.94-2.06-.94L8.5 2.5l-.94 2.06-2.06.94zm10 10l.94 2.06.94-2.06 2.06-.94-2.06-.94-.94-2.06-.94 2.06-2.06.94z\"/><path d=\"M17.41 7.96l-1.37-1.37c-.4-.4-.92-.59-1.43-.59-.52 0-1.04.2-1.43.59L10.3 9.45l-7.72 7.72c-.78.78-.78 2.05 0 2.83L4 21.41c.39.39.9.59 1.41.59.51 0 1.02-.2 1.41-.59l7.78-7.78 2.81-2.81c.8-.78.8-2.07 0-2.86zM5.41 20L4 18.59l7.72-7.72 1.47 1.35L5.41 20z\"/>\n",
              "  </svg>\n",
              "      </button>\n",
              "      \n",
              "  <style>\n",
              "    .colab-df-container {\n",
              "      display:flex;\n",
              "      flex-wrap:wrap;\n",
              "      gap: 12px;\n",
              "    }\n",
              "\n",
              "    .colab-df-convert {\n",
              "      background-color: #E8F0FE;\n",
              "      border: none;\n",
              "      border-radius: 50%;\n",
              "      cursor: pointer;\n",
              "      display: none;\n",
              "      fill: #1967D2;\n",
              "      height: 32px;\n",
              "      padding: 0 0 0 0;\n",
              "      width: 32px;\n",
              "    }\n",
              "\n",
              "    .colab-df-convert:hover {\n",
              "      background-color: #E2EBFA;\n",
              "      box-shadow: 0px 1px 2px rgba(60, 64, 67, 0.3), 0px 1px 3px 1px rgba(60, 64, 67, 0.15);\n",
              "      fill: #174EA6;\n",
              "    }\n",
              "\n",
              "    [theme=dark] .colab-df-convert {\n",
              "      background-color: #3B4455;\n",
              "      fill: #D2E3FC;\n",
              "    }\n",
              "\n",
              "    [theme=dark] .colab-df-convert:hover {\n",
              "      background-color: #434B5C;\n",
              "      box-shadow: 0px 1px 3px 1px rgba(0, 0, 0, 0.15);\n",
              "      filter: drop-shadow(0px 1px 2px rgba(0, 0, 0, 0.3));\n",
              "      fill: #FFFFFF;\n",
              "    }\n",
              "  </style>\n",
              "\n",
              "      <script>\n",
              "        const buttonEl =\n",
              "          document.querySelector('#df-3faa5d70-2ed8-4b18-927b-91292ed99899 button.colab-df-convert');\n",
              "        buttonEl.style.display =\n",
              "          google.colab.kernel.accessAllowed ? 'block' : 'none';\n",
              "\n",
              "        async function convertToInteractive(key) {\n",
              "          const element = document.querySelector('#df-3faa5d70-2ed8-4b18-927b-91292ed99899');\n",
              "          const dataTable =\n",
              "            await google.colab.kernel.invokeFunction('convertToInteractive',\n",
              "                                                     [key], {});\n",
              "          if (!dataTable) return;\n",
              "\n",
              "          const docLinkHtml = 'Like what you see? Visit the ' +\n",
              "            '<a target=\"_blank\" href=https://colab.research.google.com/notebooks/data_table.ipynb>data table notebook</a>'\n",
              "            + ' to learn more about interactive tables.';\n",
              "          element.innerHTML = '';\n",
              "          dataTable['output_type'] = 'display_data';\n",
              "          await google.colab.output.renderOutput(dataTable, element);\n",
              "          const docLink = document.createElement('div');\n",
              "          docLink.innerHTML = docLinkHtml;\n",
              "          element.appendChild(docLink);\n",
              "        }\n",
              "      </script>\n",
              "    </div>\n",
              "  </div>\n",
              "  "
            ]
          },
          "metadata": {},
          "execution_count": 61
        }
      ]
    },
    {
      "cell_type": "code",
      "source": [
        ""
      ],
      "metadata": {
        "id": "aru0-XdXXuV9"
      },
      "execution_count": null,
      "outputs": []
    },
    {
      "cell_type": "markdown",
      "source": [
        "**Visualize Sentiments**"
      ],
      "metadata": {
        "id": "I-NHT5I3QwDn"
      }
    },
    {
      "cell_type": "markdown",
      "source": [
        "Let’s see how the sentiments are distributed. We can better understand the common words by plotting word clouds. A word cloud (also known as text clouds) is a visualization where the more a specific word appears in the text, the bigger and bolder it will appear in the word cloud.\n",
        "\n",
        "Let’s visualize all the words in the data using the word cloud plot.  "
      ],
      "metadata": {
        "id": "RQcrVRbtXQOG"
      }
    },
    {
      "cell_type": "code",
      "source": [
        "# Word cloud visualization.\n",
        "allWords = ' '.join([twts for twts in clean_tweets['tweet']])\n",
        "wordCloud = WordCloud(width=500, height=300, random_state=21, max_font_size=110).generate(allWords)\n",
        "\n",
        "plt.imshow(wordCloud, interpolation=\"bilinear\")\n",
        "plt.axis('off')\n",
        "plt.show()"
      ],
      "metadata": {
        "colab": {
          "base_uri": "https://localhost:8080/",
          "height": 232
        },
        "id": "3HA2CgMGXQwP",
        "outputId": "7680c524-a137-481a-c1be-e20644f49567"
      },
      "execution_count": null,
      "outputs": [
        {
          "output_type": "display_data",
          "data": {
            "text/plain": [
              "<Figure size 432x288 with 1 Axes>"
            ],
            "image/png": "[encoded data removed]"
          },
          "metadata": {
            "needs_background": "light"
          }
        }
      ]
    },
    {
      "cell_type": "markdown",
      "source": [
        "Energy and solar are common words that stand out."
      ],
      "metadata": {
        "id": "s5n9SkA9Xg_a"
      }
    },
    {
      "cell_type": "markdown",
      "source": [
        "Create a function to compute the negative (-1), neutral (0), and positive (+1) sentiments, and add a new column called sentiment to our data frame."
      ],
      "metadata": {
        "id": "28qfaWLwXRS7"
      }
    },
    {
      "cell_type": "code",
      "source": [
        "# Create a function to compute negative (-1), neutral (0) and positive (+1) sentiments.\n",
        "def getAnalysis(score):\n",
        " if score < 0:\n",
        "    return 'Negative'\n",
        " elif score == 0:\n",
        "    return 'Neutral'\n",
        " else:\n",
        "    return 'Positive'\n",
        "\n",
        "clean_tweets['sentiment'] = clean_tweets['compound'].apply(getAnalysis)\n",
        "\n",
        "# Show the dataframe\n",
        "clean_tweets"
      ],
      "metadata": {
        "colab": {
          "base_uri": "https://localhost:8080/",
          "height": 423
        },
        "id": "MTq5QIsem3ZY",
        "outputId": "767498ea-451d-4c01-d177-1a57f3f7693b"
      },
      "execution_count": null,
      "outputs": [
        {
          "output_type": "execute_result",
          "data": {
            "text/plain": [
              "                                                  tweet  compound sentiment\n",
              "0     Look at that beautiful array Funded by Puget S...    0.7184  Positive\n",
              "1     When asked about specific sources of energy in...    0.2960  Positive\n",
              "2     I see the international push for nuclear is on...   -0.2732  Negative\n",
              "3     The S Solar Boom Is Back On Track solarenergy ...    0.0000   Neutral\n",
              "4     Electric powered vehicles power is equal to it...    0.3400  Positive\n",
              "...                                                 ...       ...       ...\n",
              "1293  We live in world that values looking good more...    0.8176  Positive\n",
              "1294   spenderallegra If renewable energy is the che...    0.4939  Positive\n",
              "1295  Reon Energy Artistic Milliners announce 8 5 MW...    0.2732  Positive\n",
              "1296               Jana_Shah ma am go for solar energy     0.2732  Positive\n",
              "1297  The most captivating thing in the farm was the...    0.5994  Positive\n",
              "\n",
              "[1298 rows x 3 columns]"
            ],
            "text/html": [
              "\n",
              "  <div id=\"df-2c86ffc0-c752-4d49-9f8a-87354e55be00\">\n",
              "    <div class=\"colab-df-container\">\n",
              "      <div>\n",
              "<style scoped>\n",
              "    .dataframe tbody tr th:only-of-type {\n",
              "        vertical-align: middle;\n",
              "    }\n",
              "\n",
              "    .dataframe tbody tr th {\n",
              "        vertical-align: top;\n",
              "    }\n",
              "\n",
              "    .dataframe thead th {\n",
              "        text-align: right;\n",
              "    }\n",
              "</style>\n",
              "<table border=\"1\" class=\"dataframe\">\n",
              "  <thead>\n",
              "    <tr style=\"text-align: right;\">\n",
              "      <th></th>\n",
              "      <th>tweet</th>\n",
              "      <th>compound</th>\n",
              "      <th>sentiment</th>\n",
              "    </tr>\n",
              "  </thead>\n",
              "  <tbody>\n",
              "    <tr>\n",
              "      <th>0</th>\n",
              "      <td>Look at that beautiful array Funded by Puget S...</td>\n",
              "      <td>0.7184</td>\n",
              "      <td>Positive</td>\n",
              "    </tr>\n",
              "    <tr>\n",
              "      <th>1</th>\n",
              "      <td>When asked about specific sources of energy in...</td>\n",
              "      <td>0.2960</td>\n",
              "      <td>Positive</td>\n",
              "    </tr>\n",
              "    <tr>\n",
              "      <th>2</th>\n",
              "      <td>I see the international push for nuclear is on...</td>\n",
              "      <td>-0.2732</td>\n",
              "      <td>Negative</td>\n",
              "    </tr>\n",
              "    <tr>\n",
              "      <th>3</th>\n",
              "      <td>The S Solar Boom Is Back On Track solarenergy ...</td>\n",
              "      <td>0.0000</td>\n",
              "      <td>Neutral</td>\n",
              "    </tr>\n",
              "    <tr>\n",
              "      <th>4</th>\n",
              "      <td>Electric powered vehicles power is equal to it...</td>\n",
              "      <td>0.3400</td>\n",
              "      <td>Positive</td>\n",
              "    </tr>\n",
              "    <tr>\n",
              "      <th>...</th>\n",
              "      <td>...</td>\n",
              "      <td>...</td>\n",
              "      <td>...</td>\n",
              "    </tr>\n",
              "    <tr>\n",
              "      <th>1293</th>\n",
              "      <td>We live in world that values looking good more...</td>\n",
              "      <td>0.8176</td>\n",
              "      <td>Positive</td>\n",
              "    </tr>\n",
              "    <tr>\n",
              "      <th>1294</th>\n",
              "      <td>spenderallegra If renewable energy is the che...</td>\n",
              "      <td>0.4939</td>\n",
              "      <td>Positive</td>\n",
              "    </tr>\n",
              "    <tr>\n",
              "      <th>1295</th>\n",
              "      <td>Reon Energy Artistic Milliners announce 8 5 MW...</td>\n",
              "      <td>0.2732</td>\n",
              "      <td>Positive</td>\n",
              "    </tr>\n",
              "    <tr>\n",
              "      <th>1296</th>\n",
              "      <td>Jana_Shah ma am go for solar energy</td>\n",
              "      <td>0.2732</td>\n",
              "      <td>Positive</td>\n",
              "    </tr>\n",
              "    <tr>\n",
              "      <th>1297</th>\n",
              "      <td>The most captivating thing in the farm was the...</td>\n",
              "      <td>0.5994</td>\n",
              "      <td>Positive</td>\n",
              "    </tr>\n",
              "  </tbody>\n",
              "</table>\n",
              "<p>1298 rows × 3 columns</p>\n",
              "</div>\n",
              "      <button class=\"colab-df-convert\" onclick=\"convertToInteractive('df-2c86ffc0-c752-4d49-9f8a-87354e55be00')\"\n",
              "              title=\"Convert this dataframe to an interactive table.\"\n",
              "              style=\"display:none;\">\n",
              "        \n",
              "  <svg xmlns=\"http://www.w3.org/2000/svg\" height=\"24px\"viewBox=\"0 0 24 24\"\n",
              "       width=\"24px\">\n",
              "    <path d=\"M0 0h24v24H0V0z\" fill=\"none\"/>\n",
              "    <path d=\"M18.56 5.44l.94 2.06.94-2.06 2.06-.94-2.06-.94-.94-2.06-.94 2.06-2.06.94zm-11 1L8.5 8.5l.94-2.06 2.06-.94-2.06-.94L8.5 2.5l-.94 2.06-2.06.94zm10 10l.94 2.06.94-2.06 2.06-.94-2.06-.94-.94-2.06-.94 2.06-2.06.94z\"/><path d=\"M17.41 7.96l-1.37-1.37c-.4-.4-.92-.59-1.43-.59-.52 0-1.04.2-1.43.59L10.3 9.45l-7.72 7.72c-.78.78-.78 2.05 0 2.83L4 21.41c.39.39.9.59 1.41.59.51 0 1.02-.2 1.41-.59l7.78-7.78 2.81-2.81c.8-.78.8-2.07 0-2.86zM5.41 20L4 18.59l7.72-7.72 1.47 1.35L5.41 20z\"/>\n",
              "  </svg>\n",
              "      </button>\n",
              "      \n",
              "  <style>\n",
              "    .colab-df-container {\n",
              "      display:flex;\n",
              "      flex-wrap:wrap;\n",
              "      gap: 12px;\n",
              "    }\n",
              "\n",
              "    .colab-df-convert {\n",
              "      background-color: #E8F0FE;\n",
              "      border: none;\n",
              "      border-radius: 50%;\n",
              "      cursor: pointer;\n",
              "      display: none;\n",
              "      fill: #1967D2;\n",
              "      height: 32px;\n",
              "      padding: 0 0 0 0;\n",
              "      width: 32px;\n",
              "    }\n",
              "\n",
              "    .colab-df-convert:hover {\n",
              "      background-color: #E2EBFA;\n",
              "      box-shadow: 0px 1px 2px rgba(60, 64, 67, 0.3), 0px 1px 3px 1px rgba(60, 64, 67, 0.15);\n",
              "      fill: #174EA6;\n",
              "    }\n",
              "\n",
              "    [theme=dark] .colab-df-convert {\n",
              "      background-color: #3B4455;\n",
              "      fill: #D2E3FC;\n",
              "    }\n",
              "\n",
              "    [theme=dark] .colab-df-convert:hover {\n",
              "      background-color: #434B5C;\n",
              "      box-shadow: 0px 1px 3px 1px rgba(0, 0, 0, 0.15);\n",
              "      filter: drop-shadow(0px 1px 2px rgba(0, 0, 0, 0.3));\n",
              "      fill: #FFFFFF;\n",
              "    }\n",
              "  </style>\n",
              "\n",
              "      <script>\n",
              "        const buttonEl =\n",
              "          document.querySelector('#df-2c86ffc0-c752-4d49-9f8a-87354e55be00 button.colab-df-convert');\n",
              "        buttonEl.style.display =\n",
              "          google.colab.kernel.accessAllowed ? 'block' : 'none';\n",
              "\n",
              "        async function convertToInteractive(key) {\n",
              "          const element = document.querySelector('#df-2c86ffc0-c752-4d49-9f8a-87354e55be00');\n",
              "          const dataTable =\n",
              "            await google.colab.kernel.invokeFunction('convertToInteractive',\n",
              "                                                     [key], {});\n",
              "          if (!dataTable) return;\n",
              "\n",
              "          const docLinkHtml = 'Like what you see? Visit the ' +\n",
              "            '<a target=\"_blank\" href=https://colab.research.google.com/notebooks/data_table.ipynb>data table notebook</a>'\n",
              "            + ' to learn more about interactive tables.';\n",
              "          element.innerHTML = '';\n",
              "          dataTable['output_type'] = 'display_data';\n",
              "          await google.colab.output.renderOutput(dataTable, element);\n",
              "          const docLink = document.createElement('div');\n",
              "          docLink.innerHTML = docLinkHtml;\n",
              "          element.appendChild(docLink);\n",
              "        }\n",
              "      </script>\n",
              "    </div>\n",
              "  </div>\n",
              "  "
            ]
          },
          "metadata": {},
          "execution_count": 17
        }
      ]
    },
    {
      "cell_type": "markdown",
      "source": [
        "Show the counts for each sentiment. There are a total of 1,298 tweets. We see that 914 tweets are positive, 211 are negative and 173 are neutral.  "
      ],
      "metadata": {
        "id": "6PfV7AIrqxlA"
      }
    },
    {
      "cell_type": "code",
      "source": [
        "# Show the counts for each sentiment.\n",
        "clean_tweets['sentiment'].value_counts()"
      ],
      "metadata": {
        "colab": {
          "base_uri": "https://localhost:8080/"
        },
        "id": "hRYKRWX6qxz6",
        "outputId": "2e03ccbf-6d62-4451-e30f-b70effdc4f21"
      },
      "execution_count": null,
      "outputs": [
        {
          "output_type": "execute_result",
          "data": {
            "text/plain": [
              "Positive    914\n",
              "Neutral     211\n",
              "Negative    173\n",
              "Name: sentiment, dtype: int64"
            ]
          },
          "metadata": {},
          "execution_count": 18
        }
      ]
    },
    {
      "cell_type": "markdown",
      "source": [
        "Visualize the counts for each sentiment."
      ],
      "metadata": {
        "id": "BSbdiWDlsflZ"
      }
    },
    {
      "cell_type": "code",
      "source": [
        "# Plotting the counts.\n",
        "plt.title('Sentiment Analysis')\n",
        "plt.xlabel('Sentiment')\n",
        "plt.ylabel('Counts')\n",
        "clean_tweets['sentiment'].value_counts().plot(kind = 'bar')\n",
        "plt.show()"
      ],
      "metadata": {
        "colab": {
          "base_uri": "https://localhost:8080/",
          "height": 330
        },
        "id": "D743w03Esf98",
        "outputId": "5d21610c-3eef-4fe0-ed04-e2c62bea6632"
      },
      "execution_count": null,
      "outputs": [
        {
          "output_type": "display_data",
          "data": {
            "text/plain": [
              "<Figure size 432x288 with 1 Axes>"
            ],
            "image/png": "[encoded data removed]"
          },
          "metadata": {
            "needs_background": "light"
          }
        }
      ]
    },
    {
      "cell_type": "markdown",
      "source": [
        "Visualize sentiments distribution based on compound scores."
      ],
      "metadata": {
        "id": "f7LgEA9IyqAt"
      }
    },
    {
      "cell_type": "code",
      "source": [
        "plt.figure(figsize=(8, 5))\n",
        "sns.histplot(clean_tweets, x='compound', color=\"darkblue\", bins=10, binrange=(-1, 1))\n",
        "plt.title(\"Solar Energy Sentiment Distribution\")\n",
        "plt.xlabel(\"Compound Scores\")\n",
        "plt.ylabel(\"\")\n",
        "plt.tight_layout()"
      ],
      "metadata": {
        "colab": {
          "base_uri": "https://localhost:8080/",
          "height": 369
        },
        "id": "v86BFu6TIoOy",
        "outputId": "a0e0004f-38f8-4a0d-ec93-6ebe8d60ef16"
      },
      "execution_count": null,
      "outputs": [
        {
          "output_type": "display_data",
          "data": {
            "text/plain": [
              "<Figure size 576x360 with 1 Axes>"
            ],
            "image/png": "[encoded data removed]"
          },
          "metadata": {
            "needs_background": "light"
          }
        }
      ]
    },
    {
      "cell_type": "markdown",
      "source": [
        "**Conclusions**\n"
      ],
      "metadata": {
        "id": "dGStY1EmbJq_"
      }
    },
    {
      "cell_type": "markdown",
      "metadata": {
        "id": "wLqig4rGH8Zv"
      },
      "source": [
        "The vast majority of tweets show positive sentiments toward solar energy. 70% of sentiments are positive, 16% are neutral, and 13% are negative. These sentiments are alligned with the survey results fron Pew Research Center. This is an encouraging sign for the future of our environment. Hopefully, more people will take action on their sentiments and start using solar energy to power their homes and drive electric or hybrid automobils.                           "
      ]
    }
  ]
}